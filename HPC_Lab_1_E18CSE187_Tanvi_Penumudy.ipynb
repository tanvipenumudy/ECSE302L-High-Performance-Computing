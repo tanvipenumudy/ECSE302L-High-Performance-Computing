{
  "nbformat": 4,
  "nbformat_minor": 0,
  "metadata": {
    "colab": {
      "name": "HPC Lab-1 E18CSE187 Tanvi Penumudy.ipynb",
      "provenance": [],
      "collapsed_sections": []
    },
    "kernelspec": {
      "name": "python3",
      "display_name": "Python 3"
    }
  },
  "cells": [
    {
      "cell_type": "markdown",
      "metadata": {
        "id": "x_Z--CbmS66p"
      },
      "source": [
        "HPC Lab-1 E18CSE187 Tanvi Penumudy"
      ]
    },
    {
      "cell_type": "markdown",
      "metadata": {
        "id": "pyC_-jsFTCKl"
      },
      "source": [
        "Demo Code-I"
      ]
    },
    {
      "cell_type": "code",
      "metadata": {
        "colab": {
          "base_uri": "https://localhost:8080/"
        },
        "id": "-EVRyp48TDpL",
        "outputId": "0a030fec-7820-42a8-a057-ef3141e1bf29"
      },
      "source": [
        "# Python program to illustrate the concept \r\n",
        "# of threading \r\n",
        "import threading \r\n",
        "import os \r\n",
        "\r\n",
        "def task1(): \r\n",
        "  print(\"Task 1 assigned to thread: {}\".format(threading.current_thread().name)) \r\n",
        "  print(\"ID of process running task 1: {}\".format(os.getpid())) \r\n",
        "\r\n",
        "def task2(): \r\n",
        "  print(\"Task 2 assigned to thread: {}\".format(threading.current_thread().name)) \r\n",
        "  print(\"ID of process running task 2: {}\".format(os.getpid())) \r\n",
        "\r\n",
        "if __name__ == \"__main__\": \r\n",
        "\r\n",
        "  # print ID of current process \r\n",
        "  print(\"ID of process running main program: {}\".format(os.getpid())) \r\n",
        "\r\n",
        "  # print name of main thread \r\n",
        "  print(\"Main thread name: {}\".format(threading.current_thread().name)) \r\n",
        "\r\n",
        "  # creating threads \r\n",
        "  t1 = threading.Thread(target=task1, name='t1') \r\n",
        "  t2 = threading.Thread(target=task2, name='t2') \r\n",
        "\r\n",
        "  # starting threads Spawn\r\n",
        "  t1.start() \r\n",
        "  t2.start() \r\n",
        "\r\n",
        "  # wait until all threads finish Sync\r\n",
        "  t1.join() \r\n",
        "  t2.join() "
      ],
      "execution_count": 1,
      "outputs": [
        {
          "output_type": "stream",
          "text": [
            "ID of process running main program: 65\n",
            "Main thread name: MainThread\n",
            "Task 1 assigned to thread: t1\n",
            "ID of process running task 1: 65\n",
            "Task 2 assigned to thread: t2\n",
            "ID of process running task 2: 65\n"
          ],
          "name": "stdout"
        }
      ]
    },
    {
      "cell_type": "markdown",
      "metadata": {
        "id": "seaecKXFTHKh"
      },
      "source": [
        "Demo Code-II"
      ]
    },
    {
      "cell_type": "code",
      "metadata": {
        "colab": {
          "base_uri": "https://localhost:8080/"
        },
        "id": "v8d-c7EdTDqi",
        "outputId": "9ca50e44-aa51-4a41-9d0b-6247571e1027"
      },
      "source": [
        "# importing the multiprocessing module \r\n",
        "import multiprocessing \r\n",
        "import os \r\n",
        "\r\n",
        "def worker1(): \r\n",
        "  # printing process id \r\n",
        "  print(\"ID of process running worker1: {}\".format(os.getpid())) \r\n",
        "  for i in range(100):\r\n",
        "    print(\"P1\",i)\r\n",
        "\r\n",
        "def worker2(): \r\n",
        "  # printing process id \r\n",
        "  print(\"ID of process running worker2: {}\".format(os.getpid()))\r\n",
        "  for i in range(100):\r\n",
        "    print(\"P2\",i)  \r\n",
        "\r\n",
        "if __name__ == \"__main__\": \r\n",
        "  # printing main program process id \r\n",
        "  print(\"ID of main process: {}\".format(os.getpid())) \r\n",
        "\r\n",
        "  # creating processes \r\n",
        "  p1 = multiprocessing.Process(target=worker1) \r\n",
        "  p2 = multiprocessing.Process(target=worker2) \r\n",
        "\r\n",
        "  # starting processes \r\n",
        "  p1.start() \r\n",
        "  p2.start() \r\n",
        "\r\n",
        "  # process IDs \r\n",
        "  print(\"ID of process p1: {}\".format(p1.pid)) \r\n",
        "  print(\"ID of process p2: {}\".format(p2.pid)) \r\n",
        "\r\n",
        "  # wait until processes are finished \r\n",
        "  p1.join() \r\n",
        "  p2.join() \r\n",
        "\r\n",
        "  # both processes finished \r\n",
        "  print(\"Both processes finished execution!\") \r\n",
        "\r\n",
        "  # check if processes are alive \r\n",
        "  print(\"Process p1 is alive: {}\".format(p1.is_alive())) \r\n",
        "  print(\"Process p2 is alive: {}\".format(p2.is_alive())) "
      ],
      "execution_count": 2,
      "outputs": [
        {
          "output_type": "stream",
          "text": [
            "ID of main process: 65\n",
            "ID of process running worker1: 88\n",
            "ID of process running worker2: 89\n",
            "P1 0\n",
            "P2 0\n",
            "P1 1\n",
            "P1 2\n",
            "P2 1\n",
            "P2 2\n",
            "P1 3\n",
            "P2 3\n",
            "P2 4\n",
            "P2 5\n",
            "P1 4\n",
            "P2 6\n",
            "P1 5\n",
            "P1 6\n",
            "P2 7\n",
            "P2 8\n",
            "P1 7\n",
            "P1 8\n",
            "P2 9\n",
            "P1 9\n",
            "P2 10\n",
            "P1 10\n",
            "P1 11\n",
            "P2 11\n",
            "P1 12\n",
            "P1 13\n",
            "P1 14\n",
            "P1 15\n",
            "P2 12\n",
            "P1 16\n",
            "P1 17\n",
            "P1 18\n",
            "P1 19\n",
            "P2 13\n",
            "P2 14\n",
            "P1 20\n",
            "P2 15\n",
            "P2 16\n",
            "P1 21\n",
            "P1 22\n",
            "P2 17\n",
            "P1 23\n",
            "P2 18\n",
            "P1 24\n",
            "P1 25\n",
            "P1 26\n",
            "P1 27\n",
            "P2 19\n",
            "P1 28\n",
            "P2 20\n",
            "P2 21\n",
            "P1 29\n",
            "P2 22\n",
            "P2 23\n",
            "P2 24\n",
            "P2 25\n",
            "P1 30\n",
            "P2 26\n",
            "P1 31\n",
            "P1 32\n",
            "P1 33\n",
            "P1 34\n",
            "P2 27\n",
            "P2 28\n",
            "P2 29\n",
            "P1 35\n",
            "P2 30\n",
            "P2 31\n",
            "P2 32\n",
            "P2 33\n",
            "P2 34\n",
            "P2 35\n",
            "P1 36\n",
            "P1 37\n",
            "P1 38\n",
            "P2 36\n",
            "P2 37\n",
            "P2 38\n",
            "ID of process p1: 88\n",
            "ID of process p2: 89\n",
            "P2 39\n",
            "P2 40\n",
            "P2 41\n",
            "P2 42\n",
            "P1 39\n",
            "P1 40\n",
            "P1 41\n",
            "P1 42\n",
            "P1 43\n",
            "P1 44\n",
            "P2 43\n",
            "P1 45\n",
            "P2 44\n",
            "P2 45\n",
            "P2 46\n",
            "P2 47\n",
            "P1 46\n",
            "P2 48\n",
            "P1 47\n",
            "P1 48\n",
            "P1 49\n",
            "P2 49\n",
            "P1 50\n",
            "P2 50\n",
            "P1 51\n",
            "P2 51\n",
            "P2 52\n",
            "P1 52\n",
            "P1 53\n",
            "P2 53\n",
            "P1 54\n",
            "P1 55\n",
            "P2 54\n",
            "P1 56\n",
            "P1 57\n",
            "P1 58\n",
            "P2 55\n",
            "P2 56\n",
            "P2 57\n",
            "P1 59\n",
            "P1 60\n",
            "P2 58\n",
            "P2 59\n",
            "P1 61\n",
            "P1 62\n",
            "P2 60\n",
            "P1 63\n",
            "P1 64\n",
            "P2 61\n",
            "P1 65\n",
            "P2 62\n",
            "P1 66\n",
            "P1 67\n",
            "P1 68\n",
            "P1 69\n",
            "P1 70\n",
            "P1 71\n",
            "P1 72\n",
            "P2 63\n",
            "P1 73\n",
            "P1 74\n",
            "P2 64\n",
            "P2 65\n",
            "P2 66\n",
            "P1 75\n",
            "P2 67\n",
            "P2 68\n",
            "P2 69\n",
            "P1 76\n",
            "P2 70\n",
            "P1 77\n",
            "P1 78\n",
            "P2 71\n",
            "P2 72\n",
            "P1 79\n",
            "P2 73\n",
            "P1 80\n",
            "P1 81\n",
            "P2 74\n",
            "P1 82\n",
            "P1 83\n",
            "P2 75\n",
            "P1 84\n",
            "P1 85\n",
            "P1 86\n",
            "P1 87\n",
            "P2 76\n",
            "P1 88\n",
            "P2 77\n",
            "P2 78\n",
            "P1 89\n",
            "P1 90\n",
            "P2 79\n",
            "P1 91\n",
            "P1 92\n",
            "P1 93\n",
            "P2 80\n",
            "P2 81\n",
            "P2 82\n",
            "P1 94\n",
            "P2 83\n",
            "P2 84\n",
            "P1 95\n",
            "P2 85\n",
            "P1 96\n",
            "P2 86\n",
            "P1 97\n",
            "P2 87\n",
            "P2 88\n",
            "P1 98\n",
            "P1 99\n",
            "P2 89\n",
            "P2 90\n",
            "P2 91\n",
            "P2 92\n",
            "P2 93\n",
            "P2 94\n",
            "P2 95\n",
            "P2 96\n",
            "P2 97\n",
            "P2 98\n",
            "P2 99\n",
            "Both processes finished execution!\n",
            "Process p1 is alive: False\n",
            "Process p2 is alive: False\n"
          ],
          "name": "stdout"
        }
      ]
    },
    {
      "cell_type": "markdown",
      "metadata": {
        "id": "mBVu2zuTTSFp"
      },
      "source": [
        "1. Matrix Multiplication"
      ]
    },
    {
      "cell_type": "code",
      "metadata": {
        "id": "3F4UFon7TDuE"
      },
      "source": [
        "X = [[12,7,3,2],\r\n",
        "    [4,5,6,5],\r\n",
        "    [7,8,9,7],\r\n",
        "    [10,4,2,3]]\r\n",
        "\r\n",
        "Y = [[5,8,1,2],\r\n",
        "    [6,7,3,0],\r\n",
        "    [4,5,9,1],\r\n",
        "    [3,6,2,1]]\r\n",
        "\r\n",
        "result = [[0,0,0,0],\r\n",
        "         [0,0,0,0],\r\n",
        "         [0,0,0,0],\r\n",
        "         [0,0,0,0]]"
      ],
      "execution_count": 3,
      "outputs": []
    },
    {
      "cell_type": "code",
      "metadata": {
        "colab": {
          "base_uri": "https://localhost:8080/"
        },
        "id": "4t1F-oN7TDwW",
        "outputId": "d19f21ed-d74c-4c06-b644-0f9001ec1d07"
      },
      "source": [
        "X[:2]"
      ],
      "execution_count": 4,
      "outputs": [
        {
          "output_type": "execute_result",
          "data": {
            "text/plain": [
              "[[12, 7, 3, 2], [4, 5, 6, 5]]"
            ]
          },
          "metadata": {
            "tags": []
          },
          "execution_count": 4
        }
      ]
    },
    {
      "cell_type": "code",
      "metadata": {
        "colab": {
          "base_uri": "https://localhost:8080/"
        },
        "id": "77rZijj4TDzQ",
        "outputId": "87b02c75-31a3-400d-d55c-c05b578a2908"
      },
      "source": [
        "X[2:]"
      ],
      "execution_count": 5,
      "outputs": [
        {
          "output_type": "execute_result",
          "data": {
            "text/plain": [
              "[[7, 8, 9, 7], [10, 4, 2, 3]]"
            ]
          },
          "metadata": {
            "tags": []
          },
          "execution_count": 5
        }
      ]
    },
    {
      "cell_type": "code",
      "metadata": {
        "id": "o0z_2-W-TD1k"
      },
      "source": [
        "import time"
      ],
      "execution_count": 6,
      "outputs": []
    },
    {
      "cell_type": "code",
      "metadata": {
        "colab": {
          "base_uri": "https://localhost:8080/"
        },
        "id": "vEHLSrTyTD3f",
        "outputId": "ed48de0e-268b-4b57-aec6-8738d1312f29"
      },
      "source": [
        "%%time\r\n",
        "for i in range(len(X)):\r\n",
        "   for j in range(len(Y[0])):\r\n",
        "       for k in range(len(Y)):\r\n",
        "           result[i][j] += X[i][k] * Y[k][j]\r\n",
        "\r\n",
        "print(result)"
      ],
      "execution_count": 7,
      "outputs": [
        {
          "output_type": "stream",
          "text": [
            "[[120, 172, 64, 29], [89, 127, 83, 19], [140, 199, 126, 30], [91, 136, 46, 25]]\n",
            "CPU times: user 503 µs, sys: 129 µs, total: 632 µs\n",
            "Wall time: 996 µs\n"
          ],
          "name": "stdout"
        }
      ]
    },
    {
      "cell_type": "code",
      "metadata": {
        "colab": {
          "base_uri": "https://localhost:8080/"
        },
        "id": "QNJMqw2JTD57",
        "outputId": "f523d18f-b1e1-4dab-9c55-b7181278d2a4"
      },
      "source": [
        "%%time\r\n",
        "def worker1(X, Y, result): \r\n",
        "  X = X[:2]\r\n",
        "  for i in range(len(X)):\r\n",
        "   for j in range(len(Y[0])):\r\n",
        "       for k in range(len(Y)):\r\n",
        "           result[i][j] += X[i][k] * Y[k][j]\r\n",
        "  return result\r\n",
        "\r\n",
        "\r\n",
        "def worker2(X, Y, result):\r\n",
        "  X = X[2:]\r\n",
        "  for i in range(len(X)):\r\n",
        "   for j in range(len(Y[0])):\r\n",
        "       for k in range(len(Y)):\r\n",
        "           result[i][j] += X[i][k] * Y[k][j]\r\n",
        "  return result\r\n",
        "  \r\n",
        "\r\n",
        "if __name__ == \"__main__\": \r\n",
        "\r\n",
        "  # creating processes \r\n",
        "  p1 = multiprocessing.Process(target=worker1) \r\n",
        "  p2 = multiprocessing.Process(target=worker2)\r\n",
        "\r\n",
        "  # starting processes \r\n",
        "  p1.start() \r\n",
        "  p2.start()\r\n",
        "\r\n",
        "\r\n",
        "  # wait until processes are finished \r\n",
        "  p1.join() \r\n",
        "  p2.join() \r\n",
        "\r\n",
        "  # both processes finished \r\n",
        "  print(worker1([[12,7,3,2],\r\n",
        "    [4,5,6,5],\r\n",
        "    [7,8,9,7],\r\n",
        "    [10,4,2,3]],[[5,8,1,2],\r\n",
        "    [6,7,3,0],\r\n",
        "    [4,5,9,1],\r\n",
        "    [3,6,2,1]] ,[[0,0,0,0],\r\n",
        "         [0,0,0,0],\r\n",
        "         [0,0,0,0],\r\n",
        "         [0,0,0,0]] )[:2])\r\n",
        "  print(worker2([[12,7,3,2],\r\n",
        "    [4,5,6,5],\r\n",
        "    [7,8,9,7],\r\n",
        "    [10,4,2,3]],[[5,8,1,2],\r\n",
        "    [6,7,3,0],\r\n",
        "    [4,5,9,1],\r\n",
        "    [3,6,2,1]] , [[0,0,0,0],\r\n",
        "         [0,0,0,0],\r\n",
        "         [0,0,0,0],\r\n",
        "         [0,0,0,0]] )[:2])\r\n",
        "  print(\"Done!\") "
      ],
      "execution_count": 8,
      "outputs": [
        {
          "output_type": "stream",
          "text": [
            "Process Process-3:\n",
            "Traceback (most recent call last):\n",
            "  File \"/usr/lib/python3.6/multiprocessing/process.py\", line 258, in _bootstrap\n",
            "    self.run()\n",
            "  File \"/usr/lib/python3.6/multiprocessing/process.py\", line 93, in run\n",
            "    self._target(*self._args, **self._kwargs)\n",
            "Process Process-4:\n",
            "TypeError: worker1() missing 3 required positional arguments: 'X', 'Y', and 'result'\n",
            "Traceback (most recent call last):\n",
            "  File \"/usr/lib/python3.6/multiprocessing/process.py\", line 258, in _bootstrap\n",
            "    self.run()\n",
            "  File \"/usr/lib/python3.6/multiprocessing/process.py\", line 93, in run\n",
            "    self._target(*self._args, **self._kwargs)\n",
            "TypeError: worker2() missing 3 required positional arguments: 'X', 'Y', and 'result'\n"
          ],
          "name": "stderr"
        },
        {
          "output_type": "stream",
          "text": [
            "[[120, 172, 64, 29], [89, 127, 83, 19]]\n",
            "[[140, 199, 126, 30], [91, 136, 46, 25]]\n",
            "Done!\n",
            "CPU times: user 10.3 ms, sys: 8.12 ms, total: 18.4 ms\n",
            "Wall time: 49.1 ms\n"
          ],
          "name": "stdout"
        }
      ]
    },
    {
      "cell_type": "markdown",
      "metadata": {
        "id": "QKzt7-bSTffG"
      },
      "source": [
        "2. Linear Search"
      ]
    },
    {
      "cell_type": "code",
      "metadata": {
        "id": "lWQuxDzITD7_"
      },
      "source": [
        "import random\r\n",
        "arr = []\r\n",
        "for i in range(100):\r\n",
        "  arr.append(random.randint(1,45))"
      ],
      "execution_count": 12,
      "outputs": []
    },
    {
      "cell_type": "code",
      "metadata": {
        "colab": {
          "base_uri": "https://localhost:8080/"
        },
        "id": "Qp7dnUilTehc",
        "outputId": "c9cab4ff-51aa-4677-820b-335640bb7227"
      },
      "source": [
        "arr"
      ],
      "execution_count": 13,
      "outputs": [
        {
          "output_type": "execute_result",
          "data": {
            "text/plain": [
              "[10,\n",
              " 35,\n",
              " 8,\n",
              " 31,\n",
              " 6,\n",
              " 44,\n",
              " 45,\n",
              " 27,\n",
              " 32,\n",
              " 17,\n",
              " 10,\n",
              " 33,\n",
              " 23,\n",
              " 32,\n",
              " 3,\n",
              " 6,\n",
              " 4,\n",
              " 7,\n",
              " 40,\n",
              " 39,\n",
              " 6,\n",
              " 22,\n",
              " 13,\n",
              " 18,\n",
              " 39,\n",
              " 19,\n",
              " 34,\n",
              " 15,\n",
              " 37,\n",
              " 7,\n",
              " 32,\n",
              " 33,\n",
              " 20,\n",
              " 40,\n",
              " 5,\n",
              " 43,\n",
              " 19,\n",
              " 3,\n",
              " 18,\n",
              " 40,\n",
              " 13,\n",
              " 22,\n",
              " 42,\n",
              " 26,\n",
              " 30,\n",
              " 16,\n",
              " 7,\n",
              " 9,\n",
              " 6,\n",
              " 43,\n",
              " 45,\n",
              " 32,\n",
              " 37,\n",
              " 29,\n",
              " 39,\n",
              " 20,\n",
              " 18,\n",
              " 40,\n",
              " 20,\n",
              " 18,\n",
              " 2,\n",
              " 13,\n",
              " 41,\n",
              " 43,\n",
              " 33,\n",
              " 25,\n",
              " 41,\n",
              " 45,\n",
              " 3,\n",
              " 26,\n",
              " 6,\n",
              " 14,\n",
              " 45,\n",
              " 22,\n",
              " 20,\n",
              " 23,\n",
              " 30,\n",
              " 2,\n",
              " 17,\n",
              " 23,\n",
              " 27,\n",
              " 15,\n",
              " 33,\n",
              " 24,\n",
              " 17,\n",
              " 30,\n",
              " 35,\n",
              " 19,\n",
              " 25,\n",
              " 8,\n",
              " 23,\n",
              " 14,\n",
              " 18,\n",
              " 12,\n",
              " 11,\n",
              " 42,\n",
              " 30,\n",
              " 19,\n",
              " 42,\n",
              " 35]"
            ]
          },
          "metadata": {
            "tags": []
          },
          "execution_count": 13
        }
      ]
    },
    {
      "cell_type": "code",
      "metadata": {
        "colab": {
          "base_uri": "https://localhost:8080/"
        },
        "id": "srZsJG9jTei4",
        "outputId": "4ee52101-e811-4975-cc1a-f572a58a14af"
      },
      "source": [
        "%%time\r\n",
        "def linear(arr, len, x):\r\n",
        "  for i in range(len):\r\n",
        "    if(arr[i] == x):\r\n",
        "      return i\r\n",
        "  return -1\r\n",
        "\r\n",
        "print(linear(arr, len(arr), 45))"
      ],
      "execution_count": 16,
      "outputs": [
        {
          "output_type": "stream",
          "text": [
            "6\n",
            "CPU times: user 452 µs, sys: 0 ns, total: 452 µs\n",
            "Wall time: 458 µs\n"
          ],
          "name": "stdout"
        }
      ]
    },
    {
      "cell_type": "code",
      "metadata": {
        "colab": {
          "base_uri": "https://localhost:8080/"
        },
        "id": "xsDR4e9cTemH",
        "outputId": "cf36185e-653e-415c-eb48-46828b4e3fcf"
      },
      "source": [
        "r = len(arr)//2\r\n",
        "r"
      ],
      "execution_count": 15,
      "outputs": [
        {
          "output_type": "execute_result",
          "data": {
            "text/plain": [
              "50"
            ]
          },
          "metadata": {
            "tags": []
          },
          "execution_count": 15
        }
      ]
    },
    {
      "cell_type": "code",
      "metadata": {
        "colab": {
          "base_uri": "https://localhost:8080/"
        },
        "id": "9ydZsj6WTeoE",
        "outputId": "46ef38fc-5a87-4bd6-86ac-9b7d5ab3ec4d"
      },
      "source": [
        "%%time\r\n",
        "def worker1(): \r\n",
        "  print('Worker 1 here!')\r\n",
        "  return linear(arr[:r], len(arr[:r]),45)\r\n",
        "\r\n",
        "\r\n",
        "def worker2(): \r\n",
        "  print('Worker 2 here!')\r\n",
        "  return linear(arr[r:], len(arr[r:]),45)\r\n",
        "\r\n",
        "if __name__ == \"__main__\": \r\n",
        "\r\n",
        "  # creating processes \r\n",
        "  p1 = multiprocessing.Process(target=worker1) \r\n",
        "  p2 = multiprocessing.Process(target=worker2)\r\n",
        "\r\n",
        "  # starting processes \r\n",
        "  p1.start() \r\n",
        "  p2.start()\r\n",
        "\r\n",
        "\r\n",
        "  # wait until processes are finished \r\n",
        "  p1.join() \r\n",
        "  p2.join() \r\n",
        "\r\n",
        "  # both processes finished \r\n",
        "  if(worker1()!=-1 and worker2()==-1):\r\n",
        "    print(worker1())\r\n",
        "  elif(worker1()==-1 and worker2()==-1):\r\n",
        "    print(-1)\r\n",
        "  elif(worker2()!=-1 and worker1()==-1):\r\n",
        "    print(worker2()+50)\r\n",
        "  else:\r\n",
        "    print(worker1(), worker2()+50)\r\n",
        "  print(\"Done!\") "
      ],
      "execution_count": 18,
      "outputs": [
        {
          "output_type": "stream",
          "text": [
            "Worker 1 here!\n",
            "Worker 2 here!\n",
            "Worker 1 here!\n",
            "Worker 2 here!\n",
            "Worker 1 here!\n",
            "Worker 2 here!\n",
            "Worker 1 here!\n",
            "Worker 1 here!\n",
            "Worker 2 here!\n",
            "6 50\n",
            "Done!\n",
            "CPU times: user 5.86 ms, sys: 8.31 ms, total: 14.2 ms\n",
            "Wall time: 29.8 ms\n"
          ],
          "name": "stdout"
        }
      ]
    },
    {
      "cell_type": "markdown",
      "metadata": {
        "id": "SJmhIl89T-v9"
      },
      "source": [
        "3. Array Sum"
      ]
    },
    {
      "cell_type": "code",
      "metadata": {
        "id": "SGFWyNhaTeqh"
      },
      "source": [
        "arr = [i for i in range(1,101)]"
      ],
      "execution_count": 19,
      "outputs": []
    },
    {
      "cell_type": "code",
      "metadata": {
        "colab": {
          "base_uri": "https://localhost:8080/"
        },
        "id": "yYlGNffATes7",
        "outputId": "60a002f7-80a9-45d2-e42a-569d7952cc6b"
      },
      "source": [
        "%%time\r\n",
        "arr = [i for i in range(1,101)]\r\n",
        "sum = 0\r\n",
        "for i in arr:\r\n",
        "  sum+=i\r\n",
        "print(sum)"
      ],
      "execution_count": 20,
      "outputs": [
        {
          "output_type": "stream",
          "text": [
            "5050\n",
            "CPU times: user 329 µs, sys: 0 ns, total: 329 µs\n",
            "Wall time: 257 µs\n"
          ],
          "name": "stdout"
        }
      ]
    },
    {
      "cell_type": "code",
      "metadata": {
        "id": "DQ54Jms5Tew5"
      },
      "source": [
        "r = len(arr)//2"
      ],
      "execution_count": 21,
      "outputs": []
    },
    {
      "cell_type": "code",
      "metadata": {
        "colab": {
          "base_uri": "https://localhost:8080/"
        },
        "id": "oAuGNLoMUDc8",
        "outputId": "c7707560-cb6c-4431-9f3b-4b2c979701cd"
      },
      "source": [
        "%%time\r\n",
        "def worker1(): \r\n",
        "   sum1 = 0\r\n",
        "   for i in arr[:r]:\r\n",
        "       sum1+=i\r\n",
        "   print('Worker 1 here!')\r\n",
        "   return sum1\r\n",
        "\r\n",
        "def worker2(): \r\n",
        "    sum2 = 0\r\n",
        "    for i in arr[r:]:\r\n",
        "       sum2+=i\r\n",
        "    print('Worker 2 here!')\r\n",
        "    return sum2\r\n",
        "\r\n",
        "if __name__ == \"__main__\": \r\n",
        "\r\n",
        "  # creating processes \r\n",
        "  p1 = multiprocessing.Process(target=worker1) \r\n",
        "  p2 = multiprocessing.Process(target=worker2)\r\n",
        "\r\n",
        "  # starting processes \r\n",
        "  p1.start() \r\n",
        "  p2.start()\r\n",
        "\r\n",
        "\r\n",
        "  # wait until processes are finished \r\n",
        "  p1.join() \r\n",
        "  p2.join() \r\n",
        "\r\n",
        "  # both processes finished \r\n",
        "  print(\"Final sum: \"+str(worker1()+worker2()))\r\n",
        "  print(\"Done!\") "
      ],
      "execution_count": 22,
      "outputs": [
        {
          "output_type": "stream",
          "text": [
            "Worker 1 here!\n",
            "Worker 2 here!\n",
            "Worker 1 here!\n",
            "Worker 2 here!\n",
            "Final sum: 5050\n",
            "Done!\n",
            "CPU times: user 4.49 ms, sys: 7.09 ms, total: 11.6 ms\n",
            "Wall time: 23.4 ms\n"
          ],
          "name": "stdout"
        }
      ]
    },
    {
      "cell_type": "markdown",
      "metadata": {
        "id": "YxEVvAq6UHfc"
      },
      "source": [
        "4. Prime Numbers"
      ]
    },
    {
      "cell_type": "code",
      "metadata": {
        "colab": {
          "base_uri": "https://localhost:8080/"
        },
        "id": "o5up9Ll6UEs_",
        "outputId": "3f69ab38-3cac-4a0a-fe56-04d18226b28f"
      },
      "source": [
        "%%time\r\n",
        "a = 1\r\n",
        "b = 120\r\n",
        "for i in range(a, b+1):\r\n",
        "   if (i > 1):\r\n",
        "       for j in range(2, i):\r\n",
        "           if (i % j) == 0:\r\n",
        "               break\r\n",
        "       else:\r\n",
        "           print(i)"
      ],
      "execution_count": 23,
      "outputs": [
        {
          "output_type": "stream",
          "text": [
            "2\n",
            "3\n",
            "5\n",
            "7\n",
            "11\n",
            "13\n",
            "17\n",
            "19\n",
            "23\n",
            "29\n",
            "31\n",
            "37\n",
            "41\n",
            "43\n",
            "47\n",
            "53\n",
            "59\n",
            "61\n",
            "67\n",
            "71\n",
            "73\n",
            "79\n",
            "83\n",
            "89\n",
            "97\n",
            "101\n",
            "103\n",
            "107\n",
            "109\n",
            "113\n",
            "CPU times: user 1.09 ms, sys: 776 µs, total: 1.86 ms\n",
            "Wall time: 1.36 ms\n"
          ],
          "name": "stdout"
        }
      ]
    },
    {
      "cell_type": "code",
      "metadata": {
        "colab": {
          "base_uri": "https://localhost:8080/"
        },
        "id": "PTnbmA-vUKJ6",
        "outputId": "0a3b4954-6ef7-4218-cf85-9199a692d9a0"
      },
      "source": [
        "%%time\r\n",
        "import multiprocessing \r\n",
        "import os \r\n",
        "\r\n",
        "def prime(a, b):\r\n",
        "  for i in range(a, b+1):\r\n",
        "   if (i > 1):\r\n",
        "       for j in range(2, i):\r\n",
        "           if (i % j) == 0:\r\n",
        "               break\r\n",
        "       else:\r\n",
        "           print(i)\r\n",
        "\r\n",
        "def worker1(): \r\n",
        "  prime(1,30)  \r\n",
        "\r\n",
        "def worker2(): \r\n",
        "  prime(31,60)\r\n",
        "\r\n",
        "def worker3(): \r\n",
        "  prime(61,90)\r\n",
        "\r\n",
        "def worker4(): \r\n",
        "  prime(91,120)\r\n",
        "\r\n",
        "if __name__ == \"__main__\": \r\n",
        "\r\n",
        "  # creating processes \r\n",
        "  p1 = multiprocessing.Process(target=worker1) \r\n",
        "  p2 = multiprocessing.Process(target=worker2) \r\n",
        "  p3 = multiprocessing.Process(target=worker3) \r\n",
        "  p4 = multiprocessing.Process(target=worker4) \r\n",
        "\r\n",
        "  # starting processes \r\n",
        "  p1.start() \r\n",
        "  p2.start() \r\n",
        "  p3.start() \r\n",
        "  p4.start()\r\n",
        "\r\n",
        "\r\n",
        "  # wait until processes are finished \r\n",
        "  p1.join() \r\n",
        "  p2.join() \r\n",
        "  p3.join() \r\n",
        "  p4.join() \r\n",
        "\r\n",
        "  # both processes finished \r\n",
        "  print(\"Done!\") \r\n"
      ],
      "execution_count": 24,
      "outputs": [
        {
          "output_type": "stream",
          "text": [
            "2\n",
            "3\n",
            "31\n",
            "61\n",
            "5\n",
            "37\n",
            "67\n",
            "41\n",
            "43\n",
            "47\n",
            "53\n",
            "59\n",
            "71\n",
            "97\n",
            "73\n",
            "79\n",
            "83\n",
            "89\n",
            "7\n",
            "101\n",
            "103\n",
            "11\n",
            "107\n",
            "13\n",
            "109\n",
            "113\n",
            "17\n",
            "19\n",
            "23\n",
            "29\n",
            "Done!\n",
            "CPU times: user 19.9 ms, sys: 20.9 ms, total: 40.8 ms\n",
            "Wall time: 103 ms\n"
          ],
          "name": "stdout"
        }
      ]
    },
    {
      "cell_type": "code",
      "metadata": {
        "id": "fqO2pypTUMWp"
      },
      "source": [
        ""
      ],
      "execution_count": null,
      "outputs": []
    }
  ]
}