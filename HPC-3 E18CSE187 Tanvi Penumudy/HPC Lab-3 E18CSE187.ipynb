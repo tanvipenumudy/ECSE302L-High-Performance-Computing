{
  "nbformat": 4,
  "nbformat_minor": 0,
  "metadata": {
    "colab": {
      "name": "HPC Lab-3 E18CSE187.ipynb",
      "provenance": [],
      "collapsed_sections": []
    },
    "kernelspec": {
      "name": "python3",
      "display_name": "Python 3"
    }
  },
  "cells": [
    {
      "cell_type": "markdown",
      "metadata": {
        "id": "l3HQzyGPuroe"
      },
      "source": [
        "## HPC Lab-3  \r\n",
        "Name: Tanvi Penumudy\r\n",
        "\r\n",
        "Enroll No: E18CSE187"
      ]
    },
    {
      "cell_type": "markdown",
      "metadata": {
        "id": "F3rPCket9QEN"
      },
      "source": [
        "1. Data Preprocessing"
      ]
    },
    {
      "cell_type": "code",
      "metadata": {
        "id": "-nYzY0qQCUG1"
      },
      "source": [
        "import multiprocessing \r\n",
        "import os "
      ],
      "execution_count": 57,
      "outputs": []
    },
    {
      "cell_type": "code",
      "metadata": {
        "colab": {
          "base_uri": "https://localhost:8080/"
        },
        "id": "NtD_3EE7MlIr",
        "outputId": "c3dd014b-c16a-41b1-fcdf-1f84b4b0cd29"
      },
      "source": [
        "multiprocessing.cpu_count()"
      ],
      "execution_count": 103,
      "outputs": [
        {
          "output_type": "execute_result",
          "data": {
            "text/plain": [
              "2"
            ]
          },
          "metadata": {
            "tags": []
          },
          "execution_count": 103
        }
      ]
    },
    {
      "cell_type": "code",
      "metadata": {
        "colab": {
          "base_uri": "https://localhost:8080/"
        },
        "id": "cXa4DyR1uYFR",
        "outputId": "8dd63361-604a-447a-80f7-43112cc3ceaf"
      },
      "source": [
        "!wget https://archive.ics.uci.edu/ml/machine-learning-databases/00526/data.zip"
      ],
      "execution_count": 58,
      "outputs": [
        {
          "output_type": "stream",
          "text": [
            "--2021-01-27 04:17:58--  https://archive.ics.uci.edu/ml/machine-learning-databases/00526/data.zip\n",
            "Resolving archive.ics.uci.edu (archive.ics.uci.edu)... 128.195.10.252\n",
            "Connecting to archive.ics.uci.edu (archive.ics.uci.edu)|128.195.10.252|:443... connected.\n",
            "HTTP request sent, awaiting response... 200 OK\n",
            "Length: 116104947 (111M) [application/x-httpd-php]\n",
            "Saving to: ‘data.zip’\n",
            "\n",
            "data.zip            100%[===================>] 110.73M  46.9MB/s    in 2.4s    \n",
            "\n",
            "2021-01-27 04:18:00 (46.9 MB/s) - ‘data.zip’ saved [116104947/116104947]\n",
            "\n"
          ],
          "name": "stdout"
        }
      ]
    },
    {
      "cell_type": "code",
      "metadata": {
        "colab": {
          "base_uri": "https://localhost:8080/"
        },
        "id": "Ky5jFd3duYux",
        "outputId": "c999706c-2e72-4eb4-8380-3b7ad11862a9"
      },
      "source": [
        "!unzip \"data.zip\" -d /tmp"
      ],
      "execution_count": 59,
      "outputs": [
        {
          "output_type": "stream",
          "text": [
            "Archive:  data.zip\n",
            "replace /tmp/BitcoinHeistData.csv? [y]es, [n]o, [A]ll, [N]one, [r]ename: y\n",
            "  inflating: /tmp/BitcoinHeistData.csv  \n"
          ],
          "name": "stdout"
        }
      ]
    },
    {
      "cell_type": "code",
      "metadata": {
        "id": "NjKhuRadv1OJ"
      },
      "source": [
        "import pandas as pd\r\n",
        "import numpy as np\r\n",
        "from sklearn.preprocessing import MinMaxScaler, LabelEncoder"
      ],
      "execution_count": 60,
      "outputs": []
    },
    {
      "cell_type": "code",
      "metadata": {
        "id": "thcw2XvcuYxS"
      },
      "source": [
        "data = pd.read_csv('/tmp/BitcoinHeistData.csv')"
      ],
      "execution_count": 61,
      "outputs": []
    },
    {
      "cell_type": "code",
      "metadata": {
        "id": "PGVW6D0Q__cn"
      },
      "source": [
        "data = data.sample(frac=1).reset_index(drop=True)"
      ],
      "execution_count": 62,
      "outputs": []
    },
    {
      "cell_type": "code",
      "metadata": {
        "colab": {
          "base_uri": "https://localhost:8080/",
          "height": 323
        },
        "id": "gz0nwgyJuY0W",
        "outputId": "b24d15f2-8a5f-4f46-efd4-46e1e530fc1d"
      },
      "source": [
        "print(data.shape)\r\n",
        "data.head()"
      ],
      "execution_count": 63,
      "outputs": [
        {
          "output_type": "stream",
          "text": [
            "(2916697, 10)\n"
          ],
          "name": "stdout"
        },
        {
          "output_type": "execute_result",
          "data": {
            "text/html": [
              "<div>\n",
              "<style scoped>\n",
              "    .dataframe tbody tr th:only-of-type {\n",
              "        vertical-align: middle;\n",
              "    }\n",
              "\n",
              "    .dataframe tbody tr th {\n",
              "        vertical-align: top;\n",
              "    }\n",
              "\n",
              "    .dataframe thead th {\n",
              "        text-align: right;\n",
              "    }\n",
              "</style>\n",
              "<table border=\"1\" class=\"dataframe\">\n",
              "  <thead>\n",
              "    <tr style=\"text-align: right;\">\n",
              "      <th></th>\n",
              "      <th>address</th>\n",
              "      <th>year</th>\n",
              "      <th>day</th>\n",
              "      <th>length</th>\n",
              "      <th>weight</th>\n",
              "      <th>count</th>\n",
              "      <th>looped</th>\n",
              "      <th>neighbors</th>\n",
              "      <th>income</th>\n",
              "      <th>label</th>\n",
              "    </tr>\n",
              "  </thead>\n",
              "  <tbody>\n",
              "    <tr>\n",
              "      <th>0</th>\n",
              "      <td>13TN2XHZ3J11cVCRW31ApFPkNvK3Cs16BG</td>\n",
              "      <td>2015</td>\n",
              "      <td>361</td>\n",
              "      <td>104</td>\n",
              "      <td>1.818989e-12</td>\n",
              "      <td>1</td>\n",
              "      <td>0</td>\n",
              "      <td>2</td>\n",
              "      <td>6.264476e+10</td>\n",
              "      <td>white</td>\n",
              "    </tr>\n",
              "    <tr>\n",
              "      <th>1</th>\n",
              "      <td>1GY8sgbnBKKHd2rn9WPrfiSu1vdPN5BCqZ</td>\n",
              "      <td>2015</td>\n",
              "      <td>39</td>\n",
              "      <td>144</td>\n",
              "      <td>5.692441e-06</td>\n",
              "      <td>1108</td>\n",
              "      <td>1108</td>\n",
              "      <td>2</td>\n",
              "      <td>1.814030e+09</td>\n",
              "      <td>white</td>\n",
              "    </tr>\n",
              "    <tr>\n",
              "      <th>2</th>\n",
              "      <td>1CLZEMoCaKAgaqbWUkJ4H5uBkUn36BEjrN</td>\n",
              "      <td>2014</td>\n",
              "      <td>204</td>\n",
              "      <td>38</td>\n",
              "      <td>7.055539e-03</td>\n",
              "      <td>13</td>\n",
              "      <td>13</td>\n",
              "      <td>2</td>\n",
              "      <td>3.103461e+07</td>\n",
              "      <td>white</td>\n",
              "    </tr>\n",
              "    <tr>\n",
              "      <th>3</th>\n",
              "      <td>18pKnTN1icYiyErX8dNiWPHF72AQoUFMWN</td>\n",
              "      <td>2016</td>\n",
              "      <td>143</td>\n",
              "      <td>0</td>\n",
              "      <td>5.000000e-01</td>\n",
              "      <td>1</td>\n",
              "      <td>0</td>\n",
              "      <td>2</td>\n",
              "      <td>1.177438e+10</td>\n",
              "      <td>white</td>\n",
              "    </tr>\n",
              "    <tr>\n",
              "      <th>4</th>\n",
              "      <td>19c3TNkbAUSBinBDicjr2zxc7pVNRLss7z</td>\n",
              "      <td>2012</td>\n",
              "      <td>226</td>\n",
              "      <td>6</td>\n",
              "      <td>1.250000e-01</td>\n",
              "      <td>1</td>\n",
              "      <td>0</td>\n",
              "      <td>2</td>\n",
              "      <td>3.600000e+08</td>\n",
              "      <td>white</td>\n",
              "    </tr>\n",
              "  </tbody>\n",
              "</table>\n",
              "</div>"
            ],
            "text/plain": [
              "                              address  year  ...        income  label\n",
              "0  13TN2XHZ3J11cVCRW31ApFPkNvK3Cs16BG  2015  ...  6.264476e+10  white\n",
              "1  1GY8sgbnBKKHd2rn9WPrfiSu1vdPN5BCqZ  2015  ...  1.814030e+09  white\n",
              "2  1CLZEMoCaKAgaqbWUkJ4H5uBkUn36BEjrN  2014  ...  3.103461e+07  white\n",
              "3  18pKnTN1icYiyErX8dNiWPHF72AQoUFMWN  2016  ...  1.177438e+10  white\n",
              "4  19c3TNkbAUSBinBDicjr2zxc7pVNRLss7z  2012  ...  3.600000e+08  white\n",
              "\n",
              "[5 rows x 10 columns]"
            ]
          },
          "metadata": {
            "tags": []
          },
          "execution_count": 63
        }
      ]
    },
    {
      "cell_type": "code",
      "metadata": {
        "colab": {
          "base_uri": "https://localhost:8080/"
        },
        "id": "56Bh96ZVuY2Q",
        "outputId": "0fe01bf1-c160-4256-aceb-0428a98510f2"
      },
      "source": [
        "data.isna().sum()"
      ],
      "execution_count": 64,
      "outputs": [
        {
          "output_type": "execute_result",
          "data": {
            "text/plain": [
              "address      0\n",
              "year         0\n",
              "day          0\n",
              "length       0\n",
              "weight       0\n",
              "count        0\n",
              "looped       0\n",
              "neighbors    0\n",
              "income       0\n",
              "label        0\n",
              "dtype: int64"
            ]
          },
          "metadata": {
            "tags": []
          },
          "execution_count": 64
        }
      ]
    },
    {
      "cell_type": "code",
      "metadata": {
        "colab": {
          "base_uri": "https://localhost:8080/"
        },
        "id": "NGSSBZPTuY55",
        "outputId": "0b45a482-d688-4153-b3ab-7c2031ecf807"
      },
      "source": [
        "data['address'].value_counts()"
      ],
      "execution_count": 65,
      "outputs": [
        {
          "output_type": "execute_result",
          "data": {
            "text/plain": [
              "1LXrSb67EaH1LGc6d6kWHq8rgv4ZBQAcpU    420\n",
              "16cVG72goMe4sNqZhnpmnqfCMZ1uSFbUit    261\n",
              "12wQZTDmA8onM3sEt4jwcvzDxnNXxD8Vza    207\n",
              "12YursV58dRT2c9iuZg3jEWfwgTDamBcnd    183\n",
              "1LEq4WmpCrqBd7V3PywE2nvFUFC3QTe52x    176\n",
              "                                     ... \n",
              "1Fehjr9b335GaYQVfJKrQrK18eRaKCQUsv      1\n",
              "1CATCf434hdf1CME8s8VqLi8QMSFJhxKdS      1\n",
              "1FX4BGYdhcuEb7evp6RjX91V1sE3ESfZNW      1\n",
              "1DJajDjZXpXmo6E3Fu1gEtbJgNgnMwS52v      1\n",
              "1H2qbu7VDbw8UX6P7x5u44v31jtxFnfLfw      1\n",
              "Name: address, Length: 2631095, dtype: int64"
            ]
          },
          "metadata": {
            "tags": []
          },
          "execution_count": 65
        }
      ]
    },
    {
      "cell_type": "code",
      "metadata": {
        "colab": {
          "base_uri": "https://localhost:8080/"
        },
        "id": "ARkhpUyawHtJ",
        "outputId": "545117fe-92ad-4b72-c507-04423d6b40af"
      },
      "source": [
        "data.address.unique().shape"
      ],
      "execution_count": 66,
      "outputs": [
        {
          "output_type": "execute_result",
          "data": {
            "text/plain": [
              "(2631095,)"
            ]
          },
          "metadata": {
            "tags": []
          },
          "execution_count": 66
        }
      ]
    },
    {
      "cell_type": "code",
      "metadata": {
        "colab": {
          "base_uri": "https://localhost:8080/"
        },
        "id": "jOyucXnP983C",
        "outputId": "420cf7ab-48bd-4bb0-8d9e-361adc8f8094"
      },
      "source": [
        "data['label'].value_counts()"
      ],
      "execution_count": 67,
      "outputs": [
        {
          "output_type": "execute_result",
          "data": {
            "text/plain": [
              "white                          2875284\n",
              "paduaCryptoWall                  12390\n",
              "montrealCryptoLocker              9315\n",
              "princetonCerber                   9223\n",
              "princetonLocky                    6625\n",
              "montrealCryptXXX                  2419\n",
              "montrealNoobCrypt                  483\n",
              "montrealDMALockerv3                354\n",
              "montrealDMALocker                  251\n",
              "montrealSamSam                      62\n",
              "montrealGlobeImposter               55\n",
              "montrealCryptoTorLocker2015         55\n",
              "montrealGlobev3                     34\n",
              "montrealGlobe                       32\n",
              "montrealWannaCry                    28\n",
              "montrealRazy                        13\n",
              "montrealAPT                         11\n",
              "paduaKeRanger                       10\n",
              "montrealFlyper                       9\n",
              "montrealXTPLocker                    8\n",
              "montrealVenusLocker                  7\n",
              "montrealCryptConsole                 7\n",
              "montrealXLockerv5.0                  7\n",
              "montrealEDA2                         6\n",
              "montrealJigSaw                       4\n",
              "paduaJigsaw                          2\n",
              "montrealXLocker                      1\n",
              "montrealComradeCircle                1\n",
              "montrealSam                          1\n",
              "Name: label, dtype: int64"
            ]
          },
          "metadata": {
            "tags": []
          },
          "execution_count": 67
        }
      ]
    },
    {
      "cell_type": "code",
      "metadata": {
        "colab": {
          "base_uri": "https://localhost:8080/"
        },
        "id": "ReLpaK7wzaHW",
        "outputId": "a47afc14-92a1-4091-93bf-1b79e964df1f"
      },
      "source": [
        "LE = LabelEncoder()\r\n",
        "CateList = data.select_dtypes(include=\"object\").columns\r\n",
        "print(CateList)"
      ],
      "execution_count": 68,
      "outputs": [
        {
          "output_type": "stream",
          "text": [
            "Index(['address', 'label'], dtype='object')\n"
          ],
          "name": "stdout"
        }
      ]
    },
    {
      "cell_type": "code",
      "metadata": {
        "colab": {
          "base_uri": "https://localhost:8080/",
          "height": 201
        },
        "id": "VUjZG4V_zaJG",
        "outputId": "dba9dc80-c75a-4ec7-d587-e1f3d35766da"
      },
      "source": [
        "for i in CateList:\r\n",
        "    data[i] = LE.fit_transform(data[i])\r\n",
        "data.head()"
      ],
      "execution_count": 69,
      "outputs": [
        {
          "output_type": "execute_result",
          "data": {
            "text/html": [
              "<div>\n",
              "<style scoped>\n",
              "    .dataframe tbody tr th:only-of-type {\n",
              "        vertical-align: middle;\n",
              "    }\n",
              "\n",
              "    .dataframe tbody tr th {\n",
              "        vertical-align: top;\n",
              "    }\n",
              "\n",
              "    .dataframe thead th {\n",
              "        text-align: right;\n",
              "    }\n",
              "</style>\n",
              "<table border=\"1\" class=\"dataframe\">\n",
              "  <thead>\n",
              "    <tr style=\"text-align: right;\">\n",
              "      <th></th>\n",
              "      <th>address</th>\n",
              "      <th>year</th>\n",
              "      <th>day</th>\n",
              "      <th>length</th>\n",
              "      <th>weight</th>\n",
              "      <th>count</th>\n",
              "      <th>looped</th>\n",
              "      <th>neighbors</th>\n",
              "      <th>income</th>\n",
              "      <th>label</th>\n",
              "    </tr>\n",
              "  </thead>\n",
              "  <tbody>\n",
              "    <tr>\n",
              "      <th>0</th>\n",
              "      <td>158444</td>\n",
              "      <td>2015</td>\n",
              "      <td>361</td>\n",
              "      <td>104</td>\n",
              "      <td>1.818989e-12</td>\n",
              "      <td>1</td>\n",
              "      <td>0</td>\n",
              "      <td>2</td>\n",
              "      <td>6.264476e+10</td>\n",
              "      <td>28</td>\n",
              "    </tr>\n",
              "    <tr>\n",
              "      <th>1</th>\n",
              "      <td>1513907</td>\n",
              "      <td>2015</td>\n",
              "      <td>39</td>\n",
              "      <td>144</td>\n",
              "      <td>5.692441e-06</td>\n",
              "      <td>1108</td>\n",
              "      <td>1108</td>\n",
              "      <td>2</td>\n",
              "      <td>1.814030e+09</td>\n",
              "      <td>28</td>\n",
              "    </tr>\n",
              "    <tr>\n",
              "      <th>2</th>\n",
              "      <td>1077176</td>\n",
              "      <td>2014</td>\n",
              "      <td>204</td>\n",
              "      <td>38</td>\n",
              "      <td>7.055539e-03</td>\n",
              "      <td>13</td>\n",
              "      <td>13</td>\n",
              "      <td>2</td>\n",
              "      <td>3.103461e+07</td>\n",
              "      <td>28</td>\n",
              "    </tr>\n",
              "    <tr>\n",
              "      <th>3</th>\n",
              "      <td>710765</td>\n",
              "      <td>2016</td>\n",
              "      <td>143</td>\n",
              "      <td>0</td>\n",
              "      <td>5.000000e-01</td>\n",
              "      <td>1</td>\n",
              "      <td>0</td>\n",
              "      <td>2</td>\n",
              "      <td>1.177438e+10</td>\n",
              "      <td>28</td>\n",
              "    </tr>\n",
              "    <tr>\n",
              "      <th>4</th>\n",
              "      <td>792982</td>\n",
              "      <td>2012</td>\n",
              "      <td>226</td>\n",
              "      <td>6</td>\n",
              "      <td>1.250000e-01</td>\n",
              "      <td>1</td>\n",
              "      <td>0</td>\n",
              "      <td>2</td>\n",
              "      <td>3.600000e+08</td>\n",
              "      <td>28</td>\n",
              "    </tr>\n",
              "  </tbody>\n",
              "</table>\n",
              "</div>"
            ],
            "text/plain": [
              "   address  year  day  length  ...  looped  neighbors        income  label\n",
              "0   158444  2015  361     104  ...       0          2  6.264476e+10     28\n",
              "1  1513907  2015   39     144  ...    1108          2  1.814030e+09     28\n",
              "2  1077176  2014  204      38  ...      13          2  3.103461e+07     28\n",
              "3   710765  2016  143       0  ...       0          2  1.177438e+10     28\n",
              "4   792982  2012  226       6  ...       0          2  3.600000e+08     28\n",
              "\n",
              "[5 rows x 10 columns]"
            ]
          },
          "metadata": {
            "tags": []
          },
          "execution_count": 69
        }
      ]
    },
    {
      "cell_type": "code",
      "metadata": {
        "id": "3WPm9a-tzaMx"
      },
      "source": [
        "df = data.iloc[:,:-1]\r\n",
        "mm = MinMaxScaler()\r\n",
        "df[:]= mm.fit_transform(df[:])"
      ],
      "execution_count": 70,
      "outputs": []
    },
    {
      "cell_type": "code",
      "metadata": {
        "colab": {
          "base_uri": "https://localhost:8080/",
          "height": 201
        },
        "id": "zIQqJC9c75Hb",
        "outputId": "8a5303c2-f498-412e-ae51-752cf683bf0d"
      },
      "source": [
        "df.head()"
      ],
      "execution_count": 71,
      "outputs": [
        {
          "output_type": "execute_result",
          "data": {
            "text/html": [
              "<div>\n",
              "<style scoped>\n",
              "    .dataframe tbody tr th:only-of-type {\n",
              "        vertical-align: middle;\n",
              "    }\n",
              "\n",
              "    .dataframe tbody tr th {\n",
              "        vertical-align: top;\n",
              "    }\n",
              "\n",
              "    .dataframe thead th {\n",
              "        text-align: right;\n",
              "    }\n",
              "</style>\n",
              "<table border=\"1\" class=\"dataframe\">\n",
              "  <thead>\n",
              "    <tr style=\"text-align: right;\">\n",
              "      <th></th>\n",
              "      <th>address</th>\n",
              "      <th>year</th>\n",
              "      <th>day</th>\n",
              "      <th>length</th>\n",
              "      <th>weight</th>\n",
              "      <th>count</th>\n",
              "      <th>looped</th>\n",
              "      <th>neighbors</th>\n",
              "      <th>income</th>\n",
              "    </tr>\n",
              "  </thead>\n",
              "  <tbody>\n",
              "    <tr>\n",
              "      <th>0</th>\n",
              "      <td>0.060220</td>\n",
              "      <td>0.571429</td>\n",
              "      <td>0.989011</td>\n",
              "      <td>0.722222</td>\n",
              "      <td>9.358151e-16</td>\n",
              "      <td>0.000000</td>\n",
              "      <td>0.000000</td>\n",
              "      <td>0.000077</td>\n",
              "      <td>1.253188e-03</td>\n",
              "    </tr>\n",
              "    <tr>\n",
              "      <th>1</th>\n",
              "      <td>0.575391</td>\n",
              "      <td>0.571429</td>\n",
              "      <td>0.104396</td>\n",
              "      <td>1.000000</td>\n",
              "      <td>2.928589e-09</td>\n",
              "      <td>0.076366</td>\n",
              "      <td>0.076435</td>\n",
              "      <td>0.000077</td>\n",
              "      <td>3.570605e-05</td>\n",
              "    </tr>\n",
              "    <tr>\n",
              "      <th>2</th>\n",
              "      <td>0.409402</td>\n",
              "      <td>0.428571</td>\n",
              "      <td>0.557692</td>\n",
              "      <td>0.263889</td>\n",
              "      <td>3.629861e-06</td>\n",
              "      <td>0.000828</td>\n",
              "      <td>0.000897</td>\n",
              "      <td>0.000077</td>\n",
              "      <td>2.070690e-08</td>\n",
              "    </tr>\n",
              "    <tr>\n",
              "      <th>3</th>\n",
              "      <td>0.270140</td>\n",
              "      <td>0.714286</td>\n",
              "      <td>0.390110</td>\n",
              "      <td>0.000000</td>\n",
              "      <td>2.572349e-04</td>\n",
              "      <td>0.000000</td>\n",
              "      <td>0.000000</td>\n",
              "      <td>0.000077</td>\n",
              "      <td>2.350550e-04</td>\n",
              "    </tr>\n",
              "    <tr>\n",
              "      <th>4</th>\n",
              "      <td>0.301389</td>\n",
              "      <td>0.142857</td>\n",
              "      <td>0.618132</td>\n",
              "      <td>0.041667</td>\n",
              "      <td>6.430872e-05</td>\n",
              "      <td>0.000000</td>\n",
              "      <td>0.000000</td>\n",
              "      <td>0.000077</td>\n",
              "      <td>6.604707e-06</td>\n",
              "    </tr>\n",
              "  </tbody>\n",
              "</table>\n",
              "</div>"
            ],
            "text/plain": [
              "    address      year       day  ...    looped  neighbors        income\n",
              "0  0.060220  0.571429  0.989011  ...  0.000000   0.000077  1.253188e-03\n",
              "1  0.575391  0.571429  0.104396  ...  0.076435   0.000077  3.570605e-05\n",
              "2  0.409402  0.428571  0.557692  ...  0.000897   0.000077  2.070690e-08\n",
              "3  0.270140  0.714286  0.390110  ...  0.000000   0.000077  2.350550e-04\n",
              "4  0.301389  0.142857  0.618132  ...  0.000000   0.000077  6.604707e-06\n",
              "\n",
              "[5 rows x 9 columns]"
            ]
          },
          "metadata": {
            "tags": []
          },
          "execution_count": 71
        }
      ]
    },
    {
      "cell_type": "code",
      "metadata": {
        "id": "gGqhvGef75S8"
      },
      "source": [
        "X = df.values\r\n",
        "y = data['label'].values"
      ],
      "execution_count": 72,
      "outputs": []
    },
    {
      "cell_type": "code",
      "metadata": {
        "colab": {
          "base_uri": "https://localhost:8080/"
        },
        "id": "nFll7zpT8KSa",
        "outputId": "2ce650d5-3eb6-42da-f7da-4ce86c93d3f0"
      },
      "source": [
        "X_shape = X.shape\r\n",
        "X_type  = type(X)\r\n",
        "y_shape = y.shape\r\n",
        "y_type  = type(y)\r\n",
        "print(f'X: Type-{X_type}, Shape-{X_shape}')\r\n",
        "print(f'y: Type-{y_type}, Shape-{y_shape}')"
      ],
      "execution_count": 73,
      "outputs": [
        {
          "output_type": "stream",
          "text": [
            "X: Type-<class 'numpy.ndarray'>, Shape-(2916697, 9)\n",
            "y: Type-<class 'numpy.ndarray'>, Shape-(2916697,)\n"
          ],
          "name": "stdout"
        }
      ]
    },
    {
      "cell_type": "code",
      "metadata": {
        "colab": {
          "base_uri": "https://localhost:8080/"
        },
        "id": "Ly5bvBN4EgPd",
        "outputId": "d635c7bf-fb6c-4c71-c5a1-9f9f9c26335a"
      },
      "source": [
        "print(LE.classes_.shape)\r\n",
        "LE.classes_"
      ],
      "execution_count": 78,
      "outputs": [
        {
          "output_type": "stream",
          "text": [
            "(29,)\n"
          ],
          "name": "stdout"
        },
        {
          "output_type": "execute_result",
          "data": {
            "text/plain": [
              "array(['montrealAPT', 'montrealComradeCircle', 'montrealCryptConsole',\n",
              "       'montrealCryptXXX', 'montrealCryptoLocker',\n",
              "       'montrealCryptoTorLocker2015', 'montrealDMALocker',\n",
              "       'montrealDMALockerv3', 'montrealEDA2', 'montrealFlyper',\n",
              "       'montrealGlobe', 'montrealGlobeImposter', 'montrealGlobev3',\n",
              "       'montrealJigSaw', 'montrealNoobCrypt', 'montrealRazy',\n",
              "       'montrealSam', 'montrealSamSam', 'montrealVenusLocker',\n",
              "       'montrealWannaCry', 'montrealXLocker', 'montrealXLockerv5.0',\n",
              "       'montrealXTPLocker', 'paduaCryptoWall', 'paduaJigsaw',\n",
              "       'paduaKeRanger', 'princetonCerber', 'princetonLocky', 'white'],\n",
              "      dtype=object)"
            ]
          },
          "metadata": {
            "tags": []
          },
          "execution_count": 78
        }
      ]
    },
    {
      "cell_type": "code",
      "metadata": {
        "id": "RoFyctl0EXE5"
      },
      "source": [
        "# Converting Multi-Class to Binary Classification Problem \r\n",
        "for i in range(y.shape[0]):\r\n",
        "  if(y[i] == 28):\r\n",
        "    y[i] = 0\r\n",
        "  else:\r\n",
        "    y[i] = 1"
      ],
      "execution_count": 88,
      "outputs": []
    },
    {
      "cell_type": "code",
      "metadata": {
        "colab": {
          "base_uri": "https://localhost:8080/"
        },
        "id": "KT_REDgnFZJm",
        "outputId": "e4c23876-2201-4b37-dd79-d51b3138fb37"
      },
      "source": [
        "np.unique(y)"
      ],
      "execution_count": 91,
      "outputs": [
        {
          "output_type": "execute_result",
          "data": {
            "text/plain": [
              "array([0, 1])"
            ]
          },
          "metadata": {
            "tags": []
          },
          "execution_count": 91
        }
      ]
    },
    {
      "cell_type": "code",
      "metadata": {
        "id": "_wYIrPaM8KVA"
      },
      "source": [
        "from sklearn.model_selection import train_test_split\r\n",
        "X_train, X_test, y_train, y_test = train_test_split(X, y, test_size=0.50, random_state=123)"
      ],
      "execution_count": 107,
      "outputs": []
    },
    {
      "cell_type": "code",
      "metadata": {
        "colab": {
          "base_uri": "https://localhost:8080/"
        },
        "id": "IPDFheUz8KXw",
        "outputId": "41ece262-491c-43ac-ae96-7c6a2e4ced82"
      },
      "source": [
        "print(X_train.shape, y_train.shape)\r\n",
        "print(X_test.shape, y_test.shape)"
      ],
      "execution_count": 108,
      "outputs": [
        {
          "output_type": "stream",
          "text": [
            "(1458348, 9) (1458348,)\n",
            "(1458349, 9) (1458349,)\n"
          ],
          "name": "stdout"
        }
      ]
    },
    {
      "cell_type": "markdown",
      "metadata": {
        "id": "pvH8L0Pq-rzO"
      },
      "source": [
        "2. AI/Machine Learning/Deep Learning Model Training"
      ]
    },
    {
      "cell_type": "code",
      "metadata": {
        "id": "6_ql-h8t75Zp"
      },
      "source": [
        "from sklearn.neural_network import MLPClassifier\r\n",
        "from sklearn.tree import DecisionTreeClassifier"
      ],
      "execution_count": 94,
      "outputs": []
    },
    {
      "cell_type": "code",
      "metadata": {
        "colab": {
          "base_uri": "https://localhost:8080/"
        },
        "id": "MSeM7lIkH99M",
        "outputId": "325cfe98-050a-4e2e-94d9-7a3c203500aa"
      },
      "source": [
        "from sklearn.externals import joblib"
      ],
      "execution_count": 95,
      "outputs": [
        {
          "output_type": "stream",
          "text": [
            "/usr/local/lib/python3.6/dist-packages/sklearn/externals/joblib/__init__.py:15: FutureWarning: sklearn.externals.joblib is deprecated in 0.21 and will be removed in 0.23. Please import this functionality directly from joblib, which can be installed with: pip install joblib. If this warning is raised when loading pickled models, you may need to re-serialize those models with scikit-learn 0.21+.\n",
            "  warnings.warn(msg, category=FutureWarning)\n"
          ],
          "name": "stderr"
        }
      ]
    },
    {
      "cell_type": "code",
      "metadata": {
        "colab": {
          "base_uri": "https://localhost:8080/"
        },
        "id": "kkaJMrbn-SlP",
        "outputId": "fd56158b-0642-4b00-a133-577258a1c5c7"
      },
      "source": [
        "%%time \r\n",
        "# importing the multiprocessing module \r\n",
        "import multiprocessing \r\n",
        "import os \r\n",
        "\r\n",
        "def worker1(X_train, y_train):\r\n",
        "  model1 = DecisionTreeClassifier(criterion=\"entropy\").fit(X_train, y_train)\r\n",
        "  joblib.dump(model1, 'model1.pkl') \r\n",
        "  print(\"Done!\")\r\n",
        "def worker2(X_train, y_train):\r\n",
        "  model2 = MLPClassifier().fit(X_train, y_train)\r\n",
        "  joblib.dump(model2, 'model2.pkl') \r\n",
        "  print(\"Done!\")\r\n",
        "\r\n",
        "if __name__ == \"__main__\": \r\n",
        "  # printing main program process id \r\n",
        "  print(\"ID of main process: {}\".format(os.getpid())) \r\n",
        "\r\n",
        "  # creating processes \r\n",
        "  p1 = multiprocessing.Process(target=worker1) \r\n",
        "  p2 = multiprocessing.Process(target=worker2) \r\n",
        "\r\n",
        "  # starting processes \r\n",
        "  p1.start() \r\n",
        "  p2.start() \r\n",
        "\r\n",
        "  # process IDs \r\n",
        "  print(\"ID of process p1: {}\".format(p1.pid)) \r\n",
        "  print(\"ID of process p2: {}\".format(p2.pid)) \r\n",
        "\r\n",
        "  # wait until processes are finished \r\n",
        "  p1.join() \r\n",
        "  p2.join() \r\n",
        "\r\n",
        "  # both processes finished \r\n",
        "  worker1(X_train, y_train)\r\n",
        "  worker2(X_train, y_train)\r\n",
        "  print(\"Both processes finished execution!\") "
      ],
      "execution_count": 97,
      "outputs": [
        {
          "output_type": "stream",
          "text": [
            "ID of main process: 65\n"
          ],
          "name": "stdout"
        },
        {
          "output_type": "stream",
          "text": [
            "Process Process-3:\n",
            "Traceback (most recent call last):\n",
            "  File \"/usr/lib/python3.6/multiprocessing/process.py\", line 258, in _bootstrap\n",
            "    self.run()\n",
            "  File \"/usr/lib/python3.6/multiprocessing/process.py\", line 93, in run\n",
            "    self._target(*self._args, **self._kwargs)\n",
            "Process Process-4:\n",
            "Traceback (most recent call last):\n",
            "  File \"/usr/lib/python3.6/multiprocessing/process.py\", line 258, in _bootstrap\n",
            "    self.run()\n",
            "  File \"/usr/lib/python3.6/multiprocessing/process.py\", line 93, in run\n",
            "    self._target(*self._args, **self._kwargs)\n",
            "TypeError: worker2() missing 2 required positional arguments: 'X_train' and 'y_train'\n",
            "TypeError: worker1() missing 2 required positional arguments: 'X_train' and 'y_train'\n"
          ],
          "name": "stderr"
        },
        {
          "output_type": "stream",
          "text": [
            "ID of process p1: 589\n",
            "ID of process p2: 592\n",
            "Done!\n",
            "Done!\n",
            "Both processes finished execution!\n",
            "CPU times: user 8min 9s, sys: 6min 16s, total: 14min 26s\n",
            "Wall time: 7min 32s\n"
          ],
          "name": "stdout"
        }
      ]
    },
    {
      "cell_type": "markdown",
      "metadata": {
        "id": "ckLmgjKtLFcV"
      },
      "source": [
        "3. AI/Machine Learning/Deep Learning Model Testing"
      ]
    },
    {
      "cell_type": "code",
      "metadata": {
        "colab": {
          "base_uri": "https://localhost:8080/"
        },
        "id": "Hna2Xo_q9KaO",
        "outputId": "0818ed61-4428-413f-a3d6-e5c8471a3a8e"
      },
      "source": [
        "%%time \r\n",
        "# importing the multiprocessing module \r\n",
        "import multiprocessing \r\n",
        "import os \r\n",
        "\r\n",
        "def worker1(X_test):\r\n",
        "  model1 = joblib.load('model1.pkl')\r\n",
        "  pred1 = model1.predict_proba(X_test)\r\n",
        "  print(\"Done!\")\r\n",
        "  return pred1\r\n",
        "def worker2(X_test):\r\n",
        "  model2 = joblib.load('model2.pkl')\r\n",
        "  pred2 = model2.predict_proba(X_test)\r\n",
        "  print(\"Done!\")\r\n",
        "  return pred2\r\n",
        "\r\n",
        "if __name__ == \"__main__\": \r\n",
        "  # printing main program process id \r\n",
        "  print(\"ID of main process: {}\".format(os.getpid())) \r\n",
        "\r\n",
        "  # creating processes \r\n",
        "  p1 = multiprocessing.Process(target=worker1) \r\n",
        "  p2 = multiprocessing.Process(target=worker2) \r\n",
        "\r\n",
        "  # starting processes \r\n",
        "  p1.start() \r\n",
        "  p2.start() \r\n",
        "\r\n",
        "  # process IDs \r\n",
        "  print(\"ID of process p1: {}\".format(p1.pid)) \r\n",
        "  print(\"ID of process p2: {}\".format(p2.pid)) \r\n",
        "\r\n",
        "  # wait until processes are finished \r\n",
        "  p1.join() \r\n",
        "  p2.join() \r\n",
        "\r\n",
        "  # both processes finished \r\n",
        "  pred1 = worker1(X_test)\r\n",
        "  pred2 = worker2(X_test)\r\n",
        "  print(\"Both processes finished execution!\") "
      ],
      "execution_count": 127,
      "outputs": [
        {
          "output_type": "stream",
          "text": [
            "ID of main process: 65\n"
          ],
          "name": "stdout"
        },
        {
          "output_type": "stream",
          "text": [
            "Process Process-9:\n",
            "Process Process-10:\n",
            "Traceback (most recent call last):\n",
            "  File \"/usr/lib/python3.6/multiprocessing/process.py\", line 258, in _bootstrap\n",
            "    self.run()\n",
            "Traceback (most recent call last):\n",
            "  File \"/usr/lib/python3.6/multiprocessing/process.py\", line 258, in _bootstrap\n",
            "    self.run()\n",
            "  File \"/usr/lib/python3.6/multiprocessing/process.py\", line 93, in run\n",
            "    self._target(*self._args, **self._kwargs)\n",
            "  File \"/usr/lib/python3.6/multiprocessing/process.py\", line 93, in run\n",
            "    self._target(*self._args, **self._kwargs)\n",
            "TypeError: worker1() missing 1 required positional argument: 'X_test'\n",
            "TypeError: worker2() missing 1 required positional argument: 'X_test'\n"
          ],
          "name": "stderr"
        },
        {
          "output_type": "stream",
          "text": [
            "ID of process p1: 912\n",
            "ID of process p2: 915\n",
            "Done!\n",
            "Done!\n",
            "Both processes finished execution!\n",
            "CPU times: user 11.2 s, sys: 1.87 s, total: 13 s\n",
            "Wall time: 7 s\n"
          ],
          "name": "stdout"
        }
      ]
    },
    {
      "cell_type": "code",
      "metadata": {
        "colab": {
          "base_uri": "https://localhost:8080/"
        },
        "id": "JFU-fTTtQvOt",
        "outputId": "f820582e-b85a-4e0f-abb2-9ff0bcec76b3"
      },
      "source": [
        "len = y_test.shape[0]\r\n",
        "len"
      ],
      "execution_count": 128,
      "outputs": [
        {
          "output_type": "execute_result",
          "data": {
            "text/plain": [
              "1458349"
            ]
          },
          "metadata": {
            "tags": []
          },
          "execution_count": 128
        }
      ]
    },
    {
      "cell_type": "code",
      "metadata": {
        "id": "xiwj70NF9Kev"
      },
      "source": [
        "# Average Voting\r\n",
        "y_final = []\r\n",
        "for i in range(len):\r\n",
        "  y_final.append((pred1[i]+pred2[i])/2)"
      ],
      "execution_count": 131,
      "outputs": []
    },
    {
      "cell_type": "code",
      "metadata": {
        "id": "K2Xaj-2JRpOf"
      },
      "source": [
        "y_pred = []\r\n",
        "for i in y_final:\r\n",
        "  i = i.tolist()\r\n",
        "  y_pred.append(i.index(max(i)))"
      ],
      "execution_count": 138,
      "outputs": []
    },
    {
      "cell_type": "code",
      "metadata": {
        "id": "EYDo8xVRLu7q"
      },
      "source": [
        "from sklearn.metrics import accuracy_score"
      ],
      "execution_count": 140,
      "outputs": []
    },
    {
      "cell_type": "code",
      "metadata": {
        "id": "pW46YOpH9Kh4"
      },
      "source": [
        "acc = accuracy_score(y_test, y_pred)"
      ],
      "execution_count": 141,
      "outputs": []
    },
    {
      "cell_type": "code",
      "metadata": {
        "colab": {
          "base_uri": "https://localhost:8080/"
        },
        "id": "f2cJLul6wHw9",
        "outputId": "1ba67197-087c-402f-d468-970f4180e73d"
      },
      "source": [
        "print(\"Final Accuracy (Average Score of Predict_Proba of both Models):\",acc)"
      ],
      "execution_count": 143,
      "outputs": [
        {
          "output_type": "stream",
          "text": [
            "Final Accuracy (Average Score of Predict_Proba of both Models): 0.980272211932809\n"
          ],
          "name": "stdout"
        }
      ]
    },
    {
      "cell_type": "code",
      "metadata": {
        "id": "9SWxC0BFS4mR"
      },
      "source": [
        ""
      ],
      "execution_count": null,
      "outputs": []
    }
  ]
}