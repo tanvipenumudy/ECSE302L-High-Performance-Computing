{
  "nbformat": 4,
  "nbformat_minor": 0,
  "metadata": {
    "colab": {
      "name": "E18CSE187_Lab6.ipynb",
      "provenance": [],
      "collapsed_sections": []
    },
    "kernelspec": {
      "name": "python3",
      "display_name": "Python 3"
    },
    "accelerator": "GPU"
  },
  "cells": [
    {
      "cell_type": "markdown",
      "metadata": {
        "id": "Z-Gn17VmOg6B"
      },
      "source": [
        "## HPC Lab-6\r\n",
        "Name: Tanvi Penumudy\r\n",
        "\r\n",
        "Enroll No: E18CSE187"
      ]
    },
    {
      "cell_type": "code",
      "metadata": {
        "id": "fcisyZuf18gi"
      },
      "source": [
        "import multiprocessing \r\n",
        "import os \r\n",
        "import time\r\n",
        "import numpy as np\r\n",
        "import matplotlib.pyplot as plt"
      ],
      "execution_count": 1,
      "outputs": []
    },
    {
      "cell_type": "markdown",
      "metadata": {
        "id": "y0kUn-oF8kJ1"
      },
      "source": [
        "I. Serial Implementation\r\n"
      ]
    },
    {
      "cell_type": "code",
      "metadata": {
        "id": "pK_xh7pEubt4"
      },
      "source": [
        "times = []"
      ],
      "execution_count": 2,
      "outputs": []
    },
    {
      "cell_type": "code",
      "metadata": {
        "id": "kyk3rD7G2Dn4"
      },
      "source": [
        "import random\r\n",
        "X = [random.choices(range(9,999), k=100) for _ in range(100)]\r\n",
        "Y = [random.choices(range(9,999), k=100) for _ in range(100)]\r\n",
        "result = (np.zeros((100,100))).tolist()"
      ],
      "execution_count": 3,
      "outputs": []
    },
    {
      "cell_type": "code",
      "metadata": {
        "colab": {
          "base_uri": "https://localhost:8080/"
        },
        "id": "faaWFnpp2DtG",
        "outputId": "dad79f49-300f-47eb-e756-f930129b3b23"
      },
      "source": [
        "# (int, 100)\r\n",
        "%%time\r\n",
        "t = time.time()\r\n",
        "for i in range(len(X)):\r\n",
        "   for j in range(len(Y[0])):\r\n",
        "       for k in range(len(Y)):\r\n",
        "           result[i][j] += X[i][k] * Y[k][j]\r\n",
        "times.append(time.time()-t)"
      ],
      "execution_count": 4,
      "outputs": [
        {
          "output_type": "stream",
          "text": [
            "CPU times: user 320 ms, sys: 1.32 ms, total: 322 ms\n",
            "Wall time: 322 ms\n"
          ],
          "name": "stdout"
        }
      ]
    },
    {
      "cell_type": "code",
      "metadata": {
        "id": "BeS4QWG-EefT"
      },
      "source": [
        "U = [random.choices(range(9,999), k=250) for _ in range(250)]\r\n",
        "V = [random.choices(range(9,999), k=250) for _ in range(250)]\r\n",
        "def zeros(rows,cols):\r\n",
        "  return [([0]*cols) for i in range(rows)]\r\n",
        "r = (np.zeros((250,250))).tolist()"
      ],
      "execution_count": 5,
      "outputs": []
    },
    {
      "cell_type": "code",
      "metadata": {
        "colab": {
          "base_uri": "https://localhost:8080/"
        },
        "id": "stZJBWfqEepd",
        "outputId": "a6778c0f-9764-4d79-d1a8-11a5cce92ae6"
      },
      "source": [
        "# (int, 250)\r\n",
        "%%time\r\n",
        "t = time.time()\r\n",
        "for i in range(len(U)):\r\n",
        "   for j in range(len(V[0])):\r\n",
        "       for k in range(len(V)):\r\n",
        "           r[i][j] += U[i][k] * V[k][j]\r\n",
        "times.append(time.time()-t)"
      ],
      "execution_count": 6,
      "outputs": [
        {
          "output_type": "stream",
          "text": [
            "CPU times: user 5.44 s, sys: 0 ns, total: 5.44 s\n",
            "Wall time: 5.44 s\n"
          ],
          "name": "stdout"
        }
      ]
    },
    {
      "cell_type": "code",
      "metadata": {
        "id": "SkCEvXFyDIN_"
      },
      "source": [
        "K = (np.random.uniform(9,999,[100,100])).tolist()\r\n",
        "L = (np.random.uniform(9,999,[100,100])).tolist()\r\n",
        "res = np.zeros((100,100)).tolist()"
      ],
      "execution_count": 7,
      "outputs": []
    },
    {
      "cell_type": "code",
      "metadata": {
        "colab": {
          "base_uri": "https://localhost:8080/"
        },
        "id": "U1cCYsh5DIZc",
        "outputId": "e493a9c6-4c04-46ed-f831-55b4817b3a34"
      },
      "source": [
        "# (float, 100)\r\n",
        "%%time\r\n",
        "t = time.time()\r\n",
        "for i in range(len(K)):\r\n",
        "   for j in range(len(L[0])):\r\n",
        "       for k in range(len(L)):\r\n",
        "           res[i][j] += K[i][k] * L[k][j]\r\n",
        "times.append(time.time()-t)"
      ],
      "execution_count": 8,
      "outputs": [
        {
          "output_type": "stream",
          "text": [
            "CPU times: user 316 ms, sys: 939 µs, total: 317 ms\n",
            "Wall time: 319 ms\n"
          ],
          "name": "stdout"
        }
      ]
    },
    {
      "cell_type": "code",
      "metadata": {
        "id": "SAFr3OxfwOnD"
      },
      "source": [
        "P = (np.random.uniform(9,999,[250,250])).tolist()\r\n",
        "QQ = (np.random.uniform(9,999,[250,250])).tolist()\r\n",
        "res = np.zeros((250,250)).tolist()"
      ],
      "execution_count": 71,
      "outputs": []
    },
    {
      "cell_type": "code",
      "metadata": {
        "colab": {
          "base_uri": "https://localhost:8080/"
        },
        "id": "-Log29OBwO3c",
        "outputId": "ba8b4cdf-aa8e-4814-d9e7-bfa4eec63d8d"
      },
      "source": [
        "# (float, 250)\r\n",
        "%%time\r\n",
        "t = time.time()\r\n",
        "for i in range(len(P)):\r\n",
        "   for j in range(len(QQ[0])):\r\n",
        "       for k in range(len(QQ)):\r\n",
        "           res[i][j] += P[i][k] * QQ[k][j]\r\n",
        "times.append(time.time()-t)"
      ],
      "execution_count": 10,
      "outputs": [
        {
          "output_type": "stream",
          "text": [
            "CPU times: user 4.98 s, sys: 2.75 ms, total: 4.99 s\n",
            "Wall time: 4.99 s\n"
          ],
          "name": "stdout"
        }
      ]
    },
    {
      "cell_type": "code",
      "metadata": {
        "colab": {
          "base_uri": "https://localhost:8080/",
          "height": 320
        },
        "id": "aZKVAUXOxp8g",
        "outputId": "e02f08a0-2ce8-498a-b286-5f1ceb85c182"
      },
      "source": [
        "figure = plt.figure(figsize=(5,5))\r\n",
        "plt.bar([\"(int, 100)\",\"(int, 250)\",\"(float, 100)\",\"(float, 250)\"], times)\r\n",
        "plt.show()"
      ],
      "execution_count": 11,
      "outputs": [
        {
          "output_type": "display_data",
          "data": {
            "image/png": "[encoded data removed]",
            "text/plain": [
              "<Figure size 360x360 with 1 Axes>"
            ]
          },
          "metadata": {
            "tags": [],
            "needs_background": "light"
          }
        }
      ]
    },
    {
      "cell_type": "markdown",
      "metadata": {
        "id": "OZWF-iQk8s0P"
      },
      "source": [
        "II. Data Parallel Implementation "
      ]
    },
    {
      "cell_type": "code",
      "metadata": {
        "id": "7CzqXz45zEo1"
      },
      "source": [
        "times = []"
      ],
      "execution_count": 12,
      "outputs": []
    },
    {
      "cell_type": "code",
      "metadata": {
        "colab": {
          "base_uri": "https://localhost:8080/"
        },
        "id": "4wUop3m63bTt",
        "outputId": "06e5d013-aa19-4998-9876-c30c5f1e90c2"
      },
      "source": [
        "# (int, 100)\r\n",
        "%%time\r\n",
        "t = time.time()\r\n",
        "def worker1(X, Y, result): \r\n",
        "  for i in range(len(X)):\r\n",
        "   for j in range(len(Y[0])):\r\n",
        "       for k in range(len(Y)):\r\n",
        "           result[i][j] += X[i][k] * Y[k][j]\r\n",
        "#  return result\r\n",
        "\r\n",
        "def worker2(X, Y, result):\r\n",
        "  for i in range(len(X)):\r\n",
        "   for j in range(len(Y[0])):\r\n",
        "       for k in range(len(Y)):\r\n",
        "           result[i][j] += X[i][k] * Y[k][j]\r\n",
        "#  return result\r\n",
        "  \r\n",
        "if __name__ == \"__main__\": \r\n",
        "\r\n",
        "  # creating processes \r\n",
        "  p1 = multiprocessing.Process(target=worker1) \r\n",
        "  p2 = multiprocessing.Process(target=worker2)\r\n",
        "\r\n",
        "  # starting processes \r\n",
        "  p1.start() \r\n",
        "  p2.start()\r\n",
        "\r\n",
        "  # wait until processes are finished \r\n",
        "  p1.join() \r\n",
        "  p2.join() \r\n",
        "\r\n",
        "  # both processes finished \r\n",
        "  worker1(X[:50],Y,np.zeros((50,100)))\r\n",
        "  worker2(X[50:],Y,np.zeros((50,100)))\r\n",
        "  print(\"Done!\")\r\n",
        "times.append(time.time()-t)"
      ],
      "execution_count": 13,
      "outputs": [
        {
          "output_type": "stream",
          "text": [
            "Process Process-1:\n",
            "Traceback (most recent call last):\n",
            "  File \"/usr/lib/python3.7/multiprocessing/process.py\", line 297, in _bootstrap\n",
            "    self.run()\n",
            "Process Process-2:\n",
            "  File \"/usr/lib/python3.7/multiprocessing/process.py\", line 99, in run\n",
            "    self._target(*self._args, **self._kwargs)\n",
            "Traceback (most recent call last):\n",
            "TypeError: worker1() missing 3 required positional arguments: 'X', 'Y', and 'result'\n",
            "  File \"/usr/lib/python3.7/multiprocessing/process.py\", line 297, in _bootstrap\n",
            "    self.run()\n",
            "  File \"/usr/lib/python3.7/multiprocessing/process.py\", line 99, in run\n",
            "    self._target(*self._args, **self._kwargs)\n",
            "TypeError: worker2() missing 3 required positional arguments: 'X', 'Y', and 'result'\n"
          ],
          "name": "stderr"
        },
        {
          "output_type": "stream",
          "text": [
            "Done!\n",
            "CPU times: user 918 ms, sys: 12.9 ms, total: 930 ms\n",
            "Wall time: 960 ms\n"
          ],
          "name": "stdout"
        }
      ]
    },
    {
      "cell_type": "code",
      "metadata": {
        "colab": {
          "base_uri": "https://localhost:8080/"
        },
        "id": "xiDFTmWBFKkO",
        "outputId": "65400266-cff9-42e6-a215-a7eac661b8ee"
      },
      "source": [
        "# (int, 250)\r\n",
        "%%time\r\n",
        "t = time.time()\r\n",
        "def worker1(X, Y, result): \r\n",
        "  for i in range(len(X)):\r\n",
        "   for j in range(len(Y[0])):\r\n",
        "       for k in range(len(Y)):\r\n",
        "           result[i][j] += X[i][k] * Y[k][j]\r\n",
        "#  return result\r\n",
        "\r\n",
        "def worker2(X, Y, result):\r\n",
        "  for i in range(len(X)):\r\n",
        "   for j in range(len(Y[0])):\r\n",
        "       for k in range(len(Y)):\r\n",
        "           result[i][j] += X[i][k] * Y[k][j]\r\n",
        "#  return result\r\n",
        "  \r\n",
        "if __name__ == \"__main__\": \r\n",
        "\r\n",
        "  # creating processes \r\n",
        "  p1 = multiprocessing.Process(target=worker1) \r\n",
        "  p2 = multiprocessing.Process(target=worker2)\r\n",
        "\r\n",
        "  # starting processes \r\n",
        "  p1.start() \r\n",
        "  p2.start()\r\n",
        "\r\n",
        "  # wait until processes are finished \r\n",
        "  p1.join() \r\n",
        "  p2.join() \r\n",
        "\r\n",
        "  # both processes finished \r\n",
        "  worker1(U[:125],V,np.zeros((125,250)))\r\n",
        "  worker2(U[125:],V,np.zeros((125,250)))\r\n",
        "  print(\"Done!\")\r\n",
        "times.append(time.time()-t)"
      ],
      "execution_count": 14,
      "outputs": [
        {
          "output_type": "stream",
          "text": [
            "Process Process-3:\n",
            "Process Process-4:\n",
            "Traceback (most recent call last):\n",
            "  File \"/usr/lib/python3.7/multiprocessing/process.py\", line 297, in _bootstrap\n",
            "    self.run()\n",
            "  File \"/usr/lib/python3.7/multiprocessing/process.py\", line 99, in run\n",
            "    self._target(*self._args, **self._kwargs)\n",
            "Traceback (most recent call last):\n",
            "TypeError: worker2() missing 3 required positional arguments: 'X', 'Y', and 'result'\n",
            "  File \"/usr/lib/python3.7/multiprocessing/process.py\", line 297, in _bootstrap\n",
            "    self.run()\n",
            "  File \"/usr/lib/python3.7/multiprocessing/process.py\", line 99, in run\n",
            "    self._target(*self._args, **self._kwargs)\n",
            "TypeError: worker1() missing 3 required positional arguments: 'X', 'Y', and 'result'\n"
          ],
          "name": "stderr"
        },
        {
          "output_type": "stream",
          "text": [
            "Done!\n",
            "CPU times: user 13.6 s, sys: 14.9 ms, total: 13.6 s\n",
            "Wall time: 13.6 s\n"
          ],
          "name": "stdout"
        }
      ]
    },
    {
      "cell_type": "code",
      "metadata": {
        "colab": {
          "base_uri": "https://localhost:8080/"
        },
        "id": "BimIaxNKFmu3",
        "outputId": "3ad43f3a-5935-49db-f5f2-25579d4b67dd"
      },
      "source": [
        "# (float, 100)\r\n",
        "%%time\r\n",
        "t = time.time()\r\n",
        "def worker1(X, Y, result): \r\n",
        "  for i in range(len(X)):\r\n",
        "   for j in range(len(Y[0])):\r\n",
        "       for k in range(len(Y)):\r\n",
        "           result[i][j] += X[i][k] * Y[k][j]\r\n",
        "#  return result\r\n",
        "\r\n",
        "def worker2(X, Y, result):\r\n",
        "  for i in range(len(X)):\r\n",
        "   for j in range(len(Y[0])):\r\n",
        "       for k in range(len(Y)):\r\n",
        "           result[i][j] += X[i][k] * Y[k][j]\r\n",
        "#  return result\r\n",
        "  \r\n",
        "if __name__ == \"__main__\": \r\n",
        "\r\n",
        "  # creating processes \r\n",
        "  p1 = multiprocessing.Process(target=worker1) \r\n",
        "  p2 = multiprocessing.Process(target=worker2)\r\n",
        "\r\n",
        "  # starting processes \r\n",
        "  p1.start() \r\n",
        "  p2.start()\r\n",
        "\r\n",
        "  # wait until processes are finished \r\n",
        "  p1.join() \r\n",
        "  p2.join() \r\n",
        "\r\n",
        "  # both processes finished \r\n",
        "  worker1(K[:50],L,np.zeros((50,100)))\r\n",
        "  worker2(K[50:],L,np.zeros((50,100)))\r\n",
        "  print(\"Done!\")\r\n",
        "times.append(time.time()-t)"
      ],
      "execution_count": 15,
      "outputs": [
        {
          "output_type": "stream",
          "text": [
            "Process Process-5:\n",
            "Traceback (most recent call last):\n",
            "  File \"/usr/lib/python3.7/multiprocessing/process.py\", line 297, in _bootstrap\n",
            "    self.run()\n",
            "Process Process-6:\n",
            "  File \"/usr/lib/python3.7/multiprocessing/process.py\", line 99, in run\n",
            "    self._target(*self._args, **self._kwargs)\n",
            "TypeError: worker1() missing 3 required positional arguments: 'X', 'Y', and 'result'\n",
            "Traceback (most recent call last):\n",
            "  File \"/usr/lib/python3.7/multiprocessing/process.py\", line 297, in _bootstrap\n",
            "    self.run()\n",
            "  File \"/usr/lib/python3.7/multiprocessing/process.py\", line 99, in run\n",
            "    self._target(*self._args, **self._kwargs)\n",
            "TypeError: worker2() missing 3 required positional arguments: 'X', 'Y', and 'result'\n"
          ],
          "name": "stderr"
        },
        {
          "output_type": "stream",
          "text": [
            "Done!\n",
            "CPU times: user 732 ms, sys: 11 ms, total: 743 ms\n",
            "Wall time: 776 ms\n"
          ],
          "name": "stdout"
        }
      ]
    },
    {
      "cell_type": "code",
      "metadata": {
        "colab": {
          "base_uri": "https://localhost:8080/"
        },
        "id": "OmzGt82TzdRf",
        "outputId": "761289b2-c53f-4c07-b3bd-87d3c8fef2e7"
      },
      "source": [
        "# (float, 250)\r\n",
        "%%time\r\n",
        "t = time.time()\r\n",
        "def worker1(X, Y, result): \r\n",
        "  for i in range(len(X)):\r\n",
        "   for j in range(len(Y[0])):\r\n",
        "       for k in range(len(Y)):\r\n",
        "           result[i][j] += X[i][k] * Y[k][j]\r\n",
        "#  return result\r\n",
        "\r\n",
        "def worker2(X, Y, result):\r\n",
        "  for i in range(len(X)):\r\n",
        "   for j in range(len(Y[0])):\r\n",
        "       for k in range(len(Y)):\r\n",
        "           result[i][j] += X[i][k] * Y[k][j]\r\n",
        "#  return result\r\n",
        "  \r\n",
        "if __name__ == \"__main__\": \r\n",
        "\r\n",
        "  # creating processes \r\n",
        "  p1 = multiprocessing.Process(target=worker1) \r\n",
        "  p2 = multiprocessing.Process(target=worker2)\r\n",
        "\r\n",
        "  # starting processes \r\n",
        "  p1.start() \r\n",
        "  p2.start()\r\n",
        "\r\n",
        "  # wait until processes are finished \r\n",
        "  p1.join() \r\n",
        "  p2.join() \r\n",
        "\r\n",
        "  # both processes finished \r\n",
        "  worker1(P[:125],QQ,np.zeros((125,250)))\r\n",
        "  worker2(P[125:],QQ,np.zeros((125,250)))\r\n",
        "  print(\"Done!\")\r\n",
        "times.append(time.time()-t)"
      ],
      "execution_count": 16,
      "outputs": [
        {
          "output_type": "stream",
          "text": [
            "Process Process-7:\n",
            "Traceback (most recent call last):\n",
            "Process Process-8:\n",
            "  File \"/usr/lib/python3.7/multiprocessing/process.py\", line 297, in _bootstrap\n",
            "    self.run()\n",
            "Traceback (most recent call last):\n",
            "  File \"/usr/lib/python3.7/multiprocessing/process.py\", line 99, in run\n",
            "    self._target(*self._args, **self._kwargs)\n",
            "  File \"/usr/lib/python3.7/multiprocessing/process.py\", line 297, in _bootstrap\n",
            "    self.run()\n",
            "TypeError: worker1() missing 3 required positional arguments: 'X', 'Y', and 'result'\n",
            "  File \"/usr/lib/python3.7/multiprocessing/process.py\", line 99, in run\n",
            "    self._target(*self._args, **self._kwargs)\n",
            "TypeError: worker2() missing 3 required positional arguments: 'X', 'Y', and 'result'\n"
          ],
          "name": "stderr"
        },
        {
          "output_type": "stream",
          "text": [
            "Done!\n",
            "CPU times: user 10.9 s, sys: 12 ms, total: 10.9 s\n",
            "Wall time: 10.9 s\n"
          ],
          "name": "stdout"
        }
      ]
    },
    {
      "cell_type": "code",
      "metadata": {
        "colab": {
          "base_uri": "https://localhost:8080/",
          "height": 320
        },
        "id": "OKFaOhdZ0JTK",
        "outputId": "177d1d5f-7bd8-4dcc-aa78-02acf6b70977"
      },
      "source": [
        "figure = plt.figure(figsize=(5,5))\r\n",
        "plt.bar([\"(int, 100)\",\"(int, 250)\",\"(float, 100)\",\"(float, 250)\"], times)\r\n",
        "plt.show()"
      ],
      "execution_count": 17,
      "outputs": [
        {
          "output_type": "display_data",
          "data": {
            "image/png": "[encoded data removed]",
            "text/plain": [
              "<Figure size 360x360 with 1 Axes>"
            ]
          },
          "metadata": {
            "tags": [],
            "needs_background": "light"
          }
        }
      ]
    },
    {
      "cell_type": "markdown",
      "metadata": {
        "id": "wzcifDVS8xtV"
      },
      "source": [
        "III. Numpy"
      ]
    },
    {
      "cell_type": "code",
      "metadata": {
        "id": "SOTPSEcf0r8i"
      },
      "source": [
        "times = []"
      ],
      "execution_count": 18,
      "outputs": []
    },
    {
      "cell_type": "code",
      "metadata": {
        "id": "2GQLdap03oZr"
      },
      "source": [
        "A = np.array(X)\r\n",
        "B = np.array(Y)"
      ],
      "execution_count": 19,
      "outputs": []
    },
    {
      "cell_type": "code",
      "metadata": {
        "colab": {
          "base_uri": "https://localhost:8080/"
        },
        "id": "6IWbfE-i3oe8",
        "outputId": "c62c56ed-9ba5-44a0-c56c-84ce2a2e31e2"
      },
      "source": [
        "# (int, 100)\r\n",
        "%%time\r\n",
        "t = time.time()\r\n",
        "np.dot(A,B)\r\n",
        "times.append(time.time()-t)"
      ],
      "execution_count": 20,
      "outputs": [
        {
          "output_type": "stream",
          "text": [
            "CPU times: user 2.76 ms, sys: 0 ns, total: 2.76 ms\n",
            "Wall time: 2.2 ms\n"
          ],
          "name": "stdout"
        }
      ]
    },
    {
      "cell_type": "code",
      "metadata": {
        "id": "w5ux11NgGECa"
      },
      "source": [
        "C = np.array(U)\r\n",
        "D = np.array(V)"
      ],
      "execution_count": 21,
      "outputs": []
    },
    {
      "cell_type": "code",
      "metadata": {
        "colab": {
          "base_uri": "https://localhost:8080/"
        },
        "id": "0yQBIPcxGEPw",
        "outputId": "534baa12-5157-4d56-8c16-28744d3457dd"
      },
      "source": [
        "# (int, 250)\r\n",
        "%%time\r\n",
        "t = time.time()\r\n",
        "np.dot(C,D)\r\n",
        "times.append(time.time()-t)"
      ],
      "execution_count": 22,
      "outputs": [
        {
          "output_type": "stream",
          "text": [
            "CPU times: user 27.8 ms, sys: 0 ns, total: 27.8 ms\n",
            "Wall time: 28.5 ms\n"
          ],
          "name": "stdout"
        }
      ]
    },
    {
      "cell_type": "code",
      "metadata": {
        "id": "S7QiyYJbGEaO"
      },
      "source": [
        "E = np.array(K)\r\n",
        "F = np.array(L)"
      ],
      "execution_count": 23,
      "outputs": []
    },
    {
      "cell_type": "code",
      "metadata": {
        "colab": {
          "base_uri": "https://localhost:8080/"
        },
        "id": "Yppk8WVHGElU",
        "outputId": "793d1df6-eeb5-401c-c3d4-4ea896ab101b"
      },
      "source": [
        "# (float, 100)\r\n",
        "%%time\r\n",
        "t = time.time()\r\n",
        "np.dot(E,F)\r\n",
        "times.append(time.time()-t)"
      ],
      "execution_count": 24,
      "outputs": [
        {
          "output_type": "stream",
          "text": [
            "CPU times: user 1.6 ms, sys: 5 ms, total: 6.6 ms\n",
            "Wall time: 7.11 ms\n"
          ],
          "name": "stdout"
        }
      ]
    },
    {
      "cell_type": "code",
      "metadata": {
        "id": "vXJcwhFu1ALE"
      },
      "source": [
        "G = np.array(P)\r\n",
        "H = np.array(QQ)"
      ],
      "execution_count": 25,
      "outputs": []
    },
    {
      "cell_type": "code",
      "metadata": {
        "colab": {
          "base_uri": "https://localhost:8080/"
        },
        "id": "Qch_XQC41AYg",
        "outputId": "3acf0252-1883-47eb-fdf3-deaabd322c7f"
      },
      "source": [
        "# (float, 250)\r\n",
        "%%time\r\n",
        "t = time.time()\r\n",
        "np.dot(G,H)\r\n",
        "times.append(time.time()-t)"
      ],
      "execution_count": 26,
      "outputs": [
        {
          "output_type": "stream",
          "text": [
            "CPU times: user 3.34 ms, sys: 1.02 ms, total: 4.36 ms\n",
            "Wall time: 2.47 ms\n"
          ],
          "name": "stdout"
        }
      ]
    },
    {
      "cell_type": "code",
      "metadata": {
        "colab": {
          "base_uri": "https://localhost:8080/",
          "height": 320
        },
        "id": "bkVBBeWN1KvG",
        "outputId": "f98b7d7a-e4c2-4252-a20f-4dc69beb324f"
      },
      "source": [
        "figure = plt.figure(figsize=(5,5))\r\n",
        "plt.bar([\"(int, 100)\",\"(int, 250)\",\"(float, 100)\",\"(float, 250)\"], times)\r\n",
        "plt.show()"
      ],
      "execution_count": 27,
      "outputs": [
        {
          "output_type": "display_data",
          "data": {
            "image/png": "[encoded data removed]",
            "text/plain": [
              "<Figure size 360x360 with 1 Axes>"
            ]
          },
          "metadata": {
            "tags": [],
            "needs_background": "light"
          }
        }
      ]
    },
    {
      "cell_type": "markdown",
      "metadata": {
        "id": "zAl8n5XL8-Lt"
      },
      "source": [
        "IV. Scipy\r\n"
      ]
    },
    {
      "cell_type": "code",
      "metadata": {
        "id": "D6v-O4G489M3"
      },
      "source": [
        "from scipy import linalg"
      ],
      "execution_count": 28,
      "outputs": []
    },
    {
      "cell_type": "code",
      "metadata": {
        "id": "-yNlXznW1cfq"
      },
      "source": [
        "times = []"
      ],
      "execution_count": 29,
      "outputs": []
    },
    {
      "cell_type": "code",
      "metadata": {
        "colab": {
          "base_uri": "https://localhost:8080/"
        },
        "id": "aB9TbEj889kI",
        "outputId": "4f781fc4-f105-43d2-e6da-953ebf2bb7b1"
      },
      "source": [
        "# (int, 100)\r\n",
        "%%time\r\n",
        "t = time.time()\r\n",
        "A.dot(B)\r\n",
        "times.append(time.time()-t)"
      ],
      "execution_count": 30,
      "outputs": [
        {
          "output_type": "stream",
          "text": [
            "CPU times: user 2.81 ms, sys: 0 ns, total: 2.81 ms\n",
            "Wall time: 4.29 ms\n"
          ],
          "name": "stdout"
        }
      ]
    },
    {
      "cell_type": "code",
      "metadata": {
        "colab": {
          "base_uri": "https://localhost:8080/"
        },
        "id": "wpfx_eHLGlay",
        "outputId": "12aba9e7-c9d7-4b5a-81b4-622a65ba1efe"
      },
      "source": [
        "# (int, 250)\r\n",
        "%%time\r\n",
        "t = time.time()\r\n",
        "C.dot(D)\r\n",
        "times.append(time.time()-t)"
      ],
      "execution_count": 31,
      "outputs": [
        {
          "output_type": "stream",
          "text": [
            "CPU times: user 30.1 ms, sys: 0 ns, total: 30.1 ms\n",
            "Wall time: 33.4 ms\n"
          ],
          "name": "stdout"
        }
      ]
    },
    {
      "cell_type": "code",
      "metadata": {
        "colab": {
          "base_uri": "https://localhost:8080/"
        },
        "id": "SeQwVf_HGlpA",
        "outputId": "628e1152-4b3b-452b-834d-eb637c0709eb"
      },
      "source": [
        "# (float, 100)\r\n",
        "%%time\r\n",
        "t = time.time()\r\n",
        "E.dot(F)\r\n",
        "times.append(time.time()-t)"
      ],
      "execution_count": 32,
      "outputs": [
        {
          "output_type": "stream",
          "text": [
            "CPU times: user 952 µs, sys: 18 µs, total: 970 µs\n",
            "Wall time: 760 µs\n"
          ],
          "name": "stdout"
        }
      ]
    },
    {
      "cell_type": "code",
      "metadata": {
        "colab": {
          "base_uri": "https://localhost:8080/"
        },
        "id": "9a76phdh1w80",
        "outputId": "8366b081-9436-4af1-84dd-8021dbe6cf31"
      },
      "source": [
        "# (float, 250)\r\n",
        "%%time\r\n",
        "t = time.time()\r\n",
        "G.dot(H)\r\n",
        "times.append(time.time()-t)"
      ],
      "execution_count": 33,
      "outputs": [
        {
          "output_type": "stream",
          "text": [
            "CPU times: user 3.61 ms, sys: 1.99 ms, total: 5.6 ms\n",
            "Wall time: 5.62 ms\n"
          ],
          "name": "stdout"
        }
      ]
    },
    {
      "cell_type": "code",
      "metadata": {
        "colab": {
          "base_uri": "https://localhost:8080/",
          "height": 323
        },
        "id": "m02LBu--12Rw",
        "outputId": "eacf050d-ea5c-4e4a-d0d4-e3aa07f755f9"
      },
      "source": [
        "figure = plt.figure(figsize=(5,5))\r\n",
        "plt.bar([\"(int, 100)\",\"(int, 250)\",\"(float, 100)\",\"(float, 250)\"], times)\r\n",
        "plt.show()"
      ],
      "execution_count": 34,
      "outputs": [
        {
          "output_type": "display_data",
          "data": {
            "image/png": "[encoded data removed]",
            "text/plain": [
              "<Figure size 360x360 with 1 Axes>"
            ]
          },
          "metadata": {
            "tags": [],
            "needs_background": "light"
          }
        }
      ]
    },
    {
      "cell_type": "markdown",
      "metadata": {
        "id": "_CnIBWST9KSf"
      },
      "source": [
        "V. Pandas"
      ]
    },
    {
      "cell_type": "code",
      "metadata": {
        "id": "_OMkM_wB9QpD"
      },
      "source": [
        "import pandas as pd"
      ],
      "execution_count": 35,
      "outputs": []
    },
    {
      "cell_type": "code",
      "metadata": {
        "id": "tI7U7KwR1WW_"
      },
      "source": [
        "times = []"
      ],
      "execution_count": 36,
      "outputs": []
    },
    {
      "cell_type": "code",
      "metadata": {
        "id": "6CdwwFrn9Qzr"
      },
      "source": [
        "A = pd.DataFrame(X)\r\n",
        "B = pd.DataFrame(Y)"
      ],
      "execution_count": 37,
      "outputs": []
    },
    {
      "cell_type": "code",
      "metadata": {
        "colab": {
          "base_uri": "https://localhost:8080/"
        },
        "id": "VAi13Fw09Q9M",
        "outputId": "dfd3a6f4-b0ea-4578-c13d-491d5d643839"
      },
      "source": [
        "# (int, 100)\r\n",
        "%%time\r\n",
        "t = time.time()\r\n",
        "A.dot(B)\r\n",
        "times.append(time.time()-t)"
      ],
      "execution_count": 38,
      "outputs": [
        {
          "output_type": "stream",
          "text": [
            "CPU times: user 3.26 ms, sys: 6 µs, total: 3.26 ms\n",
            "Wall time: 3.36 ms\n"
          ],
          "name": "stdout"
        }
      ]
    },
    {
      "cell_type": "code",
      "metadata": {
        "id": "Ngy-6holG6u3"
      },
      "source": [
        "C = pd.DataFrame(U)\r\n",
        "D = pd.DataFrame(V)"
      ],
      "execution_count": 39,
      "outputs": []
    },
    {
      "cell_type": "code",
      "metadata": {
        "colab": {
          "base_uri": "https://localhost:8080/"
        },
        "id": "vCATF4QJG6-2",
        "outputId": "8414e2c2-f2e2-48ab-bbc4-1459d0c396d3"
      },
      "source": [
        "# (int, 250)\r\n",
        "%%time\r\n",
        "t = time.time()\r\n",
        "C.dot(D)\r\n",
        "times.append(time.time()-t)"
      ],
      "execution_count": 40,
      "outputs": [
        {
          "output_type": "stream",
          "text": [
            "CPU times: user 22.9 ms, sys: 974 µs, total: 23.9 ms\n",
            "Wall time: 26.3 ms\n"
          ],
          "name": "stdout"
        }
      ]
    },
    {
      "cell_type": "code",
      "metadata": {
        "id": "ZsBTJ87qG7LA"
      },
      "source": [
        "E = pd.DataFrame(K)\r\n",
        "F = pd.DataFrame(L)"
      ],
      "execution_count": 41,
      "outputs": []
    },
    {
      "cell_type": "code",
      "metadata": {
        "colab": {
          "base_uri": "https://localhost:8080/"
        },
        "id": "xN4nnAL9G7W_",
        "outputId": "0904ccb8-cbd7-4fdd-eae2-4827ad9d79b7"
      },
      "source": [
        "# (float, 100)\r\n",
        "%%time\r\n",
        "t = time.time()\r\n",
        "E.dot(F)\r\n",
        "times.append(time.time()-t)"
      ],
      "execution_count": 42,
      "outputs": [
        {
          "output_type": "stream",
          "text": [
            "CPU times: user 1.55 ms, sys: 5.02 ms, total: 6.57 ms\n",
            "Wall time: 6.99 ms\n"
          ],
          "name": "stdout"
        }
      ]
    },
    {
      "cell_type": "code",
      "metadata": {
        "id": "TpDDBzmQCdFT"
      },
      "source": [
        "G = pd.DataFrame(P)\r\n",
        "H = pd.DataFrame(QQ)"
      ],
      "execution_count": 43,
      "outputs": []
    },
    {
      "cell_type": "code",
      "metadata": {
        "colab": {
          "base_uri": "https://localhost:8080/"
        },
        "id": "0UkmGLH32KgI",
        "outputId": "1b48e67a-7aeb-495a-ca0c-7c744e3e8ded"
      },
      "source": [
        "# (float, 250)\r\n",
        "%%time\r\n",
        "t = time.time()\r\n",
        "G.dot(H)\r\n",
        "times.append(time.time()-t)"
      ],
      "execution_count": 44,
      "outputs": [
        {
          "output_type": "stream",
          "text": [
            "CPU times: user 4.25 ms, sys: 6 µs, total: 4.26 ms\n",
            "Wall time: 2.48 ms\n"
          ],
          "name": "stdout"
        }
      ]
    },
    {
      "cell_type": "code",
      "metadata": {
        "colab": {
          "base_uri": "https://localhost:8080/",
          "height": 320
        },
        "id": "vhOU_7fr2Nk4",
        "outputId": "28376f99-39d9-4f36-d64e-8e6713231190"
      },
      "source": [
        "figure = plt.figure(figsize=(5,5))\r\n",
        "plt.bar([\"(int, 100)\",\"(int, 250)\",\"(float, 100)\",\"(float, 250)\"], times)\r\n",
        "plt.show()"
      ],
      "execution_count": 45,
      "outputs": [
        {
          "output_type": "display_data",
          "data": {
            "image/png": "[encoded data removed]",
            "text/plain": [
              "<Figure size 360x360 with 1 Axes>"
            ]
          },
          "metadata": {
            "tags": [],
            "needs_background": "light"
          }
        }
      ]
    },
    {
      "cell_type": "markdown",
      "metadata": {
        "id": "ekHq8Krr9YIh"
      },
      "source": [
        "VI. Sympy (Crashes at Large N)"
      ]
    },
    {
      "cell_type": "code",
      "metadata": {
        "id": "Zt5SujNe3oiB"
      },
      "source": [
        "from sympy import *"
      ],
      "execution_count": 46,
      "outputs": []
    },
    {
      "cell_type": "code",
      "metadata": {
        "id": "M0udU-Yb2SxQ"
      },
      "source": [
        "times = []"
      ],
      "execution_count": 47,
      "outputs": []
    },
    {
      "cell_type": "code",
      "metadata": {
        "id": "6lSnUM1w3bZ_"
      },
      "source": [
        "A = Matrix([random.choices(range(9,999), k=50) for _ in range(50)])\r\n",
        "B = Matrix([random.choices(range(9,999), k=50) for _ in range(50)])"
      ],
      "execution_count": 48,
      "outputs": []
    },
    {
      "cell_type": "code",
      "metadata": {
        "colab": {
          "base_uri": "https://localhost:8080/"
        },
        "id": "OxxvvyE95bkJ",
        "outputId": "321c95d1-9a83-40bf-ae58-3c225c31bea9"
      },
      "source": [
        "# (int, 50)\r\n",
        "%%time\r\n",
        "t = time.time()\r\n",
        "A*B\r\n",
        "times.append(time.time()-t)"
      ],
      "execution_count": 49,
      "outputs": [
        {
          "output_type": "stream",
          "text": [
            "CPU times: user 1.21 s, sys: 23.9 ms, total: 1.23 s\n",
            "Wall time: 1.23 s\n"
          ],
          "name": "stdout"
        }
      ]
    },
    {
      "cell_type": "code",
      "metadata": {
        "id": "m_3bFQwjHdaV"
      },
      "source": [
        "C = Matrix([random.choices(range(9,999), k=100) for _ in range(100)])\r\n",
        "D = Matrix([random.choices(range(9,999), k=100) for _ in range(100)])"
      ],
      "execution_count": 50,
      "outputs": []
    },
    {
      "cell_type": "code",
      "metadata": {
        "colab": {
          "base_uri": "https://localhost:8080/"
        },
        "id": "syC8ZhIZHdno",
        "outputId": "2d455c49-c2c5-4497-c5fa-bea2e31ec94e"
      },
      "source": [
        "# (int, 100)\r\n",
        "%%time\r\n",
        "t = time.time()\r\n",
        "C*D\r\n",
        "times.append(time.time()-t)"
      ],
      "execution_count": 51,
      "outputs": [
        {
          "output_type": "stream",
          "text": [
            "CPU times: user 8.84 s, sys: 136 ms, total: 8.98 s\n",
            "Wall time: 8.98 s\n"
          ],
          "name": "stdout"
        }
      ]
    },
    {
      "cell_type": "code",
      "metadata": {
        "id": "hTzJQ0ztHdxw"
      },
      "source": [
        "E = Matrix((np.random.uniform(9,999,[50,50])).tolist())\r\n",
        "F = Matrix((np.random.uniform(9,999,[50,50])).tolist())"
      ],
      "execution_count": 52,
      "outputs": []
    },
    {
      "cell_type": "code",
      "metadata": {
        "colab": {
          "base_uri": "https://localhost:8080/"
        },
        "id": "7Y-f6N2aHd-a",
        "outputId": "3987674b-cab4-4d8d-d634-cd71dcc5905c"
      },
      "source": [
        "# (float, 50)\r\n",
        "%%time\r\n",
        "t = time.time()\r\n",
        "E*F\r\n",
        "times.append(time.time()-t)"
      ],
      "execution_count": 53,
      "outputs": [
        {
          "output_type": "stream",
          "text": [
            "CPU times: user 2.51 s, sys: 14.9 ms, total: 2.53 s\n",
            "Wall time: 2.53 s\n"
          ],
          "name": "stdout"
        }
      ]
    },
    {
      "cell_type": "code",
      "metadata": {
        "id": "4Tw5j2YG2lbC"
      },
      "source": [
        "G = Matrix((np.random.uniform(9,999,[100,100])).tolist())\r\n",
        "H = Matrix((np.random.uniform(9,999,[100,100])).tolist())"
      ],
      "execution_count": 54,
      "outputs": []
    },
    {
      "cell_type": "code",
      "metadata": {
        "colab": {
          "base_uri": "https://localhost:8080/"
        },
        "id": "uSnVLFAK2lol",
        "outputId": "5de70a29-aad8-438f-8372-9a70cb6d1db6"
      },
      "source": [
        "# (float, 100)\r\n",
        "%%time\r\n",
        "t = time.time()\r\n",
        "G*H\r\n",
        "times.append(time.time()-t)"
      ],
      "execution_count": 55,
      "outputs": [
        {
          "output_type": "stream",
          "text": [
            "CPU times: user 19 s, sys: 18.8 ms, total: 19.1 s\n",
            "Wall time: 19.1 s\n"
          ],
          "name": "stdout"
        }
      ]
    },
    {
      "cell_type": "code",
      "metadata": {
        "colab": {
          "base_uri": "https://localhost:8080/",
          "height": 323
        },
        "id": "gZo0k12X2wqM",
        "outputId": "f77bc6cb-3035-4f22-858a-1d2ee1cfe9b6"
      },
      "source": [
        "figure = plt.figure(figsize=(5,5))\r\n",
        "plt.bar([\"(int, 50)\",\"(int, 100)\",\"(float, 50)\",\"(float, 100)\"], times)\r\n",
        "plt.show()"
      ],
      "execution_count": 56,
      "outputs": [
        {
          "output_type": "display_data",
          "data": {
            "image/png": "[encoded data removed]",
            "text/plain": [
              "<Figure size 360x360 with 1 Axes>"
            ]
          },
          "metadata": {
            "tags": [],
            "needs_background": "light"
          }
        }
      ]
    },
    {
      "cell_type": "markdown",
      "metadata": {
        "id": "oirabFH49eyj"
      },
      "source": [
        "VII. Numba"
      ]
    },
    {
      "cell_type": "code",
      "metadata": {
        "id": "ruA-D-W59h0I"
      },
      "source": [
        "import numba\r\n",
        "from numba import jit"
      ],
      "execution_count": 57,
      "outputs": []
    },
    {
      "cell_type": "code",
      "metadata": {
        "id": "Jsvj7gvU3E45"
      },
      "source": [
        "times = []"
      ],
      "execution_count": 58,
      "outputs": []
    },
    {
      "cell_type": "code",
      "metadata": {
        "id": "a-F0BQ0a9h_4"
      },
      "source": [
        "@jit('void(int64[:,:],int64[:,:],int64[:,:])')\r\n",
        "def numba_mul(matrix1,matrix2,rmatrix):\r\n",
        "  for i in range(len(matrix1)):\r\n",
        "    for j in range(len(matrix2[0])):\r\n",
        "      for k in range(len(matrix2)):\r\n",
        "        rmatrix[i][j] += matrix1[i][k] * matrix2[k][j]"
      ],
      "execution_count": 59,
      "outputs": []
    },
    {
      "cell_type": "code",
      "metadata": {
        "id": "IP5aIg8o9iJX"
      },
      "source": [
        "matrix1 = np.array(X)\r\n",
        "matrix2 = np.array(Y)\r\n",
        "rmatrix = np.zeros((100,100)).astype(int)"
      ],
      "execution_count": 60,
      "outputs": []
    },
    {
      "cell_type": "code",
      "metadata": {
        "colab": {
          "base_uri": "https://localhost:8080/"
        },
        "id": "v-FW8I-E9iSv",
        "outputId": "550b0495-1d7f-419d-8d15-3b0debf68b8d"
      },
      "source": [
        "# (int, 100)\r\n",
        "%%time\r\n",
        "t = time.time()\r\n",
        "numba_mul(matrix1,matrix2,rmatrix)\r\n",
        "times.append(time.time()-t)"
      ],
      "execution_count": 61,
      "outputs": [
        {
          "output_type": "stream",
          "text": [
            "CPU times: user 2.71 ms, sys: 959 µs, total: 3.67 ms\n",
            "Wall time: 6.61 ms\n"
          ],
          "name": "stdout"
        }
      ]
    },
    {
      "cell_type": "code",
      "metadata": {
        "id": "pXoFQdADIKHK"
      },
      "source": [
        "matrix1 = np.array(U)\r\n",
        "matrix2 = np.array(V)\r\n",
        "rmatrix = np.zeros((250,250)).astype(int)"
      ],
      "execution_count": 62,
      "outputs": []
    },
    {
      "cell_type": "code",
      "metadata": {
        "colab": {
          "base_uri": "https://localhost:8080/"
        },
        "id": "SZO7V-JWIKVe",
        "outputId": "d558a00a-6028-4775-e85f-9d3b294f1a8e"
      },
      "source": [
        "# (int, 250)\r\n",
        "%%time\r\n",
        "t = time.time()\r\n",
        "numba_mul(matrix1,matrix2,rmatrix)\r\n",
        "times.append(time.time()-t)"
      ],
      "execution_count": 63,
      "outputs": [
        {
          "output_type": "stream",
          "text": [
            "CPU times: user 37.7 ms, sys: 0 ns, total: 37.7 ms\n",
            "Wall time: 37.6 ms\n"
          ],
          "name": "stdout"
        }
      ]
    },
    {
      "cell_type": "code",
      "metadata": {
        "id": "xTrYVMliIKgN"
      },
      "source": [
        "@jit('void(float64[:,:],float64[:,:],float64[:,:])')\r\n",
        "def numba_mul(matrix1,matrix2,rmatrix):\r\n",
        "  for i in range(len(matrix1)):\r\n",
        "    for j in range(len(matrix2[0])):\r\n",
        "      for k in range(len(matrix2)):\r\n",
        "        rmatrix[i][j] += matrix1[i][k] * matrix2[k][j]\r\n",
        "\r\n",
        "matrix1 = np.array(K)\r\n",
        "matrix2 = np.array(L)\r\n",
        "rmatrix = np.zeros((100,100))"
      ],
      "execution_count": 68,
      "outputs": []
    },
    {
      "cell_type": "code",
      "metadata": {
        "colab": {
          "base_uri": "https://localhost:8080/"
        },
        "id": "wWIver5rIOVI",
        "outputId": "3bd0ad44-1b0b-4d1a-84b9-d77085d65ad5"
      },
      "source": [
        "# (float, 100)\r\n",
        "%%time\r\n",
        "t = time.time()\r\n",
        "numba_mul(matrix1,matrix2,rmatrix)\r\n",
        "times.append(time.time()-t)"
      ],
      "execution_count": 65,
      "outputs": [
        {
          "output_type": "stream",
          "text": [
            "CPU times: user 3.48 ms, sys: 0 ns, total: 3.48 ms\n",
            "Wall time: 3.39 ms\n"
          ],
          "name": "stdout"
        }
      ]
    },
    {
      "cell_type": "code",
      "metadata": {
        "id": "S0j7-NWY7G17"
      },
      "source": [
        "matrix1 = np.array(P)\r\n",
        "matrix2 = np.array(QQ)\r\n",
        "rmatrix = np.zeros((250,250))"
      ],
      "execution_count": 72,
      "outputs": []
    },
    {
      "cell_type": "code",
      "metadata": {
        "colab": {
          "base_uri": "https://localhost:8080/"
        },
        "id": "RE33vfBG7HEf",
        "outputId": "0f57b05e-67ab-4830-c783-9590e0d7209c"
      },
      "source": [
        "# (float, 250)\r\n",
        "%%time\r\n",
        "t = time.time()\r\n",
        "numba_mul(matrix1,matrix2,rmatrix)\r\n",
        "times.append(time.time()-t)"
      ],
      "execution_count": 73,
      "outputs": [
        {
          "output_type": "stream",
          "text": [
            "CPU times: user 53 ms, sys: 1e+03 µs, total: 54 ms\n",
            "Wall time: 54.2 ms\n"
          ],
          "name": "stdout"
        }
      ]
    },
    {
      "cell_type": "code",
      "metadata": {
        "colab": {
          "base_uri": "https://localhost:8080/",
          "height": 320
        },
        "id": "NZv8gNZQ7HOV",
        "outputId": "78c0e3bf-d141-43c9-e4b9-f5bd3fa15847"
      },
      "source": [
        "figure = plt.figure(figsize=(5,5))\r\n",
        "plt.bar([\"(int, 100)\",\"(int, 250)\",\"(float, 100)\",\"(float, 250)\"], times)\r\n",
        "plt.show()"
      ],
      "execution_count": 74,
      "outputs": [
        {
          "output_type": "display_data",
          "data": {
            "image/png": "[encoded data removed]",
            "text/plain": [
              "<Figure size 360x360 with 1 Axes>"
            ]
          },
          "metadata": {
            "tags": [],
            "needs_background": "light"
          }
        }
      ]
    },
    {
      "cell_type": "markdown",
      "metadata": {
        "id": "m7OBXz8z9xBg"
      },
      "source": [
        "VIII. Linalg"
      ]
    },
    {
      "cell_type": "code",
      "metadata": {
        "colab": {
          "base_uri": "https://localhost:8080/"
        },
        "id": "gKeGGfl9-nFg",
        "outputId": "20e0720f-46c5-4879-d123-db73a7039836"
      },
      "source": [
        "!pip install linalg"
      ],
      "execution_count": 75,
      "outputs": [
        {
          "output_type": "stream",
          "text": [
            "Requirement already satisfied: linalg in /usr/local/lib/python3.7/dist-packages (1.0.4)\n"
          ],
          "name": "stdout"
        }
      ]
    },
    {
      "cell_type": "code",
      "metadata": {
        "id": "xiw-PQgt90yW"
      },
      "source": [
        "import linalg"
      ],
      "execution_count": 76,
      "outputs": []
    },
    {
      "cell_type": "code",
      "metadata": {
        "id": "yK81AUPD7X4X"
      },
      "source": [
        "times = []"
      ],
      "execution_count": 77,
      "outputs": []
    },
    {
      "cell_type": "code",
      "metadata": {
        "id": "ZB1yBG84909P"
      },
      "source": [
        "A = linalg.Matrix(X) \r\n",
        "B = linalg.Matrix(Y) "
      ],
      "execution_count": 78,
      "outputs": []
    },
    {
      "cell_type": "code",
      "metadata": {
        "colab": {
          "base_uri": "https://localhost:8080/"
        },
        "id": "-SGeNP1k91Ga",
        "outputId": "eb09304c-af42-44de-c132-167f0d69779f"
      },
      "source": [
        "# (int, 100)\r\n",
        "%%time\r\n",
        "t = time.time()\r\n",
        "A@B\r\n",
        "times.append(time.time()-t)"
      ],
      "execution_count": 79,
      "outputs": [
        {
          "output_type": "stream",
          "text": [
            "CPU times: user 125 ms, sys: 2.01 ms, total: 128 ms\n",
            "Wall time: 131 ms\n"
          ],
          "name": "stdout"
        }
      ]
    },
    {
      "cell_type": "code",
      "metadata": {
        "id": "Vyv5W5JCKZBs"
      },
      "source": [
        "C = linalg.Matrix(U) \r\n",
        "D = linalg.Matrix(V) "
      ],
      "execution_count": 80,
      "outputs": []
    },
    {
      "cell_type": "code",
      "metadata": {
        "colab": {
          "base_uri": "https://localhost:8080/"
        },
        "id": "oeeLg8xzKZMz",
        "outputId": "9863f3b3-ecb9-43a7-d40a-0f07b4187cff"
      },
      "source": [
        "# (int, 250)\r\n",
        "%%time\r\n",
        "t = time.time()\r\n",
        "C@D\r\n",
        "times.append(time.time()-t)"
      ],
      "execution_count": 81,
      "outputs": [
        {
          "output_type": "stream",
          "text": [
            "CPU times: user 1.8 s, sys: 6 ms, total: 1.8 s\n",
            "Wall time: 1.8 s\n"
          ],
          "name": "stdout"
        }
      ]
    },
    {
      "cell_type": "code",
      "metadata": {
        "id": "rqsvt4JNKZZL"
      },
      "source": [
        "E = linalg.Matrix(K) \r\n",
        "F = linalg.Matrix(L) "
      ],
      "execution_count": 82,
      "outputs": []
    },
    {
      "cell_type": "code",
      "metadata": {
        "colab": {
          "base_uri": "https://localhost:8080/"
        },
        "id": "rjVikF23KZmN",
        "outputId": "da3b3b1e-1745-4a46-e337-b71f12225a11"
      },
      "source": [
        "# (float, 100)\r\n",
        "%%time\r\n",
        "t = time.time()\r\n",
        "E@F\r\n",
        "times.append(time.time()-t)"
      ],
      "execution_count": 83,
      "outputs": [
        {
          "output_type": "stream",
          "text": [
            "CPU times: user 99.8 ms, sys: 975 µs, total: 101 ms\n",
            "Wall time: 105 ms\n"
          ],
          "name": "stdout"
        }
      ]
    },
    {
      "cell_type": "code",
      "metadata": {
        "id": "HOgzWXYQ7tNq"
      },
      "source": [
        "G = linalg.Matrix(P) \r\n",
        "H = linalg.Matrix(QQ)"
      ],
      "execution_count": 84,
      "outputs": []
    },
    {
      "cell_type": "code",
      "metadata": {
        "colab": {
          "base_uri": "https://localhost:8080/"
        },
        "id": "OyMxZFhS7taH",
        "outputId": "a86f4203-6c09-409d-ae30-49f2a995d40d"
      },
      "source": [
        "# (float, 250)\r\n",
        "%%time\r\n",
        "t = time.time()\r\n",
        "G@H\r\n",
        "times.append(time.time()-t)"
      ],
      "execution_count": 85,
      "outputs": [
        {
          "output_type": "stream",
          "text": [
            "CPU times: user 1.58 s, sys: 939 µs, total: 1.58 s\n",
            "Wall time: 1.59 s\n"
          ],
          "name": "stdout"
        }
      ]
    },
    {
      "cell_type": "code",
      "metadata": {
        "colab": {
          "base_uri": "https://localhost:8080/",
          "height": 320
        },
        "id": "vlFJcFc57tkR",
        "outputId": "06edcdd2-9530-4713-e021-f60e3a2fb1b4"
      },
      "source": [
        "figure = plt.figure(figsize=(5,5))\r\n",
        "plt.bar([\"(int, 100)\",\"(int, 250)\",\"(float, 100)\",\"(float, 250)\"], times)\r\n",
        "plt.show()"
      ],
      "execution_count": 86,
      "outputs": [
        {
          "output_type": "display_data",
          "data": {
            "image/png": "[encoded data removed]",
            "text/plain": [
              "<Figure size 360x360 with 1 Axes>"
            ]
          },
          "metadata": {
            "tags": [],
            "needs_background": "light"
          }
        }
      ]
    },
    {
      "cell_type": "markdown",
      "metadata": {
        "id": "bq2hcXUn973G"
      },
      "source": [
        "IX. Pymatrix"
      ]
    },
    {
      "cell_type": "code",
      "metadata": {
        "colab": {
          "base_uri": "https://localhost:8080/"
        },
        "id": "Rd3Dw8GV-QJu",
        "outputId": "e3be9f09-d99e-4cdf-a4a5-d59359a27a5f"
      },
      "source": [
        "!pip install pymatrix"
      ],
      "execution_count": 87,
      "outputs": [
        {
          "output_type": "stream",
          "text": [
            "Requirement already satisfied: pymatrix in /usr/local/lib/python3.7/dist-packages (3.0.1)\n"
          ],
          "name": "stdout"
        }
      ]
    },
    {
      "cell_type": "code",
      "metadata": {
        "id": "yqvj5-L1-QT3"
      },
      "source": [
        "from pymatrix import matrix"
      ],
      "execution_count": 88,
      "outputs": []
    },
    {
      "cell_type": "code",
      "metadata": {
        "id": "CiNyEBuC8EM6"
      },
      "source": [
        "times = []"
      ],
      "execution_count": 89,
      "outputs": []
    },
    {
      "cell_type": "code",
      "metadata": {
        "id": "8FrrP_Js-Vsq"
      },
      "source": [
        "A = matrix(X)\r\n",
        "B = matrix(Y)"
      ],
      "execution_count": 90,
      "outputs": []
    },
    {
      "cell_type": "code",
      "metadata": {
        "colab": {
          "base_uri": "https://localhost:8080/"
        },
        "id": "vDq-mVwi-Qc0",
        "outputId": "43669b22-b79a-4f52-d084-2d3a99794aea"
      },
      "source": [
        "# (int, 100)\r\n",
        "%%time\r\n",
        "t = time.time()\r\n",
        "A*B\r\n",
        "times.append(time.time()-t)"
      ],
      "execution_count": 91,
      "outputs": [
        {
          "output_type": "stream",
          "text": [
            "CPU times: user 666 ms, sys: 1.01 ms, total: 667 ms\n",
            "Wall time: 671 ms\n"
          ],
          "name": "stdout"
        }
      ]
    },
    {
      "cell_type": "code",
      "metadata": {
        "id": "2igZi84rKw3p"
      },
      "source": [
        "C = matrix(U)\r\n",
        "D = matrix(V)"
      ],
      "execution_count": 92,
      "outputs": []
    },
    {
      "cell_type": "code",
      "metadata": {
        "colab": {
          "base_uri": "https://localhost:8080/"
        },
        "id": "dzNDsdmaKxDC",
        "outputId": "d5400037-4096-4ec1-bcde-28e1f4123d3e"
      },
      "source": [
        "# (int, 250)\r\n",
        "%%time\r\n",
        "t = time.time()\r\n",
        "C*D\r\n",
        "times.append(time.time()-t)"
      ],
      "execution_count": 93,
      "outputs": [
        {
          "output_type": "stream",
          "text": [
            "CPU times: user 10.4 s, sys: 0 ns, total: 10.4 s\n",
            "Wall time: 10.4 s\n"
          ],
          "name": "stdout"
        }
      ]
    },
    {
      "cell_type": "code",
      "metadata": {
        "id": "CtlVW-QfKxNg"
      },
      "source": [
        "E = matrix(K)\r\n",
        "F = matrix(L)"
      ],
      "execution_count": 94,
      "outputs": []
    },
    {
      "cell_type": "code",
      "metadata": {
        "colab": {
          "base_uri": "https://localhost:8080/"
        },
        "id": "k9r4pceyKxaw",
        "outputId": "257e2978-42e9-4964-fb7e-192deb5dec69"
      },
      "source": [
        "# (float, 100)\r\n",
        "%%time\r\n",
        "t = time.time()\r\n",
        "E*F\r\n",
        "times.append(time.time()-t)"
      ],
      "execution_count": 95,
      "outputs": [
        {
          "output_type": "stream",
          "text": [
            "CPU times: user 630 ms, sys: 16 µs, total: 630 ms\n",
            "Wall time: 633 ms\n"
          ],
          "name": "stdout"
        }
      ]
    },
    {
      "cell_type": "code",
      "metadata": {
        "id": "oMJDs0hf8YyD"
      },
      "source": [
        "G = matrix(P)\r\n",
        "H = matrix(QQ)"
      ],
      "execution_count": 96,
      "outputs": []
    },
    {
      "cell_type": "code",
      "metadata": {
        "colab": {
          "base_uri": "https://localhost:8080/"
        },
        "id": "Gm4q-yub8Y8O",
        "outputId": "8e3df7e8-0e42-4ff9-82b7-c00aea49636e"
      },
      "source": [
        "# (float, 250)\r\n",
        "%%time\r\n",
        "t = time.time()\r\n",
        "G*H\r\n",
        "times.append(time.time()-t)"
      ],
      "execution_count": 97,
      "outputs": [
        {
          "output_type": "stream",
          "text": [
            "CPU times: user 9.69 s, sys: 851 µs, total: 9.69 s\n",
            "Wall time: 9.7 s\n"
          ],
          "name": "stdout"
        }
      ]
    },
    {
      "cell_type": "code",
      "metadata": {
        "colab": {
          "base_uri": "https://localhost:8080/",
          "height": 320
        },
        "id": "-pnYvytD8ZGd",
        "outputId": "073823a4-354c-46f2-e58f-9badec155cba"
      },
      "source": [
        "figure = plt.figure(figsize=(5,5))\r\n",
        "plt.bar([\"(int, 100)\",\"(int, 250)\",\"(float, 100)\",\"(float, 250)\"], times)\r\n",
        "plt.show()"
      ],
      "execution_count": 98,
      "outputs": [
        {
          "output_type": "display_data",
          "data": {
            "image/png": "[encoded data removed]",
            "text/plain": [
              "<Figure size 360x360 with 1 Axes>"
            ]
          },
          "metadata": {
            "tags": [],
            "needs_background": "light"
          }
        }
      ]
    },
    {
      "cell_type": "markdown",
      "metadata": {
        "id": "ld9IzzEB-c_x"
      },
      "source": [
        "X. TensorFlow"
      ]
    },
    {
      "cell_type": "code",
      "metadata": {
        "id": "_7ZRQYnv5ira"
      },
      "source": [
        "import tensorflow as tf"
      ],
      "execution_count": 99,
      "outputs": []
    },
    {
      "cell_type": "code",
      "metadata": {
        "id": "mxTJCZ3784ly"
      },
      "source": [
        "times = []"
      ],
      "execution_count": 100,
      "outputs": []
    },
    {
      "cell_type": "code",
      "metadata": {
        "colab": {
          "base_uri": "https://localhost:8080/"
        },
        "id": "Aoe7opmX8IpW",
        "outputId": "98e652be-57bb-4d69-b671-f77645b12cb2"
      },
      "source": [
        "# (int, 100)\r\n",
        "%%time\r\n",
        "t = time.time()\r\n",
        "tf.matmul(X, Y)\r\n",
        "times.append(time.time()-t)"
      ],
      "execution_count": 101,
      "outputs": [
        {
          "output_type": "stream",
          "text": [
            "CPU times: user 285 ms, sys: 214 ms, total: 499 ms\n",
            "Wall time: 523 ms\n"
          ],
          "name": "stdout"
        }
      ]
    },
    {
      "cell_type": "code",
      "metadata": {
        "colab": {
          "base_uri": "https://localhost:8080/"
        },
        "id": "MYddx4lIK_JI",
        "outputId": "64b52a7c-a322-4fbe-c106-42eba9a3c4ba"
      },
      "source": [
        "# (int, 250)\r\n",
        "%%time\r\n",
        "t = time.time()\r\n",
        "tf.matmul(U, V)\r\n",
        "times.append(time.time()-t)"
      ],
      "execution_count": 102,
      "outputs": [
        {
          "output_type": "stream",
          "text": [
            "CPU times: user 53.7 ms, sys: 1.01 ms, total: 54.7 ms\n",
            "Wall time: 49.4 ms\n"
          ],
          "name": "stdout"
        }
      ]
    },
    {
      "cell_type": "code",
      "metadata": {
        "colab": {
          "base_uri": "https://localhost:8080/"
        },
        "id": "43nXq-CYK_X4",
        "outputId": "b80a288b-95d7-4cd5-80da-359bba62b671"
      },
      "source": [
        "# (float, 100)\r\n",
        "%%time\r\n",
        "t = time.time()\r\n",
        "tf.matmul(K, L)\r\n",
        "times.append(time.time()-t)"
      ],
      "execution_count": 103,
      "outputs": [
        {
          "output_type": "stream",
          "text": [
            "CPU times: user 110 ms, sys: 42 ms, total: 152 ms\n",
            "Wall time: 153 ms\n"
          ],
          "name": "stdout"
        }
      ]
    },
    {
      "cell_type": "code",
      "metadata": {
        "colab": {
          "base_uri": "https://localhost:8080/"
        },
        "id": "8PeS1Ign9GAL",
        "outputId": "b5492e1b-b92a-4c90-c36f-8262c386bb7c"
      },
      "source": [
        "# (float, 250)\r\n",
        "%%time\r\n",
        "t = time.time()\r\n",
        "tf.matmul(P, QQ)\r\n",
        "times.append(time.time()-t)"
      ],
      "execution_count": 104,
      "outputs": [
        {
          "output_type": "stream",
          "text": [
            "CPU times: user 43 ms, sys: 1.04 ms, total: 44.1 ms\n",
            "Wall time: 43.9 ms\n"
          ],
          "name": "stdout"
        }
      ]
    },
    {
      "cell_type": "code",
      "metadata": {
        "colab": {
          "base_uri": "https://localhost:8080/",
          "height": 320
        },
        "id": "KabQ6LOc9GOM",
        "outputId": "2f31c5cb-a0af-4234-c7db-27330cefe975"
      },
      "source": [
        "figure = plt.figure(figsize=(5,5))\r\n",
        "plt.bar([\"(int, 100)\",\"(int, 250)\",\"(float, 100)\",\"(float, 250)\"], times)\r\n",
        "plt.show()"
      ],
      "execution_count": 105,
      "outputs": [
        {
          "output_type": "display_data",
          "data": {
            "image/png": "[encoded data removed]",
            "text/plain": [
              "<Figure size 360x360 with 1 Axes>"
            ]
          },
          "metadata": {
            "tags": [],
            "needs_background": "light"
          }
        }
      ]
    },
    {
      "cell_type": "markdown",
      "metadata": {
        "id": "fm8ujHsfPZ_2"
      },
      "source": [
        "XI. PyCuda (Crashes at Large N)"
      ]
    },
    {
      "cell_type": "code",
      "metadata": {
        "colab": {
          "base_uri": "https://localhost:8080/"
        },
        "id": "2OLBphUqbdeu",
        "outputId": "974959c0-cbca-475b-dd7a-5247d12b6005"
      },
      "source": [
        "!pip install cuda"
      ],
      "execution_count": 106,
      "outputs": [
        {
          "output_type": "stream",
          "text": [
            "Requirement already satisfied: cuda in /usr/local/lib/python3.7/dist-packages (0.0.1)\n"
          ],
          "name": "stdout"
        }
      ]
    },
    {
      "cell_type": "code",
      "metadata": {
        "colab": {
          "base_uri": "https://localhost:8080/"
        },
        "id": "znPVclpBfxbc",
        "outputId": "ea4fffeb-5b71-457b-8acb-5b0680f94c1f"
      },
      "source": [
        "!pip install pycuda"
      ],
      "execution_count": 107,
      "outputs": [
        {
          "output_type": "stream",
          "text": [
            "Requirement already satisfied: pycuda in /usr/local/lib/python3.7/dist-packages (2020.1)\n",
            "Requirement already satisfied: decorator>=3.2.0 in /usr/local/lib/python3.7/dist-packages (from pycuda) (4.4.2)\n",
            "Requirement already satisfied: mako in /usr/local/lib/python3.7/dist-packages (from pycuda) (1.1.4)\n",
            "Requirement already satisfied: appdirs>=1.4.0 in /usr/local/lib/python3.7/dist-packages (from pycuda) (1.4.4)\n",
            "Requirement already satisfied: pytools>=2011.2 in /usr/local/lib/python3.7/dist-packages (from pycuda) (2021.1)\n",
            "Requirement already satisfied: MarkupSafe>=0.9.2 in /usr/local/lib/python3.7/dist-packages (from mako->pycuda) (1.1.1)\n",
            "Requirement already satisfied: numpy>=1.6.0 in /usr/local/lib/python3.7/dist-packages (from pytools>=2011.2->pycuda) (1.19.5)\n"
          ],
          "name": "stdout"
        }
      ]
    },
    {
      "cell_type": "code",
      "metadata": {
        "id": "LtR0H-nufxoe"
      },
      "source": [
        "import pycuda.autoinit\r\n",
        "from pycuda import driver, compiler, gpuarray, tools"
      ],
      "execution_count": 108,
      "outputs": []
    },
    {
      "cell_type": "code",
      "metadata": {
        "id": "AZhPDGBv9YOf"
      },
      "source": [
        "times = []"
      ],
      "execution_count": 109,
      "outputs": []
    },
    {
      "cell_type": "code",
      "metadata": {
        "id": "af2gzqOEhDkl"
      },
      "source": [
        "kernel_code_template = \"\"\"\r\n",
        "__global__ void MatrixMulKernel(int *a, int *b, int *c)\r\n",
        "{\r\n",
        "    int tx = threadIdx.x;\r\n",
        "    int ty = threadIdx.y;\r\n",
        "\r\n",
        "    // Pvalue is used to store the element of the matrix\r\n",
        "    // that is computed by the thread\r\n",
        "    float Pvalue = 0;\r\n",
        "\r\n",
        "    // Each thread loads one row of M and one column of N, \r\n",
        "    //   to produce one element of P.\r\n",
        "    for (int k = 0; k < %(MATRIX_SIZE)s; ++k) {\r\n",
        "        float Aelement = a[ty * %(MATRIX_SIZE)s + k];\r\n",
        "        float Belement = b[k * %(MATRIX_SIZE)s + tx];\r\n",
        "        Pvalue += Aelement * Belement;\r\n",
        "    }\r\n",
        "\r\n",
        "    // Write the matrix to device memory;\r\n",
        "    // each thread writes one element\r\n",
        "    c[ty * %(MATRIX_SIZE)s + tx] = Pvalue;\r\n",
        "}\r\n",
        "\"\"\""
      ],
      "execution_count": 110,
      "outputs": []
    },
    {
      "cell_type": "code",
      "metadata": {
        "id": "DJVGvtrcjYGx"
      },
      "source": [
        "MATRIX_SIZE = 10\r\n",
        "\r\n",
        "a_gpu = gpuarray.to_gpu(np.random.randn(MATRIX_SIZE, MATRIX_SIZE).astype(np.int64)) \r\n",
        "b_gpu = gpuarray.to_gpu(np.random.randn(MATRIX_SIZE, MATRIX_SIZE).astype(np.int64))\r\n",
        "c_gpu = gpuarray.empty((MATRIX_SIZE, MATRIX_SIZE), np.int64)\r\n",
        "\r\n",
        "kernel_code = kernel_code_template % {\r\n",
        "    'MATRIX_SIZE': MATRIX_SIZE \r\n",
        "    }\r\n",
        "\r\n",
        "mod = compiler.SourceModule(kernel_code)\r\n",
        "matrixmul = mod.get_function(\"MatrixMulKernel\")"
      ],
      "execution_count": 111,
      "outputs": []
    },
    {
      "cell_type": "code",
      "metadata": {
        "colab": {
          "base_uri": "https://localhost:8080/"
        },
        "id": "tQfEoFoMloKw",
        "outputId": "05a5aa51-4a43-45ed-c093-9f374018d1fa"
      },
      "source": [
        "# (int, 10)\r\n",
        "%%time\r\n",
        "t = time.time()\r\n",
        "matrixmul(\r\n",
        "    a_gpu, b_gpu, \r\n",
        "    c_gpu,\r\n",
        "    block = (MATRIX_SIZE, MATRIX_SIZE, 1),\r\n",
        "    )\r\n",
        "times.append(time.time()-t)"
      ],
      "execution_count": 112,
      "outputs": [
        {
          "output_type": "stream",
          "text": [
            "CPU times: user 1.02 ms, sys: 1e+03 ns, total: 1.02 ms\n",
            "Wall time: 1.03 ms\n"
          ],
          "name": "stdout"
        }
      ]
    },
    {
      "cell_type": "code",
      "metadata": {
        "id": "4741q_hgloVr"
      },
      "source": [
        "MATRIX_SIZE = 25\r\n",
        "\r\n",
        "a_gpu = gpuarray.to_gpu(np.random.randn(MATRIX_SIZE, MATRIX_SIZE).astype(np.int64)) \r\n",
        "b_gpu = gpuarray.to_gpu(np.random.randn(MATRIX_SIZE, MATRIX_SIZE).astype(np.int64))\r\n",
        "c_gpu = gpuarray.empty((MATRIX_SIZE, MATRIX_SIZE), np.int64)\r\n",
        "\r\n",
        "kernel_code = kernel_code_template % {\r\n",
        "    'MATRIX_SIZE': MATRIX_SIZE \r\n",
        "    }\r\n",
        "\r\n",
        "mod = compiler.SourceModule(kernel_code)\r\n",
        "matrixmul = mod.get_function(\"MatrixMulKernel\")"
      ],
      "execution_count": 113,
      "outputs": []
    },
    {
      "cell_type": "code",
      "metadata": {
        "colab": {
          "base_uri": "https://localhost:8080/"
        },
        "id": "KCx0rNZdmhx2",
        "outputId": "e705be5c-7e30-4e98-c7d8-9833a4a47164"
      },
      "source": [
        "# (int, 25)\r\n",
        "%%time\r\n",
        "t = time.time()\r\n",
        "matrixmul(\r\n",
        "    a_gpu, b_gpu, \r\n",
        "    c_gpu,\r\n",
        "    block = (MATRIX_SIZE, MATRIX_SIZE, 1),\r\n",
        "    )\r\n",
        "times.append(time.time()-t)"
      ],
      "execution_count": 114,
      "outputs": [
        {
          "output_type": "stream",
          "text": [
            "CPU times: user 115 µs, sys: 2 µs, total: 117 µs\n",
            "Wall time: 122 µs\n"
          ],
          "name": "stdout"
        }
      ]
    },
    {
      "cell_type": "code",
      "metadata": {
        "id": "BNoW9nI89mLB"
      },
      "source": [
        "kernel_code_template = \"\"\"\r\n",
        "__global__ void MatrixMulKernel(float *a, float *b, float *c)\r\n",
        "{\r\n",
        "    int tx = threadIdx.x;\r\n",
        "    int ty = threadIdx.y;\r\n",
        "\r\n",
        "    // Pvalue is used to store the element of the matrix\r\n",
        "    // that is computed by the thread\r\n",
        "    float Pvalue = 0;\r\n",
        "\r\n",
        "    // Each thread loads one row of M and one column of N, \r\n",
        "    //   to produce one element of P.\r\n",
        "    for (int k = 0; k < %(MATRIX_SIZE)s; ++k) {\r\n",
        "        float Aelement = a[ty * %(MATRIX_SIZE)s + k];\r\n",
        "        float Belement = b[k * %(MATRIX_SIZE)s + tx];\r\n",
        "        Pvalue += Aelement * Belement;\r\n",
        "    }\r\n",
        "\r\n",
        "    // Write the matrix to device memory;\r\n",
        "    // each thread writes one element\r\n",
        "    c[ty * %(MATRIX_SIZE)s + tx] = Pvalue;\r\n",
        "}\r\n",
        "\"\"\""
      ],
      "execution_count": 115,
      "outputs": []
    },
    {
      "cell_type": "code",
      "metadata": {
        "id": "vxPQ5n4flolZ"
      },
      "source": [
        "MATRIX_SIZE = 10\r\n",
        "\r\n",
        "a_gpu = gpuarray.to_gpu(np.random.randn(MATRIX_SIZE, MATRIX_SIZE).astype(np.float64)) \r\n",
        "b_gpu = gpuarray.to_gpu(np.random.randn(MATRIX_SIZE, MATRIX_SIZE).astype(np.float64))\r\n",
        "c_gpu = gpuarray.empty((MATRIX_SIZE, MATRIX_SIZE), np.float64)\r\n",
        "\r\n",
        "kernel_code = kernel_code_template % {\r\n",
        "    'MATRIX_SIZE': MATRIX_SIZE \r\n",
        "    }\r\n",
        "\r\n",
        "mod = compiler.SourceModule(kernel_code)\r\n",
        "matrixmul = mod.get_function(\"MatrixMulKernel\")"
      ],
      "execution_count": 116,
      "outputs": []
    },
    {
      "cell_type": "code",
      "metadata": {
        "colab": {
          "base_uri": "https://localhost:8080/"
        },
        "id": "bHw0m9DRmmrX",
        "outputId": "275e2231-65ac-41e1-dcea-a58c4b92f650"
      },
      "source": [
        "# (float, 10)\r\n",
        "%%time\r\n",
        "t = time.time()\r\n",
        "matrixmul(\r\n",
        "    a_gpu, b_gpu, \r\n",
        "    c_gpu,\r\n",
        "    block = (MATRIX_SIZE, MATRIX_SIZE, 1),\r\n",
        "    )\r\n",
        "times.append(time.time()-t)"
      ],
      "execution_count": 117,
      "outputs": [
        {
          "output_type": "stream",
          "text": [
            "CPU times: user 192 µs, sys: 0 ns, total: 192 µs\n",
            "Wall time: 199 µs\n"
          ],
          "name": "stdout"
        }
      ]
    },
    {
      "cell_type": "code",
      "metadata": {
        "id": "4k5h1kSe98jk"
      },
      "source": [
        "MATRIX_SIZE = 25\r\n",
        "\r\n",
        "a_gpu = gpuarray.to_gpu(np.random.randn(MATRIX_SIZE, MATRIX_SIZE).astype(np.float64)) \r\n",
        "b_gpu = gpuarray.to_gpu(np.random.randn(MATRIX_SIZE, MATRIX_SIZE).astype(np.float64))\r\n",
        "c_gpu = gpuarray.empty((MATRIX_SIZE, MATRIX_SIZE), np.float64)\r\n",
        "\r\n",
        "kernel_code = kernel_code_template % {\r\n",
        "    'MATRIX_SIZE': MATRIX_SIZE \r\n",
        "    }\r\n",
        "\r\n",
        "mod = compiler.SourceModule(kernel_code)\r\n",
        "matrixmul = mod.get_function(\"MatrixMulKernel\")"
      ],
      "execution_count": 118,
      "outputs": []
    },
    {
      "cell_type": "code",
      "metadata": {
        "colab": {
          "base_uri": "https://localhost:8080/"
        },
        "id": "N6FlNBdQ98ud",
        "outputId": "f5360d7c-1033-45be-fe0a-49e0b04908f2"
      },
      "source": [
        "# (float, 25)\r\n",
        "%%time\r\n",
        "t = time.time()\r\n",
        "matrixmul(\r\n",
        "    a_gpu, b_gpu, \r\n",
        "    c_gpu,\r\n",
        "    block = (MATRIX_SIZE, MATRIX_SIZE, 1),\r\n",
        "    )\r\n",
        "times.append(time.time()-t)"
      ],
      "execution_count": 119,
      "outputs": [
        {
          "output_type": "stream",
          "text": [
            "CPU times: user 320 µs, sys: 7 µs, total: 327 µs\n",
            "Wall time: 285 µs\n"
          ],
          "name": "stdout"
        }
      ]
    },
    {
      "cell_type": "code",
      "metadata": {
        "colab": {
          "base_uri": "https://localhost:8080/",
          "height": 320
        },
        "id": "UAZ2qiQ8985s",
        "outputId": "ade9f89d-650f-4363-d4e3-f4af8aae9504"
      },
      "source": [
        "figure = plt.figure(figsize=(5,5))\r\n",
        "plt.bar([\"(int, 10)\",\"(int, 25)\",\"(float, 10)\",\"(float, 25)\"], times)\r\n",
        "plt.show()"
      ],
      "execution_count": 120,
      "outputs": [
        {
          "output_type": "display_data",
          "data": {
            "image/png": "[encoded data removed]",
            "text/plain": [
              "<Figure size 360x360 with 1 Axes>"
            ]
          },
          "metadata": {
            "tags": [],
            "needs_background": "light"
          }
        }
      ]
    },
    {
      "cell_type": "markdown",
      "metadata": {
        "id": "TGCSYnmX7y9_"
      },
      "source": [
        "XII. Theano"
      ]
    },
    {
      "cell_type": "code",
      "metadata": {
        "id": "rKHyrSRO7x-M"
      },
      "source": [
        "import theano\r\n",
        "import theano.tensor as T"
      ],
      "execution_count": 121,
      "outputs": []
    },
    {
      "cell_type": "code",
      "metadata": {
        "id": "wPsLYl2A8ful"
      },
      "source": [
        "times = []"
      ],
      "execution_count": 122,
      "outputs": []
    },
    {
      "cell_type": "code",
      "metadata": {
        "id": "sbNjyE9F-cY3",
        "colab": {
          "base_uri": "https://localhost:8080/"
        },
        "outputId": "af729613-2ec0-4606-a38c-ffbf403a85e1"
      },
      "source": [
        "x = T.matrix()\r\n",
        "y = T.matrix()\r\n",
        "dot = T.dot(x, y)\r\n",
        "f = theano.function([x,y],[dot])"
      ],
      "execution_count": 123,
      "outputs": [
        {
          "output_type": "stream",
          "text": [
            "WARNING (theano.tensor.blas): We did not find a dynamic library in the library_dir of the library we use for blas. If you use ATLAS, make sure to compile it with dynamics library.\n"
          ],
          "name": "stderr"
        }
      ]
    },
    {
      "cell_type": "code",
      "metadata": {
        "colab": {
          "base_uri": "https://localhost:8080/"
        },
        "id": "PFYxZP8m8El3",
        "outputId": "6721e9ef-7115-42d9-ce9a-e11f7144cd95"
      },
      "source": [
        "# (int, 100)\r\n",
        "%%time\r\n",
        "t = time.time()\r\n",
        "f(X,Y)\r\n",
        "times.append(time.time()-t)"
      ],
      "execution_count": 124,
      "outputs": [
        {
          "output_type": "stream",
          "text": [
            "CPU times: user 4.46 ms, sys: 1.01 ms, total: 5.47 ms\n",
            "Wall time: 5.08 ms\n"
          ],
          "name": "stdout"
        }
      ]
    },
    {
      "cell_type": "code",
      "metadata": {
        "colab": {
          "base_uri": "https://localhost:8080/"
        },
        "id": "xvmvSJ5X8Eve",
        "outputId": "826d519b-36aa-414f-ac7b-2c0f05d91dde"
      },
      "source": [
        "# (int, 250)\r\n",
        "%%time\r\n",
        "t = time.time()\r\n",
        "f(U,V)\r\n",
        "times.append(time.time()-t)"
      ],
      "execution_count": 125,
      "outputs": [
        {
          "output_type": "stream",
          "text": [
            "CPU times: user 25.2 ms, sys: 5.01 ms, total: 30.2 ms\n",
            "Wall time: 28.9 ms\n"
          ],
          "name": "stdout"
        }
      ]
    },
    {
      "cell_type": "code",
      "metadata": {
        "colab": {
          "base_uri": "https://localhost:8080/"
        },
        "id": "VyLE19bA-W0G",
        "outputId": "0a3d45b9-0b78-466c-d938-4c1d209ce393"
      },
      "source": [
        "# (float, 100)\r\n",
        "%%time\r\n",
        "t = time.time()\r\n",
        "f(K,L)\r\n",
        "times.append(time.time()-t)"
      ],
      "execution_count": 126,
      "outputs": [
        {
          "output_type": "stream",
          "text": [
            "CPU times: user 2.91 ms, sys: 4.98 ms, total: 7.89 ms\n",
            "Wall time: 8.01 ms\n"
          ],
          "name": "stdout"
        }
      ]
    },
    {
      "cell_type": "code",
      "metadata": {
        "id": "pQVkwDE6nNIs",
        "colab": {
          "base_uri": "https://localhost:8080/"
        },
        "outputId": "fe1a64c5-e593-407a-fc77-dd92b6d34d94"
      },
      "source": [
        "# (float, 250)\r\n",
        "%%time\r\n",
        "t = time.time()\r\n",
        "f(P,QQ)\r\n",
        "times.append(time.time()-t)"
      ],
      "execution_count": 127,
      "outputs": [
        {
          "output_type": "stream",
          "text": [
            "CPU times: user 18 ms, sys: 3.03 ms, total: 21 ms\n",
            "Wall time: 22 ms\n"
          ],
          "name": "stdout"
        }
      ]
    },
    {
      "cell_type": "code",
      "metadata": {
        "colab": {
          "base_uri": "https://localhost:8080/",
          "height": 321
        },
        "id": "Ls2G2I1K_Srf",
        "outputId": "5bc3d3f0-30c0-4a07-f470-5afa8e1204ee"
      },
      "source": [
        "figure = plt.figure(figsize=(5,5))\r\n",
        "plt.bar([\"(int, 100)\",\"(int, 250)\",\"(float, 100)\",\"(float, 250)\"], times)\r\n",
        "plt.show()"
      ],
      "execution_count": 128,
      "outputs": [
        {
          "output_type": "display_data",
          "data": {
            "image/png": "[encoded data removed]",
            "text/plain": [
              "<Figure size 360x360 with 1 Axes>"
            ]
          },
          "metadata": {
            "tags": [],
            "needs_background": "light"
          }
        }
      ]
    },
    {
      "cell_type": "code",
      "metadata": {
        "id": "06rrYhIp_Tkh"
      },
      "source": [
        ""
      ],
      "execution_count": null,
      "outputs": []
    }
  ]
}