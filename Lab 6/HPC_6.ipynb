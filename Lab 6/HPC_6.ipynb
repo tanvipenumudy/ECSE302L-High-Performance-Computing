{
  "nbformat": 4,
  "nbformat_minor": 0,
  "metadata": {
    "colab": {
      "name": "HPC 6.ipynb",
      "provenance": [],
      "collapsed_sections": []
    },
    "kernelspec": {
      "name": "python3",
      "display_name": "Python 3"
    }
  },
  "cells": [
    {
      "cell_type": "code",
      "metadata": {
        "id": "fcisyZuf18gi"
      },
      "source": [
        "import multiprocessing \r\n",
        "import os \r\n",
        "import time"
      ],
      "execution_count": 19,
      "outputs": []
    },
    {
      "cell_type": "code",
      "metadata": {
        "id": "kyk3rD7G2Dn4"
      },
      "source": [
        "import random\r\n",
        "X = [random.choices(range(9,999), k=4) for _ in range(4)]\r\n",
        "Y = [random.choices(range(9,999), k=4) for _ in range(4)]\r\n",
        "result = [[0,0,0,0],[0,0,0,0],[0,0,0,0],[0,0,0,0]]"
      ],
      "execution_count": 35,
      "outputs": []
    },
    {
      "cell_type": "code",
      "metadata": {
        "colab": {
          "base_uri": "https://localhost:8080/"
        },
        "id": "zFAZ8aGD2Dp5",
        "outputId": "9ab820e6-348c-49f6-d645-6b4eb175036c"
      },
      "source": [
        "print(X)\r\n",
        "print(Y)\r\n",
        "print(result)"
      ],
      "execution_count": 36,
      "outputs": [
        {
          "output_type": "stream",
          "text": [
            "[[580, 534, 738, 339], [528, 493, 622, 446], [904, 11, 612, 273], [598, 482, 369, 651]]\n",
            "[[941, 685, 520, 189], [833, 207, 56, 89], [775, 777, 382, 141], [550, 817, 183, 286]]\n",
            "[[0, 0, 0, 0], [0, 0, 0, 0], [0, 0, 0, 0], [0, 0, 0, 0]]\n"
          ],
          "name": "stdout"
        }
      ]
    },
    {
      "cell_type": "code",
      "metadata": {
        "colab": {
          "base_uri": "https://localhost:8080/"
        },
        "id": "faaWFnpp2DtG",
        "outputId": "350b82c9-5606-4698-d220-39682a8df957"
      },
      "source": [
        "%%time\r\n",
        "for i in range(len(X)):\r\n",
        "   for j in range(len(Y[0])):\r\n",
        "       for k in range(len(Y)):\r\n",
        "           result[i][j] += X[i][k] * Y[k][j]\r\n",
        "\r\n",
        "print(result)"
      ],
      "execution_count": 37,
      "outputs": [
        {
          "output_type": "stream",
          "text": [
            "[[1749002, 1358227, 675457, 358158], [1634867, 1311407, 621390, 358927], [1484277, 1320082, 754439, 336205], [1608249, 1327984, 598043, 394135]]\n",
            "CPU times: user 1.15 ms, sys: 0 ns, total: 1.15 ms\n",
            "Wall time: 1.01 ms\n"
          ],
          "name": "stdout"
        }
      ]
    },
    {
      "cell_type": "code",
      "metadata": {
        "colab": {
          "base_uri": "https://localhost:8080/"
        },
        "id": "4wUop3m63bTt",
        "outputId": "3f695fe5-c037-4252-85a6-f639ec5c26c1"
      },
      "source": [
        "%%time\r\n",
        "def worker1(X, Y, result): \r\n",
        "  for i in range(len(X)):\r\n",
        "   for j in range(len(Y[0])):\r\n",
        "       for k in range(len(Y)):\r\n",
        "           result[i][j] += X[i][k] * Y[k][j]\r\n",
        "  return result\r\n",
        "\r\n",
        "def worker2(X, Y, result):\r\n",
        "  for i in range(len(X)):\r\n",
        "   for j in range(len(Y[0])):\r\n",
        "       for k in range(len(Y)):\r\n",
        "           result[i][j] += X[i][k] * Y[k][j]\r\n",
        "  return result\r\n",
        "  \r\n",
        "if __name__ == \"__main__\": \r\n",
        "\r\n",
        "  # creating processes \r\n",
        "  p1 = multiprocessing.Process(target=worker1) \r\n",
        "  p2 = multiprocessing.Process(target=worker2)\r\n",
        "\r\n",
        "  # starting processes \r\n",
        "  p1.start() \r\n",
        "  p2.start()\r\n",
        "\r\n",
        "  # wait until processes are finished \r\n",
        "  p1.join() \r\n",
        "  p2.join() \r\n",
        "\r\n",
        "  # both processes finished \r\n",
        "  print(worker1(X[:2],Y,[[0,0,0,0],[0,0,0,0]]))\r\n",
        "  print(worker2(X[2:],Y,[[0,0,0,0],[0,0,0,0]]))\r\n",
        "  print(\"Done!\")"
      ],
      "execution_count": 38,
      "outputs": [
        {
          "output_type": "stream",
          "text": [
            "Process Process-5:\n",
            "Traceback (most recent call last):\n",
            "Process Process-6:\n",
            "Traceback (most recent call last):\n",
            "  File \"/usr/lib/python3.6/multiprocessing/process.py\", line 258, in _bootstrap\n",
            "    self.run()\n",
            "  File \"/usr/lib/python3.6/multiprocessing/process.py\", line 93, in run\n",
            "    self._target(*self._args, **self._kwargs)\n",
            "  File \"/usr/lib/python3.6/multiprocessing/process.py\", line 258, in _bootstrap\n",
            "    self.run()\n",
            "  File \"/usr/lib/python3.6/multiprocessing/process.py\", line 93, in run\n",
            "    self._target(*self._args, **self._kwargs)\n",
            "TypeError: worker2() missing 3 required positional arguments: 'X', 'Y', and 'result'\n",
            "TypeError: worker1() missing 3 required positional arguments: 'X', 'Y', and 'result'\n"
          ],
          "name": "stderr"
        },
        {
          "output_type": "stream",
          "text": [
            "[[1749002, 1358227, 675457, 358158], [1634867, 1311407, 621390, 358927]]\n",
            "[[1484277, 1320082, 754439, 336205], [1608249, 1327984, 598043, 394135]]\n",
            "Done!\n",
            "CPU times: user 13.2 ms, sys: 14.3 ms, total: 27.5 ms\n",
            "Wall time: 63.3 ms\n"
          ],
          "name": "stdout"
        }
      ]
    },
    {
      "cell_type": "code",
      "metadata": {
        "id": "mcIPyz3T3bV6"
      },
      "source": [
        "import numpy as np"
      ],
      "execution_count": 39,
      "outputs": []
    },
    {
      "cell_type": "code",
      "metadata": {
        "id": "2GQLdap03oZr"
      },
      "source": [
        "A = np.array(X)\r\n",
        "B = np.array(Y)"
      ],
      "execution_count": 40,
      "outputs": []
    },
    {
      "cell_type": "code",
      "metadata": {
        "colab": {
          "base_uri": "https://localhost:8080/"
        },
        "id": "6IWbfE-i3oe8",
        "outputId": "ac656f61-b459-4945-c439-4c02ef570ef5"
      },
      "source": [
        "%%time\r\n",
        "print(np.dot(A,B))"
      ],
      "execution_count": 41,
      "outputs": [
        {
          "output_type": "stream",
          "text": [
            "[[1749002 1358227  675457  358158]\n",
            " [1634867 1311407  621390  358927]\n",
            " [1484277 1320082  754439  336205]\n",
            " [1608249 1327984  598043  394135]]\n",
            "CPU times: user 0 ns, sys: 796 µs, total: 796 µs\n",
            "Wall time: 748 µs\n"
          ],
          "name": "stdout"
        }
      ]
    },
    {
      "cell_type": "code",
      "metadata": {
        "id": "Zt5SujNe3oiB"
      },
      "source": [
        "from sympy import *"
      ],
      "execution_count": 42,
      "outputs": []
    },
    {
      "cell_type": "code",
      "metadata": {
        "id": "6lSnUM1w3bZ_"
      },
      "source": [
        "A = Matrix(X)\r\n",
        "B = Matrix(Y)"
      ],
      "execution_count": 43,
      "outputs": []
    },
    {
      "cell_type": "code",
      "metadata": {
        "colab": {
          "base_uri": "https://localhost:8080/"
        },
        "id": "TnRKGtux2Dut",
        "outputId": "31d0cae9-e707-426f-ec1b-ddc1fa5d5feb"
      },
      "source": [
        "A"
      ],
      "execution_count": 44,
      "outputs": [
        {
          "output_type": "execute_result",
          "data": {
            "text/plain": [
              "Matrix([\n",
              "[580, 534, 738, 339],\n",
              "[528, 493, 622, 446],\n",
              "[904,  11, 612, 273],\n",
              "[598, 482, 369, 651]])"
            ]
          },
          "metadata": {
            "tags": []
          },
          "execution_count": 44
        }
      ]
    },
    {
      "cell_type": "code",
      "metadata": {
        "colab": {
          "base_uri": "https://localhost:8080/"
        },
        "id": "HCcEO-4X2DyU",
        "outputId": "f360abdc-f0e6-4978-c58f-3a8065a0275d"
      },
      "source": [
        "B"
      ],
      "execution_count": 45,
      "outputs": [
        {
          "output_type": "execute_result",
          "data": {
            "text/plain": [
              "Matrix([\n",
              "[941, 685, 520, 189],\n",
              "[833, 207,  56,  89],\n",
              "[775, 777, 382, 141],\n",
              "[550, 817, 183, 286]])"
            ]
          },
          "metadata": {
            "tags": []
          },
          "execution_count": 45
        }
      ]
    },
    {
      "cell_type": "code",
      "metadata": {
        "colab": {
          "base_uri": "https://localhost:8080/"
        },
        "id": "OxxvvyE95bkJ",
        "outputId": "819a363d-6538-4e9b-f449-f6b10976d9f0"
      },
      "source": [
        "%%time\r\n",
        "print(A*B)"
      ],
      "execution_count": 48,
      "outputs": [
        {
          "output_type": "stream",
          "text": [
            "Matrix([[1749002, 1358227, 675457, 358158], [1634867, 1311407, 621390, 358927], [1484277, 1320082, 754439, 336205], [1608249, 1327984, 598043, 394135]])\n",
            "CPU times: user 1.76 ms, sys: 978 µs, total: 2.74 ms\n",
            "Wall time: 6.12 ms\n"
          ],
          "name": "stdout"
        }
      ]
    },
    {
      "cell_type": "code",
      "metadata": {
        "id": "i-gipJIJ5gvl"
      },
      "source": [
        "import pandas as pd"
      ],
      "execution_count": 49,
      "outputs": []
    },
    {
      "cell_type": "code",
      "metadata": {
        "id": "vqIs8n1v5idE"
      },
      "source": [
        "A = pd.DataFrame(X)\r\n",
        "B = pd.DataFrame(Y)"
      ],
      "execution_count": 50,
      "outputs": []
    },
    {
      "cell_type": "code",
      "metadata": {
        "colab": {
          "base_uri": "https://localhost:8080/"
        },
        "id": "mZVX2pDz5ipR",
        "outputId": "113627cc-970c-47e7-db8f-ee53de8de812"
      },
      "source": [
        "%%time\r\n",
        "print(A.dot(B))"
      ],
      "execution_count": 55,
      "outputs": [
        {
          "output_type": "stream",
          "text": [
            "         0        1       2       3\n",
            "0  1749002  1358227  675457  358158\n",
            "1  1634867  1311407  621390  358927\n",
            "2  1484277  1320082  754439  336205\n",
            "3  1608249  1327984  598043  394135\n",
            "CPU times: user 8.45 ms, sys: 1.05 ms, total: 9.5 ms\n",
            "Wall time: 13.4 ms\n"
          ],
          "name": "stdout"
        }
      ]
    },
    {
      "cell_type": "code",
      "metadata": {
        "id": "_7ZRQYnv5ira"
      },
      "source": [
        "import tensorflow as tf"
      ],
      "execution_count": 56,
      "outputs": []
    },
    {
      "cell_type": "code",
      "metadata": {
        "colab": {
          "base_uri": "https://localhost:8080/"
        },
        "id": "Aoe7opmX8IpW",
        "outputId": "e1b4a012-dce4-401c-e3ce-470bc9cd2654"
      },
      "source": [
        "%%time\r\n",
        "print(tf.matmul(X, Y))"
      ],
      "execution_count": 58,
      "outputs": [
        {
          "output_type": "stream",
          "text": [
            "tf.Tensor(\n",
            "[[1749002 1358227  675457  358158]\n",
            " [1634867 1311407  621390  358927]\n",
            " [1484277 1320082  754439  336205]\n",
            " [1608249 1327984  598043  394135]], shape=(4, 4), dtype=int32)\n",
            "CPU times: user 2.72 ms, sys: 100 µs, total: 2.82 ms\n",
            "Wall time: 19.6 ms\n"
          ],
          "name": "stdout"
        }
      ]
    },
    {
      "cell_type": "code",
      "metadata": {
        "colab": {
          "base_uri": "https://localhost:8080/"
        },
        "id": "2aqoMY5U9Kkm",
        "outputId": "ee32ab14-7e91-4147-85aa-b7faeb92be6b"
      },
      "source": [
        "!pip install linalg"
      ],
      "execution_count": 60,
      "outputs": [
        {
          "output_type": "stream",
          "text": [
            "Collecting linalg\n",
            "  Downloading https://files.pythonhosted.org/packages/15/68/842a0b2821c347941611ec6bdac84656d9ee8118509b27b9779c50500880/linalg-1.0.4.tar.gz\n",
            "Building wheels for collected packages: linalg\n",
            "  Building wheel for linalg (setup.py) ... \u001b[?25l\u001b[?25hdone\n",
            "  Created wheel for linalg: filename=linalg-1.0.4-cp36-none-any.whl size=6294 sha256=e8ce23d5821e54e8ddc7e8ff4c0ba2105e84dcd77b29a0ec0c816878722386f5\n",
            "  Stored in directory: /root/.cache/pip/wheels/a6/09/2b/ed39c10f756adfcf310484fda9ff8ca0f647fc08fb2171a76b\n",
            "Successfully built linalg\n",
            "Installing collected packages: linalg\n",
            "Successfully installed linalg-1.0.4\n"
          ],
          "name": "stdout"
        }
      ]
    },
    {
      "cell_type": "code",
      "metadata": {
        "id": "i6fYzYHl8Irs"
      },
      "source": [
        "import linalg"
      ],
      "execution_count": 61,
      "outputs": []
    },
    {
      "cell_type": "code",
      "metadata": {
        "id": "r1_SidOz8Iu_"
      },
      "source": [
        "A = linalg.Matrix(X) \r\n",
        "B = linalg.Matrix(Y) "
      ],
      "execution_count": 62,
      "outputs": []
    },
    {
      "cell_type": "code",
      "metadata": {
        "colab": {
          "base_uri": "https://localhost:8080/"
        },
        "id": "FGS4A5As5ivS",
        "outputId": "69f34499-2fba-4ff3-bdaa-6b295f5f65bf"
      },
      "source": [
        "%%time\r\n",
        "print(A@B)"
      ],
      "execution_count": 63,
      "outputs": [
        {
          "output_type": "stream",
          "text": [
            "|17490 13582 67545 35815 |\n",
            "|16348 13114 62139 35892 |\n",
            "|14842 13200 75443 33620 |\n",
            "|16082 13279 59804 39413 |\n",
            "\n",
            "CPU times: user 183 µs, sys: 24 µs, total: 207 µs\n",
            "Wall time: 168 µs\n"
          ],
          "name": "stdout"
        }
      ]
    },
    {
      "cell_type": "code",
      "metadata": {
        "colab": {
          "base_uri": "https://localhost:8080/"
        },
        "id": "M7uFxwks9-Xo",
        "outputId": "e645bd00-1b2d-4d14-d932-c808c92ee8b6"
      },
      "source": [
        "!pip install pymatrix"
      ],
      "execution_count": 66,
      "outputs": [
        {
          "output_type": "stream",
          "text": [
            "Requirement already satisfied: pymatrix in /usr/local/lib/python3.6/dist-packages (3.0.1)\n"
          ],
          "name": "stdout"
        }
      ]
    },
    {
      "cell_type": "code",
      "metadata": {
        "id": "TnRKsiDZ5ixG"
      },
      "source": [
        "from pymatrix import matrix"
      ],
      "execution_count": 67,
      "outputs": []
    },
    {
      "cell_type": "code",
      "metadata": {
        "id": "Vkm_8H8n5i0z"
      },
      "source": [
        "A = matrix(X)\r\n",
        "B = matrix(Y)"
      ],
      "execution_count": 68,
      "outputs": []
    },
    {
      "cell_type": "code",
      "metadata": {
        "colab": {
          "base_uri": "https://localhost:8080/"
        },
        "id": "4c5OR94W5i2T",
        "outputId": "e98781d0-511a-4c90-8b77-4e16caee9cc8"
      },
      "source": [
        "%%time\r\n",
        "print(A*B)"
      ],
      "execution_count": 69,
      "outputs": [
        {
          "output_type": "stream",
          "text": [
            "1749002 1358227  675457  358158\n",
            "1634867 1311407  621390  358927\n",
            "1484277 1320082  754439  336205\n",
            "1608249 1327984  598043  394135\n",
            "CPU times: user 929 µs, sys: 0 ns, total: 929 µs\n",
            "Wall time: 912 µs\n"
          ],
          "name": "stdout"
        }
      ]
    },
    {
      "cell_type": "code",
      "metadata": {
        "id": "1odtdnvX5i6U"
      },
      "source": [
        "from scipy import linalg"
      ],
      "execution_count": 70,
      "outputs": []
    },
    {
      "cell_type": "code",
      "metadata": {
        "id": "ecWN-RfD_G1s"
      },
      "source": [
        "A = np.array(X)\r\n",
        "B = np.array(Y)"
      ],
      "execution_count": 72,
      "outputs": []
    },
    {
      "cell_type": "code",
      "metadata": {
        "colab": {
          "base_uri": "https://localhost:8080/"
        },
        "id": "B6uKheqS-Zoi",
        "outputId": "72a96cb6-4f05-4ad3-afbd-a3b3a3dc6cb3"
      },
      "source": [
        "%%time\r\n",
        "print(A.dot(B))"
      ],
      "execution_count": 74,
      "outputs": [
        {
          "output_type": "stream",
          "text": [
            "[[1749002 1358227  675457  358158]\n",
            " [1634867 1311407  621390  358927]\n",
            " [1484277 1320082  754439  336205]\n",
            " [1608249 1327984  598043  394135]]\n",
            "CPU times: user 716 µs, sys: 0 ns, total: 716 µs\n",
            "Wall time: 741 µs\n"
          ],
          "name": "stdout"
        }
      ]
    },
    {
      "cell_type": "code",
      "metadata": {
        "id": "-SgzQWIYArQg"
      },
      "source": [
        "import numba\r\n",
        "from numba import jit"
      ],
      "execution_count": 75,
      "outputs": []
    },
    {
      "cell_type": "code",
      "metadata": {
        "id": "SUbElxf2-Zqk"
      },
      "source": [
        "@jit('void(int64[:,:],int64[:,:],int64[:,:])')\r\n",
        "def numba_mul(matrix1,matrix2,rmatrix):\r\n",
        "  for i in range(len(matrix1)):\r\n",
        "    for j in range(len(matrix2[0])):\r\n",
        "      for k in range(len(matrix2)):\r\n",
        "        rmatrix[i][j] += matrix1[i][k] * matrix2[k][j]"
      ],
      "execution_count": 103,
      "outputs": []
    },
    {
      "cell_type": "code",
      "metadata": {
        "id": "HZx7Ry7C_Wy-"
      },
      "source": [
        "matrix1 = np.array(X)\r\n",
        "matrix2 = np.array(Y)\r\n",
        "rmatrix = np.array([[0,0,0,0],[0,0,0,0],[0,0,0,0],[0,0,0,0]])"
      ],
      "execution_count": 105,
      "outputs": []
    },
    {
      "cell_type": "code",
      "metadata": {
        "colab": {
          "base_uri": "https://localhost:8080/"
        },
        "id": "F_KZcbw0_W2X",
        "outputId": "a89bd13d-8cb6-4269-c705-2690c81b5ba7"
      },
      "source": [
        "%%time\r\n",
        "numba_mul(matrix1,matrix2,rmatrix)\r\n",
        "for r in rmatrix:\r\n",
        "  print(r)"
      ],
      "execution_count": 106,
      "outputs": [
        {
          "output_type": "stream",
          "text": [
            "[1749002 1358227  675457  358158]\n",
            "[1634867 1311407  621390  358927]\n",
            "[1484277 1320082  754439  336205]\n",
            "[1608249 1327984  598043  394135]\n",
            "CPU times: user 2.4 ms, sys: 37 µs, total: 2.44 ms\n",
            "Wall time: 2.39 ms\n"
          ],
          "name": "stdout"
        }
      ]
    },
    {
      "cell_type": "code",
      "metadata": {
        "colab": {
          "base_uri": "https://localhost:8080/"
        },
        "id": "a--YCqz1EDSa",
        "outputId": "d041f331-6f7b-4f31-c85c-94bfd940703b"
      },
      "source": [
        "!pip install pycuda"
      ],
      "execution_count": 109,
      "outputs": [
        {
          "output_type": "stream",
          "text": [
            "Collecting pycuda\n",
            "\u001b[?25l  Downloading https://files.pythonhosted.org/packages/46/61/47d3235a4c13eec5a5f03594ddb268f4858734e02980afbcd806e6242fa5/pycuda-2020.1.tar.gz (1.6MB)\n",
            "\u001b[K     |████████████████████████████████| 1.6MB 5.5MB/s \n",
            "\u001b[?25hCollecting pytools>=2011.2\n",
            "\u001b[?25l  Downloading https://files.pythonhosted.org/packages/46/8a/149fa553998155f0a90d92cdbbc60f6c998cc9ad5fe0441b2b82628d001a/pytools-2021.1.tar.gz (62kB)\n",
            "\u001b[K     |████████████████████████████████| 71kB 6.3MB/s \n",
            "\u001b[?25hRequirement already satisfied: decorator>=3.2.0 in /usr/local/lib/python3.6/dist-packages (from pycuda) (4.4.2)\n",
            "Requirement already satisfied: appdirs>=1.4.0 in /usr/local/lib/python3.6/dist-packages (from pycuda) (1.4.4)\n",
            "Collecting mako\n",
            "\u001b[?25l  Downloading https://files.pythonhosted.org/packages/5c/db/2d2d88b924aa4674a080aae83b59ea19d593250bfe5ed789947c21736785/Mako-1.1.4.tar.gz (479kB)\n",
            "\u001b[K     |████████████████████████████████| 481kB 19.0MB/s \n",
            "\u001b[?25hRequirement already satisfied: numpy>=1.6.0 in /usr/local/lib/python3.6/dist-packages (from pytools>=2011.2->pycuda) (1.19.5)\n",
            "Requirement already satisfied: dataclasses>=0.7 in /usr/local/lib/python3.6/dist-packages (from pytools>=2011.2->pycuda) (0.8)\n",
            "Requirement already satisfied: MarkupSafe>=0.9.2 in /usr/local/lib/python3.6/dist-packages (from mako->pycuda) (1.1.1)\n",
            "Building wheels for collected packages: pycuda, pytools, mako\n",
            "  Building wheel for pycuda (setup.py) ... \u001b[?25l\u001b[?25hdone\n",
            "  Created wheel for pycuda: filename=pycuda-2020.1-cp36-cp36m-linux_x86_64.whl size=621123 sha256=13bdcc7c041d9c6463bda5096763ad6a85183d628859b39aa51a7bac8293d0dc\n",
            "  Stored in directory: /root/.cache/pip/wheels/8f/78/d1/5bb826f81d9d490297a348d818ff3ee6dd6f2075b06dde6ea0\n",
            "  Building wheel for pytools (setup.py) ... \u001b[?25l\u001b[?25hdone\n",
            "  Created wheel for pytools: filename=pytools-2021.1-py2.py3-none-any.whl size=60415 sha256=94c37c1bd6700bbd8d270217bc5931bb2b4303e293d2ee6a45c981591b731cf9\n",
            "  Stored in directory: /root/.cache/pip/wheels/5d/85/10/7da05d77b47f2cb503e5c4185ba82187d0b6b6736b3c6641e0\n",
            "  Building wheel for mako (setup.py) ... \u001b[?25l\u001b[?25hdone\n",
            "  Created wheel for mako: filename=Mako-1.1.4-py2.py3-none-any.whl size=75675 sha256=b5124ffe1ffe75e5dd99318fbcf0b5c2e8cf841a79a6ed8699175818cc836aca\n",
            "  Stored in directory: /root/.cache/pip/wheels/ad/10/d3/aeb26e20d19045e2a68e5d3cbb57432e11b5d9c92c99f98d47\n",
            "Successfully built pycuda pytools mako\n",
            "Installing collected packages: pytools, mako, pycuda\n",
            "Successfully installed mako-1.1.4 pycuda-2020.1 pytools-2021.1\n"
          ],
          "name": "stdout"
        }
      ]
    },
    {
      "cell_type": "code",
      "metadata": {
        "colab": {
          "base_uri": "https://localhost:8080/",
          "height": 302
        },
        "id": "syIEtd6i-ZuI",
        "outputId": "f08ceca0-719d-4bcb-fa6f-ba91dc2f6159"
      },
      "source": [
        "import pycuda.autoinit\r\n",
        "from pycuda import driver, compiler, gpuarray"
      ],
      "execution_count": 110,
      "outputs": [
        {
          "output_type": "error",
          "ename": "RuntimeError",
          "evalue": "ignored",
          "traceback": [
            "\u001b[0;31m---------------------------------------------------------------------------\u001b[0m",
            "\u001b[0;31mRuntimeError\u001b[0m                              Traceback (most recent call last)",
            "\u001b[0;32m<ipython-input-110-12626c90c351>\u001b[0m in \u001b[0;36m<module>\u001b[0;34m()\u001b[0m\n\u001b[0;32m----> 1\u001b[0;31m \u001b[0;32mimport\u001b[0m \u001b[0mpycuda\u001b[0m\u001b[0;34m.\u001b[0m\u001b[0mautoinit\u001b[0m\u001b[0;34m\u001b[0m\u001b[0;34m\u001b[0m\u001b[0m\n\u001b[0m\u001b[1;32m      2\u001b[0m \u001b[0;32mfrom\u001b[0m \u001b[0mpycuda\u001b[0m \u001b[0;32mimport\u001b[0m \u001b[0mdriver\u001b[0m\u001b[0;34m,\u001b[0m \u001b[0mcompiler\u001b[0m\u001b[0;34m,\u001b[0m \u001b[0mgpuarray\u001b[0m\u001b[0;34m\u001b[0m\u001b[0;34m\u001b[0m\u001b[0m\n",
            "\u001b[0;32m/usr/local/lib/python3.6/dist-packages/pycuda/autoinit.py\u001b[0m in \u001b[0;36m<module>\u001b[0;34m()\u001b[0m\n\u001b[1;32m      3\u001b[0m \u001b[0;34m\u001b[0m\u001b[0m\n\u001b[1;32m      4\u001b[0m \u001b[0;31m# Initialize CUDA\u001b[0m\u001b[0;34m\u001b[0m\u001b[0;34m\u001b[0m\u001b[0;34m\u001b[0m\u001b[0m\n\u001b[0;32m----> 5\u001b[0;31m \u001b[0mcuda\u001b[0m\u001b[0;34m.\u001b[0m\u001b[0minit\u001b[0m\u001b[0;34m(\u001b[0m\u001b[0;34m)\u001b[0m\u001b[0;34m\u001b[0m\u001b[0;34m\u001b[0m\u001b[0m\n\u001b[0m\u001b[1;32m      6\u001b[0m \u001b[0;34m\u001b[0m\u001b[0m\n\u001b[1;32m      7\u001b[0m \u001b[0;32mfrom\u001b[0m \u001b[0mpycuda\u001b[0m\u001b[0;34m.\u001b[0m\u001b[0mtools\u001b[0m \u001b[0;32mimport\u001b[0m \u001b[0mmake_default_context\u001b[0m\u001b[0;34m\u001b[0m\u001b[0;34m\u001b[0m\u001b[0m\n",
            "\u001b[0;31mRuntimeError\u001b[0m: cuInit failed: no CUDA-capable device is detected"
          ]
        }
      ]
    },
    {
      "cell_type": "code",
      "metadata": {
        "id": "ue0YVTnTDezK"
      },
      "source": [
        ""
      ],
      "execution_count": null,
      "outputs": []
    },
    {
      "cell_type": "code",
      "metadata": {
        "id": "L7q7FZ57De9F"
      },
      "source": [
        ""
      ],
      "execution_count": null,
      "outputs": []
    },
    {
      "cell_type": "code",
      "metadata": {
        "id": "NMTMHz4FDfGJ"
      },
      "source": [
        ""
      ],
      "execution_count": null,
      "outputs": []
    },
    {
      "cell_type": "code",
      "metadata": {
        "id": "DBc4e-RpDfPX"
      },
      "source": [
        ""
      ],
      "execution_count": null,
      "outputs": []
    },
    {
      "cell_type": "code",
      "metadata": {
        "id": "uMFJV6NyDfWo"
      },
      "source": [
        ""
      ],
      "execution_count": null,
      "outputs": []
    },
    {
      "cell_type": "code",
      "metadata": {
        "id": "khxsTSSWDff7"
      },
      "source": [
        ""
      ],
      "execution_count": null,
      "outputs": []
    }
  ]
}