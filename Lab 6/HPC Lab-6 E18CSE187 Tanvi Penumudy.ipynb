{
  "nbformat": 4,
  "nbformat_minor": 0,
  "metadata": {
    "colab": {
      "name": "HPC Lab 6 E18CSE187 Tanvi P.ipynb",
      "provenance": [],
      "collapsed_sections": []
    },
    "kernelspec": {
      "name": "python3",
      "display_name": "Python 3"
    }
  },
  "cells": [
    {
      "cell_type": "markdown",
      "metadata": {
        "id": "Z-Gn17VmOg6B"
      },
      "source": [
        "## HPC Lab-6\r\n",
        "Name: Tanvi Penumudy\r\n",
        "\r\n",
        "Enroll No: E18CSE187"
      ]
    },
    {
      "cell_type": "code",
      "metadata": {
        "id": "fcisyZuf18gi"
      },
      "source": [
        "import multiprocessing \r\n",
        "import os \r\n",
        "import time\r\n",
        "import numpy as np"
      ],
      "execution_count": 16,
      "outputs": []
    },
    {
      "cell_type": "markdown",
      "metadata": {
        "id": "y0kUn-oF8kJ1"
      },
      "source": [
        "I. Serial Implementation\r\n"
      ]
    },
    {
      "cell_type": "code",
      "metadata": {
        "id": "kyk3rD7G2Dn4"
      },
      "source": [
        "import random\r\n",
        "X = [random.choices(range(9,999), k=4) for _ in range(4)]\r\n",
        "Y = [random.choices(range(9,999), k=4) for _ in range(4)]\r\n",
        "result = [[0,0,0,0],[0,0,0,0],[0,0,0,0],[0,0,0,0]]"
      ],
      "execution_count": 77,
      "outputs": []
    },
    {
      "cell_type": "code",
      "metadata": {
        "colab": {
          "base_uri": "https://localhost:8080/"
        },
        "id": "zFAZ8aGD2Dp5",
        "outputId": "97671857-b5d4-4218-cd78-4a0bcaa99f9d"
      },
      "source": [
        "print(X)\r\n",
        "print(Y)\r\n",
        "print(result)"
      ],
      "execution_count": 78,
      "outputs": [
        {
          "output_type": "stream",
          "text": [
            "[[882, 741, 572, 992], [519, 305, 962, 425], [199, 395, 599, 881], [399, 426, 772, 371]]\n",
            "[[70, 891, 226, 183], [884, 649, 690, 930], [528, 953, 937, 247], [729, 730, 622, 406]]\n",
            "[[0, 0, 0, 0], [0, 0, 0, 0], [0, 0, 0, 0], [0, 0, 0, 0]]\n"
          ],
          "name": "stdout"
        }
      ]
    },
    {
      "cell_type": "code",
      "metadata": {
        "colab": {
          "base_uri": "https://localhost:8080/"
        },
        "id": "faaWFnpp2DtG",
        "outputId": "0a9e301d-cac8-4ce1-cb95-8b87cb53fb13"
      },
      "source": [
        "%%time\r\n",
        "for i in range(len(X)):\r\n",
        "   for j in range(len(Y[0])):\r\n",
        "       for k in range(len(Y)):\r\n",
        "           result[i][j] += X[i][k] * Y[k][j]\r\n",
        "print(result)"
      ],
      "execution_count": 79,
      "outputs": [
        {
          "output_type": "stream",
          "text": [
            "[[1741968, 2536047, 1863610, 1394572], [1123711, 1887410, 1493488, 788791], [1321631, 1647641, 1426769, 909406], [1082589, 1638529, 1338240, 810507]]\n",
            "CPU times: user 1.16 ms, sys: 16 µs, total: 1.18 ms\n",
            "Wall time: 1.24 ms\n"
          ],
          "name": "stdout"
        }
      ]
    },
    {
      "cell_type": "code",
      "metadata": {
        "id": "BeS4QWG-EefT"
      },
      "source": [
        "# Changing N Value\r\n",
        "U = [random.choices(range(9,999), k=8) for _ in range(8)]\r\n",
        "V = [random.choices(range(9,999), k=8) for _ in range(8)]\r\n",
        "def zeros(rows,cols):\r\n",
        "  return [([0]*cols) for i in range(rows)]\r\n",
        "r = zeros(8,8)"
      ],
      "execution_count": 80,
      "outputs": []
    },
    {
      "cell_type": "code",
      "metadata": {
        "colab": {
          "base_uri": "https://localhost:8080/"
        },
        "id": "stZJBWfqEepd",
        "outputId": "d93d17e8-61b2-4fa4-ffc0-425c691a716d"
      },
      "source": [
        "%%time\r\n",
        "for i in range(len(U)):\r\n",
        "   for j in range(len(V[0])):\r\n",
        "       for k in range(len(V)):\r\n",
        "           r[i][j] += U[i][k] * V[k][j]\r\n",
        "print(r)"
      ],
      "execution_count": 81,
      "outputs": [
        {
          "output_type": "stream",
          "text": [
            "[[1785161, 2066644, 2052930, 1615890, 1881700, 1568936, 846661, 1048269], [2754460, 2520839, 2577981, 2247542, 2719076, 1605787, 1472405, 1560552], [2023084, 1826475, 1796767, 1137473, 2115736, 864259, 1230269, 1603023], [1916034, 1675327, 1907385, 1665524, 1823832, 1187624, 1225676, 1067248], [2451892, 1658709, 1953031, 2324864, 2030310, 1249589, 1438451, 1114459], [3528284, 3305970, 3163650, 2728300, 3351610, 2315535, 1811483, 2434469], [3185363, 3127996, 2867473, 2654045, 3161196, 2142059, 1219570, 1842523], [2280625, 2120251, 2034148, 2069679, 2145635, 1585113, 1334458, 1693992]]\n",
            "CPU times: user 443 µs, sys: 0 ns, total: 443 µs\n",
            "Wall time: 453 µs\n"
          ],
          "name": "stdout"
        }
      ]
    },
    {
      "cell_type": "code",
      "metadata": {
        "id": "SkCEvXFyDIN_"
      },
      "source": [
        "# Changing Data Type\r\n",
        "K = np.random.uniform(9,999,[4,4])\r\n",
        "L = np.random.uniform(9,999,[4,4])\r\n",
        "res = np.zeros((4,4))\r\n",
        "K = K.tolist()\r\n",
        "L = L.tolist()"
      ],
      "execution_count": 82,
      "outputs": []
    },
    {
      "cell_type": "code",
      "metadata": {
        "colab": {
          "base_uri": "https://localhost:8080/"
        },
        "id": "U1cCYsh5DIZc",
        "outputId": "855ccd32-0459-43b8-e623-895b55a47fb3"
      },
      "source": [
        "%%time\r\n",
        "for i in range(len(K)):\r\n",
        "   for j in range(len(L[0])):\r\n",
        "       for k in range(len(L)):\r\n",
        "           res[i][j] += K[i][k] * L[k][j]\r\n",
        "print(res)"
      ],
      "execution_count": 83,
      "outputs": [
        {
          "output_type": "stream",
          "text": [
            "[[ 818679.58652817 1234585.38164184  973918.98366409  868929.70269772]\n",
            " [ 828679.24059353 1326752.72918571 1142772.50337486  967767.49205869]\n",
            " [1252739.47616991 1503658.07291444  885776.79615036  910204.92619964]\n",
            " [1293781.93738312 1620874.2669811  1269688.05380174 1137132.26054797]]\n",
            "CPU times: user 902 µs, sys: 0 ns, total: 902 µs\n",
            "Wall time: 815 µs\n"
          ],
          "name": "stdout"
        }
      ]
    },
    {
      "cell_type": "markdown",
      "metadata": {
        "id": "OZWF-iQk8s0P"
      },
      "source": [
        "II. Data Parallel Implementation "
      ]
    },
    {
      "cell_type": "code",
      "metadata": {
        "colab": {
          "base_uri": "https://localhost:8080/"
        },
        "id": "4wUop3m63bTt",
        "outputId": "1bed25ee-a0ec-4e03-d462-cbbf3b55f7ba"
      },
      "source": [
        "%%time\r\n",
        "def worker1(X, Y, result): \r\n",
        "  for i in range(len(X)):\r\n",
        "   for j in range(len(Y[0])):\r\n",
        "       for k in range(len(Y)):\r\n",
        "           result[i][j] += X[i][k] * Y[k][j]\r\n",
        "  return result\r\n",
        "\r\n",
        "def worker2(X, Y, result):\r\n",
        "  for i in range(len(X)):\r\n",
        "   for j in range(len(Y[0])):\r\n",
        "       for k in range(len(Y)):\r\n",
        "           result[i][j] += X[i][k] * Y[k][j]\r\n",
        "  return result\r\n",
        "  \r\n",
        "if __name__ == \"__main__\": \r\n",
        "\r\n",
        "  # creating processes \r\n",
        "  p1 = multiprocessing.Process(target=worker1) \r\n",
        "  p2 = multiprocessing.Process(target=worker2)\r\n",
        "\r\n",
        "  # starting processes \r\n",
        "  p1.start() \r\n",
        "  p2.start()\r\n",
        "\r\n",
        "  # wait until processes are finished \r\n",
        "  p1.join() \r\n",
        "  p2.join() \r\n",
        "\r\n",
        "  # both processes finished \r\n",
        "  print(worker1(X[:2],Y,[[0,0,0,0],[0,0,0,0]]))\r\n",
        "  print(worker2(X[2:],Y,[[0,0,0,0],[0,0,0,0]]))\r\n",
        "  print(\"Done!\")"
      ],
      "execution_count": 84,
      "outputs": [
        {
          "output_type": "stream",
          "text": [
            "Process Process-7:\n",
            "Traceback (most recent call last):\n",
            "  File \"/usr/lib/python3.6/multiprocessing/process.py\", line 258, in _bootstrap\n",
            "    self.run()\n",
            "  File \"/usr/lib/python3.6/multiprocessing/process.py\", line 93, in run\n",
            "    self._target(*self._args, **self._kwargs)\n",
            "Process Process-8:\n",
            "TypeError: worker1() missing 3 required positional arguments: 'X', 'Y', and 'result'\n",
            "Traceback (most recent call last):\n",
            "  File \"/usr/lib/python3.6/multiprocessing/process.py\", line 258, in _bootstrap\n",
            "    self.run()\n",
            "  File \"/usr/lib/python3.6/multiprocessing/process.py\", line 93, in run\n",
            "    self._target(*self._args, **self._kwargs)\n",
            "TypeError: worker2() missing 3 required positional arguments: 'X', 'Y', and 'result'\n"
          ],
          "name": "stderr"
        },
        {
          "output_type": "stream",
          "text": [
            "[[1741968, 2536047, 1863610, 1394572], [1123711, 1887410, 1493488, 788791]]\n",
            "[[1321631, 1647641, 1426769, 909406], [1082589, 1638529, 1338240, 810507]]\n",
            "Done!\n",
            "CPU times: user 9.62 ms, sys: 19 ms, total: 28.7 ms\n",
            "Wall time: 68.2 ms\n"
          ],
          "name": "stdout"
        }
      ]
    },
    {
      "cell_type": "code",
      "metadata": {
        "colab": {
          "base_uri": "https://localhost:8080/"
        },
        "id": "xiDFTmWBFKkO",
        "outputId": "e2025b60-1ca8-4276-f800-56a55291c5c6"
      },
      "source": [
        "# Changing N Value\r\n",
        "%%time\r\n",
        "def worker1(X, Y, result): \r\n",
        "  for i in range(len(X)):\r\n",
        "   for j in range(len(Y[0])):\r\n",
        "       for k in range(len(Y)):\r\n",
        "           result[i][j] += X[i][k] * Y[k][j]\r\n",
        "  return result\r\n",
        "\r\n",
        "def worker2(X, Y, result):\r\n",
        "  for i in range(len(X)):\r\n",
        "   for j in range(len(Y[0])):\r\n",
        "       for k in range(len(Y)):\r\n",
        "           result[i][j] += X[i][k] * Y[k][j]\r\n",
        "  return result\r\n",
        "  \r\n",
        "if __name__ == \"__main__\": \r\n",
        "\r\n",
        "  # creating processes \r\n",
        "  p1 = multiprocessing.Process(target=worker1) \r\n",
        "  p2 = multiprocessing.Process(target=worker2)\r\n",
        "\r\n",
        "  # starting processes \r\n",
        "  p1.start() \r\n",
        "  p2.start()\r\n",
        "\r\n",
        "  # wait until processes are finished \r\n",
        "  p1.join() \r\n",
        "  p2.join() \r\n",
        "\r\n",
        "  # both processes finished \r\n",
        "  print(worker1(U[:4],V,zeros(4,8)))\r\n",
        "  print(worker2(U[4:],V,zeros(4,8)))\r\n",
        "  print(\"Done!\")"
      ],
      "execution_count": 85,
      "outputs": [
        {
          "output_type": "stream",
          "text": [
            "Process Process-9:\n",
            "Traceback (most recent call last):\n",
            "Process Process-10:\n",
            "Traceback (most recent call last):\n",
            "  File \"/usr/lib/python3.6/multiprocessing/process.py\", line 258, in _bootstrap\n",
            "    self.run()\n",
            "  File \"/usr/lib/python3.6/multiprocessing/process.py\", line 258, in _bootstrap\n",
            "    self.run()\n",
            "  File \"/usr/lib/python3.6/multiprocessing/process.py\", line 93, in run\n",
            "    self._target(*self._args, **self._kwargs)\n",
            "  File \"/usr/lib/python3.6/multiprocessing/process.py\", line 93, in run\n",
            "    self._target(*self._args, **self._kwargs)\n",
            "TypeError: worker1() missing 3 required positional arguments: 'X', 'Y', and 'result'\n",
            "TypeError: worker2() missing 3 required positional arguments: 'X', 'Y', and 'result'\n"
          ],
          "name": "stderr"
        },
        {
          "output_type": "stream",
          "text": [
            "[[1785161, 2066644, 2052930, 1615890, 1881700, 1568936, 846661, 1048269], [2754460, 2520839, 2577981, 2247542, 2719076, 1605787, 1472405, 1560552], [2023084, 1826475, 1796767, 1137473, 2115736, 864259, 1230269, 1603023], [1916034, 1675327, 1907385, 1665524, 1823832, 1187624, 1225676, 1067248]]\n",
            "[[2451892, 1658709, 1953031, 2324864, 2030310, 1249589, 1438451, 1114459], [3528284, 3305970, 3163650, 2728300, 3351610, 2315535, 1811483, 2434469], [3185363, 3127996, 2867473, 2654045, 3161196, 2142059, 1219570, 1842523], [2280625, 2120251, 2034148, 2069679, 2145635, 1585113, 1334458, 1693992]]\n",
            "Done!\n",
            "CPU times: user 9.17 ms, sys: 16.8 ms, total: 26 ms\n",
            "Wall time: 63.3 ms\n"
          ],
          "name": "stdout"
        }
      ]
    },
    {
      "cell_type": "code",
      "metadata": {
        "colab": {
          "base_uri": "https://localhost:8080/"
        },
        "id": "BimIaxNKFmu3",
        "outputId": "69c145a9-a9d8-42a7-b031-6d1c006623e8"
      },
      "source": [
        "# Changing Data Type\r\n",
        "def worker1(X, Y, result): \r\n",
        "  for i in range(len(X)):\r\n",
        "   for j in range(len(Y[0])):\r\n",
        "       for k in range(len(Y)):\r\n",
        "           result[i][j] += X[i][k] * Y[k][j]\r\n",
        "  return result\r\n",
        "\r\n",
        "def worker2(X, Y, result):\r\n",
        "  for i in range(len(X)):\r\n",
        "   for j in range(len(Y[0])):\r\n",
        "       for k in range(len(Y)):\r\n",
        "           result[i][j] += X[i][k] * Y[k][j]\r\n",
        "  return result\r\n",
        "  \r\n",
        "if __name__ == \"__main__\": \r\n",
        "\r\n",
        "  # creating processes \r\n",
        "  p1 = multiprocessing.Process(target=worker1) \r\n",
        "  p2 = multiprocessing.Process(target=worker2)\r\n",
        "\r\n",
        "  # starting processes \r\n",
        "  p1.start() \r\n",
        "  p2.start()\r\n",
        "\r\n",
        "  # wait until processes are finished \r\n",
        "  p1.join() \r\n",
        "  p2.join() \r\n",
        "\r\n",
        "  # both processes finished \r\n",
        "  print(worker1(K[:2],L,np.zeros((2,4))))\r\n",
        "  print(worker2(K[2:],L,np.zeros((2,4))))\r\n",
        "  print(\"Done!\")"
      ],
      "execution_count": 87,
      "outputs": [
        {
          "output_type": "stream",
          "text": [
            "Process Process-13:\n",
            "Process Process-14:\n",
            "Traceback (most recent call last):\n",
            "Traceback (most recent call last):\n",
            "  File \"/usr/lib/python3.6/multiprocessing/process.py\", line 258, in _bootstrap\n",
            "    self.run()\n",
            "  File \"/usr/lib/python3.6/multiprocessing/process.py\", line 93, in run\n",
            "    self._target(*self._args, **self._kwargs)\n",
            "TypeError: worker2() missing 3 required positional arguments: 'X', 'Y', and 'result'\n",
            "  File \"/usr/lib/python3.6/multiprocessing/process.py\", line 258, in _bootstrap\n",
            "    self.run()\n",
            "  File \"/usr/lib/python3.6/multiprocessing/process.py\", line 93, in run\n",
            "    self._target(*self._args, **self._kwargs)\n",
            "TypeError: worker1() missing 3 required positional arguments: 'X', 'Y', and 'result'\n"
          ],
          "name": "stderr"
        },
        {
          "output_type": "stream",
          "text": [
            "[[ 818679.58652817 1234585.38164184  973918.98366409  868929.70269772]\n",
            " [ 828679.24059353 1326752.72918571 1142772.50337486  967767.49205869]]\n",
            "[[1252739.47616991 1503658.07291444  885776.79615036  910204.92619964]\n",
            " [1293781.93738312 1620874.2669811  1269688.05380174 1137132.26054797]]\n",
            "Done!\n"
          ],
          "name": "stdout"
        }
      ]
    },
    {
      "cell_type": "markdown",
      "metadata": {
        "id": "wzcifDVS8xtV"
      },
      "source": [
        "III. Numpy"
      ]
    },
    {
      "cell_type": "code",
      "metadata": {
        "id": "2GQLdap03oZr"
      },
      "source": [
        "A = np.array(X)\r\n",
        "B = np.array(Y)"
      ],
      "execution_count": 88,
      "outputs": []
    },
    {
      "cell_type": "code",
      "metadata": {
        "colab": {
          "base_uri": "https://localhost:8080/"
        },
        "id": "6IWbfE-i3oe8",
        "outputId": "21f696ec-379d-4b1c-8347-350076ed40da"
      },
      "source": [
        "%%time\r\n",
        "print(np.dot(A,B))"
      ],
      "execution_count": 89,
      "outputs": [
        {
          "output_type": "stream",
          "text": [
            "[[1741968 2536047 1863610 1394572]\n",
            " [1123711 1887410 1493488  788791]\n",
            " [1321631 1647641 1426769  909406]\n",
            " [1082589 1638529 1338240  810507]]\n",
            "CPU times: user 273 µs, sys: 27 µs, total: 300 µs\n",
            "Wall time: 305 µs\n"
          ],
          "name": "stdout"
        }
      ]
    },
    {
      "cell_type": "code",
      "metadata": {
        "id": "w5ux11NgGECa"
      },
      "source": [
        "# Changing N Value\r\n",
        "C = np.array(U)\r\n",
        "D = np.array(V)"
      ],
      "execution_count": 90,
      "outputs": []
    },
    {
      "cell_type": "code",
      "metadata": {
        "colab": {
          "base_uri": "https://localhost:8080/"
        },
        "id": "0yQBIPcxGEPw",
        "outputId": "078908c8-f226-440a-8071-fd0c9d90ede7"
      },
      "source": [
        "%%time\r\n",
        "print(np.dot(C,D))"
      ],
      "execution_count": 91,
      "outputs": [
        {
          "output_type": "stream",
          "text": [
            "[[1785161 2066644 2052930 1615890 1881700 1568936  846661 1048269]\n",
            " [2754460 2520839 2577981 2247542 2719076 1605787 1472405 1560552]\n",
            " [2023084 1826475 1796767 1137473 2115736  864259 1230269 1603023]\n",
            " [1916034 1675327 1907385 1665524 1823832 1187624 1225676 1067248]\n",
            " [2451892 1658709 1953031 2324864 2030310 1249589 1438451 1114459]\n",
            " [3528284 3305970 3163650 2728300 3351610 2315535 1811483 2434469]\n",
            " [3185363 3127996 2867473 2654045 3161196 2142059 1219570 1842523]\n",
            " [2280625 2120251 2034148 2069679 2145635 1585113 1334458 1693992]]\n",
            "CPU times: user 1.17 ms, sys: 16 µs, total: 1.19 ms\n",
            "Wall time: 944 µs\n"
          ],
          "name": "stdout"
        }
      ]
    },
    {
      "cell_type": "code",
      "metadata": {
        "id": "S7QiyYJbGEaO"
      },
      "source": [
        "# Changing Data Type\r\n",
        "E = np.array(K)\r\n",
        "F = np.array(L)"
      ],
      "execution_count": 92,
      "outputs": []
    },
    {
      "cell_type": "code",
      "metadata": {
        "colab": {
          "base_uri": "https://localhost:8080/"
        },
        "id": "Yppk8WVHGElU",
        "outputId": "442465ce-a167-4f91-a1cd-224e5df84479"
      },
      "source": [
        "%%time\r\n",
        "print(np.dot(E,F))"
      ],
      "execution_count": 93,
      "outputs": [
        {
          "output_type": "stream",
          "text": [
            "[[ 818679.58652817 1234585.38164184  973918.98366409  868929.70269772]\n",
            " [ 828679.24059353 1326752.72918571 1142772.50337486  967767.49205869]\n",
            " [1252739.47616991 1503658.07291444  885776.79615036  910204.92619964]\n",
            " [1293781.93738312 1620874.2669811  1269688.05380174 1137132.26054797]]\n",
            "CPU times: user 1.28 ms, sys: 22 µs, total: 1.3 ms\n",
            "Wall time: 1.17 ms\n"
          ],
          "name": "stdout"
        }
      ]
    },
    {
      "cell_type": "markdown",
      "metadata": {
        "id": "zAl8n5XL8-Lt"
      },
      "source": [
        "IV. Scipy\r\n"
      ]
    },
    {
      "cell_type": "code",
      "metadata": {
        "id": "D6v-O4G489M3"
      },
      "source": [
        "from scipy import linalg"
      ],
      "execution_count": 94,
      "outputs": []
    },
    {
      "cell_type": "code",
      "metadata": {
        "id": "mDDP7N6389aE"
      },
      "source": [
        "A = np.array(X)\r\n",
        "B = np.array(Y)"
      ],
      "execution_count": 95,
      "outputs": []
    },
    {
      "cell_type": "code",
      "metadata": {
        "colab": {
          "base_uri": "https://localhost:8080/"
        },
        "id": "aB9TbEj889kI",
        "outputId": "bb3d9892-7b27-4077-b6a2-7431c5797f50"
      },
      "source": [
        "%%time\r\n",
        "print(A.dot(B))"
      ],
      "execution_count": 96,
      "outputs": [
        {
          "output_type": "stream",
          "text": [
            "[[1741968 2536047 1863610 1394572]\n",
            " [1123711 1887410 1493488  788791]\n",
            " [1321631 1647641 1426769  909406]\n",
            " [1082589 1638529 1338240  810507]]\n",
            "CPU times: user 1.01 ms, sys: 100 µs, total: 1.11 ms\n",
            "Wall time: 1 ms\n"
          ],
          "name": "stdout"
        }
      ]
    },
    {
      "cell_type": "code",
      "metadata": {
        "colab": {
          "base_uri": "https://localhost:8080/"
        },
        "id": "wpfx_eHLGlay",
        "outputId": "ade91277-91f0-418d-dd1f-7f5fdd343b04"
      },
      "source": [
        "# Changing N Value\r\n",
        "%%time\r\n",
        "print(C.dot(D))"
      ],
      "execution_count": 97,
      "outputs": [
        {
          "output_type": "stream",
          "text": [
            "[[1785161 2066644 2052930 1615890 1881700 1568936  846661 1048269]\n",
            " [2754460 2520839 2577981 2247542 2719076 1605787 1472405 1560552]\n",
            " [2023084 1826475 1796767 1137473 2115736  864259 1230269 1603023]\n",
            " [1916034 1675327 1907385 1665524 1823832 1187624 1225676 1067248]\n",
            " [2451892 1658709 1953031 2324864 2030310 1249589 1438451 1114459]\n",
            " [3528284 3305970 3163650 2728300 3351610 2315535 1811483 2434469]\n",
            " [3185363 3127996 2867473 2654045 3161196 2142059 1219570 1842523]\n",
            " [2280625 2120251 2034148 2069679 2145635 1585113 1334458 1693992]]\n",
            "CPU times: user 1.02 ms, sys: 2 µs, total: 1.02 ms\n",
            "Wall time: 1.04 ms\n"
          ],
          "name": "stdout"
        }
      ]
    },
    {
      "cell_type": "code",
      "metadata": {
        "colab": {
          "base_uri": "https://localhost:8080/"
        },
        "id": "SeQwVf_HGlpA",
        "outputId": "05c18694-b985-404e-d90e-9a596206b34b"
      },
      "source": [
        "# Changing Data Type\r\n",
        "%%time\r\n",
        "print(E.dot(F))"
      ],
      "execution_count": 98,
      "outputs": [
        {
          "output_type": "stream",
          "text": [
            "[[ 818679.58652817 1234585.38164184  973918.98366409  868929.70269772]\n",
            " [ 828679.24059353 1326752.72918571 1142772.50337486  967767.49205869]\n",
            " [1252739.47616991 1503658.07291444  885776.79615036  910204.92619964]\n",
            " [1293781.93738312 1620874.2669811  1269688.05380174 1137132.26054797]]\n",
            "CPU times: user 1.62 ms, sys: 61 µs, total: 1.68 ms\n",
            "Wall time: 1.74 ms\n"
          ],
          "name": "stdout"
        }
      ]
    },
    {
      "cell_type": "markdown",
      "metadata": {
        "id": "_CnIBWST9KSf"
      },
      "source": [
        "V. Pandas"
      ]
    },
    {
      "cell_type": "code",
      "metadata": {
        "id": "_OMkM_wB9QpD"
      },
      "source": [
        "import pandas as pd"
      ],
      "execution_count": 99,
      "outputs": []
    },
    {
      "cell_type": "code",
      "metadata": {
        "id": "6CdwwFrn9Qzr"
      },
      "source": [
        "A = pd.DataFrame(X)\r\n",
        "B = pd.DataFrame(Y)"
      ],
      "execution_count": 100,
      "outputs": []
    },
    {
      "cell_type": "code",
      "metadata": {
        "colab": {
          "base_uri": "https://localhost:8080/"
        },
        "id": "VAi13Fw09Q9M",
        "outputId": "bdfd6e50-6cef-49ee-fab0-987c1afa89a1"
      },
      "source": [
        "%%time\r\n",
        "print(A.dot(B))"
      ],
      "execution_count": 101,
      "outputs": [
        {
          "output_type": "stream",
          "text": [
            "         0        1        2        3\n",
            "0  1741968  2536047  1863610  1394572\n",
            "1  1123711  1887410  1493488   788791\n",
            "2  1321631  1647641  1426769   909406\n",
            "3  1082589  1638529  1338240   810507\n",
            "CPU times: user 9.42 ms, sys: 5.89 ms, total: 15.3 ms\n",
            "Wall time: 20.8 ms\n"
          ],
          "name": "stdout"
        }
      ]
    },
    {
      "cell_type": "code",
      "metadata": {
        "id": "Ngy-6holG6u3"
      },
      "source": [
        "# Changing N Value\r\n",
        "C = pd.DataFrame(U)\r\n",
        "D = pd.DataFrame(V)"
      ],
      "execution_count": 102,
      "outputs": []
    },
    {
      "cell_type": "code",
      "metadata": {
        "colab": {
          "base_uri": "https://localhost:8080/"
        },
        "id": "vCATF4QJG6-2",
        "outputId": "25e3c108-a90f-4ae6-ebe2-81f43ea2ec9d"
      },
      "source": [
        "%%time\r\n",
        "print(C.dot(D))"
      ],
      "execution_count": 103,
      "outputs": [
        {
          "output_type": "stream",
          "text": [
            "         0        1        2        3        4        5        6        7\n",
            "0  1785161  2066644  2052930  1615890  1881700  1568936   846661  1048269\n",
            "1  2754460  2520839  2577981  2247542  2719076  1605787  1472405  1560552\n",
            "2  2023084  1826475  1796767  1137473  2115736   864259  1230269  1603023\n",
            "3  1916034  1675327  1907385  1665524  1823832  1187624  1225676  1067248\n",
            "4  2451892  1658709  1953031  2324864  2030310  1249589  1438451  1114459\n",
            "5  3528284  3305970  3163650  2728300  3351610  2315535  1811483  2434469\n",
            "6  3185363  3127996  2867473  2654045  3161196  2142059  1219570  1842523\n",
            "7  2280625  2120251  2034148  2069679  2145635  1585113  1334458  1693992\n",
            "CPU times: user 11.8 ms, sys: 12 µs, total: 11.8 ms\n",
            "Wall time: 14.1 ms\n"
          ],
          "name": "stdout"
        }
      ]
    },
    {
      "cell_type": "code",
      "metadata": {
        "id": "ZsBTJ87qG7LA"
      },
      "source": [
        "# Changing Data Frame\r\n",
        "E = pd.DataFrame(K)\r\n",
        "F = pd.DataFrame(L)"
      ],
      "execution_count": 105,
      "outputs": []
    },
    {
      "cell_type": "code",
      "metadata": {
        "colab": {
          "base_uri": "https://localhost:8080/"
        },
        "id": "xN4nnAL9G7W_",
        "outputId": "5649e7e1-9ab4-493d-f336-b1e6197e72d0"
      },
      "source": [
        "%%time\r\n",
        "print(E.dot(F))"
      ],
      "execution_count": 106,
      "outputs": [
        {
          "output_type": "stream",
          "text": [
            "              0             1             2             3\n",
            "0  8.186796e+05  1.234585e+06  9.739190e+05  8.689297e+05\n",
            "1  8.286792e+05  1.326753e+06  1.142773e+06  9.677675e+05\n",
            "2  1.252739e+06  1.503658e+06  8.857768e+05  9.102049e+05\n",
            "3  1.293782e+06  1.620874e+06  1.269688e+06  1.137132e+06\n",
            "CPU times: user 10.1 ms, sys: 0 ns, total: 10.1 ms\n",
            "Wall time: 10.9 ms\n"
          ],
          "name": "stdout"
        }
      ]
    },
    {
      "cell_type": "markdown",
      "metadata": {
        "id": "ekHq8Krr9YIh"
      },
      "source": [
        "VI. Sympy"
      ]
    },
    {
      "cell_type": "code",
      "metadata": {
        "id": "Zt5SujNe3oiB"
      },
      "source": [
        "from sympy import *"
      ],
      "execution_count": 107,
      "outputs": []
    },
    {
      "cell_type": "code",
      "metadata": {
        "id": "6lSnUM1w3bZ_"
      },
      "source": [
        "A = Matrix(X)\r\n",
        "B = Matrix(Y)"
      ],
      "execution_count": 108,
      "outputs": []
    },
    {
      "cell_type": "code",
      "metadata": {
        "colab": {
          "base_uri": "https://localhost:8080/"
        },
        "id": "TnRKGtux2Dut",
        "outputId": "b1d1f1fe-5663-4b70-8d9d-acad10e18bda"
      },
      "source": [
        "A"
      ],
      "execution_count": 109,
      "outputs": [
        {
          "output_type": "execute_result",
          "data": {
            "text/plain": [
              "Matrix([\n",
              "[882, 741, 572, 992],\n",
              "[519, 305, 962, 425],\n",
              "[199, 395, 599, 881],\n",
              "[399, 426, 772, 371]])"
            ]
          },
          "metadata": {
            "tags": []
          },
          "execution_count": 109
        }
      ]
    },
    {
      "cell_type": "code",
      "metadata": {
        "colab": {
          "base_uri": "https://localhost:8080/"
        },
        "id": "HCcEO-4X2DyU",
        "outputId": "4e54a80f-6921-4105-8c5a-eb32bb939ba5"
      },
      "source": [
        "B"
      ],
      "execution_count": 110,
      "outputs": [
        {
          "output_type": "execute_result",
          "data": {
            "text/plain": [
              "Matrix([\n",
              "[ 70, 891, 226, 183],\n",
              "[884, 649, 690, 930],\n",
              "[528, 953, 937, 247],\n",
              "[729, 730, 622, 406]])"
            ]
          },
          "metadata": {
            "tags": []
          },
          "execution_count": 110
        }
      ]
    },
    {
      "cell_type": "code",
      "metadata": {
        "colab": {
          "base_uri": "https://localhost:8080/"
        },
        "id": "OxxvvyE95bkJ",
        "outputId": "e0222af6-263e-4ce3-d8c7-e64ea12bb8d8"
      },
      "source": [
        "%%time\r\n",
        "print(A*B)"
      ],
      "execution_count": 111,
      "outputs": [
        {
          "output_type": "stream",
          "text": [
            "Matrix([[1741968, 2536047, 1863610, 1394572], [1123711, 1887410, 1493488, 788791], [1321631, 1647641, 1426769, 909406], [1082589, 1638529, 1338240, 810507]])\n",
            "CPU times: user 4.23 ms, sys: 987 µs, total: 5.22 ms\n",
            "Wall time: 5.25 ms\n"
          ],
          "name": "stdout"
        }
      ]
    },
    {
      "cell_type": "code",
      "metadata": {
        "id": "m_3bFQwjHdaV"
      },
      "source": [
        "# Changing N Value\r\n",
        "C = Matrix(U)\r\n",
        "D = Matrix(V)"
      ],
      "execution_count": 112,
      "outputs": []
    },
    {
      "cell_type": "code",
      "metadata": {
        "colab": {
          "base_uri": "https://localhost:8080/"
        },
        "id": "syC8ZhIZHdno",
        "outputId": "e8fa77f3-7c2a-420a-b56b-7ff99502e714"
      },
      "source": [
        "%%time\r\n",
        "print(C*D)"
      ],
      "execution_count": 113,
      "outputs": [
        {
          "output_type": "stream",
          "text": [
            "Matrix([[1785161, 2066644, 2052930, 1615890, 1881700, 1568936, 846661, 1048269], [2754460, 2520839, 2577981, 2247542, 2719076, 1605787, 1472405, 1560552], [2023084, 1826475, 1796767, 1137473, 2115736, 864259, 1230269, 1603023], [1916034, 1675327, 1907385, 1665524, 1823832, 1187624, 1225676, 1067248], [2451892, 1658709, 1953031, 2324864, 2030310, 1249589, 1438451, 1114459], [3528284, 3305970, 3163650, 2728300, 3351610, 2315535, 1811483, 2434469], [3185363, 3127996, 2867473, 2654045, 3161196, 2142059, 1219570, 1842523], [2280625, 2120251, 2034148, 2069679, 2145635, 1585113, 1334458, 1693992]])\n",
            "CPU times: user 8.41 ms, sys: 0 ns, total: 8.41 ms\n",
            "Wall time: 13.8 ms\n"
          ],
          "name": "stdout"
        }
      ]
    },
    {
      "cell_type": "code",
      "metadata": {
        "id": "hTzJQ0ztHdxw"
      },
      "source": [
        "# Changing Data Type\r\n",
        "E = Matrix(K)\r\n",
        "F = Matrix(L)"
      ],
      "execution_count": 114,
      "outputs": []
    },
    {
      "cell_type": "code",
      "metadata": {
        "colab": {
          "base_uri": "https://localhost:8080/"
        },
        "id": "7Y-f6N2aHd-a",
        "outputId": "d692158e-37bd-4ad1-bf2c-7b7cc1aa00f2"
      },
      "source": [
        "%%time\r\n",
        "print(E*F)"
      ],
      "execution_count": 115,
      "outputs": [
        {
          "output_type": "stream",
          "text": [
            "Matrix([[818679.586528175, 1234585.38164184, 973918.983664087, 868929.702697720], [828679.240593528, 1326752.72918571, 1142772.50337486, 967767.492058695], [1252739.47616991, 1503658.07291444, 885776.796150356, 910204.926199641], [1293781.93738312, 1620874.26698110, 1269688.05380174, 1137132.26054797]])\n",
            "CPU times: user 7.95 ms, sys: 0 ns, total: 7.95 ms\n",
            "Wall time: 7.98 ms\n"
          ],
          "name": "stdout"
        }
      ]
    },
    {
      "cell_type": "markdown",
      "metadata": {
        "id": "oirabFH49eyj"
      },
      "source": [
        "VII. Numba"
      ]
    },
    {
      "cell_type": "code",
      "metadata": {
        "id": "ruA-D-W59h0I"
      },
      "source": [
        "import numba\r\n",
        "from numba import jit"
      ],
      "execution_count": 116,
      "outputs": []
    },
    {
      "cell_type": "code",
      "metadata": {
        "id": "a-F0BQ0a9h_4"
      },
      "source": [
        "@jit('void(int64[:,:],int64[:,:],int64[:,:])')\r\n",
        "def numba_mul(matrix1,matrix2,rmatrix):\r\n",
        "  for i in range(len(matrix1)):\r\n",
        "    for j in range(len(matrix2[0])):\r\n",
        "      for k in range(len(matrix2)):\r\n",
        "        rmatrix[i][j] += matrix1[i][k] * matrix2[k][j]"
      ],
      "execution_count": 117,
      "outputs": []
    },
    {
      "cell_type": "code",
      "metadata": {
        "id": "IP5aIg8o9iJX"
      },
      "source": [
        "matrix1 = np.array(X)\r\n",
        "matrix2 = np.array(Y)\r\n",
        "rmatrix = np.array([[0,0,0,0],[0,0,0,0],[0,0,0,0],[0,0,0,0]])"
      ],
      "execution_count": 118,
      "outputs": []
    },
    {
      "cell_type": "code",
      "metadata": {
        "colab": {
          "base_uri": "https://localhost:8080/"
        },
        "id": "v-FW8I-E9iSv",
        "outputId": "f9a37d0c-4790-4aae-f0a8-d978c3ec164b"
      },
      "source": [
        "%%time\r\n",
        "numba_mul(matrix1,matrix2,rmatrix)\r\n",
        "for r in rmatrix:\r\n",
        "  print(r)"
      ],
      "execution_count": 119,
      "outputs": [
        {
          "output_type": "stream",
          "text": [
            "[1741968 2536047 1863610 1394572]\n",
            "[1123711 1887410 1493488  788791]\n",
            "[1321631 1647641 1426769  909406]\n",
            "[1082589 1638529 1338240  810507]\n",
            "CPU times: user 2.23 ms, sys: 827 µs, total: 3.06 ms\n",
            "Wall time: 4.46 ms\n"
          ],
          "name": "stdout"
        }
      ]
    },
    {
      "cell_type": "code",
      "metadata": {
        "id": "pXoFQdADIKHK"
      },
      "source": [
        "# Changing N Value\r\n",
        "matrix1 = np.array(U)\r\n",
        "matrix2 = np.array(V)\r\n",
        "rmatrix = np.array([[0,0,0,0,0,0,0,0],[0,0,0,0,0,0,0,0],[0,0,0,0,0,0,0,0],[0,0,0,0,0,0,0,0],[0,0,0,0,0,0,0,0],[0,0,0,0,0,0,0,0],[0,0,0,0,0,0,0,0],[0,0,0,0,0,0,0,0]])"
      ],
      "execution_count": 120,
      "outputs": []
    },
    {
      "cell_type": "code",
      "metadata": {
        "colab": {
          "base_uri": "https://localhost:8080/"
        },
        "id": "SZO7V-JWIKVe",
        "outputId": "f569f260-4c4a-41b0-d688-d17bdb5d98a8"
      },
      "source": [
        "%%time\r\n",
        "numba_mul(matrix1,matrix2,rmatrix)\r\n",
        "for r in rmatrix:\r\n",
        "  print(r)"
      ],
      "execution_count": 121,
      "outputs": [
        {
          "output_type": "stream",
          "text": [
            "[1785161 2066644 2052930 1615890 1881700 1568936  846661 1048269]\n",
            "[2754460 2520839 2577981 2247542 2719076 1605787 1472405 1560552]\n",
            "[2023084 1826475 1796767 1137473 2115736  864259 1230269 1603023]\n",
            "[1916034 1675327 1907385 1665524 1823832 1187624 1225676 1067248]\n",
            "[2451892 1658709 1953031 2324864 2030310 1249589 1438451 1114459]\n",
            "[3528284 3305970 3163650 2728300 3351610 2315535 1811483 2434469]\n",
            "[3185363 3127996 2867473 2654045 3161196 2142059 1219570 1842523]\n",
            "[2280625 2120251 2034148 2069679 2145635 1585113 1334458 1693992]\n",
            "CPU times: user 2.69 ms, sys: 988 µs, total: 3.68 ms\n",
            "Wall time: 6.59 ms\n"
          ],
          "name": "stdout"
        }
      ]
    },
    {
      "cell_type": "code",
      "metadata": {
        "id": "xTrYVMliIKgN"
      },
      "source": [
        "# Changing Data Type\r\n",
        "@jit('void(float64[:,:],float64[:,:],float64[:,:])')\r\n",
        "def numba_mul(matrix1,matrix2,rmatrix):\r\n",
        "  for i in range(len(matrix1)):\r\n",
        "    for j in range(len(matrix2[0])):\r\n",
        "      for k in range(len(matrix2)):\r\n",
        "        rmatrix[i][j] += matrix1[i][k] * matrix2[k][j]\r\n",
        "\r\n",
        "matrix1 = np.array(K)\r\n",
        "matrix2 = np.array(L)\r\n",
        "rmatrix = np.zeros((4,4))"
      ],
      "execution_count": 122,
      "outputs": []
    },
    {
      "cell_type": "code",
      "metadata": {
        "colab": {
          "base_uri": "https://localhost:8080/"
        },
        "id": "wWIver5rIOVI",
        "outputId": "ccdc62cc-2614-40b8-cb73-d3ed4eeee12c"
      },
      "source": [
        "%%time\r\n",
        "numba_mul(matrix1,matrix2,rmatrix)\r\n",
        "for r in rmatrix:\r\n",
        "  print(r)"
      ],
      "execution_count": 123,
      "outputs": [
        {
          "output_type": "stream",
          "text": [
            "[ 818679.58652817 1234585.38164184  973918.98366409  868929.70269772]\n",
            "[ 828679.24059353 1326752.72918571 1142772.50337486  967767.49205869]\n",
            "[1252739.47616991 1503658.07291444  885776.79615036  910204.92619964]\n",
            "[1293781.93738312 1620874.2669811  1269688.05380174 1137132.26054797]\n",
            "CPU times: user 1.48 ms, sys: 1.05 ms, total: 2.53 ms\n",
            "Wall time: 2.24 ms\n"
          ],
          "name": "stdout"
        }
      ]
    },
    {
      "cell_type": "markdown",
      "metadata": {
        "id": "m7OBXz8z9xBg"
      },
      "source": [
        "VIII. Linalg"
      ]
    },
    {
      "cell_type": "code",
      "metadata": {
        "colab": {
          "base_uri": "https://localhost:8080/"
        },
        "id": "gKeGGfl9-nFg",
        "outputId": "5baea3d9-ffc1-4213-f17f-44792206d04e"
      },
      "source": [
        "!pip install linalg"
      ],
      "execution_count": 124,
      "outputs": [
        {
          "output_type": "stream",
          "text": [
            "Collecting linalg\n",
            "  Downloading https://files.pythonhosted.org/packages/15/68/842a0b2821c347941611ec6bdac84656d9ee8118509b27b9779c50500880/linalg-1.0.4.tar.gz\n",
            "Building wheels for collected packages: linalg\n",
            "  Building wheel for linalg (setup.py) ... \u001b[?25l\u001b[?25hdone\n",
            "  Created wheel for linalg: filename=linalg-1.0.4-cp36-none-any.whl size=6294 sha256=21d039c6a185c3cad2dad25dad1c7d9fc7849f83f0bc3a53d6058196d40298a9\n",
            "  Stored in directory: /root/.cache/pip/wheels/a6/09/2b/ed39c10f756adfcf310484fda9ff8ca0f647fc08fb2171a76b\n",
            "Successfully built linalg\n",
            "Installing collected packages: linalg\n",
            "Successfully installed linalg-1.0.4\n"
          ],
          "name": "stdout"
        }
      ]
    },
    {
      "cell_type": "code",
      "metadata": {
        "id": "xiw-PQgt90yW"
      },
      "source": [
        "import linalg"
      ],
      "execution_count": 125,
      "outputs": []
    },
    {
      "cell_type": "code",
      "metadata": {
        "id": "ZB1yBG84909P"
      },
      "source": [
        "A = linalg.Matrix(X) \r\n",
        "B = linalg.Matrix(Y) "
      ],
      "execution_count": 126,
      "outputs": []
    },
    {
      "cell_type": "code",
      "metadata": {
        "colab": {
          "base_uri": "https://localhost:8080/"
        },
        "id": "-SGeNP1k91Ga",
        "outputId": "38086304-7cf1-4c37-f3d7-211819ac81f9"
      },
      "source": [
        "%%time\r\n",
        "print(A@B)"
      ],
      "execution_count": 127,
      "outputs": [
        {
          "output_type": "stream",
          "text": [
            "|17419 25360 18636 13945 |\n",
            "|11237 18874 14934 78879 |\n",
            "|13216 16476 14267 90940 |\n",
            "|10825 16385 13382 81050 |\n",
            "\n",
            "CPU times: user 741 µs, sys: 0 ns, total: 741 µs\n",
            "Wall time: 755 µs\n"
          ],
          "name": "stdout"
        }
      ]
    },
    {
      "cell_type": "code",
      "metadata": {
        "id": "Vyv5W5JCKZBs"
      },
      "source": [
        "# Changing N Value\r\n",
        "C = linalg.Matrix(U) \r\n",
        "D = linalg.Matrix(V) "
      ],
      "execution_count": 128,
      "outputs": []
    },
    {
      "cell_type": "code",
      "metadata": {
        "colab": {
          "base_uri": "https://localhost:8080/"
        },
        "id": "oeeLg8xzKZMz",
        "outputId": "1d4ddf09-cc5c-420b-88cc-64e1c5812ebd"
      },
      "source": [
        "%%time\r\n",
        "print(C@D)"
      ],
      "execution_count": 129,
      "outputs": [
        {
          "output_type": "stream",
          "text": [
            "|17851 20666 20529 16158 18817 15689 84666 10482 |\n",
            "|27544 25208 25779 22475 27190 16057 14724 15605 |\n",
            "|20230 18264 17967 11374 21157 86425 12302 16030 |\n",
            "|19160 16753 19073 16655 18238 11876 12256 10672 |\n",
            "|24518 16587 19530 23248 20303 12495 14384 11144 |\n",
            "|35282 33059 31636 27283 33516 23155 18114 24344 |\n",
            "|31853 31279 28674 26540 31611 21420 12195 18425 |\n",
            "|22806 21202 20341 20696 21456 15851 13344 16939 |\n",
            "\n",
            "CPU times: user 511 µs, sys: 0 ns, total: 511 µs\n",
            "Wall time: 475 µs\n"
          ],
          "name": "stdout"
        }
      ]
    },
    {
      "cell_type": "code",
      "metadata": {
        "id": "rqsvt4JNKZZL"
      },
      "source": [
        "# Changing Data Type\r\n",
        "E = linalg.Matrix(K) \r\n",
        "F = linalg.Matrix(L) "
      ],
      "execution_count": 130,
      "outputs": []
    },
    {
      "cell_type": "code",
      "metadata": {
        "colab": {
          "base_uri": "https://localhost:8080/"
        },
        "id": "rjVikF23KZmN",
        "outputId": "2f541b20-5fa4-4b67-fe50-cd620036b9e0"
      },
      "source": [
        "%%time\r\n",
        "print(E@F)"
      ],
      "execution_count": 131,
      "outputs": [
        {
          "output_type": "stream",
          "text": [
            "|81867 12345 97391 86892 |\n",
            "|82867 13267 11427 96776 |\n",
            "|12527 15036 88577 91020 |\n",
            "|12937 16208 12696 11371 |\n",
            "\n",
            "CPU times: user 813 µs, sys: 0 ns, total: 813 µs\n",
            "Wall time: 1.41 ms\n"
          ],
          "name": "stdout"
        }
      ]
    },
    {
      "cell_type": "markdown",
      "metadata": {
        "id": "bq2hcXUn973G"
      },
      "source": [
        "IX. Pymatrix"
      ]
    },
    {
      "cell_type": "code",
      "metadata": {
        "colab": {
          "base_uri": "https://localhost:8080/"
        },
        "id": "Rd3Dw8GV-QJu",
        "outputId": "a6375936-bd66-4362-da78-de54ef01b6b1"
      },
      "source": [
        "!pip install pymatrix"
      ],
      "execution_count": 132,
      "outputs": [
        {
          "output_type": "stream",
          "text": [
            "Collecting pymatrix\n",
            "  Downloading https://files.pythonhosted.org/packages/df/11/519cbfdb6ee7d7b37e8e11aff3e66b2b4270130af958df22711d5da4b030/pymatrix-3.0.1.tar.gz\n",
            "Building wheels for collected packages: pymatrix\n",
            "  Building wheel for pymatrix (setup.py) ... \u001b[?25l\u001b[?25hdone\n",
            "  Created wheel for pymatrix: filename=pymatrix-3.0.1-cp36-none-any.whl size=7067 sha256=41327efdc488898dafdbda4d6e91641c751319885d1db9242d774ed758413e7f\n",
            "  Stored in directory: /root/.cache/pip/wheels/7a/b5/9a/d5e6c01679e1a22385c2112e667314703a79fe7560a33f824c\n",
            "Successfully built pymatrix\n",
            "Installing collected packages: pymatrix\n",
            "Successfully installed pymatrix-3.0.1\n"
          ],
          "name": "stdout"
        }
      ]
    },
    {
      "cell_type": "code",
      "metadata": {
        "id": "yqvj5-L1-QT3"
      },
      "source": [
        "from pymatrix import matrix"
      ],
      "execution_count": 133,
      "outputs": []
    },
    {
      "cell_type": "code",
      "metadata": {
        "id": "8FrrP_Js-Vsq"
      },
      "source": [
        "A = matrix(X)\r\n",
        "B = matrix(Y)"
      ],
      "execution_count": 134,
      "outputs": []
    },
    {
      "cell_type": "code",
      "metadata": {
        "colab": {
          "base_uri": "https://localhost:8080/"
        },
        "id": "vDq-mVwi-Qc0",
        "outputId": "912695d7-fe0d-46a3-b4af-09aa5817b6e2"
      },
      "source": [
        "%%time\r\n",
        "print(A*B)"
      ],
      "execution_count": 135,
      "outputs": [
        {
          "output_type": "stream",
          "text": [
            "1741968 2536047 1863610 1394572\n",
            "1123711 1887410 1493488  788791\n",
            "1321631 1647641 1426769  909406\n",
            "1082589 1638529 1338240  810507\n",
            "CPU times: user 498 µs, sys: 969 µs, total: 1.47 ms\n",
            "Wall time: 1.55 ms\n"
          ],
          "name": "stdout"
        }
      ]
    },
    {
      "cell_type": "code",
      "metadata": {
        "id": "2igZi84rKw3p"
      },
      "source": [
        "# Changing N Value\r\n",
        "C = matrix(U)\r\n",
        "D = matrix(V)"
      ],
      "execution_count": 136,
      "outputs": []
    },
    {
      "cell_type": "code",
      "metadata": {
        "colab": {
          "base_uri": "https://localhost:8080/"
        },
        "id": "dzNDsdmaKxDC",
        "outputId": "55a1e315-ea7d-45a9-9c06-71804e9fbf2b"
      },
      "source": [
        "%%time\r\n",
        "print(C*D)"
      ],
      "execution_count": 137,
      "outputs": [
        {
          "output_type": "stream",
          "text": [
            "1785161 2066644 2052930 1615890 1881700 1568936  846661 1048269\n",
            "2754460 2520839 2577981 2247542 2719076 1605787 1472405 1560552\n",
            "2023084 1826475 1796767 1137473 2115736  864259 1230269 1603023\n",
            "1916034 1675327 1907385 1665524 1823832 1187624 1225676 1067248\n",
            "2451892 1658709 1953031 2324864 2030310 1249589 1438451 1114459\n",
            "3528284 3305970 3163650 2728300 3351610 2315535 1811483 2434469\n",
            "3185363 3127996 2867473 2654045 3161196 2142059 1219570 1842523\n",
            "2280625 2120251 2034148 2069679 2145635 1585113 1334458 1693992\n",
            "CPU times: user 1.15 ms, sys: 15 µs, total: 1.17 ms\n",
            "Wall time: 1.1 ms\n"
          ],
          "name": "stdout"
        }
      ]
    },
    {
      "cell_type": "code",
      "metadata": {
        "id": "CtlVW-QfKxNg"
      },
      "source": [
        "# Changing Data Type\r\n",
        "E = matrix(K)\r\n",
        "F = matrix(L)"
      ],
      "execution_count": 138,
      "outputs": []
    },
    {
      "cell_type": "code",
      "metadata": {
        "colab": {
          "base_uri": "https://localhost:8080/"
        },
        "id": "k9r4pceyKxaw",
        "outputId": "6d61bb42-0f9d-4a91-bfd3-7e951227ef0d"
      },
      "source": [
        "%%time\r\n",
        "print(E*F)"
      ],
      "execution_count": 139,
      "outputs": [
        {
          "output_type": "stream",
          "text": [
            " 818679.5865281747 1234585.3816418373  973918.9836640868  868929.7026977197\n",
            " 828679.2405935277 1326752.7291857116  1142772.503374862  967767.4920586946\n",
            "1252739.4761699121 1503658.0729144425  885776.7961503561  910204.9261996413\n",
            "1293781.9373831188 1620874.2669810983 1269688.0538017412  1137132.260547974\n",
            "CPU times: user 0 ns, sys: 861 µs, total: 861 µs\n",
            "Wall time: 1.26 ms\n"
          ],
          "name": "stdout"
        }
      ]
    },
    {
      "cell_type": "markdown",
      "metadata": {
        "id": "ld9IzzEB-c_x"
      },
      "source": [
        "X. TensorFlow"
      ]
    },
    {
      "cell_type": "code",
      "metadata": {
        "id": "_7ZRQYnv5ira"
      },
      "source": [
        "import tensorflow as tf"
      ],
      "execution_count": 140,
      "outputs": []
    },
    {
      "cell_type": "code",
      "metadata": {
        "colab": {
          "base_uri": "https://localhost:8080/"
        },
        "id": "Aoe7opmX8IpW",
        "outputId": "ad510e70-f1d1-41c1-caa9-4695fb0b3529"
      },
      "source": [
        "%%time\r\n",
        "print(tf.matmul(X, Y))"
      ],
      "execution_count": 141,
      "outputs": [
        {
          "output_type": "stream",
          "text": [
            "tf.Tensor(\n",
            "[[1741968 2536047 1863610 1394572]\n",
            " [1123711 1887410 1493488  788791]\n",
            " [1321631 1647641 1426769  909406]\n",
            " [1082589 1638529 1338240  810507]], shape=(4, 4), dtype=int32)\n",
            "CPU times: user 16.4 ms, sys: 13 ms, total: 29.4 ms\n",
            "Wall time: 98.9 ms\n"
          ],
          "name": "stdout"
        }
      ]
    },
    {
      "cell_type": "code",
      "metadata": {
        "colab": {
          "base_uri": "https://localhost:8080/"
        },
        "id": "MYddx4lIK_JI",
        "outputId": "6101edc6-495c-49f0-cc1f-3e742392413b"
      },
      "source": [
        "# Changing N Value\r\n",
        "%%time\r\n",
        "print(tf.matmul(U, V))"
      ],
      "execution_count": 142,
      "outputs": [
        {
          "output_type": "stream",
          "text": [
            "tf.Tensor(\n",
            "[[1785161 2066644 2052930 1615890 1881700 1568936  846661 1048269]\n",
            " [2754460 2520839 2577981 2247542 2719076 1605787 1472405 1560552]\n",
            " [2023084 1826475 1796767 1137473 2115736  864259 1230269 1603023]\n",
            " [1916034 1675327 1907385 1665524 1823832 1187624 1225676 1067248]\n",
            " [2451892 1658709 1953031 2324864 2030310 1249589 1438451 1114459]\n",
            " [3528284 3305970 3163650 2728300 3351610 2315535 1811483 2434469]\n",
            " [3185363 3127996 2867473 2654045 3161196 2142059 1219570 1842523]\n",
            " [2280625 2120251 2034148 2069679 2145635 1585113 1334458 1693992]], shape=(8, 8), dtype=int32)\n",
            "CPU times: user 2.5 ms, sys: 0 ns, total: 2.5 ms\n",
            "Wall time: 4.75 ms\n"
          ],
          "name": "stdout"
        }
      ]
    },
    {
      "cell_type": "code",
      "metadata": {
        "colab": {
          "base_uri": "https://localhost:8080/"
        },
        "id": "43nXq-CYK_X4",
        "outputId": "8fdb5ddb-e708-4974-ebaa-79da94c528d0"
      },
      "source": [
        "# Changing Data Type\r\n",
        "%%time\r\n",
        "print(tf.matmul(K, L))"
      ],
      "execution_count": 143,
      "outputs": [
        {
          "output_type": "stream",
          "text": [
            "tf.Tensor(\n",
            "[[ 818679.6  1234585.4   973919.    868929.7 ]\n",
            " [ 828679.25 1326752.8  1142772.5   967767.5 ]\n",
            " [1252739.5  1503658.    885776.75  910204.94]\n",
            " [1293782.   1620874.2  1269688.1  1137132.2 ]], shape=(4, 4), dtype=float32)\n",
            "CPU times: user 25 ms, sys: 2.21 ms, total: 27.3 ms\n",
            "Wall time: 43.3 ms\n"
          ],
          "name": "stdout"
        }
      ]
    },
    {
      "cell_type": "code",
      "metadata": {
        "id": "YKs7vzYrNIJo"
      },
      "source": [
        ""
      ],
      "execution_count": null,
      "outputs": []
    }
  ]
}