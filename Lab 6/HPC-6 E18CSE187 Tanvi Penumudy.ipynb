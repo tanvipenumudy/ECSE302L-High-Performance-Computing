{
  "nbformat": 4,
  "nbformat_minor": 0,
  "metadata": {
    "colab": {
      "name": "HPC 6 E18CSE187 Tanvi P.ipynb",
      "provenance": [],
      "collapsed_sections": []
    },
    "kernelspec": {
      "name": "python3",
      "display_name": "Python 3"
    },
    "accelerator": "GPU"
  },
  "cells": [
    {
      "cell_type": "markdown",
      "metadata": {
        "id": "Z-Gn17VmOg6B"
      },
      "source": [
        "## HPC Lab-6\r\n",
        "Name: Tanvi Penumudy\r\n",
        "\r\n",
        "Enroll No: E18CSE187"
      ]
    },
    {
      "cell_type": "code",
      "metadata": {
        "id": "fcisyZuf18gi"
      },
      "source": [
        "import multiprocessing \r\n",
        "import os \r\n",
        "import time\r\n",
        "import numpy as np"
      ],
      "execution_count": 129,
      "outputs": []
    },
    {
      "cell_type": "code",
      "metadata": {
        "id": "7rjOT3CqbO4Q"
      },
      "source": [
        "times = []"
      ],
      "execution_count": 130,
      "outputs": []
    },
    {
      "cell_type": "markdown",
      "metadata": {
        "id": "y0kUn-oF8kJ1"
      },
      "source": [
        "I. Serial Implementation\r\n"
      ]
    },
    {
      "cell_type": "code",
      "metadata": {
        "id": "kyk3rD7G2Dn4"
      },
      "source": [
        "import random\r\n",
        "X = [random.choices(range(9,999), k=4) for _ in range(4)]\r\n",
        "Y = [random.choices(range(9,999), k=4) for _ in range(4)]\r\n",
        "result = [[0,0,0,0],[0,0,0,0],[0,0,0,0],[0,0,0,0]]"
      ],
      "execution_count": 131,
      "outputs": []
    },
    {
      "cell_type": "code",
      "metadata": {
        "colab": {
          "base_uri": "https://localhost:8080/"
        },
        "id": "zFAZ8aGD2Dp5",
        "outputId": "bc92956e-63c1-4aa7-fc57-e6aa862dbaaa"
      },
      "source": [
        "print(X)\r\n",
        "print(Y)\r\n",
        "print(result)"
      ],
      "execution_count": 132,
      "outputs": [
        {
          "output_type": "stream",
          "text": [
            "[[723, 475, 100, 243], [956, 973, 710, 228], [863, 274, 647, 72], [324, 48, 134, 772]]\n",
            "[[778, 984, 260, 252], [920, 971, 357, 341], [86, 409, 826, 491], [794, 200, 82, 743]]\n",
            "[[0, 0, 0, 0], [0, 0, 0, 0], [0, 0, 0, 0], [0, 0, 0, 0]]\n"
          ],
          "name": "stdout"
        }
      ]
    },
    {
      "cell_type": "code",
      "metadata": {
        "colab": {
          "base_uri": "https://localhost:8080/"
        },
        "id": "faaWFnpp2DtG",
        "outputId": "0661f7d5-f4d7-4081-dba5-fb068fa733cf"
      },
      "source": [
        "%%time\r\n",
        "t = time.time()\r\n",
        "for i in range(len(X)):\r\n",
        "   for j in range(len(Y[0])):\r\n",
        "       for k in range(len(Y)):\r\n",
        "           result[i][j] += X[i][k] * Y[k][j]\r\n",
        "print(result)\r\n",
        "times.append(time.time()-t)"
      ],
      "execution_count": 133,
      "outputs": [
        {
          "output_type": "stream",
          "text": [
            "[[1201036, 1262157, 460081, 573820], [1881020, 2221477, 1201077, 1090719], [1036304, 1394269, 862524, 682083], [920724, 574630, 275364, 737406]]\n",
            "CPU times: user 176 µs, sys: 36 µs, total: 212 µs\n",
            "Wall time: 187 µs\n"
          ],
          "name": "stdout"
        }
      ]
    },
    {
      "cell_type": "code",
      "metadata": {
        "id": "BeS4QWG-EefT"
      },
      "source": [
        "# Changing N Value\r\n",
        "U = [random.choices(range(9,999), k=8) for _ in range(8)]\r\n",
        "V = [random.choices(range(9,999), k=8) for _ in range(8)]\r\n",
        "def zeros(rows,cols):\r\n",
        "  return [([0]*cols) for i in range(rows)]\r\n",
        "r = zeros(8,8)"
      ],
      "execution_count": 134,
      "outputs": []
    },
    {
      "cell_type": "code",
      "metadata": {
        "colab": {
          "base_uri": "https://localhost:8080/"
        },
        "id": "stZJBWfqEepd",
        "outputId": "5fe195dd-36ca-44b3-bde7-50ce9027557e"
      },
      "source": [
        "%%time\r\n",
        "t = time.time()\r\n",
        "for i in range(len(U)):\r\n",
        "   for j in range(len(V[0])):\r\n",
        "       for k in range(len(V)):\r\n",
        "           r[i][j] += U[i][k] * V[k][j]\r\n",
        "print(r)\r\n",
        "times.append(time.time()-t)"
      ],
      "execution_count": 135,
      "outputs": [
        {
          "output_type": "stream",
          "text": [
            "[[2401733, 2207969, 2296602, 1717697, 2304055, 3047990, 2081661, 1935323], [3461379, 2604943, 3275752, 2678372, 3082528, 3357524, 3477536, 3540656], [2139478, 1822904, 2294308, 2229388, 1597399, 2294766, 2386466, 2238051], [1786516, 1658190, 1397551, 1698515, 1532311, 1899233, 1644557, 1765860], [1730631, 1361908, 1600301, 1269235, 1741798, 1613630, 1659953, 2051329], [2396269, 1831441, 2346893, 1549054, 2072458, 2590035, 2122642, 2469041], [2327082, 2056760, 2409302, 2000677, 2399213, 2535672, 2421974, 2351932], [1559805, 1617301, 1843645, 1781488, 1746726, 1889635, 1907159, 1453410]]\n",
            "CPU times: user 415 µs, sys: 85 µs, total: 500 µs\n",
            "Wall time: 422 µs\n"
          ],
          "name": "stdout"
        }
      ]
    },
    {
      "cell_type": "code",
      "metadata": {
        "id": "SkCEvXFyDIN_"
      },
      "source": [
        "# Changing Data Type\r\n",
        "K = np.random.uniform(9,999,[4,4])\r\n",
        "L = np.random.uniform(9,999,[4,4])\r\n",
        "res = np.zeros((4,4))\r\n",
        "K = K.tolist()\r\n",
        "L = L.tolist()"
      ],
      "execution_count": 136,
      "outputs": []
    },
    {
      "cell_type": "code",
      "metadata": {
        "colab": {
          "base_uri": "https://localhost:8080/"
        },
        "id": "U1cCYsh5DIZc",
        "outputId": "99bf99bb-d576-4397-d281-eedca24b2fbc"
      },
      "source": [
        "%%time\r\n",
        "t = time.time()\r\n",
        "for i in range(len(K)):\r\n",
        "   for j in range(len(L[0])):\r\n",
        "       for k in range(len(L)):\r\n",
        "           res[i][j] += K[i][k] * L[k][j]\r\n",
        "print(res)\r\n",
        "times.append(time.time()-t)"
      ],
      "execution_count": 137,
      "outputs": [
        {
          "output_type": "stream",
          "text": [
            "[[1032749.97205546 1380395.87438983 1930739.46563826 1680765.63309024]\n",
            " [ 836436.61548045 1269809.13463534 1374928.95498086 1472663.93207178]\n",
            " [ 663251.11268091 1092222.86886876 1258683.09494744 1190574.81474242]\n",
            " [ 987042.49680892 1366904.97599054 1866329.617021   1654195.4034343 ]]\n",
            "CPU times: user 1.15 ms, sys: 27 µs, total: 1.18 ms\n",
            "Wall time: 1.29 ms\n"
          ],
          "name": "stdout"
        }
      ]
    },
    {
      "cell_type": "markdown",
      "metadata": {
        "id": "OZWF-iQk8s0P"
      },
      "source": [
        "II. Data Parallel Implementation "
      ]
    },
    {
      "cell_type": "code",
      "metadata": {
        "colab": {
          "base_uri": "https://localhost:8080/"
        },
        "id": "4wUop3m63bTt",
        "outputId": "ab65ee21-848c-4a04-fe23-176356fbffa4"
      },
      "source": [
        "%%time\r\n",
        "t = time.time()\r\n",
        "def worker1(X, Y, result): \r\n",
        "  for i in range(len(X)):\r\n",
        "   for j in range(len(Y[0])):\r\n",
        "       for k in range(len(Y)):\r\n",
        "           result[i][j] += X[i][k] * Y[k][j]\r\n",
        "  return result\r\n",
        "\r\n",
        "def worker2(X, Y, result):\r\n",
        "  for i in range(len(X)):\r\n",
        "   for j in range(len(Y[0])):\r\n",
        "       for k in range(len(Y)):\r\n",
        "           result[i][j] += X[i][k] * Y[k][j]\r\n",
        "  return result\r\n",
        "  \r\n",
        "if __name__ == \"__main__\": \r\n",
        "\r\n",
        "  # creating processes \r\n",
        "  p1 = multiprocessing.Process(target=worker1) \r\n",
        "  p2 = multiprocessing.Process(target=worker2)\r\n",
        "\r\n",
        "  # starting processes \r\n",
        "  p1.start() \r\n",
        "  p2.start()\r\n",
        "\r\n",
        "  # wait until processes are finished \r\n",
        "  p1.join() \r\n",
        "  p2.join() \r\n",
        "\r\n",
        "  # both processes finished \r\n",
        "  print(worker1(X[:2],Y,[[0,0,0,0],[0,0,0,0]]))\r\n",
        "  print(worker2(X[2:],Y,[[0,0,0,0],[0,0,0,0]]))\r\n",
        "  print(\"Done!\")\r\n",
        "times.append(time.time()-t)"
      ],
      "execution_count": 138,
      "outputs": [
        {
          "output_type": "stream",
          "text": [
            "Process Process-7:\n",
            "Traceback (most recent call last):\n",
            "Process Process-8:\n",
            "Traceback (most recent call last):\n",
            "  File \"/usr/lib/python3.6/multiprocessing/process.py\", line 258, in _bootstrap\n",
            "    self.run()\n",
            "  File \"/usr/lib/python3.6/multiprocessing/process.py\", line 93, in run\n",
            "    self._target(*self._args, **self._kwargs)\n",
            "TypeError: worker2() missing 3 required positional arguments: 'X', 'Y', and 'result'\n",
            "  File \"/usr/lib/python3.6/multiprocessing/process.py\", line 258, in _bootstrap\n",
            "    self.run()\n",
            "  File \"/usr/lib/python3.6/multiprocessing/process.py\", line 93, in run\n",
            "    self._target(*self._args, **self._kwargs)\n",
            "TypeError: worker1() missing 3 required positional arguments: 'X', 'Y', and 'result'\n"
          ],
          "name": "stderr"
        },
        {
          "output_type": "stream",
          "text": [
            "[[1201036, 1262157, 460081, 573820], [1881020, 2221477, 1201077, 1090719]]\n",
            "[[1036304, 1394269, 862524, 682083], [920724, 574630, 275364, 737406]]\n",
            "Done!\n",
            "CPU times: user 6.25 ms, sys: 26.3 ms, total: 32.6 ms\n",
            "Wall time: 67 ms\n"
          ],
          "name": "stdout"
        }
      ]
    },
    {
      "cell_type": "code",
      "metadata": {
        "colab": {
          "base_uri": "https://localhost:8080/"
        },
        "id": "xiDFTmWBFKkO",
        "outputId": "6c65495e-f6f0-4b5d-f169-a8af3319187b"
      },
      "source": [
        "# Changing N Value\r\n",
        "%%time\r\n",
        "t = time.time()\r\n",
        "def worker1(X, Y, result): \r\n",
        "  for i in range(len(X)):\r\n",
        "   for j in range(len(Y[0])):\r\n",
        "       for k in range(len(Y)):\r\n",
        "           result[i][j] += X[i][k] * Y[k][j]\r\n",
        "  return result\r\n",
        "\r\n",
        "def worker2(X, Y, result):\r\n",
        "  for i in range(len(X)):\r\n",
        "   for j in range(len(Y[0])):\r\n",
        "       for k in range(len(Y)):\r\n",
        "           result[i][j] += X[i][k] * Y[k][j]\r\n",
        "  return result\r\n",
        "  \r\n",
        "if __name__ == \"__main__\": \r\n",
        "\r\n",
        "  # creating processes \r\n",
        "  p1 = multiprocessing.Process(target=worker1) \r\n",
        "  p2 = multiprocessing.Process(target=worker2)\r\n",
        "\r\n",
        "  # starting processes \r\n",
        "  p1.start() \r\n",
        "  p2.start()\r\n",
        "\r\n",
        "  # wait until processes are finished \r\n",
        "  p1.join() \r\n",
        "  p2.join() \r\n",
        "\r\n",
        "  # both processes finished \r\n",
        "  print(worker1(U[:4],V,zeros(4,8)))\r\n",
        "  print(worker2(U[4:],V,zeros(4,8)))\r\n",
        "  print(\"Done!\")\r\n",
        "times.append(time.time()-t)"
      ],
      "execution_count": 139,
      "outputs": [
        {
          "output_type": "stream",
          "text": [
            "Process Process-9:\n",
            "Traceback (most recent call last):\n",
            "Process Process-10:\n",
            "  File \"/usr/lib/python3.6/multiprocessing/process.py\", line 258, in _bootstrap\n",
            "    self.run()\n",
            "Traceback (most recent call last):\n",
            "  File \"/usr/lib/python3.6/multiprocessing/process.py\", line 93, in run\n",
            "    self._target(*self._args, **self._kwargs)\n",
            "TypeError: worker1() missing 3 required positional arguments: 'X', 'Y', and 'result'\n",
            "  File \"/usr/lib/python3.6/multiprocessing/process.py\", line 258, in _bootstrap\n",
            "    self.run()\n",
            "  File \"/usr/lib/python3.6/multiprocessing/process.py\", line 93, in run\n",
            "    self._target(*self._args, **self._kwargs)\n",
            "TypeError: worker2() missing 3 required positional arguments: 'X', 'Y', and 'result'\n"
          ],
          "name": "stderr"
        },
        {
          "output_type": "stream",
          "text": [
            "[[2401733, 2207969, 2296602, 1717697, 2304055, 3047990, 2081661, 1935323], [3461379, 2604943, 3275752, 2678372, 3082528, 3357524, 3477536, 3540656], [2139478, 1822904, 2294308, 2229388, 1597399, 2294766, 2386466, 2238051], [1786516, 1658190, 1397551, 1698515, 1532311, 1899233, 1644557, 1765860]]\n",
            "[[1730631, 1361908, 1600301, 1269235, 1741798, 1613630, 1659953, 2051329], [2396269, 1831441, 2346893, 1549054, 2072458, 2590035, 2122642, 2469041], [2327082, 2056760, 2409302, 2000677, 2399213, 2535672, 2421974, 2351932], [1559805, 1617301, 1843645, 1781488, 1746726, 1889635, 1907159, 1453410]]\n",
            "Done!\n",
            "CPU times: user 8.37 ms, sys: 24.5 ms, total: 32.9 ms\n",
            "Wall time: 70 ms\n"
          ],
          "name": "stdout"
        }
      ]
    },
    {
      "cell_type": "code",
      "metadata": {
        "colab": {
          "base_uri": "https://localhost:8080/"
        },
        "id": "BimIaxNKFmu3",
        "outputId": "1094f8a1-823e-414e-fbab-7e4f611c7840"
      },
      "source": [
        "# Changing Data Type\r\n",
        "t = time.time()\r\n",
        "def worker1(X, Y, result): \r\n",
        "  for i in range(len(X)):\r\n",
        "   for j in range(len(Y[0])):\r\n",
        "       for k in range(len(Y)):\r\n",
        "           result[i][j] += X[i][k] * Y[k][j]\r\n",
        "  return result\r\n",
        "\r\n",
        "def worker2(X, Y, result):\r\n",
        "  for i in range(len(X)):\r\n",
        "   for j in range(len(Y[0])):\r\n",
        "       for k in range(len(Y)):\r\n",
        "           result[i][j] += X[i][k] * Y[k][j]\r\n",
        "  return result\r\n",
        "  \r\n",
        "if __name__ == \"__main__\": \r\n",
        "\r\n",
        "  # creating processes \r\n",
        "  p1 = multiprocessing.Process(target=worker1) \r\n",
        "  p2 = multiprocessing.Process(target=worker2)\r\n",
        "\r\n",
        "  # starting processes \r\n",
        "  p1.start() \r\n",
        "  p2.start()\r\n",
        "\r\n",
        "  # wait until processes are finished \r\n",
        "  p1.join() \r\n",
        "  p2.join() \r\n",
        "\r\n",
        "  # both processes finished \r\n",
        "  print(worker1(K[:2],L,np.zeros((2,4))))\r\n",
        "  print(worker2(K[2:],L,np.zeros((2,4))))\r\n",
        "  print(\"Done!\")\r\n",
        "times.append(time.time()-t)"
      ],
      "execution_count": 140,
      "outputs": [
        {
          "output_type": "stream",
          "text": [
            "Process Process-11:\n",
            "Traceback (most recent call last):\n",
            "Process Process-12:\n",
            "Traceback (most recent call last):\n",
            "  File \"/usr/lib/python3.6/multiprocessing/process.py\", line 258, in _bootstrap\n",
            "    self.run()\n",
            "  File \"/usr/lib/python3.6/multiprocessing/process.py\", line 93, in run\n",
            "    self._target(*self._args, **self._kwargs)\n",
            "TypeError: worker1() missing 3 required positional arguments: 'X', 'Y', and 'result'\n",
            "  File \"/usr/lib/python3.6/multiprocessing/process.py\", line 258, in _bootstrap\n",
            "    self.run()\n",
            "  File \"/usr/lib/python3.6/multiprocessing/process.py\", line 93, in run\n",
            "    self._target(*self._args, **self._kwargs)\n",
            "TypeError: worker2() missing 3 required positional arguments: 'X', 'Y', and 'result'\n"
          ],
          "name": "stderr"
        },
        {
          "output_type": "stream",
          "text": [
            "[[1032749.97205546 1380395.87438983 1930739.46563826 1680765.63309024]\n",
            " [ 836436.61548045 1269809.13463534 1374928.95498086 1472663.93207178]]\n",
            "[[ 663251.11268091 1092222.86886876 1258683.09494744 1190574.81474242]\n",
            " [ 987042.49680892 1366904.97599054 1866329.617021   1654195.4034343 ]]\n",
            "Done!\n"
          ],
          "name": "stdout"
        }
      ]
    },
    {
      "cell_type": "markdown",
      "metadata": {
        "id": "wzcifDVS8xtV"
      },
      "source": [
        "III. Numpy"
      ]
    },
    {
      "cell_type": "code",
      "metadata": {
        "id": "2GQLdap03oZr"
      },
      "source": [
        "A = np.array(X)\r\n",
        "B = np.array(Y)"
      ],
      "execution_count": 141,
      "outputs": []
    },
    {
      "cell_type": "code",
      "metadata": {
        "colab": {
          "base_uri": "https://localhost:8080/"
        },
        "id": "6IWbfE-i3oe8",
        "outputId": "7a42d99f-876c-49c6-ac2f-65525b8d8b14"
      },
      "source": [
        "%%time\r\n",
        "t = time.time()\r\n",
        "print(np.dot(A,B))\r\n",
        "times.append(time.time()-t)"
      ],
      "execution_count": 142,
      "outputs": [
        {
          "output_type": "stream",
          "text": [
            "[[1201036 1262157  460081  573820]\n",
            " [1881020 2221477 1201077 1090719]\n",
            " [1036304 1394269  862524  682083]\n",
            " [ 920724  574630  275364  737406]]\n",
            "CPU times: user 610 µs, sys: 0 ns, total: 610 µs\n",
            "Wall time: 489 µs\n"
          ],
          "name": "stdout"
        }
      ]
    },
    {
      "cell_type": "code",
      "metadata": {
        "id": "w5ux11NgGECa"
      },
      "source": [
        "# Changing N Value\r\n",
        "C = np.array(U)\r\n",
        "D = np.array(V)"
      ],
      "execution_count": 143,
      "outputs": []
    },
    {
      "cell_type": "code",
      "metadata": {
        "colab": {
          "base_uri": "https://localhost:8080/"
        },
        "id": "0yQBIPcxGEPw",
        "outputId": "9ea4926a-f7bf-47c3-8636-f9d5e8e83144"
      },
      "source": [
        "%%time\r\n",
        "t = time.time()\r\n",
        "print(np.dot(C,D))\r\n",
        "times.append(time.time()-t)"
      ],
      "execution_count": 144,
      "outputs": [
        {
          "output_type": "stream",
          "text": [
            "[[2401733 2207969 2296602 1717697 2304055 3047990 2081661 1935323]\n",
            " [3461379 2604943 3275752 2678372 3082528 3357524 3477536 3540656]\n",
            " [2139478 1822904 2294308 2229388 1597399 2294766 2386466 2238051]\n",
            " [1786516 1658190 1397551 1698515 1532311 1899233 1644557 1765860]\n",
            " [1730631 1361908 1600301 1269235 1741798 1613630 1659953 2051329]\n",
            " [2396269 1831441 2346893 1549054 2072458 2590035 2122642 2469041]\n",
            " [2327082 2056760 2409302 2000677 2399213 2535672 2421974 2351932]\n",
            " [1559805 1617301 1843645 1781488 1746726 1889635 1907159 1453410]]\n",
            "CPU times: user 366 µs, sys: 77 µs, total: 443 µs\n",
            "Wall time: 373 µs\n"
          ],
          "name": "stdout"
        }
      ]
    },
    {
      "cell_type": "code",
      "metadata": {
        "id": "S7QiyYJbGEaO"
      },
      "source": [
        "# Changing Data Type\r\n",
        "E = np.array(K)\r\n",
        "F = np.array(L)"
      ],
      "execution_count": 145,
      "outputs": []
    },
    {
      "cell_type": "code",
      "metadata": {
        "colab": {
          "base_uri": "https://localhost:8080/"
        },
        "id": "Yppk8WVHGElU",
        "outputId": "f7d95425-f5e7-4466-dddd-2ca6e0929d6c"
      },
      "source": [
        "%%time\r\n",
        "t = time.time()\r\n",
        "print(np.dot(E,F))\r\n",
        "times.append(time.time()-t)"
      ],
      "execution_count": 146,
      "outputs": [
        {
          "output_type": "stream",
          "text": [
            "[[1032749.97205546 1380395.87438983 1930739.46563826 1680765.63309024]\n",
            " [ 836436.61548045 1269809.13463534 1374928.95498086 1472663.93207178]\n",
            " [ 663251.11268091 1092222.86886876 1258683.09494744 1190574.81474242]\n",
            " [ 987042.49680892 1366904.97599054 1866329.617021   1654195.4034343 ]]\n",
            "CPU times: user 819 µs, sys: 0 ns, total: 819 µs\n",
            "Wall time: 689 µs\n"
          ],
          "name": "stdout"
        }
      ]
    },
    {
      "cell_type": "markdown",
      "metadata": {
        "id": "zAl8n5XL8-Lt"
      },
      "source": [
        "IV. Scipy\r\n"
      ]
    },
    {
      "cell_type": "code",
      "metadata": {
        "id": "D6v-O4G489M3"
      },
      "source": [
        "from scipy import linalg"
      ],
      "execution_count": 147,
      "outputs": []
    },
    {
      "cell_type": "code",
      "metadata": {
        "id": "mDDP7N6389aE"
      },
      "source": [
        "A = np.array(X)\r\n",
        "B = np.array(Y)"
      ],
      "execution_count": 148,
      "outputs": []
    },
    {
      "cell_type": "code",
      "metadata": {
        "colab": {
          "base_uri": "https://localhost:8080/"
        },
        "id": "aB9TbEj889kI",
        "outputId": "932b4fdd-b75a-4956-c1d0-dcaf9f516cae"
      },
      "source": [
        "%%time\r\n",
        "t = time.time()\r\n",
        "print(A.dot(B))\r\n",
        "times.append(time.time()-t)"
      ],
      "execution_count": 149,
      "outputs": [
        {
          "output_type": "stream",
          "text": [
            "[[1201036 1262157  460081  573820]\n",
            " [1881020 2221477 1201077 1090719]\n",
            " [1036304 1394269  862524  682083]\n",
            " [ 920724  574630  275364  737406]]\n",
            "CPU times: user 642 µs, sys: 134 µs, total: 776 µs\n",
            "Wall time: 1.82 ms\n"
          ],
          "name": "stdout"
        }
      ]
    },
    {
      "cell_type": "code",
      "metadata": {
        "colab": {
          "base_uri": "https://localhost:8080/"
        },
        "id": "wpfx_eHLGlay",
        "outputId": "28b402a7-d7bf-4065-99d5-beeae9e4de53"
      },
      "source": [
        "# Changing N Value\r\n",
        "%%time\r\n",
        "t = time.time()\r\n",
        "print(C.dot(D))\r\n",
        "times.append(time.time()-t)"
      ],
      "execution_count": 150,
      "outputs": [
        {
          "output_type": "stream",
          "text": [
            "[[2401733 2207969 2296602 1717697 2304055 3047990 2081661 1935323]\n",
            " [3461379 2604943 3275752 2678372 3082528 3357524 3477536 3540656]\n",
            " [2139478 1822904 2294308 2229388 1597399 2294766 2386466 2238051]\n",
            " [1786516 1658190 1397551 1698515 1532311 1899233 1644557 1765860]\n",
            " [1730631 1361908 1600301 1269235 1741798 1613630 1659953 2051329]\n",
            " [2396269 1831441 2346893 1549054 2072458 2590035 2122642 2469041]\n",
            " [2327082 2056760 2409302 2000677 2399213 2535672 2421974 2351932]\n",
            " [1559805 1617301 1843645 1781488 1746726 1889635 1907159 1453410]]\n",
            "CPU times: user 323 µs, sys: 67 µs, total: 390 µs\n",
            "Wall time: 396 µs\n"
          ],
          "name": "stdout"
        }
      ]
    },
    {
      "cell_type": "code",
      "metadata": {
        "colab": {
          "base_uri": "https://localhost:8080/"
        },
        "id": "SeQwVf_HGlpA",
        "outputId": "b4f183aa-00a5-4849-b15e-dae95c8e9807"
      },
      "source": [
        "# Changing Data Type\r\n",
        "%%time\r\n",
        "t = time.time()\r\n",
        "print(E.dot(F))\r\n",
        "times.append(time.time()-t)"
      ],
      "execution_count": 151,
      "outputs": [
        {
          "output_type": "stream",
          "text": [
            "[[1032749.97205546 1380395.87438983 1930739.46563826 1680765.63309024]\n",
            " [ 836436.61548045 1269809.13463534 1374928.95498086 1472663.93207178]\n",
            " [ 663251.11268091 1092222.86886876 1258683.09494744 1190574.81474242]\n",
            " [ 987042.49680892 1366904.97599054 1866329.617021   1654195.4034343 ]]\n",
            "CPU times: user 0 ns, sys: 537 µs, total: 537 µs\n",
            "Wall time: 437 µs\n"
          ],
          "name": "stdout"
        }
      ]
    },
    {
      "cell_type": "markdown",
      "metadata": {
        "id": "_CnIBWST9KSf"
      },
      "source": [
        "V. Pandas"
      ]
    },
    {
      "cell_type": "code",
      "metadata": {
        "id": "_OMkM_wB9QpD"
      },
      "source": [
        "import pandas as pd"
      ],
      "execution_count": 152,
      "outputs": []
    },
    {
      "cell_type": "code",
      "metadata": {
        "id": "6CdwwFrn9Qzr"
      },
      "source": [
        "A = pd.DataFrame(X)\r\n",
        "B = pd.DataFrame(Y)"
      ],
      "execution_count": 153,
      "outputs": []
    },
    {
      "cell_type": "code",
      "metadata": {
        "colab": {
          "base_uri": "https://localhost:8080/"
        },
        "id": "VAi13Fw09Q9M",
        "outputId": "6f79c693-e6a9-4524-ff12-f687f58a0216"
      },
      "source": [
        "%%time\r\n",
        "t = time.time()\r\n",
        "print(A.dot(B))\r\n",
        "times.append(time.time()-t)"
      ],
      "execution_count": 154,
      "outputs": [
        {
          "output_type": "stream",
          "text": [
            "         0        1        2        3\n",
            "0  1201036  1262157   460081   573820\n",
            "1  1881020  2221477  1201077  1090719\n",
            "2  1036304  1394269   862524   682083\n",
            "3   920724   574630   275364   737406\n",
            "CPU times: user 10.1 ms, sys: 0 ns, total: 10.1 ms\n",
            "Wall time: 11.4 ms\n"
          ],
          "name": "stdout"
        }
      ]
    },
    {
      "cell_type": "code",
      "metadata": {
        "id": "Ngy-6holG6u3"
      },
      "source": [
        "# Changing N Value\r\n",
        "C = pd.DataFrame(U)\r\n",
        "D = pd.DataFrame(V)"
      ],
      "execution_count": 155,
      "outputs": []
    },
    {
      "cell_type": "code",
      "metadata": {
        "colab": {
          "base_uri": "https://localhost:8080/"
        },
        "id": "vCATF4QJG6-2",
        "outputId": "1dda1418-0d92-48b7-c081-563ce3b79b76"
      },
      "source": [
        "%%time\r\n",
        "t = time.time()\r\n",
        "print(C.dot(D))\r\n",
        "times.append(time.time()-t)"
      ],
      "execution_count": 156,
      "outputs": [
        {
          "output_type": "stream",
          "text": [
            "         0        1        2        3        4        5        6        7\n",
            "0  2401733  2207969  2296602  1717697  2304055  3047990  2081661  1935323\n",
            "1  3461379  2604943  3275752  2678372  3082528  3357524  3477536  3540656\n",
            "2  2139478  1822904  2294308  2229388  1597399  2294766  2386466  2238051\n",
            "3  1786516  1658190  1397551  1698515  1532311  1899233  1644557  1765860\n",
            "4  1730631  1361908  1600301  1269235  1741798  1613630  1659953  2051329\n",
            "5  2396269  1831441  2346893  1549054  2072458  2590035  2122642  2469041\n",
            "6  2327082  2056760  2409302  2000677  2399213  2535672  2421974  2351932\n",
            "7  1559805  1617301  1843645  1781488  1746726  1889635  1907159  1453410\n",
            "CPU times: user 8.89 ms, sys: 156 µs, total: 9.05 ms\n",
            "Wall time: 10.3 ms\n"
          ],
          "name": "stdout"
        }
      ]
    },
    {
      "cell_type": "code",
      "metadata": {
        "id": "ZsBTJ87qG7LA"
      },
      "source": [
        "# Changing Data Frame\r\n",
        "E = pd.DataFrame(K)\r\n",
        "F = pd.DataFrame(L)"
      ],
      "execution_count": 157,
      "outputs": []
    },
    {
      "cell_type": "code",
      "metadata": {
        "colab": {
          "base_uri": "https://localhost:8080/"
        },
        "id": "xN4nnAL9G7W_",
        "outputId": "eb3b42f8-ccad-4185-c4f3-190009de2897"
      },
      "source": [
        "%%time\r\n",
        "t = time.time()\r\n",
        "print(E.dot(F))\r\n",
        "times.append(time.time()-t)"
      ],
      "execution_count": 158,
      "outputs": [
        {
          "output_type": "stream",
          "text": [
            "              0             1             2             3\n",
            "0  1.032750e+06  1.380396e+06  1.930739e+06  1.680766e+06\n",
            "1  8.364366e+05  1.269809e+06  1.374929e+06  1.472664e+06\n",
            "2  6.632511e+05  1.092223e+06  1.258683e+06  1.190575e+06\n",
            "3  9.870425e+05  1.366905e+06  1.866330e+06  1.654195e+06\n",
            "CPU times: user 9.79 ms, sys: 0 ns, total: 9.79 ms\n",
            "Wall time: 12.3 ms\n"
          ],
          "name": "stdout"
        }
      ]
    },
    {
      "cell_type": "markdown",
      "metadata": {
        "id": "ekHq8Krr9YIh"
      },
      "source": [
        "VI. Sympy"
      ]
    },
    {
      "cell_type": "code",
      "metadata": {
        "id": "Zt5SujNe3oiB"
      },
      "source": [
        "from sympy import *"
      ],
      "execution_count": 159,
      "outputs": []
    },
    {
      "cell_type": "code",
      "metadata": {
        "id": "6lSnUM1w3bZ_"
      },
      "source": [
        "A = Matrix(X)\r\n",
        "B = Matrix(Y)"
      ],
      "execution_count": 160,
      "outputs": []
    },
    {
      "cell_type": "code",
      "metadata": {
        "colab": {
          "base_uri": "https://localhost:8080/"
        },
        "id": "TnRKGtux2Dut",
        "outputId": "890da25b-acd2-450f-bc69-eaf59c2eea75"
      },
      "source": [
        "A"
      ],
      "execution_count": 161,
      "outputs": [
        {
          "output_type": "execute_result",
          "data": {
            "text/plain": [
              "Matrix([\n",
              "[723, 475, 100, 243],\n",
              "[956, 973, 710, 228],\n",
              "[863, 274, 647,  72],\n",
              "[324,  48, 134, 772]])"
            ]
          },
          "metadata": {
            "tags": []
          },
          "execution_count": 161
        }
      ]
    },
    {
      "cell_type": "code",
      "metadata": {
        "colab": {
          "base_uri": "https://localhost:8080/"
        },
        "id": "HCcEO-4X2DyU",
        "outputId": "768acc0e-3c23-43b2-a064-5c7c42f45f63"
      },
      "source": [
        "B"
      ],
      "execution_count": 162,
      "outputs": [
        {
          "output_type": "execute_result",
          "data": {
            "text/plain": [
              "Matrix([\n",
              "[778, 984, 260, 252],\n",
              "[920, 971, 357, 341],\n",
              "[ 86, 409, 826, 491],\n",
              "[794, 200,  82, 743]])"
            ]
          },
          "metadata": {
            "tags": []
          },
          "execution_count": 162
        }
      ]
    },
    {
      "cell_type": "code",
      "metadata": {
        "colab": {
          "base_uri": "https://localhost:8080/"
        },
        "id": "OxxvvyE95bkJ",
        "outputId": "89d2c1b8-e0cb-4f31-dac9-327af07b8a24"
      },
      "source": [
        "%%time\r\n",
        "t = time.time()\r\n",
        "print(A*B)\r\n",
        "times.append(time.time()-t)"
      ],
      "execution_count": 163,
      "outputs": [
        {
          "output_type": "stream",
          "text": [
            "Matrix([[1201036, 1262157, 460081, 573820], [1881020, 2221477, 1201077, 1090719], [1036304, 1394269, 862524, 682083], [920724, 574630, 275364, 737406]])\n",
            "CPU times: user 1.93 ms, sys: 0 ns, total: 1.93 ms\n",
            "Wall time: 3.71 ms\n"
          ],
          "name": "stdout"
        }
      ]
    },
    {
      "cell_type": "code",
      "metadata": {
        "id": "m_3bFQwjHdaV"
      },
      "source": [
        "# Changing N Value\r\n",
        "C = Matrix(U)\r\n",
        "D = Matrix(V)"
      ],
      "execution_count": 164,
      "outputs": []
    },
    {
      "cell_type": "code",
      "metadata": {
        "colab": {
          "base_uri": "https://localhost:8080/"
        },
        "id": "syC8ZhIZHdno",
        "outputId": "0ecc8b2a-cb3e-49df-f8ca-e82080794c51"
      },
      "source": [
        "%%time\r\n",
        "t = time.time()\r\n",
        "print(C*D)\r\n",
        "times.append(time.time()-t)"
      ],
      "execution_count": 165,
      "outputs": [
        {
          "output_type": "stream",
          "text": [
            "Matrix([[2401733, 2207969, 2296602, 1717697, 2304055, 3047990, 2081661, 1935323], [3461379, 2604943, 3275752, 2678372, 3082528, 3357524, 3477536, 3540656], [2139478, 1822904, 2294308, 2229388, 1597399, 2294766, 2386466, 2238051], [1786516, 1658190, 1397551, 1698515, 1532311, 1899233, 1644557, 1765860], [1730631, 1361908, 1600301, 1269235, 1741798, 1613630, 1659953, 2051329], [2396269, 1831441, 2346893, 1549054, 2072458, 2590035, 2122642, 2469041], [2327082, 2056760, 2409302, 2000677, 2399213, 2535672, 2421974, 2351932], [1559805, 1617301, 1843645, 1781488, 1746726, 1889635, 1907159, 1453410]])\n",
            "CPU times: user 4.18 ms, sys: 0 ns, total: 4.18 ms\n",
            "Wall time: 4.12 ms\n"
          ],
          "name": "stdout"
        }
      ]
    },
    {
      "cell_type": "code",
      "metadata": {
        "id": "hTzJQ0ztHdxw"
      },
      "source": [
        "# Changing Data Type\r\n",
        "E = Matrix(K)\r\n",
        "F = Matrix(L)"
      ],
      "execution_count": 166,
      "outputs": []
    },
    {
      "cell_type": "code",
      "metadata": {
        "colab": {
          "base_uri": "https://localhost:8080/"
        },
        "id": "7Y-f6N2aHd-a",
        "outputId": "848fd3be-0a2b-4059-e441-44a99a8b5053"
      },
      "source": [
        "%%time\r\n",
        "t = time.time()\r\n",
        "print(E*F)\r\n",
        "times.append(time.time()-t)"
      ],
      "execution_count": 167,
      "outputs": [
        {
          "output_type": "stream",
          "text": [
            "Matrix([[1032749.97205546, 1380395.87438983, 1930739.46563826, 1680765.63309024], [836436.615480447, 1269809.13463534, 1374928.95498086, 1472663.93207178], [663251.112680908, 1092222.86886876, 1258683.09494744, 1190574.81474242], [987042.496808918, 1366904.97599054, 1866329.61702100, 1654195.40343430]])\n",
            "CPU times: user 2.95 ms, sys: 7 µs, total: 2.96 ms\n",
            "Wall time: 2.86 ms\n"
          ],
          "name": "stdout"
        }
      ]
    },
    {
      "cell_type": "markdown",
      "metadata": {
        "id": "oirabFH49eyj"
      },
      "source": [
        "VII. Numba"
      ]
    },
    {
      "cell_type": "code",
      "metadata": {
        "id": "ruA-D-W59h0I"
      },
      "source": [
        "import numba\r\n",
        "from numba import jit"
      ],
      "execution_count": 168,
      "outputs": []
    },
    {
      "cell_type": "code",
      "metadata": {
        "id": "a-F0BQ0a9h_4"
      },
      "source": [
        "@jit('void(int64[:,:],int64[:,:],int64[:,:])')\r\n",
        "def numba_mul(matrix1,matrix2,rmatrix):\r\n",
        "  for i in range(len(matrix1)):\r\n",
        "    for j in range(len(matrix2[0])):\r\n",
        "      for k in range(len(matrix2)):\r\n",
        "        rmatrix[i][j] += matrix1[i][k] * matrix2[k][j]"
      ],
      "execution_count": 169,
      "outputs": []
    },
    {
      "cell_type": "code",
      "metadata": {
        "id": "IP5aIg8o9iJX"
      },
      "source": [
        "matrix1 = np.array(X)\r\n",
        "matrix2 = np.array(Y)\r\n",
        "rmatrix = np.array([[0,0,0,0],[0,0,0,0],[0,0,0,0],[0,0,0,0]])"
      ],
      "execution_count": 170,
      "outputs": []
    },
    {
      "cell_type": "code",
      "metadata": {
        "colab": {
          "base_uri": "https://localhost:8080/"
        },
        "id": "v-FW8I-E9iSv",
        "outputId": "daba3043-a246-458b-9877-8e9688966949"
      },
      "source": [
        "%%time\r\n",
        "t = time.time()\r\n",
        "numba_mul(matrix1,matrix2,rmatrix)\r\n",
        "for r in rmatrix:\r\n",
        "  print(r)\r\n",
        "times.append(time.time()-t)"
      ],
      "execution_count": 171,
      "outputs": [
        {
          "output_type": "stream",
          "text": [
            "[1201036 1262157  460081  573820]\n",
            "[1881020 2221477 1201077 1090719]\n",
            "[1036304 1394269  862524  682083]\n",
            "[920724 574630 275364 737406]\n",
            "CPU times: user 179 µs, sys: 846 µs, total: 1.02 ms\n",
            "Wall time: 848 µs\n"
          ],
          "name": "stdout"
        }
      ]
    },
    {
      "cell_type": "code",
      "metadata": {
        "id": "pXoFQdADIKHK"
      },
      "source": [
        "# Changing N Value\r\n",
        "matrix1 = np.array(U)\r\n",
        "matrix2 = np.array(V)\r\n",
        "rmatrix = np.array([[0,0,0,0,0,0,0,0],[0,0,0,0,0,0,0,0],[0,0,0,0,0,0,0,0],[0,0,0,0,0,0,0,0],[0,0,0,0,0,0,0,0],[0,0,0,0,0,0,0,0],[0,0,0,0,0,0,0,0],[0,0,0,0,0,0,0,0]])"
      ],
      "execution_count": 172,
      "outputs": []
    },
    {
      "cell_type": "code",
      "metadata": {
        "colab": {
          "base_uri": "https://localhost:8080/"
        },
        "id": "SZO7V-JWIKVe",
        "outputId": "b07409c0-5efe-4f59-cee3-dfe7edae9828"
      },
      "source": [
        "%%time\r\n",
        "t = time.time()\r\n",
        "numba_mul(matrix1,matrix2,rmatrix)\r\n",
        "for r in rmatrix:\r\n",
        "  print(r)\r\n",
        "times.append(time.time()-t)"
      ],
      "execution_count": 173,
      "outputs": [
        {
          "output_type": "stream",
          "text": [
            "[2401733 2207969 2296602 1717697 2304055 3047990 2081661 1935323]\n",
            "[3461379 2604943 3275752 2678372 3082528 3357524 3477536 3540656]\n",
            "[2139478 1822904 2294308 2229388 1597399 2294766 2386466 2238051]\n",
            "[1786516 1658190 1397551 1698515 1532311 1899233 1644557 1765860]\n",
            "[1730631 1361908 1600301 1269235 1741798 1613630 1659953 2051329]\n",
            "[2396269 1831441 2346893 1549054 2072458 2590035 2122642 2469041]\n",
            "[2327082 2056760 2409302 2000677 2399213 2535672 2421974 2351932]\n",
            "[1559805 1617301 1843645 1781488 1746726 1889635 1907159 1453410]\n",
            "CPU times: user 2.92 ms, sys: 176 µs, total: 3.09 ms\n",
            "Wall time: 4.71 ms\n"
          ],
          "name": "stdout"
        }
      ]
    },
    {
      "cell_type": "code",
      "metadata": {
        "id": "xTrYVMliIKgN"
      },
      "source": [
        "# Changing Data Type\r\n",
        "@jit('void(float64[:,:],float64[:,:],float64[:,:])')\r\n",
        "def numba_mul(matrix1,matrix2,rmatrix):\r\n",
        "  for i in range(len(matrix1)):\r\n",
        "    for j in range(len(matrix2[0])):\r\n",
        "      for k in range(len(matrix2)):\r\n",
        "        rmatrix[i][j] += matrix1[i][k] * matrix2[k][j]\r\n",
        "\r\n",
        "matrix1 = np.array(K)\r\n",
        "matrix2 = np.array(L)\r\n",
        "rmatrix = np.zeros((4,4))"
      ],
      "execution_count": 174,
      "outputs": []
    },
    {
      "cell_type": "code",
      "metadata": {
        "colab": {
          "base_uri": "https://localhost:8080/"
        },
        "id": "wWIver5rIOVI",
        "outputId": "eaa20413-88fa-463c-d7bb-ad129e4ecb72"
      },
      "source": [
        "%%time\r\n",
        "t = time.time()\r\n",
        "numba_mul(matrix1,matrix2,rmatrix)\r\n",
        "for r in rmatrix:\r\n",
        "  print(r)\r\n",
        "times.append(time.time()-t)"
      ],
      "execution_count": 175,
      "outputs": [
        {
          "output_type": "stream",
          "text": [
            "[1032749.97205546 1380395.87438983 1930739.46563826 1680765.63309024]\n",
            "[ 836436.61548045 1269809.13463534 1374928.95498086 1472663.93207178]\n",
            "[ 663251.11268091 1092222.86886876 1258683.09494744 1190574.81474242]\n",
            "[ 987042.49680892 1366904.97599054 1866329.617021   1654195.4034343 ]\n",
            "CPU times: user 0 ns, sys: 1.78 ms, total: 1.78 ms\n",
            "Wall time: 1.65 ms\n"
          ],
          "name": "stdout"
        }
      ]
    },
    {
      "cell_type": "markdown",
      "metadata": {
        "id": "m7OBXz8z9xBg"
      },
      "source": [
        "VIII. Linalg"
      ]
    },
    {
      "cell_type": "code",
      "metadata": {
        "colab": {
          "base_uri": "https://localhost:8080/"
        },
        "id": "gKeGGfl9-nFg",
        "outputId": "a6dec73b-439f-4b8e-8a5d-61826d38741a"
      },
      "source": [
        "!pip install linalg"
      ],
      "execution_count": 176,
      "outputs": [
        {
          "output_type": "stream",
          "text": [
            "Requirement already satisfied: linalg in /usr/local/lib/python3.6/dist-packages (1.0.4)\n"
          ],
          "name": "stdout"
        }
      ]
    },
    {
      "cell_type": "code",
      "metadata": {
        "id": "xiw-PQgt90yW"
      },
      "source": [
        "import linalg"
      ],
      "execution_count": 177,
      "outputs": []
    },
    {
      "cell_type": "code",
      "metadata": {
        "id": "ZB1yBG84909P"
      },
      "source": [
        "A = linalg.Matrix(X) \r\n",
        "B = linalg.Matrix(Y) "
      ],
      "execution_count": 178,
      "outputs": []
    },
    {
      "cell_type": "code",
      "metadata": {
        "colab": {
          "base_uri": "https://localhost:8080/"
        },
        "id": "-SGeNP1k91Ga",
        "outputId": "9be55cb0-30bb-4f2b-a3c1-55381fadf03a"
      },
      "source": [
        "%%time\r\n",
        "t = time.time()\r\n",
        "print(A@B)\r\n",
        "times.append(time.time()-t)"
      ],
      "execution_count": 179,
      "outputs": [
        {
          "output_type": "stream",
          "text": [
            "|12010 12621 46008 57382 |\n",
            "|18810 22214 12010 10907 |\n",
            "|10363 13942 86252 68208 |\n",
            "|92072 57463 27536 73740 |\n",
            "\n",
            "CPU times: user 939 µs, sys: 0 ns, total: 939 µs\n",
            "Wall time: 1.06 ms\n"
          ],
          "name": "stdout"
        }
      ]
    },
    {
      "cell_type": "code",
      "metadata": {
        "id": "Vyv5W5JCKZBs"
      },
      "source": [
        "# Changing N Value\r\n",
        "C = linalg.Matrix(U) \r\n",
        "D = linalg.Matrix(V) "
      ],
      "execution_count": 180,
      "outputs": []
    },
    {
      "cell_type": "code",
      "metadata": {
        "colab": {
          "base_uri": "https://localhost:8080/"
        },
        "id": "oeeLg8xzKZMz",
        "outputId": "ed64933d-9a12-4680-900d-5599cc17d756"
      },
      "source": [
        "%%time\r\n",
        "t = time.time()\r\n",
        "print(C@D)\r\n",
        "times.append(time.time()-t)"
      ],
      "execution_count": 181,
      "outputs": [
        {
          "output_type": "stream",
          "text": [
            "|24017 22079 22966 17176 23040 30479 20816 19353 |\n",
            "|34613 26049 32757 26783 30825 33575 34775 35406 |\n",
            "|21394 18229 22943 22293 15973 22947 23864 22380 |\n",
            "|17865 16581 13975 16985 15323 18992 16445 17658 |\n",
            "|17306 13619 16003 12692 17417 16136 16599 20513 |\n",
            "|23962 18314 23468 15490 20724 25900 21226 24690 |\n",
            "|23270 20567 24093 20006 23992 25356 24219 23519 |\n",
            "|15598 16173 18436 17814 17467 18896 19071 14534 |\n",
            "\n",
            "CPU times: user 0 ns, sys: 684 µs, total: 684 µs\n",
            "Wall time: 721 µs\n"
          ],
          "name": "stdout"
        }
      ]
    },
    {
      "cell_type": "code",
      "metadata": {
        "id": "rqsvt4JNKZZL"
      },
      "source": [
        "# Changing Data Type\r\n",
        "E = linalg.Matrix(K) \r\n",
        "F = linalg.Matrix(L) "
      ],
      "execution_count": 182,
      "outputs": []
    },
    {
      "cell_type": "code",
      "metadata": {
        "colab": {
          "base_uri": "https://localhost:8080/"
        },
        "id": "rjVikF23KZmN",
        "outputId": "2145bcef-c87e-4210-ddf4-a3bfb6d407aa"
      },
      "source": [
        "%%time\r\n",
        "t = time.time()\r\n",
        "print(E@F)\r\n",
        "times.append(time.time()-t)"
      ],
      "execution_count": 183,
      "outputs": [
        {
          "output_type": "stream",
          "text": [
            "|10327 13803 19307 16807 |\n",
            "|83643 12698 13749 14726 |\n",
            "|66325 10922 12586 11905 |\n",
            "|98704 13669 18663 16541 |\n",
            "\n",
            "CPU times: user 196 µs, sys: 0 ns, total: 196 µs\n",
            "Wall time: 202 µs\n"
          ],
          "name": "stdout"
        }
      ]
    },
    {
      "cell_type": "markdown",
      "metadata": {
        "id": "bq2hcXUn973G"
      },
      "source": [
        "IX. Pymatrix"
      ]
    },
    {
      "cell_type": "code",
      "metadata": {
        "colab": {
          "base_uri": "https://localhost:8080/"
        },
        "id": "Rd3Dw8GV-QJu",
        "outputId": "920c35ec-6096-47c2-8a2a-d9e8f30883a9"
      },
      "source": [
        "!pip install pymatrix"
      ],
      "execution_count": 184,
      "outputs": [
        {
          "output_type": "stream",
          "text": [
            "Requirement already satisfied: pymatrix in /usr/local/lib/python3.6/dist-packages (3.0.1)\n"
          ],
          "name": "stdout"
        }
      ]
    },
    {
      "cell_type": "code",
      "metadata": {
        "id": "yqvj5-L1-QT3"
      },
      "source": [
        "from pymatrix import matrix"
      ],
      "execution_count": 185,
      "outputs": []
    },
    {
      "cell_type": "code",
      "metadata": {
        "id": "8FrrP_Js-Vsq"
      },
      "source": [
        "A = matrix(X)\r\n",
        "B = matrix(Y)"
      ],
      "execution_count": 186,
      "outputs": []
    },
    {
      "cell_type": "code",
      "metadata": {
        "colab": {
          "base_uri": "https://localhost:8080/"
        },
        "id": "vDq-mVwi-Qc0",
        "outputId": "d1eddb61-8c1a-4a3c-f1c0-16d50eea6324"
      },
      "source": [
        "%%time\r\n",
        "t = time.time()\r\n",
        "print(A*B)\r\n",
        "times.append(time.time()-t)"
      ],
      "execution_count": 187,
      "outputs": [
        {
          "output_type": "stream",
          "text": [
            "1201036 1262157  460081  573820\n",
            "1881020 2221477 1201077 1090719\n",
            "1036304 1394269  862524  682083\n",
            " 920724  574630  275364  737406\n",
            "CPU times: user 596 µs, sys: 0 ns, total: 596 µs\n",
            "Wall time: 602 µs\n"
          ],
          "name": "stdout"
        }
      ]
    },
    {
      "cell_type": "code",
      "metadata": {
        "id": "2igZi84rKw3p"
      },
      "source": [
        "# Changing N Value\r\n",
        "C = matrix(U)\r\n",
        "D = matrix(V)"
      ],
      "execution_count": 188,
      "outputs": []
    },
    {
      "cell_type": "code",
      "metadata": {
        "colab": {
          "base_uri": "https://localhost:8080/"
        },
        "id": "dzNDsdmaKxDC",
        "outputId": "0ef99ed3-c284-41a2-ad88-9e38355380bb"
      },
      "source": [
        "%%time\r\n",
        "t = time.time()\r\n",
        "print(C*D)\r\n",
        "times.append(time.time()-t)"
      ],
      "execution_count": 189,
      "outputs": [
        {
          "output_type": "stream",
          "text": [
            "2401733 2207969 2296602 1717697 2304055 3047990 2081661 1935323\n",
            "3461379 2604943 3275752 2678372 3082528 3357524 3477536 3540656\n",
            "2139478 1822904 2294308 2229388 1597399 2294766 2386466 2238051\n",
            "1786516 1658190 1397551 1698515 1532311 1899233 1644557 1765860\n",
            "1730631 1361908 1600301 1269235 1741798 1613630 1659953 2051329\n",
            "2396269 1831441 2346893 1549054 2072458 2590035 2122642 2469041\n",
            "2327082 2056760 2409302 2000677 2399213 2535672 2421974 2351932\n",
            "1559805 1617301 1843645 1781488 1746726 1889635 1907159 1453410\n",
            "CPU times: user 1.34 ms, sys: 0 ns, total: 1.34 ms\n",
            "Wall time: 1.69 ms\n"
          ],
          "name": "stdout"
        }
      ]
    },
    {
      "cell_type": "code",
      "metadata": {
        "id": "CtlVW-QfKxNg"
      },
      "source": [
        "# Changing Data Type\r\n",
        "E = matrix(K)\r\n",
        "F = matrix(L)"
      ],
      "execution_count": 190,
      "outputs": []
    },
    {
      "cell_type": "code",
      "metadata": {
        "colab": {
          "base_uri": "https://localhost:8080/"
        },
        "id": "k9r4pceyKxaw",
        "outputId": "06208bf4-630d-4441-8f6c-607aea6ebab9"
      },
      "source": [
        "%%time\r\n",
        "t = time.time()\r\n",
        "print(E*F)\r\n",
        "times.append(time.time()-t)"
      ],
      "execution_count": 191,
      "outputs": [
        {
          "output_type": "stream",
          "text": [
            "1032749.9720554573 1380395.8743898252  1930739.465638258 1680765.6330902418\n",
            "  836436.615480447 1269809.1346353446 1374928.9549808628 1472663.9320717803\n",
            " 663251.1126809083 1092222.8688687591 1258683.0949474387  1190574.814742419\n",
            " 987042.4968089182 1366904.9759905399  1866329.617021001 1654195.4034342978\n",
            "CPU times: user 1.04 ms, sys: 0 ns, total: 1.04 ms\n",
            "Wall time: 1.07 ms\n"
          ],
          "name": "stdout"
        }
      ]
    },
    {
      "cell_type": "markdown",
      "metadata": {
        "id": "ld9IzzEB-c_x"
      },
      "source": [
        "X. TensorFlow"
      ]
    },
    {
      "cell_type": "code",
      "metadata": {
        "id": "_7ZRQYnv5ira"
      },
      "source": [
        "import tensorflow as tf"
      ],
      "execution_count": 192,
      "outputs": []
    },
    {
      "cell_type": "code",
      "metadata": {
        "colab": {
          "base_uri": "https://localhost:8080/"
        },
        "id": "Aoe7opmX8IpW",
        "outputId": "a5599a49-91a2-4704-e0f5-6e8f9d1ca4b3"
      },
      "source": [
        "%%time\r\n",
        "t = time.time()\r\n",
        "print(tf.matmul(X, Y))\r\n",
        "times.append(time.time()-t)"
      ],
      "execution_count": 193,
      "outputs": [
        {
          "output_type": "stream",
          "text": [
            "tf.Tensor(\n",
            "[[1201036 1262157  460081  573820]\n",
            " [1881020 2221477 1201077 1090719]\n",
            " [1036304 1394269  862524  682083]\n",
            " [ 920724  574630  275364  737406]], shape=(4, 4), dtype=int32)\n",
            "CPU times: user 823 µs, sys: 1.99 ms, total: 2.82 ms\n",
            "Wall time: 2.72 ms\n"
          ],
          "name": "stdout"
        }
      ]
    },
    {
      "cell_type": "code",
      "metadata": {
        "colab": {
          "base_uri": "https://localhost:8080/"
        },
        "id": "MYddx4lIK_JI",
        "outputId": "ca210070-4245-48e6-d9f7-643962f49b27"
      },
      "source": [
        "# Changing N Value\r\n",
        "%%time\r\n",
        "t = time.time()\r\n",
        "print(tf.matmul(U, V))\r\n",
        "times.append(time.time()-t)"
      ],
      "execution_count": 194,
      "outputs": [
        {
          "output_type": "stream",
          "text": [
            "tf.Tensor(\n",
            "[[2401733 2207969 2296602 1717697 2304055 3047990 2081661 1935323]\n",
            " [3461379 2604943 3275752 2678372 3082528 3357524 3477536 3540656]\n",
            " [2139478 1822904 2294308 2229388 1597399 2294766 2386466 2238051]\n",
            " [1786516 1658190 1397551 1698515 1532311 1899233 1644557 1765860]\n",
            " [1730631 1361908 1600301 1269235 1741798 1613630 1659953 2051329]\n",
            " [2396269 1831441 2346893 1549054 2072458 2590035 2122642 2469041]\n",
            " [2327082 2056760 2409302 2000677 2399213 2535672 2421974 2351932]\n",
            " [1559805 1617301 1843645 1781488 1746726 1889635 1907159 1453410]], shape=(8, 8), dtype=int32)\n",
            "CPU times: user 950 µs, sys: 0 ns, total: 950 µs\n",
            "Wall time: 801 µs\n"
          ],
          "name": "stdout"
        }
      ]
    },
    {
      "cell_type": "code",
      "metadata": {
        "colab": {
          "base_uri": "https://localhost:8080/"
        },
        "id": "43nXq-CYK_X4",
        "outputId": "44776583-7f00-4597-e8af-7615b3907b41"
      },
      "source": [
        "# Changing Data Type\r\n",
        "%%time\r\n",
        "t = time.time()\r\n",
        "print(tf.matmul(K, L))\r\n",
        "times.append(time.time()-t)"
      ],
      "execution_count": 195,
      "outputs": [
        {
          "output_type": "stream",
          "text": [
            "tf.Tensor(\n",
            "[[1032749.94 1380395.9  1930739.5  1680765.6 ]\n",
            " [ 836436.56 1269809.1  1374929.   1472664.  ]\n",
            " [ 663251.1  1092222.9  1258683.1  1190574.8 ]\n",
            " [ 987042.44 1366905.   1866329.5  1654195.5 ]], shape=(4, 4), dtype=float32)\n",
            "CPU times: user 2.49 ms, sys: 902 µs, total: 3.39 ms\n",
            "Wall time: 4.38 ms\n"
          ],
          "name": "stdout"
        }
      ]
    },
    {
      "cell_type": "markdown",
      "metadata": {
        "id": "fm8ujHsfPZ_2"
      },
      "source": [
        "XI. PyCuda"
      ]
    },
    {
      "cell_type": "code",
      "metadata": {
        "colab": {
          "base_uri": "https://localhost:8080/"
        },
        "id": "2OLBphUqbdeu",
        "outputId": "428833f0-73e1-41f9-8cfb-3c2fdcc4b55e"
      },
      "source": [
        "!pip install cuda"
      ],
      "execution_count": 196,
      "outputs": [
        {
          "output_type": "stream",
          "text": [
            "Requirement already satisfied: cuda in /usr/local/lib/python3.6/dist-packages (0.0.1)\n"
          ],
          "name": "stdout"
        }
      ]
    },
    {
      "cell_type": "code",
      "metadata": {
        "colab": {
          "base_uri": "https://localhost:8080/"
        },
        "id": "znPVclpBfxbc",
        "outputId": "47b108b6-bc28-4310-d39c-ef82bba6dc99"
      },
      "source": [
        "!pip install pycuda"
      ],
      "execution_count": 197,
      "outputs": [
        {
          "output_type": "stream",
          "text": [
            "Requirement already satisfied: pycuda in /usr/local/lib/python3.6/dist-packages (2020.1)\n",
            "Requirement already satisfied: mako in /usr/local/lib/python3.6/dist-packages (from pycuda) (1.1.4)\n",
            "Requirement already satisfied: pytools>=2011.2 in /usr/local/lib/python3.6/dist-packages (from pycuda) (2021.1)\n",
            "Requirement already satisfied: appdirs>=1.4.0 in /usr/local/lib/python3.6/dist-packages (from pycuda) (1.4.4)\n",
            "Requirement already satisfied: decorator>=3.2.0 in /usr/local/lib/python3.6/dist-packages (from pycuda) (4.4.2)\n",
            "Requirement already satisfied: MarkupSafe>=0.9.2 in /usr/local/lib/python3.6/dist-packages (from mako->pycuda) (1.1.1)\n",
            "Requirement already satisfied: dataclasses>=0.7; python_version <= \"3.6\" in /usr/local/lib/python3.6/dist-packages (from pytools>=2011.2->pycuda) (0.8)\n",
            "Requirement already satisfied: numpy>=1.6.0 in /usr/local/lib/python3.6/dist-packages (from pytools>=2011.2->pycuda) (1.19.5)\n"
          ],
          "name": "stdout"
        }
      ]
    },
    {
      "cell_type": "code",
      "metadata": {
        "id": "LtR0H-nufxoe"
      },
      "source": [
        "import pycuda.autoinit\r\n",
        "from pycuda import driver, compiler, gpuarray, tools"
      ],
      "execution_count": 198,
      "outputs": []
    },
    {
      "cell_type": "code",
      "metadata": {
        "id": "af2gzqOEhDkl"
      },
      "source": [
        "kernel_code_template = \"\"\"\r\n",
        "__global__ void MatrixMulKernel(float *a, float *b, float *c)\r\n",
        "{\r\n",
        "    int tx = threadIdx.x;\r\n",
        "    int ty = threadIdx.y;\r\n",
        "\r\n",
        "    // Pvalue is used to store the element of the matrix\r\n",
        "    // that is computed by the thread\r\n",
        "    float Pvalue = 0;\r\n",
        "\r\n",
        "    // Each thread loads one row of M and one column of N, \r\n",
        "    //   to produce one element of P.\r\n",
        "    for (int k = 0; k < %(MATRIX_SIZE)s; ++k) {\r\n",
        "        float Aelement = a[ty * %(MATRIX_SIZE)s + k];\r\n",
        "        float Belement = b[k * %(MATRIX_SIZE)s + tx];\r\n",
        "        Pvalue += Aelement * Belement;\r\n",
        "    }\r\n",
        "\r\n",
        "    // Write the matrix to device memory;\r\n",
        "    // each thread writes one element\r\n",
        "    c[ty * %(MATRIX_SIZE)s + tx] = Pvalue;\r\n",
        "}\r\n",
        "\"\"\""
      ],
      "execution_count": 199,
      "outputs": []
    },
    {
      "cell_type": "code",
      "metadata": {
        "id": "DJVGvtrcjYGx"
      },
      "source": [
        "MATRIX_SIZE = 4\r\n",
        "\r\n",
        "a_gpu = gpuarray.to_gpu(np.random.randn(MATRIX_SIZE, MATRIX_SIZE).astype(np.int64)) \r\n",
        "b_gpu = gpuarray.to_gpu(np.random.randn(MATRIX_SIZE, MATRIX_SIZE).astype(np.int64))\r\n",
        "c_gpu = gpuarray.empty((MATRIX_SIZE, MATRIX_SIZE), np.int64)\r\n",
        "\r\n",
        "kernel_code = kernel_code_template % {\r\n",
        "    'MATRIX_SIZE': MATRIX_SIZE \r\n",
        "    }\r\n",
        "\r\n",
        "mod = compiler.SourceModule(kernel_code)\r\n",
        "matrixmul = mod.get_function(\"MatrixMulKernel\")"
      ],
      "execution_count": 200,
      "outputs": []
    },
    {
      "cell_type": "code",
      "metadata": {
        "colab": {
          "base_uri": "https://localhost:8080/"
        },
        "id": "tQfEoFoMloKw",
        "outputId": "9a37e1ea-7b33-460e-9e93-083264743516"
      },
      "source": [
        "%%time\r\n",
        "t = time.time()\r\n",
        "matrixmul(\r\n",
        "    a_gpu, b_gpu, \r\n",
        "    c_gpu,\r\n",
        "    block = (MATRIX_SIZE, MATRIX_SIZE, 1),\r\n",
        "    )\r\n",
        "times.append(time.time()-t)"
      ],
      "execution_count": 201,
      "outputs": [
        {
          "output_type": "stream",
          "text": [
            "CPU times: user 92 µs, sys: 19 µs, total: 111 µs\n",
            "Wall time: 114 µs\n"
          ],
          "name": "stdout"
        }
      ]
    },
    {
      "cell_type": "code",
      "metadata": {
        "id": "4741q_hgloVr"
      },
      "source": [
        "# Changing N Value\r\n",
        "MATRIX_SIZE = 8\r\n",
        "\r\n",
        "a_gpu = gpuarray.to_gpu(np.random.randn(MATRIX_SIZE, MATRIX_SIZE).astype(np.int64)) \r\n",
        "b_gpu = gpuarray.to_gpu(np.random.randn(MATRIX_SIZE, MATRIX_SIZE).astype(np.int64))\r\n",
        "c_gpu = gpuarray.empty((MATRIX_SIZE, MATRIX_SIZE), np.int64)\r\n",
        "\r\n",
        "kernel_code = kernel_code_template % {\r\n",
        "    'MATRIX_SIZE': MATRIX_SIZE \r\n",
        "    }\r\n",
        "\r\n",
        "mod = compiler.SourceModule(kernel_code)\r\n",
        "matrixmul = mod.get_function(\"MatrixMulKernel\")"
      ],
      "execution_count": 202,
      "outputs": []
    },
    {
      "cell_type": "code",
      "metadata": {
        "colab": {
          "base_uri": "https://localhost:8080/"
        },
        "id": "KCx0rNZdmhx2",
        "outputId": "96e8847e-4696-4759-f4a8-95ec8eb05ea6"
      },
      "source": [
        "%%time\r\n",
        "t = time.time()\r\n",
        "matrixmul(\r\n",
        "    a_gpu, b_gpu, \r\n",
        "    c_gpu,\r\n",
        "    block = (MATRIX_SIZE, MATRIX_SIZE, 1),\r\n",
        "    )\r\n",
        "times.append(time.time()-t)"
      ],
      "execution_count": 203,
      "outputs": [
        {
          "output_type": "stream",
          "text": [
            "CPU times: user 69 µs, sys: 14 µs, total: 83 µs\n",
            "Wall time: 86.8 µs\n"
          ],
          "name": "stdout"
        }
      ]
    },
    {
      "cell_type": "code",
      "metadata": {
        "id": "vxPQ5n4flolZ"
      },
      "source": [
        "# Changing Data Type\r\n",
        "MATRIX_SIZE = 4\r\n",
        "\r\n",
        "a_gpu = gpuarray.to_gpu(np.random.randn(MATRIX_SIZE, MATRIX_SIZE).astype(np.float64)) \r\n",
        "b_gpu = gpuarray.to_gpu(np.random.randn(MATRIX_SIZE, MATRIX_SIZE).astype(np.float64))\r\n",
        "c_gpu = gpuarray.empty((MATRIX_SIZE, MATRIX_SIZE), np.float64)\r\n",
        "\r\n",
        "kernel_code = kernel_code_template % {\r\n",
        "    'MATRIX_SIZE': MATRIX_SIZE \r\n",
        "    }\r\n",
        "\r\n",
        "mod = compiler.SourceModule(kernel_code)\r\n",
        "matrixmul = mod.get_function(\"MatrixMulKernel\")"
      ],
      "execution_count": 204,
      "outputs": []
    },
    {
      "cell_type": "code",
      "metadata": {
        "colab": {
          "base_uri": "https://localhost:8080/"
        },
        "id": "bHw0m9DRmmrX",
        "outputId": "61011907-1d12-4d50-dca3-e7b9dd669eb8"
      },
      "source": [
        "%%time\r\n",
        "t = time.time()\r\n",
        "matrixmul(\r\n",
        "    a_gpu, b_gpu, \r\n",
        "    c_gpu,\r\n",
        "    block = (MATRIX_SIZE, MATRIX_SIZE, 1),\r\n",
        "    )\r\n",
        "times.append(time.time()-t)"
      ],
      "execution_count": 205,
      "outputs": [
        {
          "output_type": "stream",
          "text": [
            "CPU times: user 96 µs, sys: 20 µs, total: 116 µs\n",
            "Wall time: 119 µs\n"
          ],
          "name": "stdout"
        }
      ]
    },
    {
      "cell_type": "code",
      "metadata": {
        "colab": {
          "base_uri": "https://localhost:8080/"
        },
        "id": "mEwolv2DnW8q",
        "outputId": "e7475c26-b9dc-4799-aa76-943c8e8b143d"
      },
      "source": [
        "len(times)"
      ],
      "execution_count": 206,
      "outputs": [
        {
          "output_type": "execute_result",
          "data": {
            "text/plain": [
              "33"
            ]
          },
          "metadata": {
            "tags": []
          },
          "execution_count": 206
        }
      ]
    },
    {
      "cell_type": "code",
      "metadata": {
        "colab": {
          "base_uri": "https://localhost:8080/"
        },
        "id": "aYQ090gUnlqo",
        "outputId": "113aa04e-a118-4336-da0f-1c597df650a1"
      },
      "source": [
        "print(*times)"
      ],
      "execution_count": 207,
      "outputs": [
        {
          "output_type": "stream",
          "text": [
            "0.00017571449279785156 0.0004076957702636719 0.0012767314910888672 0.06696057319641113 0.07000732421875 0.06522607803344727 0.0004734992980957031 0.00036072731018066406 0.0006732940673828125 0.0018050670623779297 0.0003826618194580078 0.00042510032653808594 0.011348247528076172 0.010255575180053711 0.012278318405151367 0.0036933422088623047 0.0041027069091796875 0.002844095230102539 0.0008327960968017578 0.004693746566772461 0.0016314983367919922 0.0010433197021484375 0.0007078647613525391 0.0001914501190185547 0.0005886554718017578 0.0016736984252929688 0.001054525375366211 0.0026993751525878906 0.0007891654968261719 0.004359006881713867 0.00010752677917480469 7.939338684082031e-05 0.00011157989501953125\n"
          ],
          "name": "stdout"
        }
      ]
    },
    {
      "cell_type": "code",
      "metadata": {
        "id": "kN56rBK8nMhZ"
      },
      "source": [
        "from matplotlib import pyplot as plt"
      ],
      "execution_count": 208,
      "outputs": []
    },
    {
      "cell_type": "code",
      "metadata": {
        "colab": {
          "base_uri": "https://localhost:8080/",
          "height": 296
        },
        "id": "v28afk2Qmm1H",
        "outputId": "0d27b858-a10a-49b2-daa4-5c266fe207ea"
      },
      "source": [
        "plt.plot([i for i in range(0,33)],times)\r\n",
        "plt.xlabel(\"Tasks\")\r\n",
        "plt.ylabel(\"Time\")\r\n",
        "plt.xlim(0, 33)"
      ],
      "execution_count": 211,
      "outputs": [
        {
          "output_type": "execute_result",
          "data": {
            "text/plain": [
              "(0.0, 33.0)"
            ]
          },
          "metadata": {
            "tags": []
          },
          "execution_count": 211
        },
        {
          "output_type": "display_data",
          "data": {
            "image/png": "[encoded data removed]",
            "text/plain": [
              "<Figure size 432x288 with 1 Axes>"
            ]
          },
          "metadata": {
            "tags": [],
            "needs_background": "light"
          }
        }
      ]
    },
    {
      "cell_type": "code",
      "metadata": {
        "id": "pQVkwDE6nNIs"
      },
      "source": [
        ""
      ],
      "execution_count": null,
      "outputs": []
    }
  ]
}