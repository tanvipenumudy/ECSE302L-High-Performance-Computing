{
  "nbformat": 4,
  "nbformat_minor": 0,
  "metadata": {
    "colab": {
      "name": "E18CSE187_Lab8.ipynb",
      "provenance": [],
      "collapsed_sections": []
    },
    "kernelspec": {
      "name": "python3",
      "display_name": "Python 3"
    }
  },
  "cells": [
    {
      "cell_type": "markdown",
      "metadata": {
        "id": "1D7rRXy3mYLD"
      },
      "source": [
        "## HPC Lab-8\r\n",
        "Name: Tanvi Penumudy\r\n",
        "\r\n",
        "Enroll No: E18CSE187"
      ]
    },
    {
      "cell_type": "code",
      "metadata": {
        "id": "Vp5lUh_TRdT8"
      },
      "source": [
        "import multiprocessing\r\n",
        "import time\r\n",
        "import numpy as np\r\n",
        "import random\r\n",
        "import math \r\n",
        "import matplotlib.pyplot as plt"
      ],
      "execution_count": 1,
      "outputs": []
    },
    {
      "cell_type": "code",
      "metadata": {
        "id": "UVC5rzZVRklJ"
      },
      "source": [
        "def N(n):\r\n",
        "  c=0\r\n",
        "  for i in range(n):\r\n",
        "    c+=1\r\n",
        "  return c"
      ],
      "execution_count": 2,
      "outputs": []
    },
    {
      "cell_type": "code",
      "metadata": {
        "id": "B8M-w0hoRp4p"
      },
      "source": [
        "def N2(n):\r\n",
        "  c=0\r\n",
        "  for i in range(n):\r\n",
        "    for j in range(n):\r\n",
        "      c+=1\r\n",
        "  return c"
      ],
      "execution_count": 3,
      "outputs": []
    },
    {
      "cell_type": "code",
      "metadata": {
        "id": "IM93TBDoRp-r"
      },
      "source": [
        "def N3(n):\r\n",
        "  c=0\r\n",
        "  for i in range(n):\r\n",
        "    for j in range(n):\r\n",
        "      for k in range(n):\r\n",
        "        c+=1\r\n",
        "  return c"
      ],
      "execution_count": 4,
      "outputs": []
    },
    {
      "cell_type": "code",
      "metadata": {
        "id": "vRdrjvs-Rkq_"
      },
      "source": [
        "def logN(n):\r\n",
        "  i,c=1,0\r\n",
        "  while(i<n):\r\n",
        "    c+=1\r\n",
        "    i*=2\r\n",
        "  return c"
      ],
      "execution_count": 5,
      "outputs": []
    },
    {
      "cell_type": "code",
      "metadata": {
        "id": "1Cw4gNVHT64K"
      },
      "source": [
        "def NlogN(n):\r\n",
        "  j,c=1,0\r\n",
        "  for i in range(n):\r\n",
        "    while(j<n):\r\n",
        "      c+=1\r\n",
        "      j*=2\r\n",
        "  return c"
      ],
      "execution_count": 6,
      "outputs": []
    },
    {
      "cell_type": "code",
      "metadata": {
        "id": "dmNEuu6ZV2Kl"
      },
      "source": [
        "n, times = 500, []"
      ],
      "execution_count": 7,
      "outputs": []
    },
    {
      "cell_type": "code",
      "metadata": {
        "colab": {
          "base_uri": "https://localhost:8080/"
        },
        "id": "MzkKxyLKT7AT",
        "outputId": "9402553b-ea7c-4ff8-eff5-eee61f4b4555"
      },
      "source": [
        "# N\r\n",
        "%%time\r\n",
        "t = time.time()\r\n",
        "N(n)\r\n",
        "times.append(time.time() - t)"
      ],
      "execution_count": 8,
      "outputs": [
        {
          "output_type": "stream",
          "text": [
            "CPU times: user 27 µs, sys: 5 µs, total: 32 µs\n",
            "Wall time: 35 µs\n"
          ],
          "name": "stdout"
        }
      ]
    },
    {
      "cell_type": "code",
      "metadata": {
        "colab": {
          "base_uri": "https://localhost:8080/"
        },
        "id": "DDgUSJZ3Rkvp",
        "outputId": "d2cce8f3-53cb-4350-fe05-47137b0e4792"
      },
      "source": [
        "# N^2\r\n",
        "%%time\r\n",
        "t = time.time()\r\n",
        "N2(n)\r\n",
        "times.append(time.time() - t)"
      ],
      "execution_count": 9,
      "outputs": [
        {
          "output_type": "stream",
          "text": [
            "CPU times: user 15 ms, sys: 0 ns, total: 15 ms\n",
            "Wall time: 18.3 ms\n"
          ],
          "name": "stdout"
        }
      ]
    },
    {
      "cell_type": "code",
      "metadata": {
        "colab": {
          "base_uri": "https://localhost:8080/"
        },
        "id": "dmfD3wGMWAUB",
        "outputId": "59eaa2e1-7ff0-41f4-c9f7-0452ac4d5a23"
      },
      "source": [
        "# N^3\r\n",
        "%%time\r\n",
        "t = time.time()\r\n",
        "N3(n)\r\n",
        "times.append(time.time() - t)"
      ],
      "execution_count": 10,
      "outputs": [
        {
          "output_type": "stream",
          "text": [
            "CPU times: user 5.55 s, sys: 0 ns, total: 5.55 s\n",
            "Wall time: 5.56 s\n"
          ],
          "name": "stdout"
        }
      ]
    },
    {
      "cell_type": "code",
      "metadata": {
        "colab": {
          "base_uri": "https://localhost:8080/"
        },
        "id": "yHy0CCi9WAdS",
        "outputId": "34882ca7-e20b-4cf6-a4da-35a144d87125"
      },
      "source": [
        "# LogN\r\n",
        "%%time\r\n",
        "t = time.time()\r\n",
        "logN(n)\r\n",
        "times.append(time.time() - t)"
      ],
      "execution_count": 11,
      "outputs": [
        {
          "output_type": "stream",
          "text": [
            "CPU times: user 9 µs, sys: 0 ns, total: 9 µs\n",
            "Wall time: 12.4 µs\n"
          ],
          "name": "stdout"
        }
      ]
    },
    {
      "cell_type": "code",
      "metadata": {
        "colab": {
          "base_uri": "https://localhost:8080/"
        },
        "id": "wSxgkvXQWAlH",
        "outputId": "0e3dad52-ae02-4b44-8ece-bb038f408abc"
      },
      "source": [
        "# NLogN\r\n",
        "%%time\r\n",
        "t = time.time()\r\n",
        "NlogN(n)\r\n",
        "times.append(time.time() - t)"
      ],
      "execution_count": 12,
      "outputs": [
        {
          "output_type": "stream",
          "text": [
            "CPU times: user 29 µs, sys: 1e+03 ns, total: 30 µs\n",
            "Wall time: 32.7 µs\n"
          ],
          "name": "stdout"
        }
      ]
    },
    {
      "cell_type": "code",
      "metadata": {
        "colab": {
          "base_uri": "https://localhost:8080/"
        },
        "id": "4GyGtLawaAxV",
        "outputId": "cc36bfbc-49e9-48c4-8b19-f4a0e5b06977"
      },
      "source": [
        "print(*times)\r\n",
        "tt = []\r\n",
        "tt.append(sum(times))\r\n",
        "print(sum(times))"
      ],
      "execution_count": 13,
      "outputs": [
        {
          "output_type": "stream",
          "text": [
            "2.8133392333984375e-05 0.018224716186523438 5.5622663497924805 3.814697265625e-06 2.6226043701171875e-05\n",
            "5.580549240112305\n"
          ],
          "name": "stdout"
        }
      ]
    },
    {
      "cell_type": "code",
      "metadata": {
        "colab": {
          "base_uri": "https://localhost:8080/"
        },
        "id": "eIhTnxSiW8Xu",
        "outputId": "0abd2ffe-62d0-4adc-dd40-c1a332d0dcac"
      },
      "source": [
        "# Parallel (5 Jobs - 5 Cores)\r\n",
        "%%time\r\n",
        "t = time.time()\r\n",
        "\r\n",
        "def worker1(n): \r\n",
        "  N(n)\r\n",
        "\r\n",
        "def worker2(n):\r\n",
        "  N2(n)\r\n",
        "\r\n",
        "def worker3(n):\r\n",
        "  N3(n)\r\n",
        "\r\n",
        "def worker4(n):\r\n",
        "  logN(n)\r\n",
        "\r\n",
        "def worker5(n):\r\n",
        "  NlogN(n)\r\n",
        "  \r\n",
        "if __name__ == \"__main__\": \r\n",
        "\r\n",
        "  # creating processes \r\n",
        "  p1 = multiprocessing.Process(target=worker1) \r\n",
        "  p2 = multiprocessing.Process(target=worker2)\r\n",
        "  p3 = multiprocessing.Process(target=worker3) \r\n",
        "  p4 = multiprocessing.Process(target=worker4)\r\n",
        "  p5 = multiprocessing.Process(target=worker5)\r\n",
        "\r\n",
        "  # starting processes \r\n",
        "  p1.start() \r\n",
        "  p2.start()\r\n",
        "  p3.start() \r\n",
        "  p4.start()\r\n",
        "  p5.start()\r\n",
        "\r\n",
        "  # wait until processes are finished \r\n",
        "  p1.join() \r\n",
        "  p2.join()\r\n",
        "  p3.join() \r\n",
        "  p4.join()  \r\n",
        "  p5.join()\r\n",
        "\r\n",
        "  n=500\r\n",
        "  worker1(n)\r\n",
        "  worker2(n)\r\n",
        "  worker3(n)\r\n",
        "  worker4(n)\r\n",
        "  worker5(n)\r\n",
        "  print(\"Done!\")\r\n",
        "\r\n",
        "tt.append(time.time()-t)"
      ],
      "execution_count": 14,
      "outputs": [
        {
          "output_type": "stream",
          "text": [
            "Process Process-1:\n",
            "Traceback (most recent call last):\n",
            "  File \"/usr/lib/python3.7/multiprocessing/process.py\", line 297, in _bootstrap\n",
            "    self.run()\n",
            "Process Process-2:\n",
            "  File \"/usr/lib/python3.7/multiprocessing/process.py\", line 99, in run\n",
            "    self._target(*self._args, **self._kwargs)\n",
            "Process Process-5:\n",
            "Traceback (most recent call last):\n",
            "  File \"/usr/lib/python3.7/multiprocessing/process.py\", line 297, in _bootstrap\n",
            "    self.run()\n",
            "Process Process-3:\n",
            "Traceback (most recent call last):\n",
            "  File \"/usr/lib/python3.7/multiprocessing/process.py\", line 297, in _bootstrap\n",
            "    self.run()\n",
            "Process Process-4:\n",
            "TypeError: worker1() missing 1 required positional argument: 'n'\n",
            "  File \"/usr/lib/python3.7/multiprocessing/process.py\", line 99, in run\n",
            "    self._target(*self._args, **self._kwargs)\n",
            "Traceback (most recent call last):\n",
            "TypeError: worker5() missing 1 required positional argument: 'n'\n",
            "Traceback (most recent call last):\n",
            "  File \"/usr/lib/python3.7/multiprocessing/process.py\", line 99, in run\n",
            "    self._target(*self._args, **self._kwargs)\n",
            "  File \"/usr/lib/python3.7/multiprocessing/process.py\", line 297, in _bootstrap\n",
            "    self.run()\n",
            "  File \"/usr/lib/python3.7/multiprocessing/process.py\", line 99, in run\n",
            "    self._target(*self._args, **self._kwargs)\n",
            "  File \"/usr/lib/python3.7/multiprocessing/process.py\", line 297, in _bootstrap\n",
            "    self.run()\n",
            "TypeError: worker4() missing 1 required positional argument: 'n'\n",
            "  File \"/usr/lib/python3.7/multiprocessing/process.py\", line 99, in run\n",
            "    self._target(*self._args, **self._kwargs)\n",
            "TypeError: worker2() missing 1 required positional argument: 'n'\n",
            "TypeError: worker3() missing 1 required positional argument: 'n'\n"
          ],
          "name": "stderr"
        },
        {
          "output_type": "stream",
          "text": [
            "Done!\n",
            "CPU times: user 5.63 s, sys: 40.9 ms, total: 5.67 s\n",
            "Wall time: 5.73 s\n"
          ],
          "name": "stdout"
        }
      ]
    },
    {
      "cell_type": "markdown",
      "metadata": {
        "id": "5-UL5SzUkK8y"
      },
      "source": [
        "A. Random Allocation"
      ]
    },
    {
      "cell_type": "code",
      "metadata": {
        "id": "XRiZ3FWoYWen"
      },
      "source": [
        "def RandomAllocation(jobs):\r\n",
        "  choice = random.randint(0,jobs-1)\r\n",
        "  if(choice not in alloc):\r\n",
        "    alloc.append(choice)\r\n",
        "  else:\r\n",
        "    RandomAllocation(jobs)\r\n",
        "  return choice"
      ],
      "execution_count": 15,
      "outputs": []
    },
    {
      "cell_type": "code",
      "metadata": {
        "id": "LdExiUXaejCO"
      },
      "source": [
        "def execute(func, n):\r\n",
        "  if(func==0):\r\n",
        "    exe[func]=1\r\n",
        "    return N(n)\r\n",
        "  elif(func==1):\r\n",
        "    exe[func]=1\r\n",
        "    return N2(n)\r\n",
        "  elif(func==2):\r\n",
        "    exe[func]=1\r\n",
        "    return N3(n)\r\n",
        "  elif(func==3):\r\n",
        "    exe[func]=1\r\n",
        "    return logN(n)\r\n",
        "  elif(func==4):\r\n",
        "    exe[func]=1\r\n",
        "    return NlogN(n)\r\n",
        "  else:\r\n",
        "    return None"
      ],
      "execution_count": 16,
      "outputs": []
    },
    {
      "cell_type": "code",
      "metadata": {
        "id": "yjDZKYiTgPYK"
      },
      "source": [
        "def TwoCoreAllocation(jobs):\r\n",
        "  a,b=1,0\r\n",
        "  a+=random.randint(0,jobs-2)\r\n",
        "  b=jobs-a\r\n",
        "  return a, b"
      ],
      "execution_count": 17,
      "outputs": []
    },
    {
      "cell_type": "code",
      "metadata": {
        "id": "i72saUisYWnQ"
      },
      "source": [
        "alloc = []\r\n",
        "exe = [0 for i in range(5)]\r\n",
        "jobs = 5"
      ],
      "execution_count": 18,
      "outputs": []
    },
    {
      "cell_type": "code",
      "metadata": {
        "colab": {
          "base_uri": "https://localhost:8080/"
        },
        "id": "FWM9ls4fXoy5",
        "outputId": "936a5137-58df-42de-dbdd-19cad1e1a51e"
      },
      "source": [
        "# Random Scheduler (2 Cores)\r\n",
        "%%time\r\n",
        "t = time.time()\r\n",
        "\r\n",
        "def worker1(a, jobs, n): \r\n",
        "  for _ in range(a):\r\n",
        "    RandomAllocation(jobs)\r\n",
        "  j=0\r\n",
        "  for _ in range(a):\r\n",
        "    execute(alloc[j],n)\r\n",
        "    j+=1\r\n",
        "\r\n",
        "def worker2(a, b, jobs, n):\r\n",
        "  for _ in range(b):\r\n",
        "    RandomAllocation(jobs)\r\n",
        "  j=a\r\n",
        "  for _ in range(b):\r\n",
        "    execute(alloc[j],n)\r\n",
        "    j+=1\r\n",
        "\r\n",
        "if __name__ == \"__main__\": \r\n",
        "\r\n",
        "  # creating processes \r\n",
        "  p1 = multiprocessing.Process(target=worker1) \r\n",
        "  p2 = multiprocessing.Process(target=worker2)\r\n",
        "\r\n",
        "  # starting processes \r\n",
        "  p1.start() \r\n",
        "  p2.start()\r\n",
        "\r\n",
        "  # wait until processes are finished \r\n",
        "  p1.join() \r\n",
        "  p2.join()\r\n",
        "\r\n",
        "  n=500\r\n",
        "  a,b = TwoCoreAllocation(5)\r\n",
        "  worker1(a, 5, n)\r\n",
        "  worker2(a, b, 5, n)\r\n",
        "  print(\"Done!\")\r\n",
        "  print(alloc)\r\n",
        "  print(exe)\r\n",
        "\r\n",
        "tt.append(time.time()-t)"
      ],
      "execution_count": 19,
      "outputs": [
        {
          "output_type": "stream",
          "text": [
            "Process Process-6:\n",
            "Traceback (most recent call last):\n",
            "  File \"/usr/lib/python3.7/multiprocessing/process.py\", line 297, in _bootstrap\n",
            "    self.run()\n",
            "  File \"/usr/lib/python3.7/multiprocessing/process.py\", line 99, in run\n",
            "    self._target(*self._args, **self._kwargs)\n",
            "Process Process-7:\n",
            "Traceback (most recent call last):\n",
            "  File \"/usr/lib/python3.7/multiprocessing/process.py\", line 297, in _bootstrap\n",
            "    self.run()\n",
            "TypeError: worker1() missing 3 required positional arguments: 'a', 'jobs', and 'n'\n",
            "  File \"/usr/lib/python3.7/multiprocessing/process.py\", line 99, in run\n",
            "    self._target(*self._args, **self._kwargs)\n",
            "TypeError: worker2() missing 4 required positional arguments: 'a', 'b', 'jobs', and 'n'\n"
          ],
          "name": "stderr"
        },
        {
          "output_type": "stream",
          "text": [
            "Done!\n",
            "[0, 4, 2, 3, 1]\n",
            "[1, 1, 1, 1, 1]\n",
            "CPU times: user 5.6 s, sys: 12.9 ms, total: 5.61 s\n",
            "Wall time: 5.64 s\n"
          ],
          "name": "stdout"
        }
      ]
    },
    {
      "cell_type": "markdown",
      "metadata": {
        "id": "a6Kn3H5ZkW7p"
      },
      "source": [
        "B. Shortest Job First Allocation"
      ]
    },
    {
      "cell_type": "code",
      "metadata": {
        "colab": {
          "base_uri": "https://localhost:8080/"
        },
        "id": "tv9qDpBblVH6",
        "outputId": "92f9ade5-c34f-4136-fb66-0a60969d433d"
      },
      "source": [
        "print(*times)"
      ],
      "execution_count": 20,
      "outputs": [
        {
          "output_type": "stream",
          "text": [
            "2.8133392333984375e-05 0.018224716186523438 5.5622663497924805 3.814697265625e-06 2.6226043701171875e-05\n"
          ],
          "name": "stdout"
        }
      ]
    },
    {
      "cell_type": "code",
      "metadata": {
        "colab": {
          "base_uri": "https://localhost:8080/"
        },
        "id": "kp9DP567eDsI",
        "outputId": "a99e47a1-22e5-4eed-c4d3-8478d0d6ab17"
      },
      "source": [
        "sorted = (np.argsort(times, axis=0)).tolist()\r\n",
        "sorted"
      ],
      "execution_count": 21,
      "outputs": [
        {
          "output_type": "execute_result",
          "data": {
            "text/plain": [
              "[3, 4, 0, 1, 2]"
            ]
          },
          "metadata": {
            "tags": []
          },
          "execution_count": 21
        }
      ]
    },
    {
      "cell_type": "code",
      "metadata": {
        "id": "tXSOcbZcmAA7"
      },
      "source": [
        "exe = [0 for i in range(5)]\r\n",
        "jobs = 5"
      ],
      "execution_count": 22,
      "outputs": []
    },
    {
      "cell_type": "code",
      "metadata": {
        "colab": {
          "base_uri": "https://localhost:8080/"
        },
        "id": "F-4-ul9Ikbhw",
        "outputId": "571273b2-0c82-4028-ad32-c683a05beaa7"
      },
      "source": [
        "# Shortest Job First Scheduler (2 Cores)\r\n",
        "%%time\r\n",
        "t = time.time()\r\n",
        "\r\n",
        "def worker1(a, n): \r\n",
        "  j=0\r\n",
        "  for _ in range(a):\r\n",
        "    execute(sorted[j],n)\r\n",
        "    j+=1\r\n",
        "\r\n",
        "def worker2(a, b, n):\r\n",
        "  j=a\r\n",
        "  for _ in range(b):\r\n",
        "    execute(sorted[j],n)\r\n",
        "    j+=1\r\n",
        "\r\n",
        "if __name__ == \"__main__\": \r\n",
        "\r\n",
        "  # creating processes \r\n",
        "  p1 = multiprocessing.Process(target=worker1) \r\n",
        "  p2 = multiprocessing.Process(target=worker2)\r\n",
        "\r\n",
        "  # starting processes \r\n",
        "  p1.start() \r\n",
        "  p2.start()\r\n",
        "\r\n",
        "  # wait until processes are finished \r\n",
        "  p1.join() \r\n",
        "  p2.join()\r\n",
        "\r\n",
        "  n=500\r\n",
        "  a,b = TwoCoreAllocation(5)\r\n",
        "  worker1(a, n)\r\n",
        "  worker2(a, b, n)\r\n",
        "  print(\"Done!\")\r\n",
        "  print(sorted)\r\n",
        "  print(exe)\r\n",
        "\r\n",
        "tt.append(time.time()-t)"
      ],
      "execution_count": 23,
      "outputs": [
        {
          "output_type": "stream",
          "text": [
            "Process Process-8:\n",
            "Traceback (most recent call last):\n",
            "  File \"/usr/lib/python3.7/multiprocessing/process.py\", line 297, in _bootstrap\n",
            "    self.run()\n",
            "Process Process-9:\n",
            "  File \"/usr/lib/python3.7/multiprocessing/process.py\", line 99, in run\n",
            "    self._target(*self._args, **self._kwargs)\n",
            "TypeError: worker1() missing 2 required positional arguments: 'a' and 'n'\n",
            "Traceback (most recent call last):\n",
            "  File \"/usr/lib/python3.7/multiprocessing/process.py\", line 297, in _bootstrap\n",
            "    self.run()\n",
            "  File \"/usr/lib/python3.7/multiprocessing/process.py\", line 99, in run\n",
            "    self._target(*self._args, **self._kwargs)\n",
            "TypeError: worker2() missing 3 required positional arguments: 'a', 'b', and 'n'\n"
          ],
          "name": "stderr"
        },
        {
          "output_type": "stream",
          "text": [
            "Done!\n",
            "[3, 4, 0, 1, 2]\n",
            "[1, 1, 1, 1, 1]\n",
            "CPU times: user 5.62 s, sys: 16 ms, total: 5.64 s\n",
            "Wall time: 5.67 s\n"
          ],
          "name": "stdout"
        }
      ]
    },
    {
      "cell_type": "markdown",
      "metadata": {
        "id": "VaBS039WrQkZ"
      },
      "source": [
        "C. Knapsack Based Allocation"
      ]
    },
    {
      "cell_type": "code",
      "metadata": {
        "id": "5q4llFTpkboN"
      },
      "source": [
        "def calculateScore(v,w,n):\r\n",
        "    score = np.array([])\r\n",
        "    for i in range(n):\r\n",
        "        score = np.append(score, round((v[i]/w[i]),3)) \r\n",
        "    scoreIdx = np.argsort(-score)\r\n",
        "    return scoreIdx\r\n",
        "\r\n",
        "def knapsack(v,w,n,W):\r\n",
        "    s = 0\r\n",
        "    scoreIdx = calculateScore(v,w,n)\r\n",
        "    idx = np.zeros(n).astype(int)\r\n",
        "    for i in range(n):\r\n",
        "       LargeIdx = scoreIdx[i]\r\n",
        "       if((s+w[LargeIdx]) <= W):\r\n",
        "           idx[LargeIdx] = 1 \r\n",
        "           s += w[LargeIdx]\r\n",
        "    return idx"
      ],
      "execution_count": 24,
      "outputs": []
    },
    {
      "cell_type": "code",
      "metadata": {
        "id": "CRndqdJBh6ZE"
      },
      "source": [
        "jobs = 5\r\n",
        "n = 500\r\n",
        "n1 = 100\r\n",
        "v1,v2,v3,v4,v5 = N(n1),N2(n1),N3(n1),logN(n1),NlogN(n1)\r\n",
        "# vf = (v1+v2+v3+v4+v5)/5\r\n",
        "v = np.array([v1,v2,v3,v4,v5])\r\n",
        "w = np.array([n, pow(n,2), pow(n,3), round(math.log(n,10)), round((math.log(n,10))*n)])\r\n",
        "exe = [0 for i in range(5)]\r\n",
        "alloc = []\r\n",
        "knap1, knap2 = [], []"
      ],
      "execution_count": 25,
      "outputs": []
    },
    {
      "cell_type": "code",
      "metadata": {
        "colab": {
          "base_uri": "https://localhost:8080/"
        },
        "id": "gR_0C-Da1ycF",
        "outputId": "49c5ff4d-f575-42fc-db19-6dd0be6e99ac"
      },
      "source": [
        "# Knapsack Scheduler (2 Cores)\r\n",
        "%%time\r\n",
        "t = time.time()\r\n",
        "\r\n",
        "def worker1(a, jobs, n): \r\n",
        "  for _ in range(a):\r\n",
        "    RandomAllocation(jobs)\r\n",
        "  j=0\r\n",
        "  knap1,v1,w1 = [],[],[]\r\n",
        "  for _ in range(a):\r\n",
        "    knap1.append(alloc[j])\r\n",
        "    v1.append(v[knap1[j]])\r\n",
        "    w1.append(w[knap1[j]])\r\n",
        "    j+=1\r\n",
        "  v1,w1 = np.array(v1),np.array(w1) \r\n",
        "  res = knapsack(v1,w1,a,np.sum(w1))\r\n",
        "  res1 = w1[res==1].tolist()\r\n",
        "  for i in res1:\r\n",
        "    execute((w.tolist()).index(i),n)\r\n",
        "\r\n",
        "def worker2(a, b, jobs, n):\r\n",
        "  for _ in range(b):\r\n",
        "    RandomAllocation(jobs)\r\n",
        "  j=a\r\n",
        "  knap1,v1,w1 = [],[],[]\r\n",
        "  for _ in range(b):\r\n",
        "    knap1.append(alloc[j])\r\n",
        "    j+=1\r\n",
        "  for i in range(b):\r\n",
        "    v1.append(v[knap1[i]])\r\n",
        "    w1.append(w[knap1[i]])\r\n",
        "  v1,w1 = np.array(v1),np.array(w1) \r\n",
        "  res = knapsack(v1,w1,b,np.sum(w1))\r\n",
        "  res1 = w1[res==1].tolist()\r\n",
        "  for i in res1:\r\n",
        "    execute((w.tolist()).index(i),n)\r\n",
        "\r\n",
        "if __name__ == \"__main__\": \r\n",
        "\r\n",
        "  # creating processes \r\n",
        "  p1 = multiprocessing.Process(target=worker1) \r\n",
        "  p2 = multiprocessing.Process(target=worker2)\r\n",
        "\r\n",
        "  # starting processes \r\n",
        "  p1.start() \r\n",
        "  p2.start()\r\n",
        "\r\n",
        "  # wait until processes are finished \r\n",
        "  p1.join() \r\n",
        "  p2.join()\r\n",
        "\r\n",
        "  n=500\r\n",
        "  a,b = TwoCoreAllocation(5)\r\n",
        "  worker1(a, 5, n)\r\n",
        "  worker2(a, b, 5, n)\r\n",
        "  print(\"Done!\")\r\n",
        "  print(alloc)\r\n",
        "  print(exe)\r\n",
        "\r\n",
        "tt.append(time.time()-t)"
      ],
      "execution_count": 26,
      "outputs": [
        {
          "output_type": "stream",
          "text": [
            "Process Process-10:\n",
            "Traceback (most recent call last):\n",
            "Process Process-11:\n",
            "  File \"/usr/lib/python3.7/multiprocessing/process.py\", line 297, in _bootstrap\n",
            "    self.run()\n",
            "Traceback (most recent call last):\n",
            "  File \"/usr/lib/python3.7/multiprocessing/process.py\", line 297, in _bootstrap\n",
            "    self.run()\n",
            "  File \"/usr/lib/python3.7/multiprocessing/process.py\", line 99, in run\n",
            "    self._target(*self._args, **self._kwargs)\n",
            "  File \"/usr/lib/python3.7/multiprocessing/process.py\", line 99, in run\n",
            "    self._target(*self._args, **self._kwargs)\n",
            "TypeError: worker2() missing 4 required positional arguments: 'a', 'b', 'jobs', and 'n'\n",
            "TypeError: worker1() missing 3 required positional arguments: 'a', 'jobs', and 'n'\n"
          ],
          "name": "stderr"
        },
        {
          "output_type": "stream",
          "text": [
            "Done!\n",
            "[3, 1, 0, 4, 2]\n",
            "[1, 1, 1, 1, 1]\n",
            "CPU times: user 5.57 s, sys: 14 ms, total: 5.58 s\n",
            "Wall time: 5.61 s\n"
          ],
          "name": "stdout"
        }
      ]
    },
    {
      "cell_type": "code",
      "metadata": {
        "colab": {
          "base_uri": "https://localhost:8080/",
          "height": 323
        },
        "id": "OUIl_T3m6JNA",
        "outputId": "c0a6cdbb-24f4-4d26-9401-9c5aa114ac60"
      },
      "source": [
        "figure = plt.figure(figsize=(5,5))\r\n",
        "plt.bar([\"Serial\",\"Parallel(5)\",\"Random(2)\",\"SJF(2)\",\"Knapsack(2)\"], tt)\r\n",
        "plt.show()"
      ],
      "execution_count": 30,
      "outputs": [
        {
          "output_type": "display_data",
          "data": {
            "image/png": "[encoded data removed]",
            "text/plain": [
              "<Figure size 360x360 with 1 Axes>"
            ]
          },
          "metadata": {
            "tags": [],
            "needs_background": "light"
          }
        }
      ]
    },
    {
      "cell_type": "code",
      "metadata": {
        "id": "JOVql-PKEppu"
      },
      "source": [
        ""
      ],
      "execution_count": null,
      "outputs": []
    }
  ]
}