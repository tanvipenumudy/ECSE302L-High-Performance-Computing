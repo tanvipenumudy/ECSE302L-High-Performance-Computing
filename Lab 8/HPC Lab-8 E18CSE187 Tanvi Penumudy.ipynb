{
  "nbformat": 4,
  "nbformat_minor": 0,
  "metadata": {
    "colab": {
      "name": "HPC Lab-8 E18CSE187.ipynb",
      "provenance": [],
      "collapsed_sections": []
    },
    "kernelspec": {
      "name": "python3",
      "display_name": "Python 3"
    }
  },
  "cells": [
    {
      "cell_type": "markdown",
      "metadata": {
        "id": "1D7rRXy3mYLD"
      },
      "source": [
        "## HPC Lab-8\r\n",
        "Name: Tanvi Penumudy\r\n",
        "\r\n",
        "Enroll No: E18CSE187"
      ]
    },
    {
      "cell_type": "code",
      "metadata": {
        "id": "Vp5lUh_TRdT8"
      },
      "source": [
        "import multiprocessing\r\n",
        "import time\r\n",
        "import numpy as np\r\n",
        "import random"
      ],
      "execution_count": 152,
      "outputs": []
    },
    {
      "cell_type": "code",
      "metadata": {
        "id": "UVC5rzZVRklJ"
      },
      "source": [
        "def N(n):\r\n",
        "  c=0\r\n",
        "  for i in range(n):\r\n",
        "    c+=1\r\n",
        "  return c"
      ],
      "execution_count": 29,
      "outputs": []
    },
    {
      "cell_type": "code",
      "metadata": {
        "id": "B8M-w0hoRp4p"
      },
      "source": [
        "def N2(n):\r\n",
        "  c=0\r\n",
        "  for i in range(n):\r\n",
        "    for j in range(n):\r\n",
        "      c+=1\r\n",
        "  return c"
      ],
      "execution_count": 30,
      "outputs": []
    },
    {
      "cell_type": "code",
      "metadata": {
        "id": "IM93TBDoRp-r"
      },
      "source": [
        "def N3(n):\r\n",
        "  c=0\r\n",
        "  for i in range(n):\r\n",
        "    for j in range(n):\r\n",
        "      for k in range(n):\r\n",
        "        c+=1\r\n",
        "  return c"
      ],
      "execution_count": 31,
      "outputs": []
    },
    {
      "cell_type": "code",
      "metadata": {
        "id": "vRdrjvs-Rkq_"
      },
      "source": [
        "def logN(n):\r\n",
        "  i,c=1,0\r\n",
        "  while(i<n):\r\n",
        "    c+=1\r\n",
        "    i*=2\r\n",
        "  return c"
      ],
      "execution_count": 32,
      "outputs": []
    },
    {
      "cell_type": "code",
      "metadata": {
        "id": "1Cw4gNVHT64K"
      },
      "source": [
        "def NlogN(n):\r\n",
        "  j,c=1,0\r\n",
        "  for i in range(n):\r\n",
        "    while(j<n):\r\n",
        "      c+=1\r\n",
        "      j*=2\r\n",
        "  return c"
      ],
      "execution_count": 33,
      "outputs": []
    },
    {
      "cell_type": "code",
      "metadata": {
        "id": "dmNEuu6ZV2Kl"
      },
      "source": [
        "n, times = 500, []"
      ],
      "execution_count": 53,
      "outputs": []
    },
    {
      "cell_type": "code",
      "metadata": {
        "colab": {
          "base_uri": "https://localhost:8080/"
        },
        "id": "MzkKxyLKT7AT",
        "outputId": "313fb428-08d5-4e2b-8236-a431d220391c"
      },
      "source": [
        "# N\r\n",
        "%%time\r\n",
        "t = time.time()\r\n",
        "N(n)\r\n",
        "times.append(time.time() - t)"
      ],
      "execution_count": 54,
      "outputs": [
        {
          "output_type": "stream",
          "text": [
            "CPU times: user 37 µs, sys: 0 ns, total: 37 µs\n",
            "Wall time: 40.5 µs\n"
          ],
          "name": "stdout"
        }
      ]
    },
    {
      "cell_type": "code",
      "metadata": {
        "colab": {
          "base_uri": "https://localhost:8080/"
        },
        "id": "DDgUSJZ3Rkvp",
        "outputId": "c60f9e06-cc6d-49b4-ab02-a622cc30d03c"
      },
      "source": [
        "# N^2\r\n",
        "%%time\r\n",
        "t = time.time()\r\n",
        "N2(n)\r\n",
        "times.append(time.time() - t)"
      ],
      "execution_count": 55,
      "outputs": [
        {
          "output_type": "stream",
          "text": [
            "CPU times: user 13.4 ms, sys: 0 ns, total: 13.4 ms\n",
            "Wall time: 15 ms\n"
          ],
          "name": "stdout"
        }
      ]
    },
    {
      "cell_type": "code",
      "metadata": {
        "colab": {
          "base_uri": "https://localhost:8080/"
        },
        "id": "dmfD3wGMWAUB",
        "outputId": "b3867e9a-0958-4721-d795-26efe69e1f12"
      },
      "source": [
        "# N^3\r\n",
        "%%time\r\n",
        "t = time.time()\r\n",
        "N3(n)\r\n",
        "times.append(time.time() - t)"
      ],
      "execution_count": 56,
      "outputs": [
        {
          "output_type": "stream",
          "text": [
            "CPU times: user 5.64 s, sys: 0 ns, total: 5.64 s\n",
            "Wall time: 5.65 s\n"
          ],
          "name": "stdout"
        }
      ]
    },
    {
      "cell_type": "code",
      "metadata": {
        "colab": {
          "base_uri": "https://localhost:8080/"
        },
        "id": "yHy0CCi9WAdS",
        "outputId": "2c7049c7-347d-408b-ded9-75a6bb54766f"
      },
      "source": [
        "# LogN\r\n",
        "%%time\r\n",
        "t = time.time()\r\n",
        "logN(n)\r\n",
        "times.append(time.time() - t)"
      ],
      "execution_count": 57,
      "outputs": [
        {
          "output_type": "stream",
          "text": [
            "CPU times: user 12 µs, sys: 0 ns, total: 12 µs\n",
            "Wall time: 17.2 µs\n"
          ],
          "name": "stdout"
        }
      ]
    },
    {
      "cell_type": "code",
      "metadata": {
        "colab": {
          "base_uri": "https://localhost:8080/"
        },
        "id": "wSxgkvXQWAlH",
        "outputId": "776ba572-3128-4f1e-c908-54f2e0ad3d9d"
      },
      "source": [
        "# NLogN\r\n",
        "%%time\r\n",
        "t = time.time()\r\n",
        "NlogN(n)\r\n",
        "times.append(time.time() - t)"
      ],
      "execution_count": 58,
      "outputs": [
        {
          "output_type": "stream",
          "text": [
            "CPU times: user 54 µs, sys: 0 ns, total: 54 µs\n",
            "Wall time: 59.4 µs\n"
          ],
          "name": "stdout"
        }
      ]
    },
    {
      "cell_type": "code",
      "metadata": {
        "colab": {
          "base_uri": "https://localhost:8080/"
        },
        "id": "4GyGtLawaAxV",
        "outputId": "df4ef24e-bd99-4171-8894-3286bd4f556e"
      },
      "source": [
        "print(*times)\r\n",
        "sum(times)"
      ],
      "execution_count": 59,
      "outputs": [
        {
          "output_type": "stream",
          "text": [
            "3.147125244140625e-05 0.01495981216430664 5.647085666656494 5.0067901611328125e-06 4.696846008300781e-05\n"
          ],
          "name": "stdout"
        },
        {
          "output_type": "execute_result",
          "data": {
            "text/plain": [
              "5.662128925323486"
            ]
          },
          "metadata": {
            "tags": []
          },
          "execution_count": 59
        }
      ]
    },
    {
      "cell_type": "code",
      "metadata": {
        "colab": {
          "base_uri": "https://localhost:8080/"
        },
        "id": "eIhTnxSiW8Xu",
        "outputId": "040d7147-17f5-45d6-82d0-c0be2487bd7b"
      },
      "source": [
        "# Parallel (5 Jobs - 5 Cores)\r\n",
        "%%time\r\n",
        "t = time.time()\r\n",
        "def worker1(n): \r\n",
        "  N(n)\r\n",
        "\r\n",
        "def worker2(n):\r\n",
        "  N2(n)\r\n",
        "\r\n",
        "def worker3(n):\r\n",
        "  N3(n)\r\n",
        "\r\n",
        "def worker4(n):\r\n",
        "  logN(n)\r\n",
        "\r\n",
        "def worker5(n):\r\n",
        "  NlogN(n)\r\n",
        "  \r\n",
        "if __name__ == \"__main__\": \r\n",
        "\r\n",
        "  # creating processes \r\n",
        "  p1 = multiprocessing.Process(target=worker1) \r\n",
        "  p2 = multiprocessing.Process(target=worker2)\r\n",
        "  p3 = multiprocessing.Process(target=worker3) \r\n",
        "  p4 = multiprocessing.Process(target=worker4)\r\n",
        "  p5 = multiprocessing.Process(target=worker5)\r\n",
        "\r\n",
        "  # starting processes \r\n",
        "  p1.start() \r\n",
        "  p2.start()\r\n",
        "  p3.start() \r\n",
        "  p4.start()\r\n",
        "  p5.start()\r\n",
        "\r\n",
        "  # wait until processes are finished \r\n",
        "  p1.join() \r\n",
        "  p2.join()\r\n",
        "  p3.join() \r\n",
        "  p4.join()  \r\n",
        "  p5.join()\r\n",
        "\r\n",
        "  n=500\r\n",
        "  worker1(n)\r\n",
        "  worker2(n)\r\n",
        "  worker3(n)\r\n",
        "  worker4(n)\r\n",
        "  worker5(n)\r\n",
        "  print(\"Done!\")\r\n",
        "\r\n",
        "print(time.time()-t)"
      ],
      "execution_count": 162,
      "outputs": [
        {
          "output_type": "stream",
          "text": [
            "Process Process-34:\n",
            "Traceback (most recent call last):\n",
            "  File \"/usr/lib/python3.7/multiprocessing/process.py\", line 297, in _bootstrap\n",
            "    self.run()\n",
            "Process Process-36:\n",
            "  File \"/usr/lib/python3.7/multiprocessing/process.py\", line 99, in run\n",
            "    self._target(*self._args, **self._kwargs)\n",
            "Process Process-35:\n",
            "Traceback (most recent call last):\n",
            "TypeError: worker1() missing 1 required positional argument: 'n'\n",
            "Traceback (most recent call last):\n",
            "  File \"/usr/lib/python3.7/multiprocessing/process.py\", line 297, in _bootstrap\n",
            "    self.run()\n",
            "  File \"/usr/lib/python3.7/multiprocessing/process.py\", line 99, in run\n",
            "    self._target(*self._args, **self._kwargs)\n",
            "Process Process-38:\n",
            "  File \"/usr/lib/python3.7/multiprocessing/process.py\", line 297, in _bootstrap\n",
            "    self.run()\n",
            "Traceback (most recent call last):\n",
            "Process Process-37:\n",
            "  File \"/usr/lib/python3.7/multiprocessing/process.py\", line 99, in run\n",
            "    self._target(*self._args, **self._kwargs)\n",
            "TypeError: worker2() missing 1 required positional argument: 'n'\n",
            "Traceback (most recent call last):\n",
            "  File \"/usr/lib/python3.7/multiprocessing/process.py\", line 297, in _bootstrap\n",
            "    self.run()\n",
            "TypeError: worker3() missing 1 required positional argument: 'n'\n",
            "  File \"/usr/lib/python3.7/multiprocessing/process.py\", line 297, in _bootstrap\n",
            "    self.run()\n",
            "  File \"/usr/lib/python3.7/multiprocessing/process.py\", line 99, in run\n",
            "    self._target(*self._args, **self._kwargs)\n",
            "  File \"/usr/lib/python3.7/multiprocessing/process.py\", line 99, in run\n",
            "    self._target(*self._args, **self._kwargs)\n",
            "TypeError: worker4() missing 1 required positional argument: 'n'\n",
            "TypeError: worker5() missing 1 required positional argument: 'n'\n"
          ],
          "name": "stderr"
        },
        {
          "output_type": "stream",
          "text": [
            "Done!\n",
            "5.758859157562256\n",
            "CPU times: user 5.64 s, sys: 52.2 ms, total: 5.69 s\n",
            "Wall time: 5.76 s\n"
          ],
          "name": "stdout"
        }
      ]
    },
    {
      "cell_type": "markdown",
      "metadata": {
        "id": "5-UL5SzUkK8y"
      },
      "source": [
        "Random Allocation"
      ]
    },
    {
      "cell_type": "code",
      "metadata": {
        "id": "XRiZ3FWoYWen"
      },
      "source": [
        "def RandomAllocation(jobs):\r\n",
        "  choice = random.randint(0,jobs-1)\r\n",
        "  if(choice not in alloc):\r\n",
        "    alloc.append(choice)\r\n",
        "  else:\r\n",
        "    RandomAllocation(jobs)\r\n",
        "  return choice"
      ],
      "execution_count": 129,
      "outputs": []
    },
    {
      "cell_type": "code",
      "metadata": {
        "id": "LdExiUXaejCO"
      },
      "source": [
        "def execute(func, n):\r\n",
        "  if(func==0):\r\n",
        "    exe[func]=1\r\n",
        "    return N(n)\r\n",
        "  elif(func==1):\r\n",
        "    exe[func]=1\r\n",
        "    return N2(n)\r\n",
        "  elif(func==2):\r\n",
        "    exe[func]=1\r\n",
        "    return N3(n)\r\n",
        "  elif(func==3):\r\n",
        "    exe[func]=1\r\n",
        "    return logN(n)\r\n",
        "  elif(func==4):\r\n",
        "    exe[func]=1\r\n",
        "    return NlogN(n)\r\n",
        "  else:\r\n",
        "    return None"
      ],
      "execution_count": 138,
      "outputs": []
    },
    {
      "cell_type": "code",
      "metadata": {
        "id": "yjDZKYiTgPYK"
      },
      "source": [
        "def TwoCoreAllocation(jobs):\r\n",
        "  a,b=1,0\r\n",
        "  a+=random.randint(0,jobs-2)\r\n",
        "  b=jobs-a\r\n",
        "  return a, b"
      ],
      "execution_count": 146,
      "outputs": []
    },
    {
      "cell_type": "code",
      "metadata": {
        "id": "i72saUisYWnQ"
      },
      "source": [
        "alloc = []\r\n",
        "exe = [0 for i in range(5)]\r\n",
        "jobs = 5"
      ],
      "execution_count": 147,
      "outputs": []
    },
    {
      "cell_type": "code",
      "metadata": {
        "colab": {
          "base_uri": "https://localhost:8080/"
        },
        "id": "FWM9ls4fXoy5",
        "outputId": "214b40b1-1a67-4b45-b2b4-931ecad19d7a"
      },
      "source": [
        "# Random Scheduler (2 Cores)\r\n",
        "%%time\r\n",
        "t = time.time()\r\n",
        "def worker1(a, jobs, n): \r\n",
        "  for _ in range(a):\r\n",
        "    RandomAllocation(jobs)\r\n",
        "  j=0\r\n",
        "  for _ in range(a):\r\n",
        "    execute(alloc[j],n)\r\n",
        "    j+=1\r\n",
        "\r\n",
        "def worker2(a, b, jobs, n):\r\n",
        "  for _ in range(b):\r\n",
        "    RandomAllocation(jobs)\r\n",
        "  j=a\r\n",
        "  for _ in range(b):\r\n",
        "    execute(alloc[j],n)\r\n",
        "    j+=1\r\n",
        "\r\n",
        "if __name__ == \"__main__\": \r\n",
        "\r\n",
        "  # creating processes \r\n",
        "  p1 = multiprocessing.Process(target=worker1) \r\n",
        "  p2 = multiprocessing.Process(target=worker2)\r\n",
        "\r\n",
        "  # starting processes \r\n",
        "  p1.start() \r\n",
        "  p2.start()\r\n",
        "\r\n",
        "  # wait until processes are finished \r\n",
        "  p1.join() \r\n",
        "  p2.join()\r\n",
        "\r\n",
        "  n=500\r\n",
        "  a,b = TwoCoreAllocation(5)\r\n",
        "  worker1(a, 5, n)\r\n",
        "  worker2(a, b, 5, n)\r\n",
        "  print(\"Done!\")\r\n",
        "  print(alloc)\r\n",
        "  print(exe)\r\n",
        "\r\n",
        "print(time.time()-t)"
      ],
      "execution_count": 148,
      "outputs": [
        {
          "output_type": "stream",
          "text": [
            "Process Process-30:\n",
            "Process Process-31:\n",
            "Traceback (most recent call last):\n",
            "Traceback (most recent call last):\n",
            "  File \"/usr/lib/python3.7/multiprocessing/process.py\", line 297, in _bootstrap\n",
            "    self.run()\n",
            "  File \"/usr/lib/python3.7/multiprocessing/process.py\", line 297, in _bootstrap\n",
            "    self.run()\n",
            "  File \"/usr/lib/python3.7/multiprocessing/process.py\", line 99, in run\n",
            "    self._target(*self._args, **self._kwargs)\n",
            "  File \"/usr/lib/python3.7/multiprocessing/process.py\", line 99, in run\n",
            "    self._target(*self._args, **self._kwargs)\n",
            "TypeError: worker2() missing 4 required positional arguments: 'a', 'b', 'jobs', and 'n'\n",
            "TypeError: worker1() missing 3 required positional arguments: 'a', 'jobs', and 'n'\n"
          ],
          "name": "stderr"
        },
        {
          "output_type": "stream",
          "text": [
            "Done!\n",
            "[1, 0, 4, 3, 2]\n",
            "[1, 1, 1, 1, 1]\n",
            "5.864964723587036\n",
            "CPU times: user 5.8 s, sys: 15.9 ms, total: 5.82 s\n",
            "Wall time: 5.87 s\n"
          ],
          "name": "stdout"
        }
      ]
    },
    {
      "cell_type": "markdown",
      "metadata": {
        "id": "a6Kn3H5ZkW7p"
      },
      "source": [
        "Shortest Job First Allocation"
      ]
    },
    {
      "cell_type": "code",
      "metadata": {
        "colab": {
          "base_uri": "https://localhost:8080/"
        },
        "id": "tv9qDpBblVH6",
        "outputId": "7d8ef1c8-53da-4140-8e7f-45ec65d8f30b"
      },
      "source": [
        "print(*times)"
      ],
      "execution_count": 155,
      "outputs": [
        {
          "output_type": "stream",
          "text": [
            "3.147125244140625e-05 0.01495981216430664 5.647085666656494 5.0067901611328125e-06 4.696846008300781e-05\n"
          ],
          "name": "stdout"
        }
      ]
    },
    {
      "cell_type": "code",
      "metadata": {
        "colab": {
          "base_uri": "https://localhost:8080/"
        },
        "id": "kp9DP567eDsI",
        "outputId": "c6619f33-3504-4323-d18a-784d2c6a2cab"
      },
      "source": [
        "sorted = (np.argsort(times, axis=0)).tolist()\r\n",
        "sorted"
      ],
      "execution_count": 159,
      "outputs": [
        {
          "output_type": "execute_result",
          "data": {
            "text/plain": [
              "[3, 0, 4, 1, 2]"
            ]
          },
          "metadata": {
            "tags": []
          },
          "execution_count": 159
        }
      ]
    },
    {
      "cell_type": "code",
      "metadata": {
        "id": "tXSOcbZcmAA7"
      },
      "source": [
        "exe = [0 for i in range(5)]\r\n",
        "jobs = 5"
      ],
      "execution_count": 160,
      "outputs": []
    },
    {
      "cell_type": "code",
      "metadata": {
        "colab": {
          "base_uri": "https://localhost:8080/"
        },
        "id": "F-4-ul9Ikbhw",
        "outputId": "c27708ce-6fef-47b1-e36b-e784bcb73414"
      },
      "source": [
        "# Shortest Job First Scheduler (2 Cores)\r\n",
        "%%time\r\n",
        "t = time.time()\r\n",
        "def worker1(a, n): \r\n",
        "  j=0\r\n",
        "  for _ in range(a):\r\n",
        "    execute(sorted[j],n)\r\n",
        "    j+=1\r\n",
        "\r\n",
        "def worker2(a, b, n):\r\n",
        "  j=a\r\n",
        "  for _ in range(b):\r\n",
        "    execute(sorted[j],n)\r\n",
        "    j+=1\r\n",
        "\r\n",
        "if __name__ == \"__main__\": \r\n",
        "\r\n",
        "  # creating processes \r\n",
        "  p1 = multiprocessing.Process(target=worker1) \r\n",
        "  p2 = multiprocessing.Process(target=worker2)\r\n",
        "\r\n",
        "  # starting processes \r\n",
        "  p1.start() \r\n",
        "  p2.start()\r\n",
        "\r\n",
        "  # wait until processes are finished \r\n",
        "  p1.join() \r\n",
        "  p2.join()\r\n",
        "\r\n",
        "  n=500\r\n",
        "  a,b = TwoCoreAllocation(5)\r\n",
        "  worker1(a, n)\r\n",
        "  worker2(a, b, n)\r\n",
        "  print(\"Done!\")\r\n",
        "  print(exe)\r\n",
        "\r\n",
        "print(time.time()-t)"
      ],
      "execution_count": 161,
      "outputs": [
        {
          "output_type": "stream",
          "text": [
            "Process Process-32:\n",
            "Traceback (most recent call last):\n",
            "  File \"/usr/lib/python3.7/multiprocessing/process.py\", line 297, in _bootstrap\n",
            "    self.run()\n",
            "  File \"/usr/lib/python3.7/multiprocessing/process.py\", line 99, in run\n",
            "    self._target(*self._args, **self._kwargs)\n",
            "Process Process-33:\n",
            "TypeError: worker1() missing 2 required positional arguments: 'a' and 'n'\n",
            "Traceback (most recent call last):\n",
            "  File \"/usr/lib/python3.7/multiprocessing/process.py\", line 297, in _bootstrap\n",
            "    self.run()\n",
            "  File \"/usr/lib/python3.7/multiprocessing/process.py\", line 99, in run\n",
            "    self._target(*self._args, **self._kwargs)\n",
            "TypeError: worker2() missing 3 required positional arguments: 'a', 'b', and 'n'\n"
          ],
          "name": "stderr"
        },
        {
          "output_type": "stream",
          "text": [
            "Done!\n",
            "[1, 1, 1, 1, 1]\n",
            "5.822476863861084\n",
            "CPU times: user 5.75 s, sys: 15.6 ms, total: 5.76 s\n",
            "Wall time: 5.82 s\n"
          ],
          "name": "stdout"
        }
      ]
    },
    {
      "cell_type": "code",
      "metadata": {
        "id": "5q4llFTpkboN"
      },
      "source": [
        ""
      ],
      "execution_count": null,
      "outputs": []
    }
  ]
}