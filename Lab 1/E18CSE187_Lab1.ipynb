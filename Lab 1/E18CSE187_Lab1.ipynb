{
  "nbformat": 4,
  "nbformat_minor": 0,
  "metadata": {
    "colab": {
      "name": "E18CSE187_Lab1.ipynb",
      "provenance": [],
      "collapsed_sections": []
    },
    "kernelspec": {
      "name": "python3",
      "display_name": "Python 3"
    }
  },
  "cells": [
    {
      "cell_type": "markdown",
      "metadata": {
        "id": "x_Z--CbmS66p"
      },
      "source": [
        "## HPC Lab-1 \r\n",
        "Name: Tanvi Penumudy\r\n",
        "\r\n",
        "Enroll No: E18CSE187 "
      ]
    },
    {
      "cell_type": "markdown",
      "metadata": {
        "id": "pyC_-jsFTCKl"
      },
      "source": [
        "Demo Code-I"
      ]
    },
    {
      "cell_type": "code",
      "metadata": {
        "colab": {
          "base_uri": "https://localhost:8080/"
        },
        "id": "-EVRyp48TDpL",
        "outputId": "287d5e52-aca3-4ff3-9f66-2561303bb7de"
      },
      "source": [
        "# Python program to illustrate the concept of threading \r\n",
        "import threading \r\n",
        "import os \r\n",
        "\r\n",
        "def task1(): \r\n",
        "  print(\"Task 1 assigned to thread: {}\".format(threading.current_thread().name)) \r\n",
        "  print(\"ID of process running task 1: {}\".format(os.getpid())) \r\n",
        "\r\n",
        "def task2(): \r\n",
        "  print(\"Task 2 assigned to thread: {}\".format(threading.current_thread().name)) \r\n",
        "  print(\"ID of process running task 2: {}\".format(os.getpid())) \r\n",
        "\r\n",
        "if __name__ == \"__main__\": \r\n",
        "\r\n",
        "  # print ID of current process \r\n",
        "  print(\"ID of process running main program: {}\".format(os.getpid())) \r\n",
        "\r\n",
        "  # print name of main thread \r\n",
        "  print(\"Main thread name: {}\".format(threading.current_thread().name)) \r\n",
        "\r\n",
        "  # creating threads \r\n",
        "  t1 = threading.Thread(target=task1, name='t1') \r\n",
        "  t2 = threading.Thread(target=task2, name='t2') \r\n",
        "\r\n",
        "  # starting threads Spawn\r\n",
        "  t1.start() \r\n",
        "  t2.start() \r\n",
        "\r\n",
        "  # wait until all threads finish Sync\r\n",
        "  t1.join() \r\n",
        "  t2.join() "
      ],
      "execution_count": 5,
      "outputs": [
        {
          "output_type": "stream",
          "text": [
            "ID of process running main program: 1944\n",
            "Main thread name: MainThread\n",
            "Task 1 assigned to thread: t1\n",
            "ID of process running task 1: 1944\n",
            "Task 2 assigned to thread: t2\n",
            "ID of process running task 2: 1944\n"
          ],
          "name": "stdout"
        }
      ]
    },
    {
      "cell_type": "markdown",
      "metadata": {
        "id": "seaecKXFTHKh"
      },
      "source": [
        "Demo Code-II"
      ]
    },
    {
      "cell_type": "code",
      "metadata": {
        "colab": {
          "base_uri": "https://localhost:8080/"
        },
        "id": "v8d-c7EdTDqi",
        "outputId": "ee08ab03-b0e4-45d3-9370-a1cc1d0d08d8"
      },
      "source": [
        "# importing the multiprocessing module \r\n",
        "import multiprocessing \r\n",
        "import os \r\n",
        "\r\n",
        "def worker1(): \r\n",
        "  # printing process id \r\n",
        "  print(\"ID of process running worker1: {}\".format(os.getpid())) \r\n",
        "  for i in range(100):\r\n",
        "    print(\"P1\",i)\r\n",
        "\r\n",
        "def worker2(): \r\n",
        "  # printing process id \r\n",
        "  print(\"ID of process running worker2: {}\".format(os.getpid()))\r\n",
        "  for i in range(100):\r\n",
        "    print(\"P2\",i)  \r\n",
        "\r\n",
        "if __name__ == \"__main__\": \r\n",
        "  # printing main program process id \r\n",
        "  print(\"ID of main process: {}\".format(os.getpid())) \r\n",
        "\r\n",
        "  # creating processes \r\n",
        "  p1 = multiprocessing.Process(target=worker1) \r\n",
        "  p2 = multiprocessing.Process(target=worker2) \r\n",
        "\r\n",
        "  # starting processes \r\n",
        "  p1.start() \r\n",
        "  p2.start() \r\n",
        "\r\n",
        "  # process IDs \r\n",
        "  print(\"ID of process p1: {}\".format(p1.pid)) \r\n",
        "  print(\"ID of process p2: {}\".format(p2.pid)) \r\n",
        "\r\n",
        "  # wait until processes are finished \r\n",
        "  p1.join() \r\n",
        "  p2.join() \r\n",
        "\r\n",
        "  # both processes finished \r\n",
        "  print(\"Both processes finished execution!\") \r\n",
        "\r\n",
        "  # check if processes are alive \r\n",
        "  print(\"Process p1 is alive: {}\".format(p1.is_alive())) \r\n",
        "  print(\"Process p2 is alive: {}\".format(p2.is_alive())) "
      ],
      "execution_count": 7,
      "outputs": [
        {
          "output_type": "stream",
          "text": [
            "ID of main process: 1944\n",
            "ID of process running worker1: 1969\n",
            "ID of process running worker2: 1970\n",
            "P1 0\n",
            "P2 0\n",
            "P1 1\n",
            "P2 1\n",
            "P2 2\n",
            "P2 3\n",
            "P1 2\n",
            "P1 3\n",
            "P2 4\n",
            "P1 4\n",
            "P2 5\n",
            "P1 5\n",
            "P2 6\n",
            "P1 6\n",
            "P1 7\n",
            "P1 8\n",
            "P2 7\n",
            "P1 9\n",
            "P2 8\n",
            "P1 10\n",
            "P2 9\n",
            "P2 10\n",
            "P2 11\n",
            "P2 12\n",
            "P1 11\n",
            "P1 12\n",
            "P1 13\n",
            "P2 13\n",
            "P1 14\n",
            "P2 14\n",
            "P1 15\n",
            "P2 15\n",
            "P2 16\n",
            "P2 17\n",
            "P1 16\n",
            "P2 18\n",
            "P2 19\n",
            "P1 17\n",
            "P2 20\n",
            "P1 18\n",
            "P1 19\n",
            "P2 21\n",
            "P1 20\n",
            "P1 21\n",
            "P1 22\n",
            "P2 22\n",
            "P2 23\n",
            "P2 24\n",
            "P1 23\n",
            "P1 24\n",
            "P2 25\n",
            "P1 25\n",
            "P1 26\n",
            "P1 27\n",
            "P2 26\n",
            "P2 27\n",
            "P1 28\n",
            "P2 28\n",
            "P1 29\n",
            "P1 30\n",
            "P1 31\n",
            "P1 32\n",
            "P2 29\n",
            "P2 30\n",
            "P2 31\n",
            "P1 33\n",
            "P1 34\n",
            "P2 32\n",
            "P1 35\n",
            "P2 33\n",
            "P1 36\n",
            "ID of process p1: 1969\n",
            "ID of process p2: 1970\n",
            "P2 34\n",
            "P1 37\n",
            "P2 35\n",
            "P1 38\n",
            "P1 39\n",
            "P2 36\n",
            "P1 40\n",
            "P2 37\n",
            "P1 41\n",
            "P1 42\n",
            "P1 43\n",
            "P1 44\n",
            "P1 45\n",
            "P1 46\n",
            "P2 38\n",
            "P1 47\n",
            "P2 39\n",
            "P2 40\n",
            "P2 41\n",
            "P1 48\n",
            "P2 42\n",
            "P2 43\n",
            "P2 44\n",
            "P1 49\n",
            "P2 45\n",
            "P2 46\n",
            "P2 47\n",
            "P1 50\n",
            "P2 48\n",
            "P1 51\n",
            "P2 49\n",
            "P2 50\n",
            "P1 52\n",
            "P2 51\n",
            "P1 53\n",
            "P2 52\n",
            "P2 53\n",
            "P1 54\n",
            "P1 55\n",
            "P1 56\n",
            "P1 57\n",
            "P1 58\n",
            "P1 59\n",
            "P2 54\n",
            "P1 60\n",
            "P2 55\n",
            "P2 56\n",
            "P2 57\n",
            "P2 58\n",
            "P1 61\n",
            "P2 59\n",
            "P1 62\n",
            "P2 60\n",
            "P1 63\n",
            "P2 61\n",
            "P2 62\n",
            "P2 63\n",
            "P1 64\n",
            "P2 64\n",
            "P1 65\n",
            "P1 66\n",
            "P2 65\n",
            "P1 67\n",
            "P1 68\n",
            "P1 69\n",
            "P1 70\n",
            "P2 66\n",
            "P1 71\n",
            "P1 72\n",
            "P1 73\n",
            "P1 74\n",
            "P1 75\n",
            "P2 67\n",
            "P2 68\n",
            "P2 69\n",
            "P2 70\n",
            "P1 76\n",
            "P2 71\n",
            "P2 72\n",
            "P2 73\n",
            "P1 77\n",
            "P2 74\n",
            "P1 78\n",
            "P1 79\n",
            "P1 80\n",
            "P1 81\n",
            "P1 82\n",
            "P2 75\n",
            "P1 83\n",
            "P2 76\n",
            "P2 77\n",
            "P1 84\n",
            "P1 85\n",
            "P2 78\n",
            "P1 86\n",
            "P1 87\n",
            "P1 88\n",
            "P1 89\n",
            "P2 79\n",
            "P1 90\n",
            "P2 80\n",
            "P2 81\n",
            "P2 82\n",
            "P1 91\n",
            "P2 83\n",
            "P2 84\n",
            "P2 85\n",
            "P1 92\n",
            "P1 93\n",
            "P2 86\n",
            "P1 94\n",
            "P2 87\n",
            "P2 88\n",
            "P1 95\n",
            "P1 96\n",
            "P1 97\n",
            "P2 89\n",
            "P1 98\n",
            "P1 99\n",
            "P2 90\n",
            "P2 91\n",
            "P2 92\n",
            "P2 93\n",
            "P2 94\n",
            "P2 95\n",
            "P2 96\n",
            "P2 97\n",
            "P2 98\n",
            "P2 99\n",
            "Both processes finished execution!\n",
            "Process p1 is alive: False\n",
            "Process p2 is alive: False\n"
          ],
          "name": "stdout"
        }
      ]
    },
    {
      "cell_type": "markdown",
      "metadata": {
        "id": "mBVu2zuTTSFp"
      },
      "source": [
        "## 1. Matrix Multiplication"
      ]
    },
    {
      "cell_type": "code",
      "metadata": {
        "id": "ClHn8X8ecmpc"
      },
      "source": [
        "# Creating random integer arrays (without numpy)\r\n",
        "import random\r\n",
        "X = [random.choices(range(9,999), k=4) for _ in range(4)]\r\n",
        "Y = [random.choices(range(9,999), k=4) for _ in range(4)]\r\n",
        "result = [[0,0,0,0],[0,0,0,0],[0,0,0,0],[0,0,0,0]]"
      ],
      "execution_count": 15,
      "outputs": []
    },
    {
      "cell_type": "code",
      "metadata": {
        "id": "3F4UFon7TDuE",
        "colab": {
          "base_uri": "https://localhost:8080/"
        },
        "outputId": "951f22ea-3dcc-4675-e1b2-43c667f0648d"
      },
      "source": [
        "print(X)\r\n",
        "print(Y)\r\n",
        "print(result)"
      ],
      "execution_count": 52,
      "outputs": [
        {
          "output_type": "stream",
          "text": [
            "[[969, 321, 191, 83], [308, 521, 74, 204], [134, 172, 456, 723], [178, 850, 278, 911]]\n",
            "[[509, 620, 746, 958], [75, 34, 516, 312], [246, 943, 125, 24], [631, 798, 580, 285]]\n",
            "[[0, 0, 0, 0], [0, 0, 0, 0], [0, 0, 0, 0], [0, 0, 0, 0]]\n"
          ],
          "name": "stdout"
        }
      ]
    },
    {
      "cell_type": "code",
      "metadata": {
        "colab": {
          "base_uri": "https://localhost:8080/"
        },
        "id": "4t1F-oN7TDwW",
        "outputId": "2da970a7-a891-4333-f563-74f942a8f448"
      },
      "source": [
        "X[:2]"
      ],
      "execution_count": 53,
      "outputs": [
        {
          "output_type": "execute_result",
          "data": {
            "text/plain": [
              "[[969, 321, 191, 83], [308, 521, 74, 204]]"
            ]
          },
          "metadata": {
            "tags": []
          },
          "execution_count": 53
        }
      ]
    },
    {
      "cell_type": "code",
      "metadata": {
        "colab": {
          "base_uri": "https://localhost:8080/"
        },
        "id": "77rZijj4TDzQ",
        "outputId": "654d7718-b13f-41e1-b683-74f71f546694"
      },
      "source": [
        "X[2:]"
      ],
      "execution_count": 54,
      "outputs": [
        {
          "output_type": "execute_result",
          "data": {
            "text/plain": [
              "[[134, 172, 456, 723], [178, 850, 278, 911]]"
            ]
          },
          "metadata": {
            "tags": []
          },
          "execution_count": 54
        }
      ]
    },
    {
      "cell_type": "code",
      "metadata": {
        "id": "o0z_2-W-TD1k"
      },
      "source": [
        "import time"
      ],
      "execution_count": 55,
      "outputs": []
    },
    {
      "cell_type": "code",
      "metadata": {
        "colab": {
          "base_uri": "https://localhost:8080/"
        },
        "id": "vEHLSrTyTD3f",
        "outputId": "b1b3c35f-bab1-4235-b9cb-32c641497c1f"
      },
      "source": [
        "%%time\r\n",
        "# Serial - Explicit loops\r\n",
        "for i in range(len(X)):\r\n",
        "   for j in range(len(Y[0])):\r\n",
        "       for k in range(len(Y)):\r\n",
        "           result[i][j] += X[i][k] * Y[k][j]\r\n",
        "\r\n",
        "print(result)"
      ],
      "execution_count": 56,
      "outputs": [
        {
          "output_type": "stream",
          "text": [
            "[[616655, 858041, 960525, 1056693], [342775, 441248, 626174, 517532], [649495, 1095890, 665056, 399035], [797581, 1128392, 1134518, 702031]]\n",
            "CPU times: user 100 µs, sys: 871 µs, total: 971 µs\n",
            "Wall time: 1.23 ms\n"
          ],
          "name": "stdout"
        }
      ]
    },
    {
      "cell_type": "code",
      "metadata": {
        "colab": {
          "base_uri": "https://localhost:8080/"
        },
        "id": "QNJMqw2JTD57",
        "outputId": "9588345c-f7d0-443e-e4c9-22bfb8de19df"
      },
      "source": [
        "%%time\r\n",
        "# Parallel - Explicit loops\r\n",
        "def worker1(X, Y, result): \r\n",
        "  for i in range(len(X)):\r\n",
        "   for j in range(len(Y[0])):\r\n",
        "       for k in range(len(Y)):\r\n",
        "           result[i][j] += X[i][k] * Y[k][j]\r\n",
        "  return result\r\n",
        "\r\n",
        "def worker2(X, Y, result):\r\n",
        "  for i in range(len(X)):\r\n",
        "   for j in range(len(Y[0])):\r\n",
        "       for k in range(len(Y)):\r\n",
        "           result[i][j] += X[i][k] * Y[k][j]\r\n",
        "  return result\r\n",
        "  \r\n",
        "if __name__ == \"__main__\": \r\n",
        "\r\n",
        "  # creating processes \r\n",
        "  p1 = multiprocessing.Process(target=worker1) \r\n",
        "  p2 = multiprocessing.Process(target=worker2)\r\n",
        "\r\n",
        "  # starting processes \r\n",
        "  p1.start() \r\n",
        "  p2.start()\r\n",
        "\r\n",
        "  # wait until processes are finished \r\n",
        "  p1.join() \r\n",
        "  p2.join() \r\n",
        "\r\n",
        "  # both processes finished \r\n",
        "  print(worker1(X[:2],Y,[[0,0,0,0],[0,0,0,0]]))\r\n",
        "  print(worker2(X[2:],Y,[[0,0,0,0],[0,0,0,0]]))\r\n",
        "  print(\"Done!\") "
      ],
      "execution_count": 59,
      "outputs": [
        {
          "output_type": "stream",
          "text": [
            "Process Process-15:\n",
            "Traceback (most recent call last):\n",
            "  File \"/usr/lib/python3.6/multiprocessing/process.py\", line 258, in _bootstrap\n",
            "    self.run()\n",
            "Process Process-16:\n",
            "Traceback (most recent call last):\n",
            "  File \"/usr/lib/python3.6/multiprocessing/process.py\", line 93, in run\n",
            "    self._target(*self._args, **self._kwargs)\n",
            "TypeError: worker1() missing 3 required positional arguments: 'X', 'Y', and 'result'\n",
            "  File \"/usr/lib/python3.6/multiprocessing/process.py\", line 258, in _bootstrap\n",
            "    self.run()\n",
            "  File \"/usr/lib/python3.6/multiprocessing/process.py\", line 93, in run\n",
            "    self._target(*self._args, **self._kwargs)\n",
            "TypeError: worker2() missing 3 required positional arguments: 'X', 'Y', and 'result'\n"
          ],
          "name": "stderr"
        },
        {
          "output_type": "stream",
          "text": [
            "[[616655, 858041, 960525, 1056693], [342775, 441248, 626174, 517532]]\n",
            "[[649495, 1095890, 665056, 399035], [797581, 1128392, 1134518, 702031]]\n",
            "Done!\n",
            "CPU times: user 9.28 ms, sys: 14 ms, total: 23.3 ms\n",
            "Wall time: 53.7 ms\n"
          ],
          "name": "stdout"
        }
      ]
    },
    {
      "cell_type": "code",
      "metadata": {
        "id": "39w1TfDYZt4x"
      },
      "source": [
        "import numpy as np"
      ],
      "execution_count": 61,
      "outputs": []
    },
    {
      "cell_type": "code",
      "metadata": {
        "colab": {
          "base_uri": "https://localhost:8080/"
        },
        "id": "aDVPQ2w0ZFAm",
        "outputId": "a84da986-b80d-4b1d-beb4-d90952dc3ae6"
      },
      "source": [
        "A = np.random.randint(9,999,(4,4))\r\n",
        "B = np.random.randint(9,999,(4,4))\r\n",
        "A"
      ],
      "execution_count": 62,
      "outputs": [
        {
          "output_type": "execute_result",
          "data": {
            "text/plain": [
              "array([[522, 707, 208, 996],\n",
              "       [419, 226, 783, 394],\n",
              "       [902, 813, 729, 473],\n",
              "       [375, 190, 822, 838]])"
            ]
          },
          "metadata": {
            "tags": []
          },
          "execution_count": 62
        }
      ]
    },
    {
      "cell_type": "code",
      "metadata": {
        "colab": {
          "base_uri": "https://localhost:8080/"
        },
        "id": "GTAuOxL5ZFNJ",
        "outputId": "6ef734aa-eac9-4681-af0e-1a541f50663c"
      },
      "source": [
        "B"
      ],
      "execution_count": 63,
      "outputs": [
        {
          "output_type": "execute_result",
          "data": {
            "text/plain": [
              "array([[338, 539, 423, 292],\n",
              "       [919, 964, 614, 388],\n",
              "       [669, 213, 392, 678],\n",
              "       [211, 415, 379, 557]])"
            ]
          },
          "metadata": {
            "tags": []
          },
          "execution_count": 63
        }
      ]
    },
    {
      "cell_type": "code",
      "metadata": {
        "colab": {
          "base_uri": "https://localhost:8080/"
        },
        "id": "Qxw-BWB2Zxnr",
        "outputId": "868c6ed7-779a-421d-d110-d1b55074764c"
      },
      "source": [
        "%%time\r\n",
        "# Serial - Using Numpy\r\n",
        "print(np.dot(A,B))"
      ],
      "execution_count": 64,
      "outputs": [
        {
          "output_type": "stream",
          "text": [
            "[[1175477 1420550 1113924 1122536]\n",
            " [ 956277  773994  772263  960368]\n",
            " [1639527 1621482 1345763 1336551]\n",
            " [1028096  908141  915111 1207302]]\n",
            "CPU times: user 756 µs, sys: 0 ns, total: 756 µs\n",
            "Wall time: 764 µs\n"
          ],
          "name": "stdout"
        }
      ]
    },
    {
      "cell_type": "code",
      "metadata": {
        "colab": {
          "base_uri": "https://localhost:8080/"
        },
        "id": "ynbnfppoaDAR",
        "outputId": "ce7252fa-bb73-4cd9-e630-f12657de92f3"
      },
      "source": [
        "%%time\r\n",
        "# Parallel - Using Numpy\r\n",
        "def worker1(A, B): \r\n",
        "  result = np.dot(A,B)\r\n",
        "  return result\r\n",
        "\r\n",
        "def worker2(A, B):\r\n",
        "  result = np.dot(A,B)\r\n",
        "  return result\r\n",
        "  \r\n",
        "if __name__ == \"__main__\": \r\n",
        "\r\n",
        "  # creating processes \r\n",
        "  p1 = multiprocessing.Process(target=worker1) \r\n",
        "  p2 = multiprocessing.Process(target=worker2)\r\n",
        "\r\n",
        "  # starting processes \r\n",
        "  p1.start() \r\n",
        "  p2.start()\r\n",
        "\r\n",
        "  # wait until processes are finished \r\n",
        "  p1.join() \r\n",
        "  p2.join() \r\n",
        "\r\n",
        "  # both processes finished \r\n",
        "  print(worker1(A[:2],B))\r\n",
        "  print(worker2(A[2:],B))\r\n",
        "  print(\"Done!\") "
      ],
      "execution_count": 65,
      "outputs": [
        {
          "output_type": "stream",
          "text": [
            "Process Process-17:\n",
            "Process Process-18:\n",
            "Traceback (most recent call last):\n",
            "  File \"/usr/lib/python3.6/multiprocessing/process.py\", line 258, in _bootstrap\n",
            "    self.run()\n",
            "Traceback (most recent call last):\n",
            "  File \"/usr/lib/python3.6/multiprocessing/process.py\", line 93, in run\n",
            "    self._target(*self._args, **self._kwargs)\n",
            "TypeError: worker1() missing 2 required positional arguments: 'A' and 'B'\n",
            "  File \"/usr/lib/python3.6/multiprocessing/process.py\", line 258, in _bootstrap\n",
            "    self.run()\n",
            "  File \"/usr/lib/python3.6/multiprocessing/process.py\", line 93, in run\n",
            "    self._target(*self._args, **self._kwargs)\n",
            "TypeError: worker2() missing 2 required positional arguments: 'A' and 'B'\n"
          ],
          "name": "stderr"
        },
        {
          "output_type": "stream",
          "text": [
            "[[1175477 1420550 1113924 1122536]\n",
            " [ 956277  773994  772263  960368]]\n",
            "[[1639527 1621482 1345763 1336551]\n",
            " [1028096  908141  915111 1207302]]\n",
            "Done!\n",
            "CPU times: user 14.1 ms, sys: 11.6 ms, total: 25.7 ms\n",
            "Wall time: 66.1 ms\n"
          ],
          "name": "stdout"
        }
      ]
    },
    {
      "cell_type": "code",
      "metadata": {
        "colab": {
          "base_uri": "https://localhost:8080/"
        },
        "id": "C-S5DpJBaDKN",
        "outputId": "0996a692-1a9f-4f79-ee44-e73e2f6478e5"
      },
      "source": [
        "A = np.random.uniform(9,999,[4,4])\r\n",
        "B = np.random.uniform(9,999,[4,4])\r\n",
        "A"
      ],
      "execution_count": 66,
      "outputs": [
        {
          "output_type": "execute_result",
          "data": {
            "text/plain": [
              "array([[799.39480627, 544.21267013, 324.79167802, 880.40943167],\n",
              "       [684.98434019, 436.59281634,  13.75165586,  80.82904175],\n",
              "       [774.16870956,  22.84637019, 951.88006269, 806.60249314],\n",
              "       [731.58017174, 794.51618272, 220.51994599, 664.06568702]])"
            ]
          },
          "metadata": {
            "tags": []
          },
          "execution_count": 66
        }
      ]
    },
    {
      "cell_type": "code",
      "metadata": {
        "colab": {
          "base_uri": "https://localhost:8080/"
        },
        "id": "ZOyhQtYVaDMw",
        "outputId": "608a8d12-3af7-41fd-a70f-36f3c5c0c74e"
      },
      "source": [
        "B"
      ],
      "execution_count": 67,
      "outputs": [
        {
          "output_type": "execute_result",
          "data": {
            "text/plain": [
              "array([[ 14.94682735, 648.95453752, 985.11577827, 628.5825784 ],\n",
              "       [640.61910265, 972.61022246, 841.32313336, 313.73063193],\n",
              "       [ 38.14433689, 882.5159774 , 293.40730424, 448.76434794],\n",
              "       [ 56.44711806, 769.93675768, 126.15568471, 306.56098512]])"
            ]
          },
          "metadata": {
            "tags": []
          },
          "execution_count": 67
        }
      ]
    },
    {
      "cell_type": "code",
      "metadata": {
        "colab": {
          "base_uri": "https://localhost:8080/"
        },
        "id": "h-e7tQxHaDP_",
        "outputId": "13c02d01-ae86-4ae3-b2da-ba17b013cf87"
      },
      "source": [
        "%%time\r\n",
        "# Serial - Using Random Float\r\n",
        "print(np.dot(A,B))"
      ],
      "execution_count": 68,
      "outputs": [
        {
          "output_type": "stream",
          "text": [
            "[[ 422666.98685257 2012571.12137775 1451720.05093295 1088875.94167413]\n",
            " [ 295015.15514978  943527.63826008 1056336.39701224  598492.04642743]\n",
            " [ 108046.4071534  1985703.18225377 1162913.04354993 1168239.26027648]\n",
            " [ 565813.22787372 1953417.7908447  1537613.83892556 1011660.73571043]]\n",
            "CPU times: user 2.24 ms, sys: 30 µs, total: 2.27 ms\n",
            "Wall time: 10.3 ms\n"
          ],
          "name": "stdout"
        }
      ]
    },
    {
      "cell_type": "code",
      "metadata": {
        "colab": {
          "base_uri": "https://localhost:8080/"
        },
        "id": "XpmBm165aDSv",
        "outputId": "cdd6a3e0-e930-432a-d81a-480d7a9f9e1c"
      },
      "source": [
        "%%time\r\n",
        "# Parallel - Using Random Float\r\n",
        "def worker1(A, B): \r\n",
        "  result = np.dot(A,B)\r\n",
        "  return result\r\n",
        "\r\n",
        "def worker2(A, B):\r\n",
        "  result = np.dot(A,B)\r\n",
        "  return result\r\n",
        "  \r\n",
        "if __name__ == \"__main__\": \r\n",
        "\r\n",
        "  # creating processes \r\n",
        "  p1 = multiprocessing.Process(target=worker1) \r\n",
        "  p2 = multiprocessing.Process(target=worker2)\r\n",
        "\r\n",
        "  # starting processes \r\n",
        "  p1.start() \r\n",
        "  p2.start()\r\n",
        "\r\n",
        "  # wait until processes are finished \r\n",
        "  p1.join() \r\n",
        "  p2.join() \r\n",
        "\r\n",
        "  # both processes finished \r\n",
        "  print(worker1(A[:2],B))\r\n",
        "  print(worker2(A[2:],B))\r\n",
        "  print(\"Done!\") "
      ],
      "execution_count": 69,
      "outputs": [
        {
          "output_type": "stream",
          "text": [
            "Process Process-19:\n",
            "Process Process-20:\n",
            "Traceback (most recent call last):\n",
            "Traceback (most recent call last):\n",
            "  File \"/usr/lib/python3.6/multiprocessing/process.py\", line 258, in _bootstrap\n",
            "    self.run()\n",
            "  File \"/usr/lib/python3.6/multiprocessing/process.py\", line 258, in _bootstrap\n",
            "    self.run()\n",
            "  File \"/usr/lib/python3.6/multiprocessing/process.py\", line 93, in run\n",
            "    self._target(*self._args, **self._kwargs)\n",
            "  File \"/usr/lib/python3.6/multiprocessing/process.py\", line 93, in run\n",
            "    self._target(*self._args, **self._kwargs)\n",
            "TypeError: worker1() missing 2 required positional arguments: 'A' and 'B'\n",
            "TypeError: worker2() missing 2 required positional arguments: 'A' and 'B'\n"
          ],
          "name": "stderr"
        },
        {
          "output_type": "stream",
          "text": [
            "[[ 422666.98685257 2012571.12137775 1451720.05093295 1088875.94167413]\n",
            " [ 295015.15514978  943527.63826008 1056336.39701224  598492.04642743]]\n",
            "[[ 108046.4071534  1985703.18225377 1162913.04354993 1168239.26027648]\n",
            " [ 565813.22787372 1953417.7908447  1537613.83892556 1011660.73571043]]\n",
            "Done!\n",
            "CPU times: user 10.9 ms, sys: 11.1 ms, total: 22 ms\n",
            "Wall time: 53.5 ms\n"
          ],
          "name": "stdout"
        }
      ]
    },
    {
      "cell_type": "code",
      "metadata": {
        "colab": {
          "base_uri": "https://localhost:8080/"
        },
        "id": "I-yT-n6naDXX",
        "outputId": "c26e3a33-4f48-40e3-d179-ed5ac2ce1205"
      },
      "source": [
        "A = np.random.randint(9,999,(8,8))\r\n",
        "B = np.random.randint(9,999,(8,8))\r\n",
        "A"
      ],
      "execution_count": 70,
      "outputs": [
        {
          "output_type": "execute_result",
          "data": {
            "text/plain": [
              "array([[718, 511, 723, 206, 400, 811, 520, 432],\n",
              "       [878,  59,  95, 487, 859, 578, 542, 962],\n",
              "       [894, 241, 835, 170, 622,  89, 930, 919],\n",
              "       [333, 788, 171, 954, 445, 701, 956, 971],\n",
              "       [917, 182, 453, 712, 989, 488, 829, 224],\n",
              "       [384, 261, 147, 964, 632, 519, 816, 332],\n",
              "       [701, 859, 630, 523, 723, 423, 523, 582],\n",
              "       [510, 280, 362, 980, 202, 957,  20, 531]])"
            ]
          },
          "metadata": {
            "tags": []
          },
          "execution_count": 70
        }
      ]
    },
    {
      "cell_type": "code",
      "metadata": {
        "colab": {
          "base_uri": "https://localhost:8080/"
        },
        "id": "-euSmm01aDZq",
        "outputId": "c3b54a19-9e39-41db-a4c5-6bd4514293b6"
      },
      "source": [
        "B"
      ],
      "execution_count": 71,
      "outputs": [
        {
          "output_type": "execute_result",
          "data": {
            "text/plain": [
              "array([[415, 293, 125, 414, 636, 402, 209, 847],\n",
              "       [901, 505, 193, 432, 266, 895,  15, 270],\n",
              "       [210, 286,  81, 307, 933, 795,  60, 757],\n",
              "       [519, 421, 464, 397, 107, 879, 861, 702],\n",
              "       [279, 180, 409, 798, 975, 623, 746,  51],\n",
              "       [153, 405, 921, 168, 424, 976, 543, 965],\n",
              "       [146, 557, 153, 817, 516, 318, 448, 170],\n",
              "       [337, 813, 290, 482, 815, 902, 452, 128]])"
            ]
          },
          "metadata": {
            "tags": []
          },
          "execution_count": 71
        }
      ]
    },
    {
      "cell_type": "code",
      "metadata": {
        "colab": {
          "base_uri": "https://localhost:8080/"
        },
        "id": "OaiXZ_PwaDcP",
        "outputId": "1784acc3-63ca-4343-99fa-5f0890a9c2b8"
      },
      "source": [
        "%%time\r\n",
        "# Serial - Changing Matrix Size to 8*8\r\n",
        "print(np.dot(A,B))"
      ],
      "execution_count": 72,
      "outputs": [
        {
          "output_type": "stream",
          "text": [
            "[[1474312 1803244 1457891 1910259 2643439 3097600 1545470 2384750]\n",
            " [1421653 1991956 1600375 2300568 2861145 3048724 2241702 1990240]\n",
            " [1484369 2107189 1049945 2512139 3302986 2987386 1731298 1967062]\n",
            " [2077430 2631969 1905700 2631465 2698777 3954898 2492864 2279934]\n",
            " [1556312 1809426 1562558 2536464 2911968 3075612 2310013 2359545]\n",
            " [1412462 1740586 1515191 2117789 2081841 2811416 2191916 1898008]\n",
            " [2007539 2105483 1481203 2418176 2946556 3565729 1913912 2278207]\n",
            " [1433216 1673730 1722897 1426548 1887249 3150030 1895605 2474739]]\n",
            "CPU times: user 556 µs, sys: 10 µs, total: 566 µs\n",
            "Wall time: 461 µs\n"
          ],
          "name": "stdout"
        }
      ]
    },
    {
      "cell_type": "code",
      "metadata": {
        "colab": {
          "base_uri": "https://localhost:8080/"
        },
        "id": "0ovBSwIGiOJk",
        "outputId": "394dee7f-d369-4bf6-f52d-4bb38c225ff3"
      },
      "source": [
        "%%time\r\n",
        "# Parallel - Changing Matrix Size to 8*8\r\n",
        "def worker1(A, B): \r\n",
        "  result = np.dot(A,B)\r\n",
        "  return result\r\n",
        "\r\n",
        "def worker2(A, B):\r\n",
        "  result = np.dot(A,B)\r\n",
        "  return result\r\n",
        "  \r\n",
        "if __name__ == \"__main__\": \r\n",
        "\r\n",
        "  # creating processes \r\n",
        "  p1 = multiprocessing.Process(target=worker1) \r\n",
        "  p2 = multiprocessing.Process(target=worker2)\r\n",
        "\r\n",
        "  # starting processes \r\n",
        "  p1.start() \r\n",
        "  p2.start()\r\n",
        "\r\n",
        "  # wait until processes are finished \r\n",
        "  p1.join() \r\n",
        "  p2.join() \r\n",
        "\r\n",
        "  # both processes finished \r\n",
        "  print(worker1(A[:4],B))\r\n",
        "  print(worker2(A[4:],B))\r\n",
        "  print(\"Done!\") "
      ],
      "execution_count": 73,
      "outputs": [
        {
          "output_type": "stream",
          "text": [
            "Process Process-21:\n",
            "Traceback (most recent call last):\n",
            "Process Process-22:\n",
            "  File \"/usr/lib/python3.6/multiprocessing/process.py\", line 258, in _bootstrap\n",
            "    self.run()\n",
            "Traceback (most recent call last):\n",
            "  File \"/usr/lib/python3.6/multiprocessing/process.py\", line 93, in run\n",
            "    self._target(*self._args, **self._kwargs)\n",
            "  File \"/usr/lib/python3.6/multiprocessing/process.py\", line 258, in _bootstrap\n",
            "    self.run()\n",
            "TypeError: worker1() missing 2 required positional arguments: 'A' and 'B'\n",
            "  File \"/usr/lib/python3.6/multiprocessing/process.py\", line 93, in run\n",
            "    self._target(*self._args, **self._kwargs)\n",
            "TypeError: worker2() missing 2 required positional arguments: 'A' and 'B'\n"
          ],
          "name": "stderr"
        },
        {
          "output_type": "stream",
          "text": [
            "[[1474312 1803244 1457891 1910259 2643439 3097600 1545470 2384750]\n",
            " [1421653 1991956 1600375 2300568 2861145 3048724 2241702 1990240]\n",
            " [1484369 2107189 1049945 2512139 3302986 2987386 1731298 1967062]\n",
            " [2077430 2631969 1905700 2631465 2698777 3954898 2492864 2279934]]\n",
            "[[1556312 1809426 1562558 2536464 2911968 3075612 2310013 2359545]\n",
            " [1412462 1740586 1515191 2117789 2081841 2811416 2191916 1898008]\n",
            " [2007539 2105483 1481203 2418176 2946556 3565729 1913912 2278207]\n",
            " [1433216 1673730 1722897 1426548 1887249 3150030 1895605 2474739]]\n",
            "Done!\n",
            "CPU times: user 10.9 ms, sys: 13.5 ms, total: 24.4 ms\n",
            "Wall time: 60.5 ms\n"
          ],
          "name": "stdout"
        }
      ]
    },
    {
      "cell_type": "code",
      "metadata": {
        "colab": {
          "base_uri": "https://localhost:8080/"
        },
        "id": "APfmw-sbiOMj",
        "outputId": "4e049f51-602c-4219-e0ea-88b61c7372cd"
      },
      "source": [
        "# Parallel - Increasing Threads to 4\r\n",
        "%%time\r\n",
        "def worker1(A, B): \r\n",
        "  result = np.dot(A,B)\r\n",
        "  return result\r\n",
        "\r\n",
        "def worker2(A, B):\r\n",
        "  result = np.dot(A,B)\r\n",
        "  return result\r\n",
        "\r\n",
        "def worker3(A, B): \r\n",
        "  result = np.dot(A,B)\r\n",
        "  return result\r\n",
        "\r\n",
        "def worker4(A, B):\r\n",
        "  result = np.dot(A,B)\r\n",
        "  return result\r\n",
        "  \r\n",
        "if __name__ == \"__main__\": \r\n",
        "\r\n",
        "  # creating processes \r\n",
        "  p1 = multiprocessing.Process(target=worker1) \r\n",
        "  p2 = multiprocessing.Process(target=worker2)\r\n",
        "  p3 = multiprocessing.Process(target=worker3) \r\n",
        "  p4 = multiprocessing.Process(target=worker4)\r\n",
        "\r\n",
        "  # starting processes \r\n",
        "  p1.start() \r\n",
        "  p2.start()\r\n",
        "  p3.start() \r\n",
        "  p4.start()\r\n",
        "\r\n",
        "  # wait until processes are finished \r\n",
        "  p1.join() \r\n",
        "  p2.join()\r\n",
        "  p3.join() \r\n",
        "  p4.join()  \r\n",
        "\r\n",
        "  # both processes finished \r\n",
        "  print(worker1(A[:2],B))\r\n",
        "  print(worker2(A[2:4],B))\r\n",
        "  print(worker3(A[4:6],B))\r\n",
        "  print(worker4(A[6:],B))\r\n",
        "  print(\"Done!\") "
      ],
      "execution_count": 74,
      "outputs": [
        {
          "output_type": "stream",
          "text": [
            "Process Process-24:\n",
            "Process Process-23:\n",
            "Traceback (most recent call last):\n",
            "Traceback (most recent call last):\n",
            "  File \"/usr/lib/python3.6/multiprocessing/process.py\", line 258, in _bootstrap\n",
            "    self.run()\n",
            "  File \"/usr/lib/python3.6/multiprocessing/process.py\", line 93, in run\n",
            "    self._target(*self._args, **self._kwargs)\n",
            "Process Process-25:\n",
            "TypeError: worker2() missing 2 required positional arguments: 'A' and 'B'\n",
            "Traceback (most recent call last):\n",
            "  File \"/usr/lib/python3.6/multiprocessing/process.py\", line 258, in _bootstrap\n",
            "    self.run()\n",
            "  File \"/usr/lib/python3.6/multiprocessing/process.py\", line 93, in run\n",
            "    self._target(*self._args, **self._kwargs)\n",
            "  File \"/usr/lib/python3.6/multiprocessing/process.py\", line 258, in _bootstrap\n",
            "    self.run()\n",
            "TypeError: worker1() missing 2 required positional arguments: 'A' and 'B'\n",
            "Process Process-26:\n",
            "  File \"/usr/lib/python3.6/multiprocessing/process.py\", line 93, in run\n",
            "    self._target(*self._args, **self._kwargs)\n",
            "Traceback (most recent call last):\n",
            "TypeError: worker3() missing 2 required positional arguments: 'A' and 'B'\n",
            "  File \"/usr/lib/python3.6/multiprocessing/process.py\", line 258, in _bootstrap\n",
            "    self.run()\n",
            "  File \"/usr/lib/python3.6/multiprocessing/process.py\", line 93, in run\n",
            "    self._target(*self._args, **self._kwargs)\n",
            "TypeError: worker4() missing 2 required positional arguments: 'A' and 'B'\n"
          ],
          "name": "stderr"
        },
        {
          "output_type": "stream",
          "text": [
            "[[1474312 1803244 1457891 1910259 2643439 3097600 1545470 2384750]\n",
            " [1421653 1991956 1600375 2300568 2861145 3048724 2241702 1990240]]\n",
            "[[1484369 2107189 1049945 2512139 3302986 2987386 1731298 1967062]\n",
            " [2077430 2631969 1905700 2631465 2698777 3954898 2492864 2279934]]\n",
            "[[1556312 1809426 1562558 2536464 2911968 3075612 2310013 2359545]\n",
            " [1412462 1740586 1515191 2117789 2081841 2811416 2191916 1898008]]\n",
            "[[2007539 2105483 1481203 2418176 2946556 3565729 1913912 2278207]\n",
            " [1433216 1673730 1722897 1426548 1887249 3150030 1895605 2474739]]\n",
            "Done!\n",
            "CPU times: user 13.3 ms, sys: 29.2 ms, total: 42.4 ms\n",
            "Wall time: 90.2 ms\n"
          ],
          "name": "stdout"
        }
      ]
    },
    {
      "cell_type": "code",
      "metadata": {
        "id": "AFipzc4kiOPU"
      },
      "source": [
        "X = [random.choices(range(9,999), k=8) for _ in range(8)]\r\n",
        "Y = [random.choices(range(9,999), k=8) for _ in range(8)]\r\n",
        "def zeros(rows,cols):\r\n",
        "  return [([0]*cols) for i in range(rows)]"
      ],
      "execution_count": 98,
      "outputs": []
    },
    {
      "cell_type": "code",
      "metadata": {
        "colab": {
          "base_uri": "https://localhost:8080/"
        },
        "id": "H5-lvkLfiOR4",
        "outputId": "7a652d2b-1153-41fd-a0aa-38e9f07bba18"
      },
      "source": [
        "print(X)\r\n",
        "print(Y)"
      ],
      "execution_count": 99,
      "outputs": [
        {
          "output_type": "stream",
          "text": [
            "[[271, 532, 688, 674, 40, 487, 686, 584], [670, 900, 979, 862, 15, 396, 300, 802], [435, 919, 425, 538, 172, 736, 494, 873], [965, 840, 495, 469, 355, 338, 102, 325], [886, 699, 212, 516, 23, 572, 619, 627], [599, 715, 958, 674, 311, 964, 80, 672], [896, 687, 997, 235, 576, 612, 103, 759], [69, 116, 360, 634, 119, 991, 515, 879]]\n",
            "[[709, 362, 452, 286, 800, 284, 57, 779], [76, 634, 338, 592, 662, 677, 133, 664], [681, 311, 281, 56, 318, 390, 741, 967], [189, 88, 968, 396, 256, 346, 133, 191], [167, 542, 601, 384, 817, 93, 601, 668], [10, 971, 334, 77, 456, 674, 347, 436], [884, 723, 635, 152, 750, 100, 55, 356], [220, 201, 76, 158, 922, 510, 450, 270]]\n"
          ],
          "name": "stdout"
        }
      ]
    },
    {
      "cell_type": "code",
      "metadata": {
        "id": "r9ndu7ibiOU_"
      },
      "source": [
        "# Serial - Changing Matrix Size to 8*8 (Without Numpy)\r\n",
        "def seq(X,Y):\r\n",
        "  result = zeros(len(X),len(Y[0]))\r\n",
        "  for i in range(len(X)):\r\n",
        "    for j in range(len(Y[0])):\r\n",
        "       for k in range(len(Y)):\r\n",
        "           result[i][j] += X[i][k] * Y[k][j]\r\n",
        "  return result"
      ],
      "execution_count": 100,
      "outputs": []
    },
    {
      "cell_type": "code",
      "metadata": {
        "colab": {
          "base_uri": "https://localhost:8080/"
        },
        "id": "brQqaGzblBGP",
        "outputId": "95c3b1c7-a804-4a88-c65b-4c99eef63613"
      },
      "source": [
        "%%time\r\n",
        "print(seq(X,Y))"
      ],
      "execution_count": 101,
      "outputs": [
        {
          "output_type": "stream",
          "text": [
            "[[1574939, 1816589, 1814760, 947285, 2268012, 1637050, 1179212, 1999335], [1821152, 1964213, 2109286, 1329164, 2821069, 2186961, 1521802, 2736881], [1434206, 2260150, 1876685, 1241048, 2880802, 2104291, 1312285, 2310180], [1398094, 1736786, 1728904, 1215914, 2425867, 1634841, 1078398, 2386309], [1617891, 2016680, 1841382, 1129442, 2693017, 1755400, 897691, 2112300], [1538952, 2324916, 2044807, 1227134, 2802973, 2290374, 1756977, 2834473], [1771192, 2224129, 1818508, 1215738, 3075512, 2053149, 1818230, 3056334], [1101146, 1842057, 1581610, 698795, 2154583, 1636683, 1209714, 1532227]]\n",
            "CPU times: user 1.28 ms, sys: 35 µs, total: 1.32 ms\n",
            "Wall time: 5.12 ms\n"
          ],
          "name": "stdout"
        }
      ]
    },
    {
      "cell_type": "code",
      "metadata": {
        "colab": {
          "base_uri": "https://localhost:8080/"
        },
        "id": "zqPcDDi3lBJc",
        "outputId": "a52f42b9-6b71-4fda-8f89-a09190f06a4d"
      },
      "source": [
        "%%time\r\n",
        "# Parallel - Changing Matrix Size to 8*8 (Without Numpy)\r\n",
        "def worker1(A, B): \r\n",
        "  return seq(A,B)\r\n",
        "\r\n",
        "def worker2(A, B):\r\n",
        "  return seq(A,B)\r\n",
        "  \r\n",
        "if __name__ == \"__main__\": \r\n",
        "\r\n",
        "  # creating processes \r\n",
        "  p1 = multiprocessing.Process(target=worker1) \r\n",
        "  p2 = multiprocessing.Process(target=worker2)\r\n",
        "\r\n",
        "  # starting processes \r\n",
        "  p1.start() \r\n",
        "  p2.start()\r\n",
        "\r\n",
        "  # wait until processes are finished \r\n",
        "  p1.join() \r\n",
        "  p2.join() \r\n",
        "\r\n",
        "  # both processes finished \r\n",
        "  print(worker1(X[:4],Y))\r\n",
        "  print(worker2(X[4:],Y))\r\n",
        "  print(\"Done!\") "
      ],
      "execution_count": 103,
      "outputs": [
        {
          "output_type": "stream",
          "text": [
            "Process Process-33:\n",
            "Traceback (most recent call last):\n",
            "Process Process-34:\n",
            "Traceback (most recent call last):\n",
            "  File \"/usr/lib/python3.6/multiprocessing/process.py\", line 258, in _bootstrap\n",
            "    self.run()\n",
            "  File \"/usr/lib/python3.6/multiprocessing/process.py\", line 93, in run\n",
            "    self._target(*self._args, **self._kwargs)\n",
            "TypeError: worker2() missing 2 required positional arguments: 'A' and 'B'\n",
            "  File \"/usr/lib/python3.6/multiprocessing/process.py\", line 258, in _bootstrap\n",
            "    self.run()\n",
            "  File \"/usr/lib/python3.6/multiprocessing/process.py\", line 93, in run\n",
            "    self._target(*self._args, **self._kwargs)\n",
            "TypeError: worker1() missing 2 required positional arguments: 'A' and 'B'\n"
          ],
          "name": "stderr"
        },
        {
          "output_type": "stream",
          "text": [
            "[[1574939, 1816589, 1814760, 947285, 2268012, 1637050, 1179212, 1999335], [1821152, 1964213, 2109286, 1329164, 2821069, 2186961, 1521802, 2736881], [1434206, 2260150, 1876685, 1241048, 2880802, 2104291, 1312285, 2310180], [1398094, 1736786, 1728904, 1215914, 2425867, 1634841, 1078398, 2386309]]\n",
            "[[1617891, 2016680, 1841382, 1129442, 2693017, 1755400, 897691, 2112300], [1538952, 2324916, 2044807, 1227134, 2802973, 2290374, 1756977, 2834473], [1771192, 2224129, 1818508, 1215738, 3075512, 2053149, 1818230, 3056334], [1101146, 1842057, 1581610, 698795, 2154583, 1636683, 1209714, 1532227]]\n",
            "Done!\n",
            "CPU times: user 5.22 ms, sys: 17.8 ms, total: 23 ms\n",
            "Wall time: 58.7 ms\n"
          ],
          "name": "stdout"
        }
      ]
    },
    {
      "cell_type": "code",
      "metadata": {
        "colab": {
          "base_uri": "https://localhost:8080/"
        },
        "id": "ox9DCTT1lBMO",
        "outputId": "0e3f3682-282c-4368-b73e-3762b6b7cb94"
      },
      "source": [
        "# Serial - Increasing Threads to 4 (Without Numpy)\r\n",
        "%%time\r\n",
        "def worker1(A, B): \r\n",
        "  return seq(A, B)\r\n",
        "\r\n",
        "def worker2(A, B):\r\n",
        "  return seq(A, B)\r\n",
        "\r\n",
        "def worker3(A, B): \r\n",
        "  return seq(A, B)\r\n",
        "\r\n",
        "def worker4(A, B):\r\n",
        "  return seq(A, B)\r\n",
        "  \r\n",
        "if __name__ == \"__main__\": \r\n",
        "\r\n",
        "  # creating processes \r\n",
        "  p1 = multiprocessing.Process(target=worker1) \r\n",
        "  p2 = multiprocessing.Process(target=worker2)\r\n",
        "  p3 = multiprocessing.Process(target=worker3) \r\n",
        "  p4 = multiprocessing.Process(target=worker4)\r\n",
        "\r\n",
        "  # starting processes \r\n",
        "  p1.start() \r\n",
        "  p2.start()\r\n",
        "  p3.start() \r\n",
        "  p4.start()\r\n",
        "\r\n",
        "  # wait until processes are finished \r\n",
        "  p1.join() \r\n",
        "  p2.join()\r\n",
        "  p3.join() \r\n",
        "  p4.join()  \r\n",
        "\r\n",
        "  # both processes finished \r\n",
        "  print(worker1(X[:2],Y))\r\n",
        "  print(worker2(X[2:4],Y))\r\n",
        "  print(worker3(X[4:6],Y))\r\n",
        "  print(worker4(X[6:],Y))\r\n",
        "  print(\"Done!\") "
      ],
      "execution_count": 104,
      "outputs": [
        {
          "output_type": "stream",
          "text": [
            "Process Process-35:\n",
            "Traceback (most recent call last):\n",
            "  File \"/usr/lib/python3.6/multiprocessing/process.py\", line 258, in _bootstrap\n",
            "    self.run()\n",
            "Process Process-36:\n",
            "  File \"/usr/lib/python3.6/multiprocessing/process.py\", line 93, in run\n",
            "    self._target(*self._args, **self._kwargs)\n",
            "Traceback (most recent call last):\n",
            "  File \"/usr/lib/python3.6/multiprocessing/process.py\", line 258, in _bootstrap\n",
            "    self.run()\n",
            "  File \"/usr/lib/python3.6/multiprocessing/process.py\", line 93, in run\n",
            "    self._target(*self._args, **self._kwargs)\n",
            "TypeError: worker2() missing 2 required positional arguments: 'A' and 'B'\n",
            "Process Process-38:\n",
            "Process Process-37:\n",
            "TypeError: worker1() missing 2 required positional arguments: 'A' and 'B'\n",
            "Traceback (most recent call last):\n",
            "  File \"/usr/lib/python3.6/multiprocessing/process.py\", line 258, in _bootstrap\n",
            "    self.run()\n",
            "Traceback (most recent call last):\n",
            "  File \"/usr/lib/python3.6/multiprocessing/process.py\", line 258, in _bootstrap\n",
            "    self.run()\n",
            "  File \"/usr/lib/python3.6/multiprocessing/process.py\", line 93, in run\n",
            "    self._target(*self._args, **self._kwargs)\n",
            "  File \"/usr/lib/python3.6/multiprocessing/process.py\", line 93, in run\n",
            "    self._target(*self._args, **self._kwargs)\n",
            "TypeError: worker3() missing 2 required positional arguments: 'A' and 'B'\n",
            "TypeError: worker4() missing 2 required positional arguments: 'A' and 'B'\n"
          ],
          "name": "stderr"
        },
        {
          "output_type": "stream",
          "text": [
            "[[1574939, 1816589, 1814760, 947285, 2268012, 1637050, 1179212, 1999335], [1821152, 1964213, 2109286, 1329164, 2821069, 2186961, 1521802, 2736881]]\n",
            "[[1434206, 2260150, 1876685, 1241048, 2880802, 2104291, 1312285, 2310180], [1398094, 1736786, 1728904, 1215914, 2425867, 1634841, 1078398, 2386309]]\n",
            "[[1617891, 2016680, 1841382, 1129442, 2693017, 1755400, 897691, 2112300], [1538952, 2324916, 2044807, 1227134, 2802973, 2290374, 1756977, 2834473]]\n",
            "[[1771192, 2224129, 1818508, 1215738, 3075512, 2053149, 1818230, 3056334], [1101146, 1842057, 1581610, 698795, 2154583, 1636683, 1209714, 1532227]]\n",
            "Done!\n",
            "CPU times: user 22.8 ms, sys: 22.5 ms, total: 45.3 ms\n",
            "Wall time: 99 ms\n"
          ],
          "name": "stdout"
        }
      ]
    },
    {
      "cell_type": "markdown",
      "metadata": {
        "id": "QKzt7-bSTffG"
      },
      "source": [
        "## 2. Linear Search"
      ]
    },
    {
      "cell_type": "code",
      "metadata": {
        "id": "lWQuxDzITD7_"
      },
      "source": [
        "import random\r\n",
        "arr = []\r\n",
        "for i in range(100):\r\n",
        "  arr.append(random.randint(1,45))"
      ],
      "execution_count": 105,
      "outputs": []
    },
    {
      "cell_type": "code",
      "metadata": {
        "colab": {
          "base_uri": "https://localhost:8080/"
        },
        "id": "Qp7dnUilTehc",
        "outputId": "ac59e64e-03fc-49fe-ecd4-1bed612b5a7b"
      },
      "source": [
        "arr"
      ],
      "execution_count": 106,
      "outputs": [
        {
          "output_type": "execute_result",
          "data": {
            "text/plain": [
              "[21,\n",
              " 37,\n",
              " 24,\n",
              " 16,\n",
              " 14,\n",
              " 22,\n",
              " 39,\n",
              " 19,\n",
              " 14,\n",
              " 19,\n",
              " 39,\n",
              " 17,\n",
              " 1,\n",
              " 12,\n",
              " 13,\n",
              " 7,\n",
              " 18,\n",
              " 32,\n",
              " 25,\n",
              " 16,\n",
              " 5,\n",
              " 36,\n",
              " 11,\n",
              " 43,\n",
              " 28,\n",
              " 23,\n",
              " 41,\n",
              " 15,\n",
              " 38,\n",
              " 35,\n",
              " 2,\n",
              " 23,\n",
              " 24,\n",
              " 28,\n",
              " 14,\n",
              " 12,\n",
              " 40,\n",
              " 7,\n",
              " 35,\n",
              " 38,\n",
              " 4,\n",
              " 1,\n",
              " 39,\n",
              " 2,\n",
              " 1,\n",
              " 4,\n",
              " 30,\n",
              " 20,\n",
              " 43,\n",
              " 26,\n",
              " 22,\n",
              " 12,\n",
              " 31,\n",
              " 15,\n",
              " 20,\n",
              " 1,\n",
              " 9,\n",
              " 18,\n",
              " 22,\n",
              " 12,\n",
              " 37,\n",
              " 1,\n",
              " 7,\n",
              " 6,\n",
              " 35,\n",
              " 30,\n",
              " 44,\n",
              " 32,\n",
              " 5,\n",
              " 42,\n",
              " 43,\n",
              " 16,\n",
              " 1,\n",
              " 45,\n",
              " 18,\n",
              " 11,\n",
              " 36,\n",
              " 22,\n",
              " 39,\n",
              " 2,\n",
              " 30,\n",
              " 16,\n",
              " 17,\n",
              " 12,\n",
              " 45,\n",
              " 37,\n",
              " 16,\n",
              " 41,\n",
              " 9,\n",
              " 11,\n",
              " 19,\n",
              " 36,\n",
              " 18,\n",
              " 8,\n",
              " 22,\n",
              " 8,\n",
              " 20,\n",
              " 39,\n",
              " 17,\n",
              " 31]"
            ]
          },
          "metadata": {
            "tags": []
          },
          "execution_count": 106
        }
      ]
    },
    {
      "cell_type": "code",
      "metadata": {
        "colab": {
          "base_uri": "https://localhost:8080/"
        },
        "id": "srZsJG9jTei4",
        "outputId": "0df8d1a6-2264-41be-9d78-8f66b89718e2"
      },
      "source": [
        "%%time\r\n",
        "# Serial\r\n",
        "def linear(arr, len, x):\r\n",
        "  for i in range(len):\r\n",
        "    if(arr[i] == x):\r\n",
        "      return i\r\n",
        "  return -1\r\n",
        "\r\n",
        "print(linear(arr, len(arr), 45))"
      ],
      "execution_count": 107,
      "outputs": [
        {
          "output_type": "stream",
          "text": [
            "73\n",
            "CPU times: user 0 ns, sys: 578 µs, total: 578 µs\n",
            "Wall time: 587 µs\n"
          ],
          "name": "stdout"
        }
      ]
    },
    {
      "cell_type": "code",
      "metadata": {
        "colab": {
          "base_uri": "https://localhost:8080/"
        },
        "id": "xsDR4e9cTemH",
        "outputId": "1705cffe-80e8-4ebb-9cc6-0f9ae3eb6d23"
      },
      "source": [
        "r = len(arr)//2\r\n",
        "r"
      ],
      "execution_count": 108,
      "outputs": [
        {
          "output_type": "execute_result",
          "data": {
            "text/plain": [
              "50"
            ]
          },
          "metadata": {
            "tags": []
          },
          "execution_count": 108
        }
      ]
    },
    {
      "cell_type": "code",
      "metadata": {
        "colab": {
          "base_uri": "https://localhost:8080/"
        },
        "id": "9ydZsj6WTeoE",
        "outputId": "52c696d8-1449-46bd-f613-9502c63b85b9"
      },
      "source": [
        "%%time\r\n",
        "# Parallel\r\n",
        "def worker1(): \r\n",
        "  print('Worker 1 here!')\r\n",
        "  return linear(arr[:r], len(arr[:r]),45)\r\n",
        "\r\n",
        "def worker2(): \r\n",
        "  print('Worker 2 here!')\r\n",
        "  return linear(arr[r:], len(arr[r:]),45)\r\n",
        "\r\n",
        "if __name__ == \"__main__\": \r\n",
        "\r\n",
        "  # creating processes \r\n",
        "  p1 = multiprocessing.Process(target=worker1) \r\n",
        "  p2 = multiprocessing.Process(target=worker2)\r\n",
        "\r\n",
        "  # starting processes \r\n",
        "  p1.start() \r\n",
        "  p2.start()\r\n",
        "\r\n",
        "\r\n",
        "  # wait until processes are finished \r\n",
        "  p1.join() \r\n",
        "  p2.join() \r\n",
        "\r\n",
        "  # both processes finished \r\n",
        "  if(worker1()!=-1 and worker2()==-1):\r\n",
        "    print(worker1())\r\n",
        "  elif(worker1()==-1 and worker2()==-1):\r\n",
        "    print(-1)\r\n",
        "  elif(worker2()!=-1 and worker1()==-1):\r\n",
        "    print(worker2()+50)\r\n",
        "  else:\r\n",
        "    print(worker1(), worker2()+50)\r\n",
        "  print(\"Done!\") "
      ],
      "execution_count": 109,
      "outputs": [
        {
          "output_type": "stream",
          "text": [
            "Worker 1 here!\n",
            "Worker 2 here!\n",
            "Worker 1 here!\n",
            "Worker 1 here!\n",
            "Worker 2 here!\n",
            "Worker 2 here!\n",
            "Worker 1 here!\n",
            "Worker 2 here!\n",
            "73\n",
            "Done!\n",
            "CPU times: user 6.1 ms, sys: 8.28 ms, total: 14.4 ms\n",
            "Wall time: 28 ms\n"
          ],
          "name": "stdout"
        }
      ]
    },
    {
      "cell_type": "code",
      "metadata": {
        "colab": {
          "base_uri": "https://localhost:8080/"
        },
        "id": "RQ2E2Lvtq8-w",
        "outputId": "dd18e0ac-f911-402f-82b3-21c6208be9f7"
      },
      "source": [
        "def find(arr,idx):\r\n",
        "  try:\r\n",
        "    return arr.index(idx)\r\n",
        "  except ValueError as ve:\r\n",
        "    return -1\r\n",
        "find(arr,100)"
      ],
      "execution_count": 119,
      "outputs": [
        {
          "output_type": "execute_result",
          "data": {
            "text/plain": [
              "-1"
            ]
          },
          "metadata": {
            "tags": []
          },
          "execution_count": 119
        }
      ]
    },
    {
      "cell_type": "code",
      "metadata": {
        "colab": {
          "base_uri": "https://localhost:8080/"
        },
        "id": "CKU06DXQnshm",
        "outputId": "89f9e70d-2354-4679-c010-8273e193a338"
      },
      "source": [
        "%%time\r\n",
        "# Serial - Using Inbuilt\r\n",
        "print(find(arr,45))"
      ],
      "execution_count": 120,
      "outputs": [
        {
          "output_type": "stream",
          "text": [
            "73\n",
            "CPU times: user 447 µs, sys: 0 ns, total: 447 µs\n",
            "Wall time: 455 µs\n"
          ],
          "name": "stdout"
        }
      ]
    },
    {
      "cell_type": "code",
      "metadata": {
        "colab": {
          "base_uri": "https://localhost:8080/"
        },
        "id": "JrKyyQYhns1f",
        "outputId": "562532d1-c610-4eea-f12f-b419d45d3986"
      },
      "source": [
        "# Parallel - Using Inbuilt\r\n",
        "%%time\r\n",
        "def worker1(): \r\n",
        "  return find(arr[:50],45)\r\n",
        "\r\n",
        "def worker2(): \r\n",
        "  return find(arr[50:],45)\r\n",
        "\r\n",
        "if __name__ == \"__main__\": \r\n",
        "\r\n",
        "  # creating processes \r\n",
        "  p1 = multiprocessing.Process(target=worker1) \r\n",
        "  p2 = multiprocessing.Process(target=worker2)\r\n",
        "\r\n",
        "  # starting processes \r\n",
        "  p1.start() \r\n",
        "  p2.start()\r\n",
        "\r\n",
        "  # wait until processes are finished \r\n",
        "  p1.join() \r\n",
        "  p2.join() \r\n",
        "\r\n",
        "  # both processes finished \r\n",
        "  if(worker1()!=-1 and worker2()==-1):\r\n",
        "    print(worker1())\r\n",
        "  elif(worker1()==-1 and worker2()==-1):\r\n",
        "    print(-1)\r\n",
        "  elif(worker2()!=-1 and worker1()==-1):\r\n",
        "    print(worker2()+50)\r\n",
        "  else:\r\n",
        "    print(worker1(), worker2()+50)\r\n",
        "  print(\"Done!\") "
      ],
      "execution_count": 122,
      "outputs": [
        {
          "output_type": "stream",
          "text": [
            "73\n",
            "Done!\n",
            "CPU times: user 1.38 ms, sys: 8.93 ms, total: 10.3 ms\n",
            "Wall time: 19.6 ms\n"
          ],
          "name": "stdout"
        }
      ]
    },
    {
      "cell_type": "code",
      "metadata": {
        "id": "jv829cehntID"
      },
      "source": [
        "arr = []\r\n",
        "for i in range(1000):\r\n",
        "  arr.append(random.randint(9,199))"
      ],
      "execution_count": 123,
      "outputs": []
    },
    {
      "cell_type": "code",
      "metadata": {
        "colab": {
          "base_uri": "https://localhost:8080/"
        },
        "id": "NKZltLnsntQd",
        "outputId": "b2ef9423-9034-41f9-a5f7-5fece95697dc"
      },
      "source": [
        "%%time\r\n",
        "# Serial - Changing Array Size\r\n",
        "print(linear(arr, len(arr), 100))"
      ],
      "execution_count": 124,
      "outputs": [
        {
          "output_type": "stream",
          "text": [
            "316\n",
            "CPU times: user 92 µs, sys: 12 µs, total: 104 µs\n",
            "Wall time: 109 µs\n"
          ],
          "name": "stdout"
        }
      ]
    },
    {
      "cell_type": "code",
      "metadata": {
        "colab": {
          "base_uri": "https://localhost:8080/"
        },
        "id": "l9shHbWrtRYr",
        "outputId": "2cc61da5-bdb4-45a4-cf35-81d66c73725f"
      },
      "source": [
        "%%time\r\n",
        "# Parallel - Changing Array Size\r\n",
        "def worker1(): \r\n",
        "  print('Worker 1 here!')\r\n",
        "  return linear(arr[:500], len(arr[:500]),100)\r\n",
        "\r\n",
        "def worker2(): \r\n",
        "  print('Worker 2 here!')\r\n",
        "  return linear(arr[500:], len(arr[500:]),100)\r\n",
        "\r\n",
        "if __name__ == \"__main__\": \r\n",
        "\r\n",
        "  # creating processes \r\n",
        "  p1 = multiprocessing.Process(target=worker1) \r\n",
        "  p2 = multiprocessing.Process(target=worker2)\r\n",
        "\r\n",
        "  # starting processes \r\n",
        "  p1.start() \r\n",
        "  p2.start()\r\n",
        "\r\n",
        "  # wait until processes are finished \r\n",
        "  p1.join() \r\n",
        "  p2.join() \r\n",
        "\r\n",
        "  # both processes finished \r\n",
        "  if(worker1()!=-1 and worker2()==-1):\r\n",
        "    print(worker1())\r\n",
        "  elif(worker1()==-1 and worker2()==-1):\r\n",
        "    print(-1)\r\n",
        "  elif(worker2()!=-1 and worker1()==-1):\r\n",
        "    print(worker2()+500)\r\n",
        "  else:\r\n",
        "    print(worker1(), worker2()+500)\r\n",
        "  print(\"Done!\") "
      ],
      "execution_count": 129,
      "outputs": [
        {
          "output_type": "stream",
          "text": [
            "Worker 1 here!\n",
            "Worker 2 here!\n",
            "Worker 1 here!\n",
            "Worker 2 here!\n",
            "Worker 1 here!\n",
            "Worker 2 here!\n",
            "Worker 1 here!\n",
            "Worker 1 here!\n",
            "Worker 2 here!\n",
            "316 726\n",
            "Done!\n",
            "CPU times: user 4.16 ms, sys: 10.2 ms, total: 14.3 ms\n",
            "Wall time: 30.2 ms\n"
          ],
          "name": "stdout"
        }
      ]
    },
    {
      "cell_type": "code",
      "metadata": {
        "colab": {
          "base_uri": "https://localhost:8080/"
        },
        "id": "ANOIeoYDtRfl",
        "outputId": "8208e964-3a8e-4e9b-fefc-9596c450398a"
      },
      "source": [
        "# Parallel - Increasing Threads\r\n",
        "%%time\r\n",
        "def worker1(): \r\n",
        "  return linear(arr[:250], len(arr[:250]),100)\r\n",
        "\r\n",
        "def worker2(): \r\n",
        "  a = linear(arr[250:500], len(arr[250:500]),100)\r\n",
        "  if(a!=-1):\r\n",
        "    return a+250\r\n",
        "  else:\r\n",
        "    return -1\r\n",
        "  \r\n",
        "def worker3(): \r\n",
        "  a = linear(arr[500:750], len(arr[500:750]),100)\r\n",
        "  if(a!=-1):\r\n",
        "    return a+500\r\n",
        "  else:\r\n",
        "    return -1\r\n",
        "\r\n",
        "def worker4(): \r\n",
        "  a = linear(arr[750:], len(arr[750:]),100)\r\n",
        "  if(a!=-1):\r\n",
        "    return a+750\r\n",
        "  else:\r\n",
        "    return -1\r\n",
        "\r\n",
        "if __name__ == \"__main__\": \r\n",
        "\r\n",
        "  # creating processes \r\n",
        "  p1 = multiprocessing.Process(target=worker1) \r\n",
        "  p2 = multiprocessing.Process(target=worker2)\r\n",
        "  p3 = multiprocessing.Process(target=worker3) \r\n",
        "  p4 = multiprocessing.Process(target=worker4)\r\n",
        "\r\n",
        "  # starting processes \r\n",
        "  p1.start() \r\n",
        "  p2.start()\r\n",
        "  p3.start() \r\n",
        "  p4.start()\r\n",
        "\r\n",
        "  # wait until processes are finished \r\n",
        "  p1.join() \r\n",
        "  p2.join() \r\n",
        "  p3.join() \r\n",
        "  p4.join()\r\n",
        "\r\n",
        "  # both processes finished \r\n",
        "  print(worker1(),worker2(),worker3(),worker4())\r\n",
        "  print(\"Done!\") "
      ],
      "execution_count": 131,
      "outputs": [
        {
          "output_type": "stream",
          "text": [
            "-1 316 726 950\n",
            "Done!\n",
            "CPU times: user 5.24 ms, sys: 19.3 ms, total: 24.5 ms\n",
            "Wall time: 31.1 ms\n"
          ],
          "name": "stdout"
        }
      ]
    },
    {
      "cell_type": "code",
      "metadata": {
        "colab": {
          "base_uri": "https://localhost:8080/"
        },
        "id": "8s6sJ3VQtRiP",
        "outputId": "7c148d15-bea0-4c12-af5e-da5fcf983f1a"
      },
      "source": [
        "arr = []\r\n",
        "for i in range(100):\r\n",
        "  arr.append(random.uniform(1,45))\r\n",
        "print(arr)"
      ],
      "execution_count": 132,
      "outputs": [
        {
          "output_type": "stream",
          "text": [
            "[8.376180544755929, 30.12952920307846, 38.459352249732206, 8.370066596702689, 28.795387108042764, 10.532401261360116, 32.57144276909936, 9.656912723735097, 22.992732534757835, 13.406511699902476, 2.5558992966072878, 20.252843961596774, 1.3238454373275972, 38.977543968987945, 15.066266652974374, 4.797232076616346, 42.87549533947769, 9.728102098055132, 16.528669157950226, 25.92655858194158, 14.678825806041047, 18.158045124829208, 33.35268873055532, 27.578505583022213, 12.835449534591653, 22.707402254223126, 38.62713435574802, 5.059052068292585, 41.83953795955473, 44.296999034449314, 20.61504706971249, 28.15014843962755, 16.043419085374005, 29.539977798311256, 9.697962333162817, 17.114710284284854, 2.8871567274944185, 1.6709671978253633, 13.308857779005118, 31.527127434762637, 9.266613312936487, 20.956173707349226, 8.315418370529287, 16.939159812276056, 9.542261564222237, 28.469162548196948, 15.915252488424697, 27.788620670218297, 25.761609551703536, 33.46348339050046, 39.75091668282507, 22.295530220999698, 32.81187155653449, 38.21129550662447, 44.832504405797174, 6.425036483706492, 37.14724224170594, 33.83919508470865, 26.749922652307774, 10.028890722556827, 40.22161875244646, 23.30495827182683, 37.87656107739531, 19.914314124994064, 18.634176016626654, 28.294449912213892, 21.854228670881014, 18.312300160853738, 15.116301345553897, 40.27270666019575, 40.424730503254565, 30.223142635718194, 2.3492406150273286, 27.24227522360037, 29.730632779748912, 14.27659067765171, 43.60447314845317, 14.868861475336956, 37.811295329790184, 18.314491125482707, 10.425761040552663, 24.822901654094885, 21.32186097036886, 10.118801947608413, 42.76178152197946, 14.072527520113564, 7.8809149825472815, 30.660811913453514, 38.3892190473408, 24.04172237987056, 25.894759764888313, 11.646319365326608, 10.80079443932421, 4.936838323648369, 1.1553766937441616, 21.44729071130293, 6.659134622282783, 7.85812979790086, 20.097437011951584, 21.166239343089867]\n"
          ],
          "name": "stdout"
        }
      ]
    },
    {
      "cell_type": "code",
      "metadata": {
        "colab": {
          "base_uri": "https://localhost:8080/"
        },
        "id": "N_DfxW_ttRlz",
        "outputId": "653ef0db-4114-4eac-c2c9-6bd0eb801a7b"
      },
      "source": [
        "# Serial - Using Float\r\n",
        "%%time\r\n",
        "linear(arr,len(arr),10.532401261360116)"
      ],
      "execution_count": 133,
      "outputs": [
        {
          "output_type": "stream",
          "text": [
            "CPU times: user 8 µs, sys: 1e+03 ns, total: 9 µs\n",
            "Wall time: 13.6 µs\n"
          ],
          "name": "stdout"
        },
        {
          "output_type": "execute_result",
          "data": {
            "text/plain": [
              "5"
            ]
          },
          "metadata": {
            "tags": []
          },
          "execution_count": 133
        }
      ]
    },
    {
      "cell_type": "code",
      "metadata": {
        "colab": {
          "base_uri": "https://localhost:8080/"
        },
        "id": "BlRi6ImvtRo2",
        "outputId": "2cd21918-90f4-4c21-d6fd-672743b5e006"
      },
      "source": [
        "%%time\r\n",
        "# Parallel - Using Float\r\n",
        "r = len(arr)//2\r\n",
        "def worker1(): \r\n",
        "  print('Worker 1 here!')\r\n",
        "  return linear(arr[:r], len(arr[:r]),10.532401261360116)\r\n",
        "\r\n",
        "def worker2(): \r\n",
        "  print('Worker 2 here!')\r\n",
        "  return linear(arr[r:], len(arr[r:]),10.532401261360116)\r\n",
        "\r\n",
        "if __name__ == \"__main__\": \r\n",
        "\r\n",
        "  # creating processes \r\n",
        "  p1 = multiprocessing.Process(target=worker1) \r\n",
        "  p2 = multiprocessing.Process(target=worker2)\r\n",
        "\r\n",
        "  # starting processes \r\n",
        "  p1.start() \r\n",
        "  p2.start()\r\n",
        "\r\n",
        "  # wait until processes are finished \r\n",
        "  p1.join() \r\n",
        "  p2.join() \r\n",
        "\r\n",
        "  # both processes finished \r\n",
        "  if(worker1()!=-1 and worker2()==-1):\r\n",
        "    print(worker1())\r\n",
        "  elif(worker1()==-1 and worker2()==-1):\r\n",
        "    print(-1)\r\n",
        "  elif(worker2()!=-1 and worker1()==-1):\r\n",
        "    print(worker2()+50)\r\n",
        "  else:\r\n",
        "    print(worker1(), worker2()+50)\r\n",
        "  print(\"Done!\") "
      ],
      "execution_count": 134,
      "outputs": [
        {
          "output_type": "stream",
          "text": [
            "Worker 1 here!\n",
            "Worker 2 here!\n",
            "Worker 1 here!\n",
            "Worker 2 here!\n",
            "Worker 1 here!\n",
            "5\n",
            "Done!\n",
            "CPU times: user 3.57 ms, sys: 10 ms, total: 13.6 ms\n",
            "Wall time: 23.9 ms\n"
          ],
          "name": "stdout"
        }
      ]
    },
    {
      "cell_type": "markdown",
      "metadata": {
        "id": "SJmhIl89T-v9"
      },
      "source": [
        "## 3. Array Sum"
      ]
    },
    {
      "cell_type": "code",
      "metadata": {
        "id": "SGFWyNhaTeqh"
      },
      "source": [
        "arr = [i for i in range(1,101)]"
      ],
      "execution_count": 8,
      "outputs": []
    },
    {
      "cell_type": "code",
      "metadata": {
        "colab": {
          "base_uri": "https://localhost:8080/"
        },
        "id": "yYlGNffATes7",
        "outputId": "60c31ccb-e693-42a3-fbcf-14e76ad8e4ce"
      },
      "source": [
        "%%time\r\n",
        "# Serial \r\n",
        "arr = [i for i in range(1,101)]\r\n",
        "total = 0\r\n",
        "for i in arr:\r\n",
        "  total+=i\r\n",
        "print(total)"
      ],
      "execution_count": 9,
      "outputs": [
        {
          "output_type": "stream",
          "text": [
            "5050\n",
            "CPU times: user 430 µs, sys: 0 ns, total: 430 µs\n",
            "Wall time: 435 µs\n"
          ],
          "name": "stdout"
        }
      ]
    },
    {
      "cell_type": "code",
      "metadata": {
        "id": "DQ54Jms5Tew5"
      },
      "source": [
        "r = len(arr)//2"
      ],
      "execution_count": 10,
      "outputs": []
    },
    {
      "cell_type": "code",
      "metadata": {
        "colab": {
          "base_uri": "https://localhost:8080/"
        },
        "id": "oAuGNLoMUDc8",
        "outputId": "72c88e9f-202a-4b2d-87d5-935ac8730b44"
      },
      "source": [
        "%%time\r\n",
        "# Parallel\r\n",
        "def worker1(): \r\n",
        "   sum1 = 0\r\n",
        "   for i in arr[:r]:\r\n",
        "       sum1+=i\r\n",
        "   print('Worker 1 here!')\r\n",
        "   return sum1\r\n",
        "\r\n",
        "def worker2(): \r\n",
        "    sum2 = 0\r\n",
        "    for i in arr[r:]:\r\n",
        "       sum2+=i\r\n",
        "    print('Worker 2 here!')\r\n",
        "    return sum2\r\n",
        "\r\n",
        "if __name__ == \"__main__\": \r\n",
        "\r\n",
        "  # creating processes \r\n",
        "  p1 = multiprocessing.Process(target=worker1) \r\n",
        "  p2 = multiprocessing.Process(target=worker2)\r\n",
        "\r\n",
        "  # starting processes \r\n",
        "  p1.start() \r\n",
        "  p2.start()\r\n",
        "\r\n",
        "  # wait until processes are finished \r\n",
        "  p1.join() \r\n",
        "  p2.join() \r\n",
        "\r\n",
        "  # both processes finished \r\n",
        "  print(\"Final sum: \"+str(worker1()+worker2()))\r\n",
        "  print(\"Done!\") "
      ],
      "execution_count": 11,
      "outputs": [
        {
          "output_type": "stream",
          "text": [
            "Worker 1 here!\n",
            "Worker 2 here!\n",
            "Worker 1 here!\n",
            "Worker 2 here!\n",
            "Final sum: 5050\n",
            "Done!\n",
            "CPU times: user 3.91 ms, sys: 8.78 ms, total: 12.7 ms\n",
            "Wall time: 23.7 ms\n"
          ],
          "name": "stdout"
        }
      ]
    },
    {
      "cell_type": "code",
      "metadata": {
        "colab": {
          "base_uri": "https://localhost:8080/"
        },
        "id": "zTVK_ZXowbQ2",
        "outputId": "fe7da693-ef0d-4608-885f-17bd4115d7e2"
      },
      "source": [
        "%%time\r\n",
        "# Serial - Using Inbuilt Function\r\n",
        "print(sum(arr))"
      ],
      "execution_count": 12,
      "outputs": [
        {
          "output_type": "stream",
          "text": [
            "5050\n",
            "CPU times: user 362 µs, sys: 0 ns, total: 362 µs\n",
            "Wall time: 763 µs\n"
          ],
          "name": "stdout"
        }
      ]
    },
    {
      "cell_type": "code",
      "metadata": {
        "colab": {
          "base_uri": "https://localhost:8080/"
        },
        "id": "who1cuzPwbsJ",
        "outputId": "72606f0c-fdba-440c-8c9b-af6e99d537a6"
      },
      "source": [
        "%%time\r\n",
        "# Parallel - Using Inbuilt Function\r\n",
        "def worker1(arr): \r\n",
        "   return sum(arr)\r\n",
        "\r\n",
        "def worker2(arr): \r\n",
        "    return sum(arr)\r\n",
        "\r\n",
        "if __name__ == \"__main__\": \r\n",
        "\r\n",
        "  # creating processes \r\n",
        "  p1 = multiprocessing.Process(target=worker1) \r\n",
        "  p2 = multiprocessing.Process(target=worker2)\r\n",
        "\r\n",
        "  # starting processes \r\n",
        "  p1.start() \r\n",
        "  p2.start()\r\n",
        "\r\n",
        "  # wait until processes are finished \r\n",
        "  p1.join() \r\n",
        "  p2.join() \r\n",
        "\r\n",
        "  # both processes finished \r\n",
        "  print(\"Final sum: \"+str(worker1(arr[:50])+worker2(arr[50:])))\r\n",
        "  print(\"Done!\") "
      ],
      "execution_count": 13,
      "outputs": [
        {
          "output_type": "stream",
          "text": [
            "Process Process-5:\n",
            "Traceback (most recent call last):\n",
            "  File \"/usr/lib/python3.6/multiprocessing/process.py\", line 258, in _bootstrap\n",
            "    self.run()\n",
            "  File \"/usr/lib/python3.6/multiprocessing/process.py\", line 93, in run\n",
            "    self._target(*self._args, **self._kwargs)\n",
            "TypeError: worker1() missing 1 required positional argument: 'arr'\n",
            "Process Process-6:\n",
            "Traceback (most recent call last):\n",
            "  File \"/usr/lib/python3.6/multiprocessing/process.py\", line 258, in _bootstrap\n",
            "    self.run()\n",
            "  File \"/usr/lib/python3.6/multiprocessing/process.py\", line 93, in run\n",
            "    self._target(*self._args, **self._kwargs)\n",
            "TypeError: worker2() missing 1 required positional argument: 'arr'\n"
          ],
          "name": "stderr"
        },
        {
          "output_type": "stream",
          "text": [
            "Final sum: 5050\n",
            "Done!\n",
            "CPU times: user 10.2 ms, sys: 12.3 ms, total: 22.5 ms\n",
            "Wall time: 65.8 ms\n"
          ],
          "name": "stdout"
        }
      ]
    },
    {
      "cell_type": "code",
      "metadata": {
        "id": "1aNl6LUXwbyA"
      },
      "source": [
        "arr = []\r\n",
        "for i in range(1000):\r\n",
        "  arr.append(random.randint(9,199))"
      ],
      "execution_count": 16,
      "outputs": []
    },
    {
      "cell_type": "code",
      "metadata": {
        "colab": {
          "base_uri": "https://localhost:8080/"
        },
        "id": "n2Pq40buwb26",
        "outputId": "5b11b757-1614-44b8-a247-3936a72a2673"
      },
      "source": [
        "%%time\r\n",
        "# Serial - Changing Array Size\r\n",
        "print(sum(arr))"
      ],
      "execution_count": 17,
      "outputs": [
        {
          "output_type": "stream",
          "text": [
            "107025\n",
            "CPU times: user 71 µs, sys: 0 ns, total: 71 µs\n",
            "Wall time: 75.6 µs\n"
          ],
          "name": "stdout"
        }
      ]
    },
    {
      "cell_type": "code",
      "metadata": {
        "colab": {
          "base_uri": "https://localhost:8080/"
        },
        "id": "d6mjCOG0wb7Z",
        "outputId": "503cb14a-bdb0-46ab-dbc2-23496b626b3b"
      },
      "source": [
        "%%time\r\n",
        "# Parallel - Changing Array Size\r\n",
        "def worker1(arr): \r\n",
        "   return sum(arr)\r\n",
        "\r\n",
        "def worker2(arr): \r\n",
        "    return sum(arr)\r\n",
        "\r\n",
        "if __name__ == \"__main__\": \r\n",
        "\r\n",
        "  # creating processes \r\n",
        "  p1 = multiprocessing.Process(target=worker1) \r\n",
        "  p2 = multiprocessing.Process(target=worker2)\r\n",
        "\r\n",
        "  # starting processes \r\n",
        "  p1.start() \r\n",
        "  p2.start()\r\n",
        "\r\n",
        "  # wait until processes are finished \r\n",
        "  p1.join() \r\n",
        "  p2.join() \r\n",
        "\r\n",
        "  # both processes finished \r\n",
        "  print(\"Final sum: \"+str(worker1(arr[:500])+worker2(arr[500:])))\r\n",
        "  print(\"Done!\") "
      ],
      "execution_count": 18,
      "outputs": [
        {
          "output_type": "stream",
          "text": [
            "Process Process-7:\n",
            "Traceback (most recent call last):\n",
            "  File \"/usr/lib/python3.6/multiprocessing/process.py\", line 258, in _bootstrap\n",
            "    self.run()\n",
            "  File \"/usr/lib/python3.6/multiprocessing/process.py\", line 93, in run\n",
            "    self._target(*self._args, **self._kwargs)\n",
            "Process Process-8:\n",
            "TypeError: worker1() missing 1 required positional argument: 'arr'\n",
            "Traceback (most recent call last):\n",
            "  File \"/usr/lib/python3.6/multiprocessing/process.py\", line 258, in _bootstrap\n",
            "    self.run()\n",
            "  File \"/usr/lib/python3.6/multiprocessing/process.py\", line 93, in run\n",
            "    self._target(*self._args, **self._kwargs)\n",
            "TypeError: worker2() missing 1 required positional argument: 'arr'\n"
          ],
          "name": "stderr"
        },
        {
          "output_type": "stream",
          "text": [
            "Final sum: 107025\n",
            "Done!\n",
            "CPU times: user 8.13 ms, sys: 15.2 ms, total: 23.3 ms\n",
            "Wall time: 60.3 ms\n"
          ],
          "name": "stdout"
        }
      ]
    },
    {
      "cell_type": "code",
      "metadata": {
        "colab": {
          "base_uri": "https://localhost:8080/"
        },
        "id": "wOfKu5MuwcAR",
        "outputId": "5a22aa92-70ce-471f-9e37-fd2b06197e8e"
      },
      "source": [
        "# Parallel - Changing No. of Threads\r\n",
        "%%time\r\n",
        "def worker1(arr): \r\n",
        "   return sum(arr)\r\n",
        "\r\n",
        "def worker2(arr): \r\n",
        "    return sum(arr)\r\n",
        "\r\n",
        "def worker3(arr): \r\n",
        "   return sum(arr)\r\n",
        "\r\n",
        "def worker4(arr): \r\n",
        "    return sum(arr)\r\n",
        "\r\n",
        "if __name__ == \"__main__\": \r\n",
        "\r\n",
        "  # creating processes \r\n",
        "  p1 = multiprocessing.Process(target=worker1) \r\n",
        "  p2 = multiprocessing.Process(target=worker2)\r\n",
        "  p3 = multiprocessing.Process(target=worker3) \r\n",
        "  p4 = multiprocessing.Process(target=worker4)\r\n",
        "\r\n",
        "  # starting processes \r\n",
        "  p1.start() \r\n",
        "  p2.start()\r\n",
        "  p3.start() \r\n",
        "  p4.start()\r\n",
        "\r\n",
        "  # wait until processes are finished \r\n",
        "  p1.join() \r\n",
        "  p2.join() \r\n",
        "  p3.join() \r\n",
        "  p4.join() \r\n",
        "\r\n",
        "  # both processes finished \r\n",
        "  print(\"Final sum: \"+str(worker1(arr[:250])+worker2(arr[250:500])+worker3(arr[500:750])+worker4(arr[750:])))\r\n",
        "  print(\"Done!\") "
      ],
      "execution_count": 19,
      "outputs": [
        {
          "output_type": "stream",
          "text": [
            "Process Process-9:\n",
            "Traceback (most recent call last):\n",
            "  File \"/usr/lib/python3.6/multiprocessing/process.py\", line 258, in _bootstrap\n",
            "    self.run()\n",
            "Process Process-10:\n",
            "Process Process-11:\n",
            "Traceback (most recent call last):\n",
            "  File \"/usr/lib/python3.6/multiprocessing/process.py\", line 258, in _bootstrap\n",
            "    self.run()\n",
            "  File \"/usr/lib/python3.6/multiprocessing/process.py\", line 93, in run\n",
            "    self._target(*self._args, **self._kwargs)\n",
            "TypeError: worker3() missing 1 required positional argument: 'arr'\n",
            "Traceback (most recent call last):\n",
            "  File \"/usr/lib/python3.6/multiprocessing/process.py\", line 93, in run\n",
            "    self._target(*self._args, **self._kwargs)\n",
            "  File \"/usr/lib/python3.6/multiprocessing/process.py\", line 258, in _bootstrap\n",
            "    self.run()\n",
            "TypeError: worker1() missing 1 required positional argument: 'arr'\n",
            "  File \"/usr/lib/python3.6/multiprocessing/process.py\", line 93, in run\n",
            "    self._target(*self._args, **self._kwargs)\n",
            "Process Process-12:\n",
            "Traceback (most recent call last):\n",
            "  File \"/usr/lib/python3.6/multiprocessing/process.py\", line 258, in _bootstrap\n",
            "    self.run()\n",
            "TypeError: worker2() missing 1 required positional argument: 'arr'\n",
            "  File \"/usr/lib/python3.6/multiprocessing/process.py\", line 93, in run\n",
            "    self._target(*self._args, **self._kwargs)\n",
            "TypeError: worker4() missing 1 required positional argument: 'arr'\n"
          ],
          "name": "stderr"
        },
        {
          "output_type": "stream",
          "text": [
            "Final sum: 107025\n",
            "Done!\n",
            "CPU times: user 15.7 ms, sys: 29.4 ms, total: 45.1 ms\n",
            "Wall time: 93 ms\n"
          ],
          "name": "stdout"
        }
      ]
    },
    {
      "cell_type": "code",
      "metadata": {
        "id": "wdqYz1XxwcFI"
      },
      "source": [
        "arr = []\r\n",
        "for i in range(1000):\r\n",
        "  arr.append(random.uniform(9,199))"
      ],
      "execution_count": 22,
      "outputs": []
    },
    {
      "cell_type": "code",
      "metadata": {
        "colab": {
          "base_uri": "https://localhost:8080/"
        },
        "id": "iUGbV0XswcH4",
        "outputId": "abaf162f-d5df-4451-cb50-7d4960d3ebf6"
      },
      "source": [
        "%%time\r\n",
        "# Serial - Using Float Values\r\n",
        "print(sum(arr))"
      ],
      "execution_count": 23,
      "outputs": [
        {
          "output_type": "stream",
          "text": [
            "104530.72796037045\n",
            "CPU times: user 336 µs, sys: 0 ns, total: 336 µs\n",
            "Wall time: 267 µs\n"
          ],
          "name": "stdout"
        }
      ]
    },
    {
      "cell_type": "code",
      "metadata": {
        "colab": {
          "base_uri": "https://localhost:8080/"
        },
        "id": "UC4rhTYGwcK4",
        "outputId": "ddb1a647-37f1-4e16-d72c-88846d1a49ad"
      },
      "source": [
        "%%time\r\n",
        "# Parallel - Using Float Values\r\n",
        "def worker1(arr): \r\n",
        "   return sum(arr)\r\n",
        "\r\n",
        "def worker2(arr): \r\n",
        "    return sum(arr)\r\n",
        "\r\n",
        "def worker3(arr): \r\n",
        "   return sum(arr)\r\n",
        "\r\n",
        "def worker4(arr): \r\n",
        "    return sum(arr)\r\n",
        "\r\n",
        "if __name__ == \"__main__\": \r\n",
        "\r\n",
        "  # creating processes \r\n",
        "  p1 = multiprocessing.Process(target=worker1) \r\n",
        "  p2 = multiprocessing.Process(target=worker2)\r\n",
        "  p3 = multiprocessing.Process(target=worker3) \r\n",
        "  p4 = multiprocessing.Process(target=worker4)\r\n",
        "\r\n",
        "  # starting processes \r\n",
        "  p1.start() \r\n",
        "  p2.start()\r\n",
        "  p3.start() \r\n",
        "  p4.start()\r\n",
        "\r\n",
        "  # wait until processes are finished \r\n",
        "  p1.join() \r\n",
        "  p2.join() \r\n",
        "  p3.join() \r\n",
        "  p4.join() \r\n",
        "\r\n",
        "  # both processes finished \r\n",
        "  print(\"Final sum: \"+str(worker1(arr[:250])+worker2(arr[250:500])+worker3(arr[500:750])+worker4(arr[750:])))\r\n",
        "  print(\"Done!\") "
      ],
      "execution_count": 24,
      "outputs": [
        {
          "output_type": "stream",
          "text": [
            "Process Process-13:\n",
            "Process Process-14:\n",
            "Traceback (most recent call last):\n",
            "  File \"/usr/lib/python3.6/multiprocessing/process.py\", line 258, in _bootstrap\n",
            "    self.run()\n",
            "Process Process-15:\n",
            "Traceback (most recent call last):\n",
            "Traceback (most recent call last):\n",
            "  File \"/usr/lib/python3.6/multiprocessing/process.py\", line 93, in run\n",
            "    self._target(*self._args, **self._kwargs)\n",
            "  File \"/usr/lib/python3.6/multiprocessing/process.py\", line 258, in _bootstrap\n",
            "    self.run()\n",
            "  File \"/usr/lib/python3.6/multiprocessing/process.py\", line 93, in run\n",
            "    self._target(*self._args, **self._kwargs)\n",
            "TypeError: worker1() missing 1 required positional argument: 'arr'\n",
            "  File \"/usr/lib/python3.6/multiprocessing/process.py\", line 258, in _bootstrap\n",
            "    self.run()\n",
            "TypeError: worker2() missing 1 required positional argument: 'arr'\n",
            "  File \"/usr/lib/python3.6/multiprocessing/process.py\", line 93, in run\n",
            "    self._target(*self._args, **self._kwargs)\n",
            "TypeError: worker3() missing 1 required positional argument: 'arr'\n",
            "Process Process-16:\n",
            "Traceback (most recent call last):\n",
            "  File \"/usr/lib/python3.6/multiprocessing/process.py\", line 258, in _bootstrap\n",
            "    self.run()\n",
            "  File \"/usr/lib/python3.6/multiprocessing/process.py\", line 93, in run\n",
            "    self._target(*self._args, **self._kwargs)\n",
            "TypeError: worker4() missing 1 required positional argument: 'arr'\n"
          ],
          "name": "stderr"
        },
        {
          "output_type": "stream",
          "text": [
            "Final sum: 104530.72796037042\n",
            "Done!\n",
            "CPU times: user 20.6 ms, sys: 26.8 ms, total: 47.4 ms\n",
            "Wall time: 104 ms\n"
          ],
          "name": "stdout"
        }
      ]
    },
    {
      "cell_type": "markdown",
      "metadata": {
        "id": "YxEVvAq6UHfc"
      },
      "source": [
        "## 4. Prime Numbers"
      ]
    },
    {
      "cell_type": "code",
      "metadata": {
        "colab": {
          "base_uri": "https://localhost:8080/"
        },
        "id": "o5up9Ll6UEs_",
        "outputId": "c1f92554-e77b-4203-cb91-632f7289e9c4"
      },
      "source": [
        "%%time\r\n",
        "# Serial\r\n",
        "a = 1\r\n",
        "b = 120\r\n",
        "for i in range(a, b+1):\r\n",
        "   if (i > 1):\r\n",
        "       for j in range(2, i):\r\n",
        "           if (i % j) == 0:\r\n",
        "               break\r\n",
        "       else:\r\n",
        "           print(i)"
      ],
      "execution_count": 25,
      "outputs": [
        {
          "output_type": "stream",
          "text": [
            "2\n",
            "3\n",
            "5\n",
            "7\n",
            "11\n",
            "13\n",
            "17\n",
            "19\n",
            "23\n",
            "29\n",
            "31\n",
            "37\n",
            "41\n",
            "43\n",
            "47\n",
            "53\n",
            "59\n",
            "61\n",
            "67\n",
            "71\n",
            "73\n",
            "79\n",
            "83\n",
            "89\n",
            "97\n",
            "101\n",
            "103\n",
            "107\n",
            "109\n",
            "113\n",
            "CPU times: user 1.95 ms, sys: 0 ns, total: 1.95 ms\n",
            "Wall time: 1.41 ms\n"
          ],
          "name": "stdout"
        }
      ]
    },
    {
      "cell_type": "code",
      "metadata": {
        "colab": {
          "base_uri": "https://localhost:8080/"
        },
        "id": "PTnbmA-vUKJ6",
        "outputId": "02a91199-ada9-4df3-8c65-b230fb4bdaf1"
      },
      "source": [
        "%%time\r\n",
        "# Parallel\r\n",
        "def prime(a, b):\r\n",
        "  for i in range(a, b+1):\r\n",
        "   if (i > 1):\r\n",
        "       for j in range(2, i):\r\n",
        "           if (i % j) == 0:\r\n",
        "               break\r\n",
        "       else:\r\n",
        "           print(i)\r\n",
        "\r\n",
        "def worker1(): \r\n",
        "  prime(1,30)  \r\n",
        "\r\n",
        "def worker2(): \r\n",
        "  prime(31,60)\r\n",
        "\r\n",
        "def worker3(): \r\n",
        "  prime(61,90)\r\n",
        "\r\n",
        "def worker4(): \r\n",
        "  prime(91,120)\r\n",
        "\r\n",
        "if __name__ == \"__main__\": \r\n",
        "\r\n",
        "  # creating processes \r\n",
        "  p1 = multiprocessing.Process(target=worker1) \r\n",
        "  p2 = multiprocessing.Process(target=worker2) \r\n",
        "  p3 = multiprocessing.Process(target=worker3) \r\n",
        "  p4 = multiprocessing.Process(target=worker4) \r\n",
        "\r\n",
        "  # starting processes \r\n",
        "  p1.start() \r\n",
        "  p2.start() \r\n",
        "  p3.start() \r\n",
        "  p4.start()\r\n",
        "\r\n",
        "\r\n",
        "  # wait until processes are finished \r\n",
        "  p1.join() \r\n",
        "  p2.join() \r\n",
        "  p3.join() \r\n",
        "  p4.join() \r\n",
        "\r\n",
        "  # both processes finished \r\n",
        "  print(\"Done!\") \r\n"
      ],
      "execution_count": 26,
      "outputs": [
        {
          "output_type": "stream",
          "text": [
            "2\n",
            "31\n",
            "37\n",
            "41\n",
            "43\n",
            "47\n",
            "53\n",
            "3\n",
            "59\n",
            "5\n",
            "7\n",
            "61\n",
            "11\n",
            "67\n",
            "13\n",
            "17\n",
            "97\n",
            "71\n",
            "101\n",
            "73\n",
            "79\n",
            "19\n",
            "83\n",
            "23\n",
            "89\n",
            "103\n",
            "29\n",
            "107\n",
            "109\n",
            "113\n",
            "Done!\n",
            "CPU times: user 22.2 ms, sys: 39.7 ms, total: 61.9 ms\n",
            "Wall time: 113 ms\n"
          ],
          "name": "stdout"
        }
      ]
    },
    {
      "cell_type": "code",
      "metadata": {
        "colab": {
          "base_uri": "https://localhost:8080/"
        },
        "id": "ovA8mFzG4b0P",
        "outputId": "8846a2c3-33e3-4352-f8f1-977dfe019b60"
      },
      "source": [
        "%%time\r\n",
        "# Parallel - Changing No. of Threads\r\n",
        "\r\n",
        "def worker1(): \r\n",
        "  prime(1,60)  \r\n",
        "\r\n",
        "def worker2(): \r\n",
        "  prime(61,120)\r\n",
        "\r\n",
        "if __name__ == \"__main__\": \r\n",
        "\r\n",
        "  # creating processes \r\n",
        "  p1 = multiprocessing.Process(target=worker1) \r\n",
        "  p2 = multiprocessing.Process(target=worker2) \r\n",
        "\r\n",
        "  # starting processes \r\n",
        "  p1.start() \r\n",
        "  p2.start() \r\n",
        "\r\n",
        "  # wait until processes are finished \r\n",
        "  p1.join() \r\n",
        "  p2.join() \r\n",
        "\r\n",
        "  # both processes finished \r\n",
        "  print(\"Done!\") "
      ],
      "execution_count": 28,
      "outputs": [
        {
          "output_type": "stream",
          "text": [
            "2\n",
            "3\n",
            "61\n",
            "5\n",
            "67\n",
            "7\n",
            "11\n",
            "13\n",
            "71\n",
            "17\n",
            "73\n",
            "79\n",
            "19\n",
            "23\n",
            "29\n",
            "83\n",
            "89\n",
            "31\n",
            "97\n",
            "101\n",
            "103\n",
            "37\n",
            "41\n",
            "43\n",
            "107\n",
            "47\n",
            "53\n",
            "109\n",
            "113\n",
            "59\n",
            "Done!\n",
            "CPU times: user 20.6 ms, sys: 18.8 ms, total: 39.3 ms\n",
            "Wall time: 101 ms\n"
          ],
          "name": "stdout"
        }
      ]
    },
    {
      "cell_type": "code",
      "metadata": {
        "id": "fqO2pypTUMWp",
        "colab": {
          "base_uri": "https://localhost:8080/"
        },
        "outputId": "c01947ef-1a32-4607-b34c-ff893573c528"
      },
      "source": [
        "%%time\r\n",
        "# Serial - Changing N Size\r\n",
        "prime(1,1000)"
      ],
      "execution_count": 29,
      "outputs": [
        {
          "output_type": "stream",
          "text": [
            "2\n",
            "3\n",
            "5\n",
            "7\n",
            "11\n",
            "13\n",
            "17\n",
            "19\n",
            "23\n",
            "29\n",
            "31\n",
            "37\n",
            "41\n",
            "43\n",
            "47\n",
            "53\n",
            "59\n",
            "61\n",
            "67\n",
            "71\n",
            "73\n",
            "79\n",
            "83\n",
            "89\n",
            "97\n",
            "101\n",
            "103\n",
            "107\n",
            "109\n",
            "113\n",
            "127\n",
            "131\n",
            "137\n",
            "139\n",
            "149\n",
            "151\n",
            "157\n",
            "163\n",
            "167\n",
            "173\n",
            "179\n",
            "181\n",
            "191\n",
            "193\n",
            "197\n",
            "199\n",
            "211\n",
            "223\n",
            "227\n",
            "229\n",
            "233\n",
            "239\n",
            "241\n",
            "251\n",
            "257\n",
            "263\n",
            "269\n",
            "271\n",
            "277\n",
            "281\n",
            "283\n",
            "293\n",
            "307\n",
            "311\n",
            "313\n",
            "317\n",
            "331\n",
            "337\n",
            "347\n",
            "349\n",
            "353\n",
            "359\n",
            "367\n",
            "373\n",
            "379\n",
            "383\n",
            "389\n",
            "397\n",
            "401\n",
            "409\n",
            "419\n",
            "421\n",
            "431\n",
            "433\n",
            "439\n",
            "443\n",
            "449\n",
            "457\n",
            "461\n",
            "463\n",
            "467\n",
            "479\n",
            "487\n",
            "491\n",
            "499\n",
            "503\n",
            "509\n",
            "521\n",
            "523\n",
            "541\n",
            "547\n",
            "557\n",
            "563\n",
            "569\n",
            "571\n",
            "577\n",
            "587\n",
            "593\n",
            "599\n",
            "601\n",
            "607\n",
            "613\n",
            "617\n",
            "619\n",
            "631\n",
            "641\n",
            "643\n",
            "647\n",
            "653\n",
            "659\n",
            "661\n",
            "673\n",
            "677\n",
            "683\n",
            "691\n",
            "701\n",
            "709\n",
            "719\n",
            "727\n",
            "733\n",
            "739\n",
            "743\n",
            "751\n",
            "757\n",
            "761\n",
            "769\n",
            "773\n",
            "787\n",
            "797\n",
            "809\n",
            "811\n",
            "821\n",
            "823\n",
            "827\n",
            "829\n",
            "839\n",
            "853\n",
            "857\n",
            "859\n",
            "863\n",
            "877\n",
            "881\n",
            "883\n",
            "887\n",
            "907\n",
            "911\n",
            "919\n",
            "929\n",
            "937\n",
            "941\n",
            "947\n",
            "953\n",
            "967\n",
            "971\n",
            "977\n",
            "983\n",
            "991\n",
            "997\n",
            "CPU times: user 17.5 ms, sys: 4.06 ms, total: 21.6 ms\n",
            "Wall time: 20.3 ms\n"
          ],
          "name": "stdout"
        }
      ]
    },
    {
      "cell_type": "code",
      "metadata": {
        "colab": {
          "base_uri": "https://localhost:8080/"
        },
        "id": "K2G7vUO83RC6",
        "outputId": "6114a9d4-170c-44e6-9f57-5bac7c9776f2"
      },
      "source": [
        "%%time\r\n",
        "# Parallel - Changing N Size\r\n",
        "def worker1(): \r\n",
        "  prime(1,500)  \r\n",
        "\r\n",
        "def worker2(): \r\n",
        "  prime(501,1000)\r\n",
        "\r\n",
        "if __name__ == \"__main__\": \r\n",
        "\r\n",
        "  # creating processes \r\n",
        "  p1 = multiprocessing.Process(target=worker1) \r\n",
        "  p2 = multiprocessing.Process(target=worker2) \r\n",
        "\r\n",
        "  # starting processes \r\n",
        "  p1.start() \r\n",
        "  p2.start() \r\n",
        "\r\n",
        "  # wait until processes are finished \r\n",
        "  p1.join() \r\n",
        "  p2.join() \r\n",
        "\r\n",
        "  # both processes finished \r\n",
        "  print(\"Done!\") "
      ],
      "execution_count": 30,
      "outputs": [
        {
          "output_type": "stream",
          "text": [
            "2\n",
            "3\n",
            "5\n",
            "503\n",
            "509\n",
            "521\n",
            "523\n",
            "541\n",
            "7\n",
            "11\n",
            "547\n",
            "13\n",
            "557\n",
            "17\n",
            "563\n",
            "19\n",
            "23\n",
            "569\n",
            "571\n",
            "29\n",
            "577\n",
            "31\n",
            "37\n",
            "41\n",
            "587\n",
            "43\n",
            "47\n",
            "53\n",
            "59\n",
            "593\n",
            "61\n",
            "67\n",
            "71\n",
            "73\n",
            "599\n",
            "79\n",
            "83\n",
            "601\n",
            "89\n",
            "607\n",
            "613\n",
            "617\n",
            "619\n",
            "631\n",
            "97\n",
            "641\n",
            "101\n",
            "103\n",
            "107\n",
            "109\n",
            "113\n",
            "643\n",
            "127\n",
            "647\n",
            "653\n",
            "659\n",
            "661\n",
            "673\n",
            "131\n",
            "677\n",
            "683\n",
            "691\n",
            "701\n",
            "709\n",
            "137\n",
            "719\n",
            "727\n",
            "139\n",
            "149\n",
            "733\n",
            "151\n",
            "739\n",
            "157\n",
            "743\n",
            "751\n",
            "163\n",
            "757\n",
            "761\n",
            "167\n",
            "769\n",
            "173\n",
            "773\n",
            "179\n",
            "181\n",
            "787\n",
            "797\n",
            "191\n",
            "809\n",
            "811\n",
            "193\n",
            "821\n",
            "197\n",
            "823\n",
            "199\n",
            "827\n",
            "829\n",
            "211\n",
            "839\n",
            "223\n",
            "227\n",
            "853\n",
            "857\n",
            "229\n",
            "859\n",
            "863\n",
            "233\n",
            "877\n",
            "239\n",
            "241\n",
            "881\n",
            "251\n",
            "883\n",
            "257\n",
            "887\n",
            "263\n",
            "907\n",
            "269\n",
            "911\n",
            "919\n",
            "271\n",
            "277\n",
            "929\n",
            "937\n",
            "281\n",
            "283\n",
            "293\n",
            "307\n",
            "941\n",
            "947\n",
            "311\n",
            "953\n",
            "313\n",
            "967\n",
            "971\n",
            "317\n",
            "331\n",
            "977\n",
            "337\n",
            "983\n",
            "347\n",
            "349\n",
            "991\n",
            "353\n",
            "359\n",
            "367\n",
            "997\n",
            "373\n",
            "379\n",
            "383\n",
            "389\n",
            "397\n",
            "401\n",
            "409\n",
            "419\n",
            "421\n",
            "431\n",
            "433\n",
            "439\n",
            "443\n",
            "449\n",
            "457\n",
            "461\n",
            "463\n",
            "467\n",
            "479\n",
            "487\n",
            "491\n",
            "499\n",
            "Done!\n",
            "CPU times: user 110 ms, sys: 47.8 ms, total: 158 ms\n",
            "Wall time: 548 ms\n"
          ],
          "name": "stdout"
        }
      ]
    },
    {
      "cell_type": "code",
      "metadata": {
        "id": "kkOs_FP33RSB"
      },
      "source": [
        ""
      ],
      "execution_count": null,
      "outputs": []
    }
  ]
}